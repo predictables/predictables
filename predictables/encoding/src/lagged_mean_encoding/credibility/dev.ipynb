{
 "cells": [
  {
   "cell_type": "code",
   "execution_count": 1,
   "metadata": {},
   "outputs": [],
   "source": [
    "import polars as pl\n",
    "import polars.selectors as cs\n",
    "\n",
    "from predictables.encoding.src.lagged_mean_encoding import CredWtdMean"
   ]
  },
  {
   "cell_type": "code",
   "execution_count": 2,
   "metadata": {},
   "outputs": [],
   "source": [
    "lf = pl.read_excel(\n",
    "    \"/app/ts_testing.xlsx\", sheet_name=\"Values\", engine=\"calamine\"\n",
    ").write_parquet(\"ts_testing.parquet\")"
   ]
  },
  {
   "cell_type": "code",
   "execution_count": 3,
   "metadata": {},
   "outputs": [
    {
     "data": {
      "text/html": [
       "<div><style>\n",
       ".dataframe > thead > tr,\n",
       ".dataframe > tbody > tr {\n",
       "  text-align: right;\n",
       "  white-space: pre-wrap;\n",
       "}\n",
       "</style>\n",
       "<small>shape: (5, 16)</small><table border=\"1\" class=\"dataframe\"><thead><tr><th>index</th><th>date</th><th>product_cat</th><th>product_subcat</th><th>product_code</th><th>hit</th><th>total_30_30_average_laplace(1)_smoothed</th><th>code_30_30_average_laplace(1)_smoothed</th><th>cred_wtd_30_30_average</th><th>cred_wtd_30_30_Z</th><th>cred_wtd_30_30_n</th><th>individual</th><th>collective</th><th>n</th><th>Z</th><th>CRED_WTD(hit[product_code])[lag:30/win:30]</th></tr><tr><td>i64</td><td>date</td><td>cat</td><td>cat</td><td>cat</td><td>i64</td><td>f64</td><td>f64</td><td>f64</td><td>f64</td><td>i64</td><td>f64</td><td>f64</td><td>f64</td><td>f64</td><td>f64</td></tr></thead><tbody><tr><td>0</td><td>2020-01-01</td><td>&quot;D&quot;</td><td>&quot;f&quot;</td><td>&quot;D-f&quot;</td><td>1</td><td>0.5</td><td>0.5</td><td>0.5</td><td>0.0</td><td>0</td><td>0.0</td><td>0.0</td><td>0.0</td><td>0.0</td><td>0.0</td></tr><tr><td>1</td><td>2020-01-02</td><td>&quot;B&quot;</td><td>&quot;f&quot;</td><td>&quot;B-f&quot;</td><td>1</td><td>0.5</td><td>0.5</td><td>0.5</td><td>0.0</td><td>0</td><td>0.0</td><td>0.0</td><td>0.0</td><td>0.0</td><td>0.0</td></tr><tr><td>2</td><td>2020-01-03</td><td>&quot;A&quot;</td><td>&quot;d&quot;</td><td>&quot;A-d&quot;</td><td>0</td><td>0.5</td><td>0.5</td><td>0.5</td><td>0.0</td><td>0</td><td>0.0</td><td>0.0</td><td>0.0</td><td>0.0</td><td>0.0</td></tr><tr><td>3</td><td>2020-01-03</td><td>&quot;A&quot;</td><td>&quot;e&quot;</td><td>&quot;A-e&quot;</td><td>1</td><td>0.5</td><td>0.5</td><td>0.5</td><td>0.0</td><td>0</td><td>0.0</td><td>0.0</td><td>0.0</td><td>0.0</td><td>0.0</td></tr><tr><td>4</td><td>2020-01-04</td><td>&quot;D&quot;</td><td>&quot;c&quot;</td><td>&quot;D-c&quot;</td><td>1</td><td>0.5</td><td>0.5</td><td>0.5</td><td>0.0</td><td>0</td><td>0.0</td><td>0.0</td><td>0.0</td><td>0.0</td><td>0.0</td></tr></tbody></table></div>"
      ],
      "text/plain": [
       "shape: (5, 16)\n",
       "┌───────┬────────────┬─────────────┬────────────────┬───┬────────────┬─────┬─────┬─────────────────┐\n",
       "│ index ┆ date       ┆ product_cat ┆ product_subcat ┆ … ┆ collective ┆ n   ┆ Z   ┆ CRED_WTD(hit[pr │\n",
       "│ ---   ┆ ---        ┆ ---         ┆ ---            ┆   ┆ ---        ┆ --- ┆ --- ┆ oduct_code])[la │\n",
       "│ i64   ┆ date       ┆ cat         ┆ cat            ┆   ┆ f64        ┆ f64 ┆ f64 ┆ g:…             │\n",
       "│       ┆            ┆             ┆                ┆   ┆            ┆     ┆     ┆ ---             │\n",
       "│       ┆            ┆             ┆                ┆   ┆            ┆     ┆     ┆ f64             │\n",
       "╞═══════╪════════════╪═════════════╪════════════════╪═══╪════════════╪═════╪═════╪═════════════════╡\n",
       "│ 0     ┆ 2020-01-01 ┆ D           ┆ f              ┆ … ┆ 0.0        ┆ 0.0 ┆ 0.0 ┆ 0.0             │\n",
       "│ 1     ┆ 2020-01-02 ┆ B           ┆ f              ┆ … ┆ 0.0        ┆ 0.0 ┆ 0.0 ┆ 0.0             │\n",
       "│ 2     ┆ 2020-01-03 ┆ A           ┆ d              ┆ … ┆ 0.0        ┆ 0.0 ┆ 0.0 ┆ 0.0             │\n",
       "│ 3     ┆ 2020-01-03 ┆ A           ┆ e              ┆ … ┆ 0.0        ┆ 0.0 ┆ 0.0 ┆ 0.0             │\n",
       "│ 4     ┆ 2020-01-04 ┆ D           ┆ c              ┆ … ┆ 0.0        ┆ 0.0 ┆ 0.0 ┆ 0.0             │\n",
       "└───────┴────────────┴─────────────┴────────────────┴───┴────────────┴─────┴─────┴─────────────────┘"
      ]
     },
     "execution_count": 3,
     "metadata": {},
     "output_type": "execute_result"
    }
   ],
   "source": [
    "lf = pl.scan_parquet(\"/app/ts_testing.parquet\").select(\n",
    "    [\n",
    "        \"index\",\n",
    "        \"date\",\n",
    "        \"product_cat\",\n",
    "        \"product_subcat\",\n",
    "        \"product_code\",\n",
    "        \"hit\",\n",
    "        \"total_30_30_average_laplace(1)_smoothed\",\n",
    "        \"code_30_30_average_laplace(1)_smoothed\",\n",
    "        \"cred_wtd_30_30_average\",\n",
    "        \"cred_wtd_30_30_Z\",\n",
    "        \"cred_wtd_30_30_n\",\n",
    "    ]\n",
    ")\n",
    "\n",
    "lf = lf.with_columns(\n",
    "    [pl.col(c).cast(pl.Categorical).name.keep() for c in lf.select(cs.string()).columns]\n",
    ")\n",
    "\n",
    "lf = (\n",
    "    CredWtdMean()\n",
    "    .lf(lf)\n",
    "    .date_col(\"date\")\n",
    "    .numerator_col(\"hit\")\n",
    "    .denominator_col(\"count\")\n",
    "    .cat_col(\"product_code\")\n",
    "    .index_col(\"index\")\n",
    "    .offset(30)\n",
    "    .window(30)\n",
    "    .rejoin(True)\n",
    "    .laplace_alpha(1)\n",
    "    # .rename(\"cred_wtd\")\n",
    "    .run()\n",
    ").drop([\"count\", \"complement\", \"K\"])\n",
    "\n",
    "lf.head().collect()"
   ]
  },
  {
   "cell_type": "code",
   "execution_count": null,
   "metadata": {},
   "outputs": [],
   "source": []
  },
  {
   "cell_type": "code",
   "execution_count": 4,
   "metadata": {},
   "outputs": [],
   "source": [
    "lf = (\n",
    "    LaplaceSmoothedMean()\n",
    "    .lf(lf)\n",
    "    .date_col(\"date\")\n",
    "    .numerator_col(\"hit\")\n",
    "    .denominator_col(\"count\")\n",
    "    .cat_col(\"product_code\")\n",
    "    .index_col(\"index\")\n",
    "    .offset(30)\n",
    "    .window(30)\n",
    "    .rejoin(True)\n",
    "    .laplace_alpha(1)\n",
    "    .rename(\"individual\")\n",
    "    .run()\n",
    ")\n",
    "\n",
    "lf = (\n",
    "    LaplaceSmoothedMean()\n",
    "    .lf(lf)\n",
    "    .date_col(\"date\")\n",
    "    .numerator_col(\"hit\")\n",
    "    .denominator_col(\"count\")\n",
    "    .index_col(\"index\")\n",
    "    .offset(30)\n",
    "    .window(30)\n",
    "    .rejoin(True)\n",
    "    .laplace_alpha(1)\n",
    "    .rename(\"complement\")\n",
    "    .run()\n",
    ")\n",
    "\n",
    "# lf.tail().collect()"
   ]
  },
  {
   "cell_type": "code",
   "execution_count": 5,
   "metadata": {},
   "outputs": [
    {
     "data": {
      "text/html": [
       "<div><style>\n",
       ".dataframe > thead > tr,\n",
       ".dataframe > tbody > tr {\n",
       "  text-align: right;\n",
       "  white-space: pre-wrap;\n",
       "}\n",
       "</style>\n",
       "<small>shape: (5, 18)</small><table border=\"1\" class=\"dataframe\"><thead><tr><th>index</th><th>date</th><th>product_cat</th><th>product_subcat</th><th>product_code</th><th>hit</th><th>total_30_30_average_laplace(1)_smoothed</th><th>code_30_30_average_laplace(1)_smoothed</th><th>cred_wtd_30_30_average</th><th>cred_wtd_30_30_Z</th><th>cred_wtd_30_30_n</th><th>count</th><th>individual</th><th>complement</th><th>n</th><th>K</th><th>Z</th><th>cred_wtd</th></tr><tr><td>i64</td><td>date</td><td>cat</td><td>cat</td><td>cat</td><td>i64</td><td>f64</td><td>f64</td><td>f64</td><td>f64</td><td>i64</td><td>i32</td><td>f64</td><td>f64</td><td>f64</td><td>f64</td><td>f64</td><td>f64</td></tr></thead><tbody><tr><td>2554</td><td>2023-08-27</td><td>&quot;A&quot;</td><td>&quot;c&quot;</td><td>&quot;A-c&quot;</td><td>0</td><td>0.25</td><td>0.2</td><td>0.20238</td><td>0.44444</td><td>4</td><td>1</td><td>0.2</td><td>0.25</td><td>4.0</td><td>5.0</td><td>0.444444</td><td>0.22778</td></tr><tr><td>2555</td><td>2023-08-28</td><td>&quot;B&quot;</td><td>&quot;c&quot;</td><td>&quot;B-c&quot;</td><td>0</td><td>0.25424</td><td>0.16667</td><td>0.21046</td><td>0.5</td><td>5</td><td>1</td><td>0.166667</td><td>0.254237</td><td>5.0</td><td>5.0</td><td>0.5</td><td>0.21045</td></tr><tr><td>2556</td><td>2023-08-28</td><td>&quot;C&quot;</td><td>&quot;d&quot;</td><td>&quot;C-d&quot;</td><td>0</td><td>0.25424</td><td>0.6</td><td>0.28013</td><td>0.44444</td><td>4</td><td>1</td><td>0.2</td><td>0.254237</td><td>4.0</td><td>5.0</td><td>0.444444</td><td>0.23013</td></tr><tr><td>2557</td><td>2023-08-28</td><td>&quot;C&quot;</td><td>&quot;c&quot;</td><td>&quot;C-c&quot;</td><td>0</td><td>0.25424</td><td>0.5</td><td>0.26395</td><td>0.16667</td><td>1</td><td>1</td><td>0.5</td><td>0.254237</td><td>1.0</td><td>5.0</td><td>0.166667</td><td>0.2952</td></tr><tr><td>2558</td><td>2023-08-28</td><td>&quot;C&quot;</td><td>&quot;e&quot;</td><td>&quot;C-e&quot;</td><td>0</td><td>0.25424</td><td>0.25</td><td>0.27609</td><td>0.375</td><td>3</td><td>1</td><td>0.25</td><td>0.254237</td><td>3.0</td><td>5.0</td><td>0.375</td><td>0.25265</td></tr></tbody></table></div>"
      ],
      "text/plain": [
       "shape: (5, 18)\n",
       "┌───────┬────────────┬─────────────┬────────────────┬───┬─────┬─────┬──────────┬──────────┐\n",
       "│ index ┆ date       ┆ product_cat ┆ product_subcat ┆ … ┆ n   ┆ K   ┆ Z        ┆ cred_wtd │\n",
       "│ ---   ┆ ---        ┆ ---         ┆ ---            ┆   ┆ --- ┆ --- ┆ ---      ┆ ---      │\n",
       "│ i64   ┆ date       ┆ cat         ┆ cat            ┆   ┆ f64 ┆ f64 ┆ f64      ┆ f64      │\n",
       "╞═══════╪════════════╪═════════════╪════════════════╪═══╪═════╪═════╪══════════╪══════════╡\n",
       "│ 2554  ┆ 2023-08-27 ┆ A           ┆ c              ┆ … ┆ 4.0 ┆ 5.0 ┆ 0.444444 ┆ 0.22778  │\n",
       "│ 2555  ┆ 2023-08-28 ┆ B           ┆ c              ┆ … ┆ 5.0 ┆ 5.0 ┆ 0.5      ┆ 0.21045  │\n",
       "│ 2556  ┆ 2023-08-28 ┆ C           ┆ d              ┆ … ┆ 4.0 ┆ 5.0 ┆ 0.444444 ┆ 0.23013  │\n",
       "│ 2557  ┆ 2023-08-28 ┆ C           ┆ c              ┆ … ┆ 1.0 ┆ 5.0 ┆ 0.166667 ┆ 0.2952   │\n",
       "│ 2558  ┆ 2023-08-28 ┆ C           ┆ e              ┆ … ┆ 3.0 ┆ 5.0 ┆ 0.375    ┆ 0.25265  │\n",
       "└───────┴────────────┴─────────────┴────────────────┴───┴─────┴─────┴──────────┴──────────┘"
      ]
     },
     "execution_count": 5,
     "metadata": {},
     "output_type": "execute_result"
    }
   ],
   "source": [
    "lf = (\n",
    "    (\n",
    "        DynamicRollingCount()\n",
    "        .lf(lf)\n",
    "        .date_col(\"date\")\n",
    "        .x_col(\"hit\")\n",
    "        .cat_col(\"product_code\")\n",
    "        .index_col(\"index\")\n",
    "        .offset(30)\n",
    "        .window(30)\n",
    "        .rejoin(True)\n",
    "        .op(\"ROLLING_COUNT\")\n",
    "        .rename(\"n\")\n",
    "        .run()\n",
    "    )\n",
    "    .with_columns([pl.lit(5).cast(pl.Float64).alias(\"K\")])\n",
    "    .with_columns([pl.col(\"n\").truediv(pl.col(\"n\") + pl.col(\"K\")).alias(\"Z\")])\n",
    ").with_columns(\n",
    "    [\n",
    "        (pl.col(\"individual\") * pl.col(\"Z\") + pl.col(\"complement\") * (1 - pl.col(\"Z\")))\n",
    "        .round(5)\n",
    "        .alias(\"cred_wtd\")\n",
    "    ]\n",
    ")\n",
    "\n",
    "lf.tail().collect()"
   ]
  },
  {
   "cell_type": "code",
   "execution_count": 6,
   "metadata": {},
   "outputs": [
    {
     "data": {
      "text/html": [
       "<div><style>\n",
       ".dataframe > thead > tr,\n",
       ".dataframe > tbody > tr {\n",
       "  text-align: right;\n",
       "  white-space: pre-wrap;\n",
       "}\n",
       "</style>\n",
       "<small>shape: (5, 17)</small><table border=\"1\" class=\"dataframe\"><thead><tr><th>index</th><th>date</th><th>product_cat</th><th>product_subcat</th><th>product_code</th><th>hit</th><th>total_30_30_average_laplace(1)_smoothed</th><th>code_30_30_average_laplace(1)_smoothed</th><th>cred_wtd_30_30_average</th><th>cred_wtd_30_30_Z</th><th>cred_wtd_30_30_n</th><th>individual</th><th>n</th><th>Z</th><th>cred_wtd</th><th>collective</th><th>CRED_WTD(hit[product_code])[lag:30/win:30]</th></tr><tr><td>i64</td><td>date</td><td>cat</td><td>cat</td><td>cat</td><td>i64</td><td>f64</td><td>f64</td><td>f64</td><td>f64</td><td>i64</td><td>f64</td><td>f64</td><td>f64</td><td>f64</td><td>f64</td><td>f64</td></tr></thead><tbody><tr><td>2554</td><td>2023-08-27</td><td>&quot;A&quot;</td><td>&quot;c&quot;</td><td>&quot;A-c&quot;</td><td>0</td><td>0.25</td><td>0.2</td><td>0.20238</td><td>0.44444</td><td>4</td><td>0.2</td><td>4.0</td><td>0.444444</td><td>0.22778</td><td>0.25</td><td>0.227778</td></tr><tr><td>2555</td><td>2023-08-28</td><td>&quot;B&quot;</td><td>&quot;c&quot;</td><td>&quot;B-c&quot;</td><td>0</td><td>0.25424</td><td>0.16667</td><td>0.21046</td><td>0.5</td><td>5</td><td>0.166667</td><td>5.0</td><td>0.5</td><td>0.21045</td><td>0.254237</td><td>0.210452</td></tr><tr><td>2556</td><td>2023-08-28</td><td>&quot;C&quot;</td><td>&quot;d&quot;</td><td>&quot;C-d&quot;</td><td>0</td><td>0.25424</td><td>0.6</td><td>0.28013</td><td>0.44444</td><td>4</td><td>0.6</td><td>4.0</td><td>0.444444</td><td>0.23013</td><td>0.254237</td><td>0.40791</td></tr><tr><td>2557</td><td>2023-08-28</td><td>&quot;C&quot;</td><td>&quot;c&quot;</td><td>&quot;C-c&quot;</td><td>0</td><td>0.25424</td><td>0.5</td><td>0.26395</td><td>0.16667</td><td>1</td><td>0.5</td><td>1.0</td><td>0.166667</td><td>0.2952</td><td>0.254237</td><td>0.295198</td></tr><tr><td>2558</td><td>2023-08-28</td><td>&quot;C&quot;</td><td>&quot;e&quot;</td><td>&quot;C-e&quot;</td><td>0</td><td>0.25424</td><td>0.25</td><td>0.27609</td><td>0.375</td><td>3</td><td>0.25</td><td>3.0</td><td>0.375</td><td>0.25265</td><td>0.254237</td><td>0.252648</td></tr></tbody></table></div>"
      ],
      "text/plain": [
       "shape: (5, 17)\n",
       "┌───────┬────────────┬────────────┬────────────┬───┬──────────┬──────────┬────────────┬────────────┐\n",
       "│ index ┆ date       ┆ product_ca ┆ product_su ┆ … ┆ Z        ┆ cred_wtd ┆ collective ┆ CRED_WTD(h │\n",
       "│ ---   ┆ ---        ┆ t          ┆ bcat       ┆   ┆ ---      ┆ ---      ┆ ---        ┆ it[product │\n",
       "│ i64   ┆ date       ┆ ---        ┆ ---        ┆   ┆ f64      ┆ f64      ┆ f64        ┆ _code])[la │\n",
       "│       ┆            ┆ cat        ┆ cat        ┆   ┆          ┆          ┆            ┆ g:…        │\n",
       "│       ┆            ┆            ┆            ┆   ┆          ┆          ┆            ┆ ---        │\n",
       "│       ┆            ┆            ┆            ┆   ┆          ┆          ┆            ┆ f64        │\n",
       "╞═══════╪════════════╪════════════╪════════════╪═══╪══════════╪══════════╪════════════╪════════════╡\n",
       "│ 2554  ┆ 2023-08-27 ┆ A          ┆ c          ┆ … ┆ 0.444444 ┆ 0.22778  ┆ 0.25       ┆ 0.227778   │\n",
       "│ 2555  ┆ 2023-08-28 ┆ B          ┆ c          ┆ … ┆ 0.5      ┆ 0.21045  ┆ 0.254237   ┆ 0.210452   │\n",
       "│ 2556  ┆ 2023-08-28 ┆ C          ┆ d          ┆ … ┆ 0.444444 ┆ 0.23013  ┆ 0.254237   ┆ 0.40791    │\n",
       "│ 2557  ┆ 2023-08-28 ┆ C          ┆ c          ┆ … ┆ 0.166667 ┆ 0.2952   ┆ 0.254237   ┆ 0.295198   │\n",
       "│ 2558  ┆ 2023-08-28 ┆ C          ┆ e          ┆ … ┆ 0.375    ┆ 0.25265  ┆ 0.254237   ┆ 0.252648   │\n",
       "└───────┴────────────┴────────────┴────────────┴───┴──────────┴──────────┴────────────┴────────────┘"
      ]
     },
     "execution_count": 6,
     "metadata": {},
     "output_type": "execute_result"
    }
   ],
   "source": [
    "lf = (\n",
    "    CredWtdMean()\n",
    "    .lf(lf)\n",
    "    .date_col(\"date\")\n",
    "    .numerator_col(\"hit\")\n",
    "    .denominator_col(\"count\")\n",
    "    .cat_col(\"product_code\")\n",
    "    .index_col(\"index\")\n",
    "    .offset(30)\n",
    "    .window(30)\n",
    "    .rejoin(True)\n",
    "    .laplace_alpha(1)\n",
    "    # .rename(\"cred_wtd\")\n",
    "    .run()\n",
    ").drop([\"count\", \"complement\", \"K\"])\n",
    "\n",
    "lf.tail().collect()"
   ]
  }
 ],
 "metadata": {
  "kernelspec": {
   "display_name": ".venv",
   "language": "python",
   "name": "python3"
  },
  "language_info": {
   "codemirror_mode": {
    "name": "ipython",
    "version": 3
   },
   "file_extension": ".py",
   "mimetype": "text/x-python",
   "name": "python",
   "nbconvert_exporter": "python",
   "pygments_lexer": "ipython3",
   "version": "3.11.8"
  }
 },
 "nbformat": 4,
 "nbformat_minor": 2
}
