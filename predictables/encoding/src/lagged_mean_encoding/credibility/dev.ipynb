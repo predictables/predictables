{
 "cells": [
  {
   "cell_type": "code",
   "execution_count": 1,
   "metadata": {},
   "outputs": [],
   "source": [
    "import polars as pl\n",
    "import polars.selectors as cs\n",
    "\n",
    "from predictables.encoding.src.lagged_mean_encoding.credibility.vhm import vhm\n",
    "from predictables.encoding.src.lagged_mean_encoding import (\n",
    "    DynamicRollingSum,\n",
    "    DynamicRollingCount,\n",
    "    DynamicRollingMean,\n",
    "    LaplaceSmoothedMean,\n",
    ")"
   ]
  },
  {
   "cell_type": "code",
   "execution_count": 2,
   "metadata": {},
   "outputs": [
    {
     "data": {
      "text/html": [
       "<div><style>\n",
       ".dataframe > thead > tr,\n",
       ".dataframe > tbody > tr {\n",
       "  text-align: right;\n",
       "  white-space: pre-wrap;\n",
       "}\n",
       "</style>\n",
       "<small>shape: (5, 11)</small><table border=\"1\" class=\"dataframe\"><thead><tr><th>index</th><th>date</th><th>product_cat</th><th>product_subcat</th><th>product_code</th><th>hit</th><th>total_30_30_average_laplace(1)_smoothed</th><th>code_30_30_average_laplace(1)_smoothed</th><th>cred_wtd_30_30_average</th><th>cred_wtd_30_30_Z</th><th>cred_wtd_30_30_n</th></tr><tr><td>u32</td><td>date</td><td>cat</td><td>cat</td><td>cat</td><td>i64</td><td>f64</td><td>f64</td><td>f64</td><td>f64</td><td>i64</td></tr></thead><tbody><tr><td>0</td><td>2020-01-01</td><td>&quot;D&quot;</td><td>&quot;f&quot;</td><td>&quot;D-f&quot;</td><td>1</td><td>0.5</td><td>0.5</td><td>0.5</td><td>0.0</td><td>0</td></tr><tr><td>1</td><td>2020-01-02</td><td>&quot;B&quot;</td><td>&quot;f&quot;</td><td>&quot;B-f&quot;</td><td>1</td><td>0.5</td><td>0.5</td><td>0.5</td><td>0.0</td><td>0</td></tr><tr><td>2</td><td>2020-01-03</td><td>&quot;A&quot;</td><td>&quot;d&quot;</td><td>&quot;A-d&quot;</td><td>0</td><td>0.5</td><td>0.5</td><td>0.5</td><td>0.0</td><td>0</td></tr><tr><td>3</td><td>2020-01-03</td><td>&quot;A&quot;</td><td>&quot;e&quot;</td><td>&quot;A-e&quot;</td><td>1</td><td>0.5</td><td>0.5</td><td>0.5</td><td>0.0</td><td>0</td></tr><tr><td>4</td><td>2020-01-04</td><td>&quot;D&quot;</td><td>&quot;c&quot;</td><td>&quot;D-c&quot;</td><td>1</td><td>0.5</td><td>0.5</td><td>0.5</td><td>0.0</td><td>0</td></tr></tbody></table></div>"
      ],
      "text/plain": [
       "shape: (5, 11)\n",
       "┌───────┬────────────┬────────────┬────────────┬───┬───────────┬───────────┬───────────┬───────────┐\n",
       "│ index ┆ date       ┆ product_ca ┆ product_su ┆ … ┆ code_30_3 ┆ cred_wtd_ ┆ cred_wtd_ ┆ cred_wtd_ │\n",
       "│ ---   ┆ ---        ┆ t          ┆ bcat       ┆   ┆ 0_average ┆ 30_30_ave ┆ 30_30_Z   ┆ 30_30_n   │\n",
       "│ u32   ┆ date       ┆ ---        ┆ ---        ┆   ┆ _laplace( ┆ rage      ┆ ---       ┆ ---       │\n",
       "│       ┆            ┆ cat        ┆ cat        ┆   ┆ 1)_sm…    ┆ ---       ┆ f64       ┆ i64       │\n",
       "│       ┆            ┆            ┆            ┆   ┆ ---       ┆ f64       ┆           ┆           │\n",
       "│       ┆            ┆            ┆            ┆   ┆ f64       ┆           ┆           ┆           │\n",
       "╞═══════╪════════════╪════════════╪════════════╪═══╪═══════════╪═══════════╪═══════════╪═══════════╡\n",
       "│ 0     ┆ 2020-01-01 ┆ D          ┆ f          ┆ … ┆ 0.5       ┆ 0.5       ┆ 0.0       ┆ 0         │\n",
       "│ 1     ┆ 2020-01-02 ┆ B          ┆ f          ┆ … ┆ 0.5       ┆ 0.5       ┆ 0.0       ┆ 0         │\n",
       "│ 2     ┆ 2020-01-03 ┆ A          ┆ d          ┆ … ┆ 0.5       ┆ 0.5       ┆ 0.0       ┆ 0         │\n",
       "│ 3     ┆ 2020-01-03 ┆ A          ┆ e          ┆ … ┆ 0.5       ┆ 0.5       ┆ 0.0       ┆ 0         │\n",
       "│ 4     ┆ 2020-01-04 ┆ D          ┆ c          ┆ … ┆ 0.5       ┆ 0.5       ┆ 0.0       ┆ 0         │\n",
       "└───────┴────────────┴────────────┴────────────┴───┴───────────┴───────────┴───────────┴───────────┘"
      ]
     },
     "execution_count": 2,
     "metadata": {},
     "output_type": "execute_result"
    }
   ],
   "source": [
    "lf = pl.scan_parquet(\"/app/ts_testing.parquet\").drop(\n",
    "    [\n",
    "        \"trans_id\",\n",
    "        \"prob\",\n",
    "        \"30_days_prior\",\n",
    "        \"60_days_prior\",\n",
    "        \"90_days_prior\",\n",
    "        \"total_30_30_sum\",\n",
    "        \"total_30_60_sum\",\n",
    "        \"total_60_30_sum\",\n",
    "        \"total_30_30_average\",\n",
    "        \"total_30_60_average\",\n",
    "        \"total_60_30_average\",\n",
    "        \"cat_30_30_average\",\n",
    "        \"cat_30_60_average\",\n",
    "        \"cat_60_30_average\",\n",
    "        \"subcat_30_30_average\",\n",
    "        \"subcat_30_60_average\",\n",
    "        \"subcat_60_30_average\",\n",
    "        \"code_30_30_average\",\n",
    "        \"code_30_60_average\",\n",
    "        \"code_60_30_average\",\n",
    "        \"cat_30_30_average_laplace(1)_smoothed\",\n",
    "        \"cat_30_60_average_laplace(1)_smoothed\",\n",
    "        \"cat_60_30_average_laplace(1)_smoothed\",\n",
    "        \"subcat_30_30_average_laplace(1)_smoothed\",\n",
    "        \"subcat_30_60_average_laplace(1)_smoothed\",\n",
    "        \"subcat_60_30_average_laplace(1)_smoothed\",\n",
    "        \"total_30_60_average_laplace(1)_smoothed\",\n",
    "        \"total_60_30_average_laplace(1)_smoothed\",\n",
    "        \"cat_30_60_average_laplace(1)_smoothed\",\n",
    "        \"cat_60_30_average_laplace(1)_smoothed\",\n",
    "        \"code_30_60_average_laplace(1)_smoothed\",\n",
    "        \"code_60_30_average_laplace(1)_smoothed\",\n",
    "        \"cred_wtd_30_60_average\",\n",
    "        \"cred_wtd_60_30_average\",\n",
    "        \"cred_wtd_30_60_Z\",\n",
    "        \"cred_wtd_60_30_Z\",\n",
    "        \"cred_wtd_30_60_n\",\n",
    "        \"cred_wtd_60_30_n\",\n",
    "    ]\n",
    ")\n",
    "\n",
    "lf = lf.with_columns(\n",
    "    [pl.col(c).cast(pl.Categorical).name.keep() for c in lf.select(cs.string()).columns]\n",
    ")\n",
    "\n",
    "lf.head().collect()"
   ]
  },
  {
   "cell_type": "code",
   "execution_count": null,
   "metadata": {},
   "outputs": [],
   "source": []
  },
  {
   "cell_type": "code",
   "execution_count": 3,
   "metadata": {},
   "outputs": [
    {
     "data": {
      "text/html": [
       "<div><style>\n",
       ".dataframe > thead > tr,\n",
       ".dataframe > tbody > tr {\n",
       "  text-align: right;\n",
       "  white-space: pre-wrap;\n",
       "}\n",
       "</style>\n",
       "<small>shape: (5, 14)</small><table border=\"1\" class=\"dataframe\"><thead><tr><th>index</th><th>date</th><th>product_cat</th><th>product_subcat</th><th>product_code</th><th>hit</th><th>total_30_30_average_laplace(1)_smoothed</th><th>code_30_30_average_laplace(1)_smoothed</th><th>cred_wtd_30_30_average</th><th>cred_wtd_30_30_Z</th><th>cred_wtd_30_30_n</th><th>count</th><th>ROLLING_MEAN(hit[product_cat])[lag:30/win:30]</th><th>ROLLING_MEAN(hit[ALL])[lag:30/win:30]</th></tr><tr><td>i64</td><td>date</td><td>cat</td><td>cat</td><td>cat</td><td>i64</td><td>f64</td><td>f64</td><td>f64</td><td>f64</td><td>i64</td><td>i32</td><td>f64</td><td>f64</td></tr></thead><tbody><tr><td>0</td><td>2020-01-01</td><td>&quot;D&quot;</td><td>&quot;f&quot;</td><td>&quot;D-f&quot;</td><td>1</td><td>0.5</td><td>0.5</td><td>0.5</td><td>0.0</td><td>0</td><td>1</td><td>0.0</td><td>0.0</td></tr><tr><td>1</td><td>2020-01-02</td><td>&quot;B&quot;</td><td>&quot;f&quot;</td><td>&quot;B-f&quot;</td><td>1</td><td>0.5</td><td>0.5</td><td>0.5</td><td>0.0</td><td>0</td><td>1</td><td>0.0</td><td>0.0</td></tr><tr><td>2</td><td>2020-01-03</td><td>&quot;A&quot;</td><td>&quot;d&quot;</td><td>&quot;A-d&quot;</td><td>0</td><td>0.5</td><td>0.5</td><td>0.5</td><td>0.0</td><td>0</td><td>1</td><td>0.0</td><td>0.0</td></tr><tr><td>3</td><td>2020-01-03</td><td>&quot;A&quot;</td><td>&quot;e&quot;</td><td>&quot;A-e&quot;</td><td>1</td><td>0.5</td><td>0.5</td><td>0.5</td><td>0.0</td><td>0</td><td>1</td><td>0.0</td><td>0.0</td></tr><tr><td>4</td><td>2020-01-04</td><td>&quot;D&quot;</td><td>&quot;c&quot;</td><td>&quot;D-c&quot;</td><td>1</td><td>0.5</td><td>0.5</td><td>0.5</td><td>0.0</td><td>0</td><td>1</td><td>0.0</td><td>0.0</td></tr></tbody></table></div>"
      ],
      "text/plain": [
       "shape: (5, 14)\n",
       "┌───────┬────────────┬─────────────┬────────────┬───┬────────────┬───────┬────────────┬────────────┐\n",
       "│ index ┆ date       ┆ product_cat ┆ product_su ┆ … ┆ cred_wtd_3 ┆ count ┆ ROLLING_ME ┆ ROLLING_ME │\n",
       "│ ---   ┆ ---        ┆ ---         ┆ bcat       ┆   ┆ 0_30_n     ┆ ---   ┆ AN(hit[pro ┆ AN(hit[ALL │\n",
       "│ i64   ┆ date       ┆ cat         ┆ ---        ┆   ┆ ---        ┆ i32   ┆ duct_cat]) ┆ ])[lag:30/ │\n",
       "│       ┆            ┆             ┆ cat        ┆   ┆ i64        ┆       ┆ [l…        ┆ wi…        │\n",
       "│       ┆            ┆             ┆            ┆   ┆            ┆       ┆ ---        ┆ ---        │\n",
       "│       ┆            ┆             ┆            ┆   ┆            ┆       ┆ f64        ┆ f64        │\n",
       "╞═══════╪════════════╪═════════════╪════════════╪═══╪════════════╪═══════╪════════════╪════════════╡\n",
       "│ 0     ┆ 2020-01-01 ┆ D           ┆ f          ┆ … ┆ 0          ┆ 1     ┆ 0.0        ┆ 0.0        │\n",
       "│ 1     ┆ 2020-01-02 ┆ B           ┆ f          ┆ … ┆ 0          ┆ 1     ┆ 0.0        ┆ 0.0        │\n",
       "│ 2     ┆ 2020-01-03 ┆ A           ┆ d          ┆ … ┆ 0          ┆ 1     ┆ 0.0        ┆ 0.0        │\n",
       "│ 3     ┆ 2020-01-03 ┆ A           ┆ e          ┆ … ┆ 0          ┆ 1     ┆ 0.0        ┆ 0.0        │\n",
       "│ 4     ┆ 2020-01-04 ┆ D           ┆ c          ┆ … ┆ 0          ┆ 1     ┆ 0.0        ┆ 0.0        │\n",
       "└───────┴────────────┴─────────────┴────────────┴───┴────────────┴───────┴────────────┴────────────┘"
      ]
     },
     "execution_count": 3,
     "metadata": {},
     "output_type": "execute_result"
    }
   ],
   "source": [
    "lf = (\n",
    "    DynamicRollingMean()\n",
    "    .lf(lf)\n",
    "    .date_col(\"date\")\n",
    "    .numerator_col(\"hit\")\n",
    "    .denominator_col(\"count\")\n",
    "    .cat_col(\"product_cat\")\n",
    "    .index_col(\"index\")\n",
    "    .offset(30)\n",
    "    .window(30)\n",
    "    .rejoin(True)\n",
    "    .op(\"ROLLING_MEAN\")\n",
    "    .run()\n",
    ")\n",
    "\n",
    "lf = (\n",
    "    DynamicRollingMean()\n",
    "    .lf(lf)\n",
    "    .date_col(\"date\")\n",
    "    .numerator_col(\"hit\")\n",
    "    .denominator_col(\"count\")\n",
    "    .index_col(\"index\")\n",
    "    .offset(30)\n",
    "    .window(30)\n",
    "    .rejoin(True)\n",
    "    .op(\"ROLLING_MEAN\")\n",
    "    .run()\n",
    ")\n",
    "\n",
    "\n",
    "lf.head().collect()"
   ]
  },
  {
   "cell_type": "code",
   "execution_count": 5,
   "metadata": {},
   "outputs": [
    {
     "data": {
      "text/html": [
       "<div><style>\n",
       ".dataframe > thead > tr,\n",
       ".dataframe > tbody > tr {\n",
       "  text-align: right;\n",
       "  white-space: pre-wrap;\n",
       "}\n",
       "</style>\n",
       "<small>shape: (2_559, 16)</small><table border=\"1\" class=\"dataframe\"><thead><tr><th>index</th><th>date</th><th>product_cat</th><th>product_subcat</th><th>product_code</th><th>hit</th><th>total_30_30_average_laplace(1)_smoothed</th><th>code_30_30_average_laplace(1)_smoothed</th><th>cred_wtd_30_30_average</th><th>cred_wtd_30_30_Z</th><th>cred_wtd_30_30_n</th><th>count</th><th>ROLLING_MEAN(hit[product_cat])[lag:30/win:30]</th><th>ROLLING_MEAN(hit[ALL])[lag:30/win:30]</th><th>SMOOTHED_MEAN(hit[product_cat])[lag:30/win:30]</th><th>SMOOTHED_MEAN(hit[ALL])[lag:30/win:30]</th></tr><tr><td>i64</td><td>date</td><td>cat</td><td>cat</td><td>cat</td><td>i64</td><td>f64</td><td>f64</td><td>f64</td><td>f64</td><td>i64</td><td>i32</td><td>f64</td><td>f64</td><td>f64</td><td>f64</td></tr></thead><tbody><tr><td>0</td><td>2020-01-01</td><td>&quot;D&quot;</td><td>&quot;f&quot;</td><td>&quot;D-f&quot;</td><td>1</td><td>0.5</td><td>0.5</td><td>0.5</td><td>0.0</td><td>0</td><td>1</td><td>0.0</td><td>0.0</td><td>0.0</td><td>0.0</td></tr><tr><td>1</td><td>2020-01-02</td><td>&quot;B&quot;</td><td>&quot;f&quot;</td><td>&quot;B-f&quot;</td><td>1</td><td>0.5</td><td>0.5</td><td>0.5</td><td>0.0</td><td>0</td><td>1</td><td>0.0</td><td>0.0</td><td>0.0</td><td>0.0</td></tr><tr><td>2</td><td>2020-01-03</td><td>&quot;A&quot;</td><td>&quot;d&quot;</td><td>&quot;A-d&quot;</td><td>0</td><td>0.5</td><td>0.5</td><td>0.5</td><td>0.0</td><td>0</td><td>1</td><td>0.0</td><td>0.0</td><td>0.0</td><td>0.0</td></tr><tr><td>3</td><td>2020-01-03</td><td>&quot;A&quot;</td><td>&quot;e&quot;</td><td>&quot;A-e&quot;</td><td>1</td><td>0.5</td><td>0.5</td><td>0.5</td><td>0.0</td><td>0</td><td>1</td><td>0.0</td><td>0.0</td><td>0.0</td><td>0.0</td></tr><tr><td>4</td><td>2020-01-04</td><td>&quot;D&quot;</td><td>&quot;c&quot;</td><td>&quot;D-c&quot;</td><td>1</td><td>0.5</td><td>0.5</td><td>0.5</td><td>0.0</td><td>0</td><td>1</td><td>0.0</td><td>0.0</td><td>0.0</td><td>0.0</td></tr><tr><td>&hellip;</td><td>&hellip;</td><td>&hellip;</td><td>&hellip;</td><td>&hellip;</td><td>&hellip;</td><td>&hellip;</td><td>&hellip;</td><td>&hellip;</td><td>&hellip;</td><td>&hellip;</td><td>&hellip;</td><td>&hellip;</td><td>&hellip;</td><td>&hellip;</td><td>&hellip;</td></tr><tr><td>2554</td><td>2023-08-27</td><td>&quot;A&quot;</td><td>&quot;c&quot;</td><td>&quot;A-c&quot;</td><td>0</td><td>0.25</td><td>0.2</td><td>0.20238</td><td>0.44444</td><td>4</td><td>1</td><td>null</td><td>0.237288</td><td>0.2</td><td>0.262295</td></tr><tr><td>2555</td><td>2023-08-28</td><td>&quot;B&quot;</td><td>&quot;c&quot;</td><td>&quot;B-c&quot;</td><td>0</td><td>0.25424</td><td>0.16667</td><td>0.21046</td><td>0.5</td><td>5</td><td>1</td><td>null</td><td>0.241379</td><td>0.210526</td><td>0.266667</td></tr><tr><td>2556</td><td>2023-08-28</td><td>&quot;C&quot;</td><td>&quot;d&quot;</td><td>&quot;C-d&quot;</td><td>0</td><td>0.25424</td><td>0.6</td><td>0.28013</td><td>0.44444</td><td>4</td><td>1</td><td>null</td><td>0.241379</td><td>0.352941</td><td>0.266667</td></tr><tr><td>2557</td><td>2023-08-28</td><td>&quot;C&quot;</td><td>&quot;c&quot;</td><td>&quot;C-c&quot;</td><td>0</td><td>0.25424</td><td>0.5</td><td>0.26395</td><td>0.16667</td><td>1</td><td>1</td><td>null</td><td>0.241379</td><td>0.352941</td><td>0.266667</td></tr><tr><td>2558</td><td>2023-08-28</td><td>&quot;C&quot;</td><td>&quot;e&quot;</td><td>&quot;C-e&quot;</td><td>0</td><td>0.25424</td><td>0.25</td><td>0.27609</td><td>0.375</td><td>3</td><td>1</td><td>null</td><td>0.241379</td><td>0.352941</td><td>0.266667</td></tr></tbody></table></div>"
      ],
      "text/plain": [
       "shape: (2_559, 16)\n",
       "┌───────┬────────────┬────────────┬────────────┬───┬───────────┬───────────┬───────────┬───────────┐\n",
       "│ index ┆ date       ┆ product_ca ┆ product_su ┆ … ┆ ROLLING_M ┆ ROLLING_M ┆ SMOOTHED_ ┆ SMOOTHED_ │\n",
       "│ ---   ┆ ---        ┆ t          ┆ bcat       ┆   ┆ EAN(hit[p ┆ EAN(hit[A ┆ MEAN(hit[ ┆ MEAN(hit[ │\n",
       "│ i64   ┆ date       ┆ ---        ┆ ---        ┆   ┆ roduct_ca ┆ LL])[lag: ┆ product_c ┆ ALL])[lag │\n",
       "│       ┆            ┆ cat        ┆ cat        ┆   ┆ t])[l…    ┆ 30/wi…    ┆ at])[…    ┆ :30/w…    │\n",
       "│       ┆            ┆            ┆            ┆   ┆ ---       ┆ ---       ┆ ---       ┆ ---       │\n",
       "│       ┆            ┆            ┆            ┆   ┆ f64       ┆ f64       ┆ f64       ┆ f64       │\n",
       "╞═══════╪════════════╪════════════╪════════════╪═══╪═══════════╪═══════════╪═══════════╪═══════════╡\n",
       "│ 0     ┆ 2020-01-01 ┆ D          ┆ f          ┆ … ┆ 0.0       ┆ 0.0       ┆ 0.0       ┆ 0.0       │\n",
       "│ 1     ┆ 2020-01-02 ┆ B          ┆ f          ┆ … ┆ 0.0       ┆ 0.0       ┆ 0.0       ┆ 0.0       │\n",
       "│ 2     ┆ 2020-01-03 ┆ A          ┆ d          ┆ … ┆ 0.0       ┆ 0.0       ┆ 0.0       ┆ 0.0       │\n",
       "│ 3     ┆ 2020-01-03 ┆ A          ┆ e          ┆ … ┆ 0.0       ┆ 0.0       ┆ 0.0       ┆ 0.0       │\n",
       "│ 4     ┆ 2020-01-04 ┆ D          ┆ c          ┆ … ┆ 0.0       ┆ 0.0       ┆ 0.0       ┆ 0.0       │\n",
       "│ …     ┆ …          ┆ …          ┆ …          ┆ … ┆ …         ┆ …         ┆ …         ┆ …         │\n",
       "│ 2554  ┆ 2023-08-27 ┆ A          ┆ c          ┆ … ┆ null      ┆ 0.237288  ┆ 0.2       ┆ 0.262295  │\n",
       "│ 2555  ┆ 2023-08-28 ┆ B          ┆ c          ┆ … ┆ null      ┆ 0.241379  ┆ 0.210526  ┆ 0.266667  │\n",
       "│ 2556  ┆ 2023-08-28 ┆ C          ┆ d          ┆ … ┆ null      ┆ 0.241379  ┆ 0.352941  ┆ 0.266667  │\n",
       "│ 2557  ┆ 2023-08-28 ┆ C          ┆ c          ┆ … ┆ null      ┆ 0.241379  ┆ 0.352941  ┆ 0.266667  │\n",
       "│ 2558  ┆ 2023-08-28 ┆ C          ┆ e          ┆ … ┆ null      ┆ 0.241379  ┆ 0.352941  ┆ 0.266667  │\n",
       "└───────┴────────────┴────────────┴────────────┴───┴───────────┴───────────┴───────────┴───────────┘"
      ]
     },
     "execution_count": 5,
     "metadata": {},
     "output_type": "execute_result"
    }
   ],
   "source": [
    "lf = (\n",
    "    LaplaceSmoothedMean()\n",
    "    .lf(lf)\n",
    "    .date_col(\"date\")\n",
    "    .numerator_col(\"hit\")\n",
    "    .denominator_col(\"count\")\n",
    "    .cat_col(\"product_cat\")\n",
    "    .index_col(\"index\")\n",
    "    .offset(30)\n",
    "    .window(30)\n",
    "    .rejoin(True)\n",
    "    .laplace_alpha(2)\n",
    "    .run()\n",
    ")\n",
    "\n",
    "lf = (\n",
    "    LaplaceSmoothedMean()\n",
    "    .lf(lf)\n",
    "    .date_col(\"date\")\n",
    "    .numerator_col(\"hit\")\n",
    "    .denominator_col(\"count\")\n",
    "    .index_col(\"index\")\n",
    "    .offset(30)\n",
    "    .window(30)\n",
    "    .rejoin(True)\n",
    "    .laplace_alpha(2)\n",
    "    .run()\n",
    ")\n",
    "\n",
    "lf.collect()"
   ]
  }
 ],
 "metadata": {
  "kernelspec": {
   "display_name": ".venv",
   "language": "python",
   "name": "python3"
  },
  "language_info": {
   "codemirror_mode": {
    "name": "ipython",
    "version": 3
   },
   "file_extension": ".py",
   "mimetype": "text/x-python",
   "name": "python",
   "nbconvert_exporter": "python",
   "pygments_lexer": "ipython3",
   "version": "3.11.8"
  }
 },
 "nbformat": 4,
 "nbformat_minor": 2
}
