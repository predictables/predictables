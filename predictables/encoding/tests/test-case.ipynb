{
 "cells": [
  {
   "cell_type": "code",
   "execution_count": 10,
   "metadata": {},
   "outputs": [],
   "source": [
    "import polars as pl\n",
    "import os\n",
    "os.chdir(r\"C:\\Users\\aweaver\\predictables\")\n",
    "\n",
    "# predictables\\encoding\\src\\lagged_mean_encoding\\_dynamic_rolling_sum.py\n",
    "from predictables.encoding.src.lagged_mean_encoding._dynamic_rolling_sum import _get_date_map, _get_original_order, _formatted_category_cols, _formatted_date_col, _reversed_date_col, _group_by_no_categories, _group_by_categories, _rolling_sum_no_categories, _rolling_sum_categories"
   ]
  },
  {
   "cell_type": "code",
   "execution_count": 14,
   "metadata": {},
   "outputs": [
    {
     "data": {
      "text/html": [
       "<div><style>\n",
       ".dataframe > thead > tr,\n",
       ".dataframe > tbody > tr {\n",
       "  text-align: right;\n",
       "  white-space: pre-wrap;\n",
       "}\n",
       "</style>\n",
       "<small>shape: (5, 5)</small><table border=\"1\" class=\"dataframe\"><thead><tr><th>incr_value</th><th>month_prior</th><th>year_prior</th><th>rolling_sum</th><th>cur_date</th></tr><tr><td>f64</td><td>date</td><td>date</td><td>f64</td><td>date</td></tr></thead><tbody><tr><td>1.0</td><td>2013-01-12</td><td>2012-01-12</td><td>0.0</td><td>2014-01-01</td></tr><tr><td>1.0</td><td>2013-02-12</td><td>2012-02-12</td><td>0.0</td><td>2014-02-01</td></tr><tr><td>1.0</td><td>2013-03-12</td><td>2012-03-12</td><td>0.0</td><td>2014-03-01</td></tr><tr><td>1.0</td><td>2013-04-12</td><td>2012-04-12</td><td>0.0</td><td>2014-04-01</td></tr><tr><td>1.0</td><td>2013-05-12</td><td>2012-05-12</td><td>0.0</td><td>2014-05-01</td></tr></tbody></table></div>"
      ],
      "text/plain": [
       "shape: (5, 5)\n",
       "┌────────────┬─────────────┬────────────┬─────────────┬────────────┐\n",
       "│ incr_value ┆ month_prior ┆ year_prior ┆ rolling_sum ┆ cur_date   │\n",
       "│ ---        ┆ ---         ┆ ---        ┆ ---         ┆ ---        │\n",
       "│ f64        ┆ date        ┆ date       ┆ f64         ┆ date       │\n",
       "╞════════════╪═════════════╪════════════╪═════════════╪════════════╡\n",
       "│ 1.0        ┆ 2013-01-12  ┆ 2012-01-12 ┆ 0.0         ┆ 2014-01-01 │\n",
       "│ 1.0        ┆ 2013-02-12  ┆ 2012-02-12 ┆ 0.0         ┆ 2014-02-01 │\n",
       "│ 1.0        ┆ 2013-03-12  ┆ 2012-03-12 ┆ 0.0         ┆ 2014-03-01 │\n",
       "│ 1.0        ┆ 2013-04-12  ┆ 2012-04-12 ┆ 0.0         ┆ 2014-04-01 │\n",
       "│ 1.0        ┆ 2013-05-12  ┆ 2012-05-12 ┆ 0.0         ┆ 2014-05-01 │\n",
       "└────────────┴─────────────┴────────────┴─────────────┴────────────┘"
      ]
     },
     "execution_count": 14,
     "metadata": {},
     "output_type": "execute_result"
    }
   ],
   "source": [
    "lf = pl.scan_csv(r\"C:\\Users\\aweaver\\predictables\\predictables\\encoding\\tests\\rolling_date_example.csv\").with_columns([\n",
    "    pl.col(\"date\").str.to_date().cast(pl.Date).alias('cur_date'),\n",
    "    pl.col(\"incr_value\").cast(pl.Float64).name.keep(),\n",
    "    pl.col('month_prior').str.to_date().cast(pl.Date).name.keep(),\n",
    "    pl.col('year_prior').str.to_date().cast(pl.Date).name.keep(),\n",
    "    pl.col('rolling_sum').cast(pl.Float64).name.keep(),\n",
    "]).drop('date')\n",
    "lf.head().collect()"
   ]
  },
  {
   "cell_type": "code",
   "execution_count": 15,
   "metadata": {},
   "outputs": [
    {
     "ename": "ComputeError",
     "evalue": "conversion from `str` to `date` failed in column 'date' for 1106 out of 1826 values: [\"1/13/2014\", \"1/14/2014\", … \"12/31/2018\"]\n\nYou might want to try:\n- setting `strict=False` to set values that cannot be converted to `null`\n- using `str.strptime`, `str.to_date`, or `str.to_datetime` and providing a format string",
     "output_type": "error",
     "traceback": [
      "\u001b[1;31m---------------------------------------------------------------------------\u001b[0m",
      "\u001b[1;31mComputeError\u001b[0m                              Traceback (most recent call last)",
      "Cell \u001b[1;32mIn[15], line 1\u001b[0m\n\u001b[1;32m----> 1\u001b[0m _get_date_map(lf, \u001b[39m'\u001b[39;49m\u001b[39mcur_date\u001b[39;49m\u001b[39m'\u001b[39;49m)\n",
      "File \u001b[1;32m~\\predictables\\predictables\\encoding\\src\\lagged_mean_encoding\\_dynamic_rolling_sum.py:198\u001b[0m, in \u001b[0;36m_get_date_map\u001b[1;34m(lf, date_col)\u001b[0m\n\u001b[0;32m    153\u001b[0m \u001b[39mdef\u001b[39;00m \u001b[39m_get_date_map\u001b[39m(lf: pl\u001b[39m.\u001b[39mLazyFrame, date_col: \u001b[39mstr\u001b[39m) \u001b[39m-\u001b[39m\u001b[39m>\u001b[39m Dict[datetime, datetime]:\n\u001b[0;32m    154\u001b[0m \u001b[39m    \u001b[39m\u001b[39m\"\"\"\u001b[39;00m\n\u001b[0;32m    155\u001b[0m \u001b[39m    Generate a dictionary mapping each date in the specified column of a LazyFrame to its\u001b[39;00m\n\u001b[0;32m    156\u001b[0m \u001b[39m    \"reversed\" counterpart. The \"reversed\" date is defined as the date's position inverted\u001b[39;00m\n\u001b[1;32m   (...)\u001b[0m\n\u001b[0;32m    196\u001b[0m \u001b[39m    specific time-based calculations within the module.\u001b[39;00m\n\u001b[0;32m    197\u001b[0m \u001b[39m    \"\"\"\u001b[39;00m\n\u001b[1;32m--> 198\u001b[0m     min_date \u001b[39m=\u001b[39m lf\u001b[39m.\u001b[39;49mselect(pl\u001b[39m.\u001b[39;49mcol(date_col)\u001b[39m.\u001b[39;49mmin())\u001b[39m.\u001b[39;49mcollect()\u001b[39m.\u001b[39mto_series()[\u001b[39m0\u001b[39m]\n\u001b[0;32m    199\u001b[0m     max_date \u001b[39m=\u001b[39m datetime\u001b[39m.\u001b[39mtoday()\n\u001b[0;32m    200\u001b[0m     date_range \u001b[39m=\u001b[39m pl\u001b[39m.\u001b[39mdatetime_range(start\u001b[39m=\u001b[39mmin_date, end\u001b[39m=\u001b[39mmax_date)\u001b[39m.\u001b[39mcast(pl\u001b[39m.\u001b[39mDate)\n",
      "File \u001b[1;32mc:\\Users\\aweaver\\predictables\\.venv\\lib\\site-packages\\polars\\lazyframe\\frame.py:1940\u001b[0m, in \u001b[0;36mLazyFrame.collect\u001b[1;34m(self, type_coercion, predicate_pushdown, projection_pushdown, simplify_expression, slice_pushdown, comm_subplan_elim, comm_subexpr_elim, no_optimization, streaming, background, _eager)\u001b[0m\n\u001b[0;32m   1937\u001b[0m \u001b[39mif\u001b[39;00m background:\n\u001b[0;32m   1938\u001b[0m     \u001b[39mreturn\u001b[39;00m InProcessQuery(ldf\u001b[39m.\u001b[39mcollect_concurrently())\n\u001b[1;32m-> 1940\u001b[0m \u001b[39mreturn\u001b[39;00m wrap_df(ldf\u001b[39m.\u001b[39;49mcollect())\n",
      "\u001b[1;31mComputeError\u001b[0m: conversion from `str` to `date` failed in column 'date' for 1106 out of 1826 values: [\"1/13/2014\", \"1/14/2014\", … \"12/31/2018\"]\n\nYou might want to try:\n- setting `strict=False` to set values that cannot be converted to `null`\n- using `str.strptime`, `str.to_date`, or `str.to_datetime` and providing a format string"
     ]
    }
   ],
   "source": [
    "_get_date_map(lf, 'cur_date')"
   ]
  },
  {
   "cell_type": "code",
   "execution_count": null,
   "metadata": {},
   "outputs": [],
   "source": []
  }
 ],
 "metadata": {
  "kernelspec": {
   "display_name": ".venv",
   "language": "python",
   "name": "python3"
  },
  "language_info": {
   "codemirror_mode": {
    "name": "ipython",
    "version": 3
   },
   "file_extension": ".py",
   "mimetype": "text/x-python",
   "name": "python",
   "nbconvert_exporter": "python",
   "pygments_lexer": "ipython3",
   "version": "3.10.12"
  },
  "orig_nbformat": 4
 },
 "nbformat": 4,
 "nbformat_minor": 2
}
