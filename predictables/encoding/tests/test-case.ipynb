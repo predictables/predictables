{
 "cells": [
  {
   "cell_type": "code",
   "execution_count": 1,
   "metadata": {},
   "outputs": [],
   "source": [
    "import os\n",
    "import polars as pl\n",
    "\n",
    "os.chdir(\"../../../\")\n",
    "\n",
    "# predictables\\encoding\\src\\lagged_mean_encoding\\_dynamic_rolling_sum.py\n",
    "from predictables.encoding.src.lagged_mean_encoding._dynamic_rolling_sum import (\n",
    "    DynamicRollingSum,\n",
    "    dynamic_rolling_sum,\n",
    ")\n",
    "from predictables.encoding.src.lagged_mean_encoding._dynamic_rolling_count import (\n",
    "    DynamicRollingCount,\n",
    ")\n",
    "from predictables.encoding.src.lagged_mean_encoding._dynamic_rolling_mean import (\n",
    "    DynamicRollingMean,\n",
    ")\n",
    "\n",
    "from predictables.encoding.src.lagged_mean_encoding.credibility import vhm"
   ]
  },
  {
   "cell_type": "code",
   "execution_count": 2,
   "metadata": {},
   "outputs": [
    {
     "name": "stdout",
     "output_type": "stream",
     "text": [
      "/app\n"
     ]
    }
   ],
   "source": [
    "!pwd"
   ]
  },
  {
   "cell_type": "code",
   "execution_count": 3,
   "metadata": {},
   "outputs": [
    {
     "data": {
      "text/html": [
       "<div><style>\n",
       ".dataframe > thead > tr,\n",
       ".dataframe > tbody > tr {\n",
       "  text-align: right;\n",
       "  white-space: pre-wrap;\n",
       "}\n",
       "</style>\n",
       "<small>shape: (2_559, 47)</small><table border=\"1\" class=\"dataframe\"><thead><tr><th>index</th><th>date</th><th>trans_id</th><th>product_cat</th><th>product_subcat</th><th>product_code</th><th>prob</th><th>hit</th><th>30_days_prior</th><th>60_days_prior</th><th>90_days_prior</th><th>total_30_30_sum</th><th>total_30_60_sum</th><th>total_60_30_sum</th><th>total_30_30_average</th><th>total_30_60_average</th><th>total_60_30_average</th><th>cat_30_30_average</th><th>cat_30_60_average</th><th>cat_60_30_average</th><th>subcat_30_30_average</th><th>subcat_30_60_average</th><th>subcat_60_30_average</th><th>code_30_30_average</th><th>code_30_60_average</th><th>code_60_30_average</th><th>total_30_30_average_laplace(1)_smoothed</th><th>total_30_60_average_laplace(1)_smoothed</th><th>total_60_30_average_laplace(1)_smoothed</th><th>cat_30_30_average_laplace(1)_smoothed</th><th>cat_30_60_average_laplace(1)_smoothed</th><th>cat_60_30_average_laplace(1)_smoothed</th><th>subcat_30_30_average_laplace(1)_smoothed</th><th>subcat_30_60_average_laplace(1)_smoothed</th><th>subcat_60_30_average_laplace(1)_smoothed</th><th>code_30_30_average_laplace(1)_smoothed</th><th>code_30_60_average_laplace(1)_smoothed</th><th>code_60_30_average_laplace(1)_smoothed</th><th>cred_wtd_30_30_average</th><th>cred_wtd_30_60_average</th><th>cred_wtd_60_30_average</th><th>cred_wtd_30_30_Z</th><th>cred_wtd_30_60_Z</th><th>cred_wtd_60_30_Z</th><th>cred_wtd_30_30_n</th><th>cred_wtd_30_60_n</th><th>cred_wtd_60_30_n</th></tr><tr><td>u32</td><td>date</td><td>i64</td><td>str</td><td>str</td><td>str</td><td>f64</td><td>i64</td><td>date</td><td>date</td><td>date</td><td>i64</td><td>i64</td><td>i64</td><td>f64</td><td>f64</td><td>f64</td><td>f64</td><td>f64</td><td>f64</td><td>f64</td><td>f64</td><td>f64</td><td>f64</td><td>f64</td><td>f64</td><td>f64</td><td>f64</td><td>f64</td><td>f64</td><td>f64</td><td>f64</td><td>f64</td><td>f64</td><td>f64</td><td>f64</td><td>f64</td><td>f64</td><td>f64</td><td>f64</td><td>f64</td><td>f64</td><td>f64</td><td>f64</td><td>i64</td><td>i64</td><td>i64</td></tr></thead><tbody><tr><td>0</td><td>2020-01-01</td><td>1</td><td>&quot;D&quot;</td><td>&quot;f&quot;</td><td>&quot;D-f&quot;</td><td>0.362041</td><td>1</td><td>2019-12-02</td><td>2019-11-02</td><td>2019-10-03</td><td>0</td><td>0</td><td>0</td><td>0.0</td><td>0.0</td><td>0.0</td><td>0.0</td><td>0.0</td><td>0.0</td><td>0.0</td><td>0.0</td><td>0.0</td><td>0.0</td><td>0.0</td><td>0.0</td><td>0.5</td><td>0.5</td><td>0.5</td><td>0.5</td><td>0.5</td><td>0.5</td><td>0.5</td><td>0.5</td><td>0.5</td><td>0.5</td><td>0.5</td><td>0.5</td><td>0.5</td><td>0.5</td><td>0.5</td><td>0.0</td><td>0.0</td><td>0.0</td><td>0</td><td>0</td><td>0</td></tr><tr><td>1</td><td>2020-01-02</td><td>1</td><td>&quot;B&quot;</td><td>&quot;f&quot;</td><td>&quot;B-f&quot;</td><td>0.669999</td><td>1</td><td>2019-12-03</td><td>2019-11-03</td><td>2019-10-04</td><td>0</td><td>0</td><td>0</td><td>0.0</td><td>0.0</td><td>0.0</td><td>0.0</td><td>0.0</td><td>0.0</td><td>0.0</td><td>0.0</td><td>0.0</td><td>0.0</td><td>0.0</td><td>0.0</td><td>0.5</td><td>0.5</td><td>0.5</td><td>0.5</td><td>0.5</td><td>0.5</td><td>0.5</td><td>0.5</td><td>0.5</td><td>0.5</td><td>0.5</td><td>0.5</td><td>0.5</td><td>0.5</td><td>0.5</td><td>0.0</td><td>0.0</td><td>0.0</td><td>0</td><td>0</td><td>0</td></tr><tr><td>2</td><td>2020-01-03</td><td>1</td><td>&quot;A&quot;</td><td>&quot;d&quot;</td><td>&quot;A-d&quot;</td><td>0.795662</td><td>0</td><td>2019-12-04</td><td>2019-11-04</td><td>2019-10-05</td><td>0</td><td>0</td><td>0</td><td>0.0</td><td>0.0</td><td>0.0</td><td>0.0</td><td>0.0</td><td>0.0</td><td>0.0</td><td>0.0</td><td>0.0</td><td>0.0</td><td>0.0</td><td>0.0</td><td>0.5</td><td>0.5</td><td>0.5</td><td>0.5</td><td>0.5</td><td>0.5</td><td>0.5</td><td>0.5</td><td>0.5</td><td>0.5</td><td>0.5</td><td>0.5</td><td>0.5</td><td>0.5</td><td>0.5</td><td>0.0</td><td>0.0</td><td>0.0</td><td>0</td><td>0</td><td>0</td></tr><tr><td>3</td><td>2020-01-03</td><td>2</td><td>&quot;A&quot;</td><td>&quot;e&quot;</td><td>&quot;A-e&quot;</td><td>0.764309</td><td>1</td><td>2019-12-04</td><td>2019-11-04</td><td>2019-10-05</td><td>0</td><td>0</td><td>0</td><td>0.0</td><td>0.0</td><td>0.0</td><td>0.0</td><td>0.0</td><td>0.0</td><td>0.0</td><td>0.0</td><td>0.0</td><td>0.0</td><td>0.0</td><td>0.0</td><td>0.5</td><td>0.5</td><td>0.5</td><td>0.5</td><td>0.5</td><td>0.5</td><td>0.5</td><td>0.5</td><td>0.5</td><td>0.5</td><td>0.5</td><td>0.5</td><td>0.5</td><td>0.5</td><td>0.5</td><td>0.0</td><td>0.0</td><td>0.0</td><td>0</td><td>0</td><td>0</td></tr><tr><td>4</td><td>2020-01-04</td><td>1</td><td>&quot;D&quot;</td><td>&quot;c&quot;</td><td>&quot;D-c&quot;</td><td>0.41674</td><td>1</td><td>2019-12-05</td><td>2019-11-05</td><td>2019-10-06</td><td>0</td><td>0</td><td>0</td><td>0.0</td><td>0.0</td><td>0.0</td><td>0.0</td><td>0.0</td><td>0.0</td><td>0.0</td><td>0.0</td><td>0.0</td><td>0.0</td><td>0.0</td><td>0.0</td><td>0.5</td><td>0.5</td><td>0.5</td><td>0.5</td><td>0.5</td><td>0.5</td><td>0.5</td><td>0.5</td><td>0.5</td><td>0.5</td><td>0.5</td><td>0.5</td><td>0.5</td><td>0.5</td><td>0.5</td><td>0.0</td><td>0.0</td><td>0.0</td><td>0</td><td>0</td><td>0</td></tr><tr><td>&hellip;</td><td>&hellip;</td><td>&hellip;</td><td>&hellip;</td><td>&hellip;</td><td>&hellip;</td><td>&hellip;</td><td>&hellip;</td><td>&hellip;</td><td>&hellip;</td><td>&hellip;</td><td>&hellip;</td><td>&hellip;</td><td>&hellip;</td><td>&hellip;</td><td>&hellip;</td><td>&hellip;</td><td>&hellip;</td><td>&hellip;</td><td>&hellip;</td><td>&hellip;</td><td>&hellip;</td><td>&hellip;</td><td>&hellip;</td><td>&hellip;</td><td>&hellip;</td><td>&hellip;</td><td>&hellip;</td><td>&hellip;</td><td>&hellip;</td><td>&hellip;</td><td>&hellip;</td><td>&hellip;</td><td>&hellip;</td><td>&hellip;</td><td>&hellip;</td><td>&hellip;</td><td>&hellip;</td><td>&hellip;</td><td>&hellip;</td><td>&hellip;</td><td>&hellip;</td><td>&hellip;</td><td>&hellip;</td><td>&hellip;</td><td>&hellip;</td><td>&hellip;</td></tr><tr><td>2554</td><td>2023-08-27</td><td>2</td><td>&quot;A&quot;</td><td>&quot;c&quot;</td><td>&quot;A-c&quot;</td><td>0.96099</td><td>0</td><td>2023-07-28</td><td>2023-06-28</td><td>2023-05-29</td><td>14</td><td>27</td><td>13</td><td>0.23729</td><td>0.23684</td><td>0.23636</td><td>0.07692</td><td>0.0</td><td>0.0</td><td>0.0</td><td>0.18182</td><td>0.18182</td><td>0.0</td><td>0.0</td><td>0.0</td><td>0.25</td><td>0.24348</td><td>0.25</td><td>0.14286</td><td>0.07143</td><td>0.07143</td><td>0.09091</td><td>0.25</td><td>0.25</td><td>0.2</td><td>0.25</td><td>0.25</td><td>0.20238</td><td>0.14312</td><td>0.18304</td><td>0.44444</td><td>0.58333</td><td>0.375</td><td>4</td><td>7</td><td>3</td></tr><tr><td>2555</td><td>2023-08-28</td><td>1</td><td>&quot;B&quot;</td><td>&quot;c&quot;</td><td>&quot;B-c&quot;</td><td>0.912941</td><td>0</td><td>2023-07-29</td><td>2023-06-29</td><td>2023-05-30</td><td>14</td><td>27</td><td>13</td><td>0.24138</td><td>0.23894</td><td>0.23636</td><td>0.11765</td><td>0.0625</td><td>0.0625</td><td>0.0</td><td>0.2</td><td>0.2</td><td>0.0</td><td>0.0</td><td>0.0</td><td>0.25424</td><td>0.24561</td><td>0.25</td><td>0.16667</td><td>0.11765</td><td>0.11765</td><td>0.09091</td><td>0.27273</td><td>0.27273</td><td>0.16667</td><td>0.25</td><td>0.25</td><td>0.21046</td><td>0.16687</td><td>0.20037</td><td>0.5</td><td>0.61538</td><td>0.375</td><td>5</td><td>8</td><td>3</td></tr><tr><td>2556</td><td>2023-08-28</td><td>2</td><td>&quot;C&quot;</td><td>&quot;d&quot;</td><td>&quot;C-d&quot;</td><td>0.767156</td><td>0</td><td>2023-07-29</td><td>2023-06-29</td><td>2023-05-30</td><td>14</td><td>27</td><td>13</td><td>0.24138</td><td>0.23894</td><td>0.23636</td><td>0.26667</td><td>0.25</td><td>0.25</td><td>0.25</td><td>0.33333</td><td>0.33333</td><td>0.5</td><td>0.5</td><td>0.5</td><td>0.25424</td><td>0.24561</td><td>0.25</td><td>0.3125</td><td>0.30769</td><td>0.30769</td><td>0.30769</td><td>0.38462</td><td>0.38462</td><td>0.6</td><td>0.6</td><td>0.6</td><td>0.28013</td><td>0.28381</td><td>0.27564</td><td>0.44444</td><td>0.61538</td><td>0.44444</td><td>4</td><td>8</td><td>4</td></tr><tr><td>2557</td><td>2023-08-28</td><td>3</td><td>&quot;C&quot;</td><td>&quot;c&quot;</td><td>&quot;C-c&quot;</td><td>0.782733</td><td>0</td><td>2023-07-29</td><td>2023-06-29</td><td>2023-05-30</td><td>14</td><td>27</td><td>13</td><td>0.24138</td><td>0.23894</td><td>0.23636</td><td>0.26667</td><td>0.25</td><td>0.25</td><td>0.0</td><td>0.2</td><td>0.2</td><td>0.0</td><td>0.0</td><td>0.0</td><td>0.25424</td><td>0.24561</td><td>0.25</td><td>0.3125</td><td>0.30769</td><td>0.30769</td><td>0.09091</td><td>0.27273</td><td>0.27273</td><td>0.5</td><td>0.5</td><td>0.5</td><td>0.26395</td><td>0.26335</td><td>0.25962</td><td>0.16667</td><td>0.28571</td><td>0.16667</td><td>1</td><td>2</td><td>1</td></tr><tr><td>2558</td><td>2023-08-28</td><td>4</td><td>&quot;C&quot;</td><td>&quot;e&quot;</td><td>&quot;C-e&quot;</td><td>0.736927</td><td>0</td><td>2023-07-29</td><td>2023-06-29</td><td>2023-05-30</td><td>14</td><td>27</td><td>13</td><td>0.24138</td><td>0.23894</td><td>0.23636</td><td>0.26667</td><td>0.25</td><td>0.25</td><td>0.25</td><td>0.33333</td><td>0.33333</td><td>0.0</td><td>0.5</td><td>0.5</td><td>0.25424</td><td>0.24561</td><td>0.25</td><td>0.3125</td><td>0.30769</td><td>0.30769</td><td>0.4</td><td>0.4</td><td>0.4</td><td>0.25</td><td>0.66667</td><td>0.66667</td><td>0.27609</td><td>0.27665</td><td>0.26648</td><td>0.375</td><td>0.5</td><td>0.28571</td><td>3</td><td>5</td><td>2</td></tr></tbody></table></div>"
      ],
      "text/plain": [
       "shape: (2_559, 47)\n",
       "┌───────┬────────────┬──────────┬────────────┬───┬────────────┬────────────┬───────────┬───────────┐\n",
       "│ index ┆ date       ┆ trans_id ┆ product_ca ┆ … ┆ cred_wtd_6 ┆ cred_wtd_3 ┆ cred_wtd_ ┆ cred_wtd_ │\n",
       "│ ---   ┆ ---        ┆ ---      ┆ t          ┆   ┆ 0_30_Z     ┆ 0_30_n     ┆ 30_60_n   ┆ 60_30_n   │\n",
       "│ u32   ┆ date       ┆ i64      ┆ ---        ┆   ┆ ---        ┆ ---        ┆ ---       ┆ ---       │\n",
       "│       ┆            ┆          ┆ str        ┆   ┆ f64        ┆ i64        ┆ i64       ┆ i64       │\n",
       "╞═══════╪════════════╪══════════╪════════════╪═══╪════════════╪════════════╪═══════════╪═══════════╡\n",
       "│ 0     ┆ 2020-01-01 ┆ 1        ┆ D          ┆ … ┆ 0.0        ┆ 0          ┆ 0         ┆ 0         │\n",
       "│ 1     ┆ 2020-01-02 ┆ 1        ┆ B          ┆ … ┆ 0.0        ┆ 0          ┆ 0         ┆ 0         │\n",
       "│ 2     ┆ 2020-01-03 ┆ 1        ┆ A          ┆ … ┆ 0.0        ┆ 0          ┆ 0         ┆ 0         │\n",
       "│ 3     ┆ 2020-01-03 ┆ 2        ┆ A          ┆ … ┆ 0.0        ┆ 0          ┆ 0         ┆ 0         │\n",
       "│ 4     ┆ 2020-01-04 ┆ 1        ┆ D          ┆ … ┆ 0.0        ┆ 0          ┆ 0         ┆ 0         │\n",
       "│ …     ┆ …          ┆ …        ┆ …          ┆ … ┆ …          ┆ …          ┆ …         ┆ …         │\n",
       "│ 2554  ┆ 2023-08-27 ┆ 2        ┆ A          ┆ … ┆ 0.375      ┆ 4          ┆ 7         ┆ 3         │\n",
       "│ 2555  ┆ 2023-08-28 ┆ 1        ┆ B          ┆ … ┆ 0.375      ┆ 5          ┆ 8         ┆ 3         │\n",
       "│ 2556  ┆ 2023-08-28 ┆ 2        ┆ C          ┆ … ┆ 0.44444    ┆ 4          ┆ 8         ┆ 4         │\n",
       "│ 2557  ┆ 2023-08-28 ┆ 3        ┆ C          ┆ … ┆ 0.16667    ┆ 1          ┆ 2         ┆ 1         │\n",
       "│ 2558  ┆ 2023-08-28 ┆ 4        ┆ C          ┆ … ┆ 0.28571    ┆ 3          ┆ 5         ┆ 2         │\n",
       "└───────┴────────────┴──────────┴────────────┴───┴────────────┴────────────┴───────────┴───────────┘"
      ]
     },
     "execution_count": 3,
     "metadata": {},
     "output_type": "execute_result"
    }
   ],
   "source": [
    "# lf = pl.scan_parquet(\n",
    "#     \"predictables/encoding/tests/ts_testing_df.parquet\"\n",
    "# ).with_row_index()\n",
    "import polars.selectors as cs\n",
    "\n",
    "lf = pl.read_excel(\"ts_testing.xlsx\", sheet_name=\"Values\", engine=\"calamine\").lazy()\n",
    "lf = lf.with_columns(\n",
    "    [\n",
    "        pl.col(col).cast(pl.Float64).round(6).name.keep()\n",
    "        for col in lf.select(cs.float()).columns\n",
    "    ]\n",
    ").with_row_index()\n",
    "# lf.select([pl.col(\"30_days_prior\"), pl.col(\"60_days_prior\")]).select(\n",
    "#     [\n",
    "#         pl.col(\"60_days_prior\").name.keep(),\n",
    "#         pl.date_ranges(pl.col(\"60_days_prior\"), pl.col(\"30_days_prior\"), \"1d\").alias(\n",
    "#             \"date_list\"\n",
    "#         ),\n",
    "#     ]\n",
    "# ).collect().with_columns(\n",
    "#     [pl.col(\"date_list\").list.eval(pl.element().dt.to_string(\"%Y-%m-%d\"))]\n",
    "# )\n",
    "lf.collect().write_parquet(\"ts_testing.parquet\")\n",
    "lf.collect()"
   ]
  },
  {
   "cell_type": "code",
   "execution_count": 4,
   "metadata": {},
   "outputs": [
    {
     "data": {
      "text/html": [
       "<div><style>\n",
       ".dataframe > thead > tr,\n",
       ".dataframe > tbody > tr {\n",
       "  text-align: right;\n",
       "  white-space: pre-wrap;\n",
       "}\n",
       "</style>\n",
       "<small>shape: (2_559, 5)</small><table border=\"1\" class=\"dataframe\"><thead><tr><th>index</th><th>date</th><th>rolling_hit</th><th>total_30_30_sum</th><th>diff</th></tr><tr><td>u32</td><td>date</td><td>f64</td><td>i64</td><td>f64</td></tr></thead><tbody><tr><td>0</td><td>2020-01-01</td><td>0.0</td><td>0</td><td>0.0</td></tr><tr><td>1</td><td>2020-01-02</td><td>0.0</td><td>0</td><td>0.0</td></tr><tr><td>2</td><td>2020-01-03</td><td>0.0</td><td>0</td><td>0.0</td></tr><tr><td>3</td><td>2020-01-03</td><td>0.0</td><td>0</td><td>0.0</td></tr><tr><td>4</td><td>2020-01-04</td><td>0.0</td><td>0</td><td>0.0</td></tr><tr><td>&hellip;</td><td>&hellip;</td><td>&hellip;</td><td>&hellip;</td><td>&hellip;</td></tr><tr><td>2554</td><td>2023-08-27</td><td>14.0</td><td>14</td><td>0.0</td></tr><tr><td>2555</td><td>2023-08-28</td><td>14.0</td><td>14</td><td>0.0</td></tr><tr><td>2556</td><td>2023-08-28</td><td>14.0</td><td>14</td><td>0.0</td></tr><tr><td>2557</td><td>2023-08-28</td><td>14.0</td><td>14</td><td>0.0</td></tr><tr><td>2558</td><td>2023-08-28</td><td>14.0</td><td>14</td><td>0.0</td></tr></tbody></table></div>"
      ],
      "text/plain": [
       "shape: (2_559, 5)\n",
       "┌───────┬────────────┬─────────────┬─────────────────┬──────┐\n",
       "│ index ┆ date       ┆ rolling_hit ┆ total_30_30_sum ┆ diff │\n",
       "│ ---   ┆ ---        ┆ ---         ┆ ---             ┆ ---  │\n",
       "│ u32   ┆ date       ┆ f64         ┆ i64             ┆ f64  │\n",
       "╞═══════╪════════════╪═════════════╪═════════════════╪══════╡\n",
       "│ 0     ┆ 2020-01-01 ┆ 0.0         ┆ 0               ┆ 0.0  │\n",
       "│ 1     ┆ 2020-01-02 ┆ 0.0         ┆ 0               ┆ 0.0  │\n",
       "│ 2     ┆ 2020-01-03 ┆ 0.0         ┆ 0               ┆ 0.0  │\n",
       "│ 3     ┆ 2020-01-03 ┆ 0.0         ┆ 0               ┆ 0.0  │\n",
       "│ 4     ┆ 2020-01-04 ┆ 0.0         ┆ 0               ┆ 0.0  │\n",
       "│ …     ┆ …          ┆ …           ┆ …               ┆ …    │\n",
       "│ 2554  ┆ 2023-08-27 ┆ 14.0        ┆ 14              ┆ 0.0  │\n",
       "│ 2555  ┆ 2023-08-28 ┆ 14.0        ┆ 14              ┆ 0.0  │\n",
       "│ 2556  ┆ 2023-08-28 ┆ 14.0        ┆ 14              ┆ 0.0  │\n",
       "│ 2557  ┆ 2023-08-28 ┆ 14.0        ┆ 14              ┆ 0.0  │\n",
       "│ 2558  ┆ 2023-08-28 ┆ 14.0        ┆ 14              ┆ 0.0  │\n",
       "└───────┴────────────┴─────────────┴─────────────────┴──────┘"
      ]
     },
     "execution_count": 4,
     "metadata": {},
     "output_type": "execute_result"
    }
   ],
   "source": [
    "from predictables.encoding.src.lagged_mean_encoding.sum.format_columns import (\n",
    "    _format_date_col,\n",
    "    _format_value_col,\n",
    ")\n",
    "from predictables.encoding.src.lagged_mean_encoding.sum.get_date_list_col import (\n",
    "    _get_date_list_col,\n",
    ")\n",
    "\n",
    "index_col, date_col, x_col, offset, window = \"index\", \"date\", \"hit\", 30, 30\n",
    "\n",
    "lf_order = lf.select([index_col, date_col])\n",
    "\n",
    "lf_ = lf.select([pl.col(index_col), pl.col(date_col), pl.col(x_col)])\n",
    "\n",
    "lf_ = _format_date_col(lf_, date_col)\n",
    "lf_ = _format_value_col(lf_, x_col)\n",
    "\n",
    "lf_ = _get_date_list_col(lf_, date_col, offset, window)  # .with_columns([\n",
    "#     pl.col('date_list').list.min().alias('min_date'),\n",
    "#     pl.col('date_list').list.max().alias('max_date'),\n",
    "# ]).with_columns([\n",
    "#     (pl.col(date_col) - pl.col('min_date')).alias('date - min'),\n",
    "#     (pl.col(date_col) - pl.col('max_date')).alias('max - date')\n",
    "# ])\n",
    "mapping = (\n",
    "    lf_.select([date_col, x_col])\n",
    "    .group_by(date_col)\n",
    "    .agg(pl.col(x_col).sum())\n",
    "    .sort(date_col)\n",
    ")\n",
    "\n",
    "assert (\n",
    "    mapping.join(\n",
    "        lf.select([\"date\", \"hit\"]).group_by(\"date\").agg(pl.col(\"hit\").sum()),\n",
    "        how=\"left\",\n",
    "        on=\"date\",\n",
    "    )\n",
    "    .collect()\n",
    "    .with_columns(\n",
    "        [(pl.col(\"hit\") - pl.col(\"hit_right\").cast(pl.Float64)).alias(\"diff\")]\n",
    "    )\n",
    "    .filter(pl.col(\"diff\") != 0)\n",
    "    .shape[0]\n",
    "    == 0\n",
    ")\n",
    "\n",
    "# mapping.join(lf_.select(['date', 'date_list', 'hit']).explode('date_list').group_by('date').agg(pl.col('hit').sum().alias('hitsum')), how='left', left_on='date', right_on=\"date\").collect()\n",
    "# lf_.collect()\n",
    "# mapping.collect()\n",
    "\n",
    "lf_ = (\n",
    "    lf_.explode(\"date_list\")\n",
    "    .join(mapping, how=\"left\", left_on=\"date_list\", right_on=date_col)\n",
    "    .fill_null(0)\n",
    "    .drop([\"date_list\", \"min_date\", \"max_date\"])\n",
    "    .group_by([index_col, date_col])\n",
    "    .agg(pl.col(f\"{x_col}_right\").sum().alias(f\"rolling_{x_col}\"))\n",
    "    .sort(\"index\")\n",
    ")\n",
    "\n",
    "lf_.join(\n",
    "    lf.select([\"index\", \"total_30_30_sum\"]), how=\"left\", on=\"index\"\n",
    ").collect().with_columns(\n",
    "    [(pl.col(\"rolling_hit\") - pl.col(\"total_30_30_sum\").cast(pl.Float64)).alias(\"diff\")]\n",
    ")  # .filter(pl.col('diff') != 0)"
   ]
  },
  {
   "cell_type": "code",
   "execution_count": 5,
   "metadata": {},
   "outputs": [],
   "source": [
    "lf1 = (\n",
    "    DynamicRollingCount()\n",
    "    .lf(lf)\n",
    "    .x_col(\"hit\")\n",
    "    .date_col(\"date\")\n",
    "    .index_col(\"index\")\n",
    "    # .cat_col(\"product_cat\")\n",
    "    .offset(30)\n",
    "    .window(30)\n",
    "    .rejoin(True)\n",
    "    .op(\"ROLLING_COUNT\")\n",
    ").run()"
   ]
  },
  {
   "cell_type": "code",
   "execution_count": 6,
   "metadata": {},
   "outputs": [
    {
     "data": {
      "text/html": [
       "<div><style>\n",
       ".dataframe > thead > tr,\n",
       ".dataframe > tbody > tr {\n",
       "  text-align: right;\n",
       "  white-space: pre-wrap;\n",
       "}\n",
       "</style>\n",
       "<small>shape: (2_559, 49)</small><table border=\"1\" class=\"dataframe\"><thead><tr><th>index</th><th>date</th><th>trans_id</th><th>product_cat</th><th>product_subcat</th><th>product_code</th><th>prob</th><th>hit</th><th>30_days_prior</th><th>60_days_prior</th><th>90_days_prior</th><th>total_30_30_sum</th><th>total_30_60_sum</th><th>total_60_30_sum</th><th>total_30_30_average</th><th>total_30_60_average</th><th>total_60_30_average</th><th>cat_30_30_average</th><th>cat_30_60_average</th><th>cat_60_30_average</th><th>subcat_30_30_average</th><th>subcat_30_60_average</th><th>subcat_60_30_average</th><th>code_30_30_average</th><th>code_30_60_average</th><th>code_60_30_average</th><th>total_30_30_average_laplace(1)_smoothed</th><th>total_30_60_average_laplace(1)_smoothed</th><th>total_60_30_average_laplace(1)_smoothed</th><th>cat_30_30_average_laplace(1)_smoothed</th><th>cat_30_60_average_laplace(1)_smoothed</th><th>cat_60_30_average_laplace(1)_smoothed</th><th>subcat_30_30_average_laplace(1)_smoothed</th><th>subcat_30_60_average_laplace(1)_smoothed</th><th>subcat_60_30_average_laplace(1)_smoothed</th><th>code_30_30_average_laplace(1)_smoothed</th><th>code_30_60_average_laplace(1)_smoothed</th><th>code_60_30_average_laplace(1)_smoothed</th><th>cred_wtd_30_30_average</th><th>cred_wtd_30_60_average</th><th>cred_wtd_60_30_average</th><th>cred_wtd_30_30_Z</th><th>cred_wtd_30_60_Z</th><th>cred_wtd_60_30_Z</th><th>cred_wtd_30_30_n</th><th>cred_wtd_30_60_n</th><th>cred_wtd_60_30_n</th><th>count</th><th>rolling_average</th></tr><tr><td>u32</td><td>date</td><td>i64</td><td>str</td><td>str</td><td>str</td><td>f64</td><td>i64</td><td>date</td><td>date</td><td>date</td><td>i64</td><td>i64</td><td>i64</td><td>f64</td><td>f64</td><td>f64</td><td>f64</td><td>f64</td><td>f64</td><td>f64</td><td>f64</td><td>f64</td><td>f64</td><td>f64</td><td>f64</td><td>f64</td><td>f64</td><td>f64</td><td>f64</td><td>f64</td><td>f64</td><td>f64</td><td>f64</td><td>f64</td><td>f64</td><td>f64</td><td>f64</td><td>f64</td><td>f64</td><td>f64</td><td>f64</td><td>f64</td><td>f64</td><td>i64</td><td>i64</td><td>i64</td><td>i32</td><td>f64</td></tr></thead><tbody><tr><td>0</td><td>2020-01-01</td><td>1</td><td>&quot;D&quot;</td><td>&quot;f&quot;</td><td>&quot;D-f&quot;</td><td>0.362041</td><td>1</td><td>2019-12-02</td><td>2019-11-02</td><td>2019-10-03</td><td>0</td><td>0</td><td>0</td><td>0.0</td><td>0.0</td><td>0.0</td><td>0.0</td><td>0.0</td><td>0.0</td><td>0.0</td><td>0.0</td><td>0.0</td><td>0.0</td><td>0.0</td><td>0.0</td><td>0.5</td><td>0.5</td><td>0.5</td><td>0.5</td><td>0.5</td><td>0.5</td><td>0.5</td><td>0.5</td><td>0.5</td><td>0.5</td><td>0.5</td><td>0.5</td><td>0.5</td><td>0.5</td><td>0.5</td><td>0.0</td><td>0.0</td><td>0.0</td><td>0</td><td>0</td><td>0</td><td>1</td><td>0.0</td></tr><tr><td>1</td><td>2020-01-02</td><td>1</td><td>&quot;B&quot;</td><td>&quot;f&quot;</td><td>&quot;B-f&quot;</td><td>0.669999</td><td>1</td><td>2019-12-03</td><td>2019-11-03</td><td>2019-10-04</td><td>0</td><td>0</td><td>0</td><td>0.0</td><td>0.0</td><td>0.0</td><td>0.0</td><td>0.0</td><td>0.0</td><td>0.0</td><td>0.0</td><td>0.0</td><td>0.0</td><td>0.0</td><td>0.0</td><td>0.5</td><td>0.5</td><td>0.5</td><td>0.5</td><td>0.5</td><td>0.5</td><td>0.5</td><td>0.5</td><td>0.5</td><td>0.5</td><td>0.5</td><td>0.5</td><td>0.5</td><td>0.5</td><td>0.5</td><td>0.0</td><td>0.0</td><td>0.0</td><td>0</td><td>0</td><td>0</td><td>1</td><td>0.0</td></tr><tr><td>2</td><td>2020-01-03</td><td>1</td><td>&quot;A&quot;</td><td>&quot;d&quot;</td><td>&quot;A-d&quot;</td><td>0.795662</td><td>0</td><td>2019-12-04</td><td>2019-11-04</td><td>2019-10-05</td><td>0</td><td>0</td><td>0</td><td>0.0</td><td>0.0</td><td>0.0</td><td>0.0</td><td>0.0</td><td>0.0</td><td>0.0</td><td>0.0</td><td>0.0</td><td>0.0</td><td>0.0</td><td>0.0</td><td>0.5</td><td>0.5</td><td>0.5</td><td>0.5</td><td>0.5</td><td>0.5</td><td>0.5</td><td>0.5</td><td>0.5</td><td>0.5</td><td>0.5</td><td>0.5</td><td>0.5</td><td>0.5</td><td>0.5</td><td>0.0</td><td>0.0</td><td>0.0</td><td>0</td><td>0</td><td>0</td><td>1</td><td>0.0</td></tr><tr><td>3</td><td>2020-01-03</td><td>2</td><td>&quot;A&quot;</td><td>&quot;e&quot;</td><td>&quot;A-e&quot;</td><td>0.764309</td><td>1</td><td>2019-12-04</td><td>2019-11-04</td><td>2019-10-05</td><td>0</td><td>0</td><td>0</td><td>0.0</td><td>0.0</td><td>0.0</td><td>0.0</td><td>0.0</td><td>0.0</td><td>0.0</td><td>0.0</td><td>0.0</td><td>0.0</td><td>0.0</td><td>0.0</td><td>0.5</td><td>0.5</td><td>0.5</td><td>0.5</td><td>0.5</td><td>0.5</td><td>0.5</td><td>0.5</td><td>0.5</td><td>0.5</td><td>0.5</td><td>0.5</td><td>0.5</td><td>0.5</td><td>0.5</td><td>0.0</td><td>0.0</td><td>0.0</td><td>0</td><td>0</td><td>0</td><td>1</td><td>0.0</td></tr><tr><td>4</td><td>2020-01-04</td><td>1</td><td>&quot;D&quot;</td><td>&quot;c&quot;</td><td>&quot;D-c&quot;</td><td>0.41674</td><td>1</td><td>2019-12-05</td><td>2019-11-05</td><td>2019-10-06</td><td>0</td><td>0</td><td>0</td><td>0.0</td><td>0.0</td><td>0.0</td><td>0.0</td><td>0.0</td><td>0.0</td><td>0.0</td><td>0.0</td><td>0.0</td><td>0.0</td><td>0.0</td><td>0.0</td><td>0.5</td><td>0.5</td><td>0.5</td><td>0.5</td><td>0.5</td><td>0.5</td><td>0.5</td><td>0.5</td><td>0.5</td><td>0.5</td><td>0.5</td><td>0.5</td><td>0.5</td><td>0.5</td><td>0.5</td><td>0.0</td><td>0.0</td><td>0.0</td><td>0</td><td>0</td><td>0</td><td>1</td><td>0.0</td></tr><tr><td>&hellip;</td><td>&hellip;</td><td>&hellip;</td><td>&hellip;</td><td>&hellip;</td><td>&hellip;</td><td>&hellip;</td><td>&hellip;</td><td>&hellip;</td><td>&hellip;</td><td>&hellip;</td><td>&hellip;</td><td>&hellip;</td><td>&hellip;</td><td>&hellip;</td><td>&hellip;</td><td>&hellip;</td><td>&hellip;</td><td>&hellip;</td><td>&hellip;</td><td>&hellip;</td><td>&hellip;</td><td>&hellip;</td><td>&hellip;</td><td>&hellip;</td><td>&hellip;</td><td>&hellip;</td><td>&hellip;</td><td>&hellip;</td><td>&hellip;</td><td>&hellip;</td><td>&hellip;</td><td>&hellip;</td><td>&hellip;</td><td>&hellip;</td><td>&hellip;</td><td>&hellip;</td><td>&hellip;</td><td>&hellip;</td><td>&hellip;</td><td>&hellip;</td><td>&hellip;</td><td>&hellip;</td><td>&hellip;</td><td>&hellip;</td><td>&hellip;</td><td>&hellip;</td><td>&hellip;</td><td>&hellip;</td></tr><tr><td>2554</td><td>2023-08-27</td><td>2</td><td>&quot;A&quot;</td><td>&quot;c&quot;</td><td>&quot;A-c&quot;</td><td>0.96099</td><td>0</td><td>2023-07-28</td><td>2023-06-28</td><td>2023-05-29</td><td>14</td><td>27</td><td>13</td><td>0.23729</td><td>0.23684</td><td>0.23636</td><td>0.07692</td><td>0.0</td><td>0.0</td><td>0.0</td><td>0.18182</td><td>0.18182</td><td>0.0</td><td>0.0</td><td>0.0</td><td>0.25</td><td>0.24348</td><td>0.25</td><td>0.14286</td><td>0.07143</td><td>0.07143</td><td>0.09091</td><td>0.25</td><td>0.25</td><td>0.2</td><td>0.25</td><td>0.25</td><td>0.20238</td><td>0.14312</td><td>0.18304</td><td>0.44444</td><td>0.58333</td><td>0.375</td><td>4</td><td>7</td><td>3</td><td>1</td><td>0.23729</td></tr><tr><td>2555</td><td>2023-08-28</td><td>1</td><td>&quot;B&quot;</td><td>&quot;c&quot;</td><td>&quot;B-c&quot;</td><td>0.912941</td><td>0</td><td>2023-07-29</td><td>2023-06-29</td><td>2023-05-30</td><td>14</td><td>27</td><td>13</td><td>0.24138</td><td>0.23894</td><td>0.23636</td><td>0.11765</td><td>0.0625</td><td>0.0625</td><td>0.0</td><td>0.2</td><td>0.2</td><td>0.0</td><td>0.0</td><td>0.0</td><td>0.25424</td><td>0.24561</td><td>0.25</td><td>0.16667</td><td>0.11765</td><td>0.11765</td><td>0.09091</td><td>0.27273</td><td>0.27273</td><td>0.16667</td><td>0.25</td><td>0.25</td><td>0.21046</td><td>0.16687</td><td>0.20037</td><td>0.5</td><td>0.61538</td><td>0.375</td><td>5</td><td>8</td><td>3</td><td>1</td><td>0.24138</td></tr><tr><td>2556</td><td>2023-08-28</td><td>2</td><td>&quot;C&quot;</td><td>&quot;d&quot;</td><td>&quot;C-d&quot;</td><td>0.767156</td><td>0</td><td>2023-07-29</td><td>2023-06-29</td><td>2023-05-30</td><td>14</td><td>27</td><td>13</td><td>0.24138</td><td>0.23894</td><td>0.23636</td><td>0.26667</td><td>0.25</td><td>0.25</td><td>0.25</td><td>0.33333</td><td>0.33333</td><td>0.5</td><td>0.5</td><td>0.5</td><td>0.25424</td><td>0.24561</td><td>0.25</td><td>0.3125</td><td>0.30769</td><td>0.30769</td><td>0.30769</td><td>0.38462</td><td>0.38462</td><td>0.6</td><td>0.6</td><td>0.6</td><td>0.28013</td><td>0.28381</td><td>0.27564</td><td>0.44444</td><td>0.61538</td><td>0.44444</td><td>4</td><td>8</td><td>4</td><td>1</td><td>0.24138</td></tr><tr><td>2557</td><td>2023-08-28</td><td>3</td><td>&quot;C&quot;</td><td>&quot;c&quot;</td><td>&quot;C-c&quot;</td><td>0.782733</td><td>0</td><td>2023-07-29</td><td>2023-06-29</td><td>2023-05-30</td><td>14</td><td>27</td><td>13</td><td>0.24138</td><td>0.23894</td><td>0.23636</td><td>0.26667</td><td>0.25</td><td>0.25</td><td>0.0</td><td>0.2</td><td>0.2</td><td>0.0</td><td>0.0</td><td>0.0</td><td>0.25424</td><td>0.24561</td><td>0.25</td><td>0.3125</td><td>0.30769</td><td>0.30769</td><td>0.09091</td><td>0.27273</td><td>0.27273</td><td>0.5</td><td>0.5</td><td>0.5</td><td>0.26395</td><td>0.26335</td><td>0.25962</td><td>0.16667</td><td>0.28571</td><td>0.16667</td><td>1</td><td>2</td><td>1</td><td>1</td><td>0.24138</td></tr><tr><td>2558</td><td>2023-08-28</td><td>4</td><td>&quot;C&quot;</td><td>&quot;e&quot;</td><td>&quot;C-e&quot;</td><td>0.736927</td><td>0</td><td>2023-07-29</td><td>2023-06-29</td><td>2023-05-30</td><td>14</td><td>27</td><td>13</td><td>0.24138</td><td>0.23894</td><td>0.23636</td><td>0.26667</td><td>0.25</td><td>0.25</td><td>0.25</td><td>0.33333</td><td>0.33333</td><td>0.0</td><td>0.5</td><td>0.5</td><td>0.25424</td><td>0.24561</td><td>0.25</td><td>0.3125</td><td>0.30769</td><td>0.30769</td><td>0.4</td><td>0.4</td><td>0.4</td><td>0.25</td><td>0.66667</td><td>0.66667</td><td>0.27609</td><td>0.27665</td><td>0.26648</td><td>0.375</td><td>0.5</td><td>0.28571</td><td>3</td><td>5</td><td>2</td><td>1</td><td>0.24138</td></tr></tbody></table></div>"
      ],
      "text/plain": [
       "shape: (2_559, 49)\n",
       "┌───────┬────────────┬──────────┬─────────────┬───┬─────────────┬─────────────┬───────┬────────────┐\n",
       "│ index ┆ date       ┆ trans_id ┆ product_cat ┆ … ┆ cred_wtd_30 ┆ cred_wtd_60 ┆ count ┆ rolling_av │\n",
       "│ ---   ┆ ---        ┆ ---      ┆ ---         ┆   ┆ _60_n       ┆ _30_n       ┆ ---   ┆ erage      │\n",
       "│ u32   ┆ date       ┆ i64      ┆ str         ┆   ┆ ---         ┆ ---         ┆ i32   ┆ ---        │\n",
       "│       ┆            ┆          ┆             ┆   ┆ i64         ┆ i64         ┆       ┆ f64        │\n",
       "╞═══════╪════════════╪══════════╪═════════════╪═══╪═════════════╪═════════════╪═══════╪════════════╡\n",
       "│ 0     ┆ 2020-01-01 ┆ 1        ┆ D           ┆ … ┆ 0           ┆ 0           ┆ 1     ┆ 0.0        │\n",
       "│ 1     ┆ 2020-01-02 ┆ 1        ┆ B           ┆ … ┆ 0           ┆ 0           ┆ 1     ┆ 0.0        │\n",
       "│ 2     ┆ 2020-01-03 ┆ 1        ┆ A           ┆ … ┆ 0           ┆ 0           ┆ 1     ┆ 0.0        │\n",
       "│ 3     ┆ 2020-01-03 ┆ 2        ┆ A           ┆ … ┆ 0           ┆ 0           ┆ 1     ┆ 0.0        │\n",
       "│ 4     ┆ 2020-01-04 ┆ 1        ┆ D           ┆ … ┆ 0           ┆ 0           ┆ 1     ┆ 0.0        │\n",
       "│ …     ┆ …          ┆ …        ┆ …           ┆ … ┆ …           ┆ …           ┆ …     ┆ …          │\n",
       "│ 2554  ┆ 2023-08-27 ┆ 2        ┆ A           ┆ … ┆ 7           ┆ 3           ┆ 1     ┆ 0.23729    │\n",
       "│ 2555  ┆ 2023-08-28 ┆ 1        ┆ B           ┆ … ┆ 8           ┆ 3           ┆ 1     ┆ 0.24138    │\n",
       "│ 2556  ┆ 2023-08-28 ┆ 2        ┆ C           ┆ … ┆ 8           ┆ 4           ┆ 1     ┆ 0.24138    │\n",
       "│ 2557  ┆ 2023-08-28 ┆ 3        ┆ C           ┆ … ┆ 2           ┆ 1           ┆ 1     ┆ 0.24138    │\n",
       "│ 2558  ┆ 2023-08-28 ┆ 4        ┆ C           ┆ … ┆ 5           ┆ 2           ┆ 1     ┆ 0.24138    │\n",
       "└───────┴────────────┴──────────┴─────────────┴───┴─────────────┴─────────────┴───────┴────────────┘"
      ]
     },
     "execution_count": 6,
     "metadata": {},
     "output_type": "execute_result"
    }
   ],
   "source": [
    "lf2 = (\n",
    "    DynamicRollingSum()\n",
    "    .lf(lf1)\n",
    "    .x_col(\"hit\")\n",
    "    .date_col(\"date\")\n",
    "    .index_col(\"index\")\n",
    "    # .cat_col(\"product_cat\")\n",
    "    .offset(30)\n",
    "    .window(30)\n",
    "    .rejoin(True)\n",
    "    .op(\"ROLLING_SUM\")\n",
    ").run()\n",
    "\n",
    "lf2 = lf2.with_columns(\n",
    "    [\n",
    "        pl.when(pl.col(\"ROLLING_COUNT(count[ALL])[lag:30/win:30]\") == 0)\n",
    "        .then(0)\n",
    "        .otherwise(\n",
    "            (\n",
    "                pl.col(\"ROLLING_SUM(hit[ALL])[lag:30/win:30]\")\n",
    "                / pl.col(\"ROLLING_COUNT(count[ALL])[lag:30/win:30]\")\n",
    "            ).round(5)\n",
    "        )\n",
    "        .alias(\"rolling_average\")\n",
    "    ]\n",
    ").drop(\n",
    "    [\"ROLLING_COUNT(count[ALL])[lag:30/win:30]\", \"ROLLING_SUM(hit[ALL])[lag:30/win:30]\"]\n",
    ")\n",
    "# .with_columns([\n",
    "#     (pl.col('total_30_30_average') - pl.col('rolling_average')).alias('diff')\n",
    "# ]).filter(pl.col('diff') != 0)\n",
    "\n",
    "lf2.collect()"
   ]
  },
  {
   "cell_type": "code",
   "execution_count": 7,
   "metadata": {},
   "outputs": [
    {
     "data": {
      "text/html": [
       "<div><style>\n",
       ".dataframe > thead > tr,\n",
       ".dataframe > tbody > tr {\n",
       "  text-align: right;\n",
       "  white-space: pre-wrap;\n",
       "}\n",
       "</style>\n",
       "<small>shape: (2_559, 5)</small><table border=\"1\" class=\"dataframe\"><thead><tr><th>index</th><th>date</th><th>hit</th><th>total_30_30_average</th><th>rolling_average</th></tr><tr><td>u32</td><td>date</td><td>i64</td><td>f64</td><td>f64</td></tr></thead><tbody><tr><td>0</td><td>2020-01-01</td><td>1</td><td>0.0</td><td>0.0</td></tr><tr><td>1</td><td>2020-01-02</td><td>1</td><td>0.0</td><td>0.0</td></tr><tr><td>2</td><td>2020-01-03</td><td>0</td><td>0.0</td><td>0.0</td></tr><tr><td>3</td><td>2020-01-03</td><td>1</td><td>0.0</td><td>0.0</td></tr><tr><td>4</td><td>2020-01-04</td><td>1</td><td>0.0</td><td>0.0</td></tr><tr><td>&hellip;</td><td>&hellip;</td><td>&hellip;</td><td>&hellip;</td><td>&hellip;</td></tr><tr><td>2554</td><td>2023-08-27</td><td>0</td><td>0.23729</td><td>0.23729</td></tr><tr><td>2555</td><td>2023-08-28</td><td>0</td><td>0.24138</td><td>0.24138</td></tr><tr><td>2556</td><td>2023-08-28</td><td>0</td><td>0.24138</td><td>0.24138</td></tr><tr><td>2557</td><td>2023-08-28</td><td>0</td><td>0.24138</td><td>0.24138</td></tr><tr><td>2558</td><td>2023-08-28</td><td>0</td><td>0.24138</td><td>0.24138</td></tr></tbody></table></div>"
      ],
      "text/plain": [
       "shape: (2_559, 5)\n",
       "┌───────┬────────────┬─────┬─────────────────────┬─────────────────┐\n",
       "│ index ┆ date       ┆ hit ┆ total_30_30_average ┆ rolling_average │\n",
       "│ ---   ┆ ---        ┆ --- ┆ ---                 ┆ ---             │\n",
       "│ u32   ┆ date       ┆ i64 ┆ f64                 ┆ f64             │\n",
       "╞═══════╪════════════╪═════╪═════════════════════╪═════════════════╡\n",
       "│ 0     ┆ 2020-01-01 ┆ 1   ┆ 0.0                 ┆ 0.0             │\n",
       "│ 1     ┆ 2020-01-02 ┆ 1   ┆ 0.0                 ┆ 0.0             │\n",
       "│ 2     ┆ 2020-01-03 ┆ 0   ┆ 0.0                 ┆ 0.0             │\n",
       "│ 3     ┆ 2020-01-03 ┆ 1   ┆ 0.0                 ┆ 0.0             │\n",
       "│ 4     ┆ 2020-01-04 ┆ 1   ┆ 0.0                 ┆ 0.0             │\n",
       "│ …     ┆ …          ┆ …   ┆ …                   ┆ …               │\n",
       "│ 2554  ┆ 2023-08-27 ┆ 0   ┆ 0.23729             ┆ 0.23729         │\n",
       "│ 2555  ┆ 2023-08-28 ┆ 0   ┆ 0.24138             ┆ 0.24138         │\n",
       "│ 2556  ┆ 2023-08-28 ┆ 0   ┆ 0.24138             ┆ 0.24138         │\n",
       "│ 2557  ┆ 2023-08-28 ┆ 0   ┆ 0.24138             ┆ 0.24138         │\n",
       "│ 2558  ┆ 2023-08-28 ┆ 0   ┆ 0.24138             ┆ 0.24138         │\n",
       "└───────┴────────────┴─────┴─────────────────────┴─────────────────┘"
      ]
     },
     "execution_count": 7,
     "metadata": {},
     "output_type": "execute_result"
    }
   ],
   "source": [
    "lf2.select(\n",
    "    [\n",
    "        pl.col(\"index\"),\n",
    "        pl.col(\"date\"),\n",
    "        pl.col(\"hit\"),\n",
    "        pl.col(\"total_30_30_average\"),\n",
    "        # pl.col('ROLLING_COUNT(count[ALL])[lag:30/win:30]'),\n",
    "        # pl.col('ROLLING_SUM(hit[ALL])[lag:30/win:30]'),\n",
    "        pl.col(\"rolling_average\"),\n",
    "    ]\n",
    ").collect()"
   ]
  },
  {
   "cell_type": "code",
   "execution_count": 8,
   "metadata": {},
   "outputs": [
    {
     "data": {
      "text/html": [
       "<div><style>\n",
       ".dataframe > thead > tr,\n",
       ".dataframe > tbody > tr {\n",
       "  text-align: right;\n",
       "  white-space: pre-wrap;\n",
       "}\n",
       "</style>\n",
       "<small>shape: (2_559, 5)</small><table border=\"1\" class=\"dataframe\"><thead><tr><th>index</th><th>date</th><th>hit</th><th>subcat_30_30_average</th><th>ROLLING_MEAN(hit[product_subcat])[lag:30/win:30]</th></tr><tr><td>u32</td><td>date</td><td>i64</td><td>f64</td><td>f64</td></tr></thead><tbody><tr><td>0</td><td>2020-01-01</td><td>1</td><td>0.0</td><td>0.0</td></tr><tr><td>1</td><td>2020-01-02</td><td>1</td><td>0.0</td><td>0.0</td></tr><tr><td>2</td><td>2020-01-03</td><td>0</td><td>0.0</td><td>0.0</td></tr><tr><td>3</td><td>2020-01-03</td><td>1</td><td>0.0</td><td>0.0</td></tr><tr><td>4</td><td>2020-01-04</td><td>1</td><td>0.0</td><td>0.0</td></tr><tr><td>&hellip;</td><td>&hellip;</td><td>&hellip;</td><td>&hellip;</td><td>&hellip;</td></tr><tr><td>2554</td><td>2023-08-27</td><td>0</td><td>0.0</td><td>0.0</td></tr><tr><td>2555</td><td>2023-08-28</td><td>0</td><td>0.0</td><td>0.0</td></tr><tr><td>2556</td><td>2023-08-28</td><td>0</td><td>0.25</td><td>0.25</td></tr><tr><td>2557</td><td>2023-08-28</td><td>0</td><td>0.0</td><td>0.0</td></tr><tr><td>2558</td><td>2023-08-28</td><td>0</td><td>0.25</td><td>0.25</td></tr></tbody></table></div>"
      ],
      "text/plain": [
       "shape: (2_559, 5)\n",
       "┌───────┬────────────┬─────┬──────────────────────┬───────────────────────────────────┐\n",
       "│ index ┆ date       ┆ hit ┆ subcat_30_30_average ┆ ROLLING_MEAN(hit[product_subcat]… │\n",
       "│ ---   ┆ ---        ┆ --- ┆ ---                  ┆ ---                               │\n",
       "│ u32   ┆ date       ┆ i64 ┆ f64                  ┆ f64                               │\n",
       "╞═══════╪════════════╪═════╪══════════════════════╪═══════════════════════════════════╡\n",
       "│ 0     ┆ 2020-01-01 ┆ 1   ┆ 0.0                  ┆ 0.0                               │\n",
       "│ 1     ┆ 2020-01-02 ┆ 1   ┆ 0.0                  ┆ 0.0                               │\n",
       "│ 2     ┆ 2020-01-03 ┆ 0   ┆ 0.0                  ┆ 0.0                               │\n",
       "│ 3     ┆ 2020-01-03 ┆ 1   ┆ 0.0                  ┆ 0.0                               │\n",
       "│ 4     ┆ 2020-01-04 ┆ 1   ┆ 0.0                  ┆ 0.0                               │\n",
       "│ …     ┆ …          ┆ …   ┆ …                    ┆ …                                 │\n",
       "│ 2554  ┆ 2023-08-27 ┆ 0   ┆ 0.0                  ┆ 0.0                               │\n",
       "│ 2555  ┆ 2023-08-28 ┆ 0   ┆ 0.0                  ┆ 0.0                               │\n",
       "│ 2556  ┆ 2023-08-28 ┆ 0   ┆ 0.25                 ┆ 0.25                              │\n",
       "│ 2557  ┆ 2023-08-28 ┆ 0   ┆ 0.0                  ┆ 0.0                               │\n",
       "│ 2558  ┆ 2023-08-28 ┆ 0   ┆ 0.25                 ┆ 0.25                              │\n",
       "└───────┴────────────┴─────┴──────────────────────┴───────────────────────────────────┘"
      ]
     },
     "execution_count": 8,
     "metadata": {},
     "output_type": "execute_result"
    }
   ],
   "source": [
    "lf3 = (\n",
    "    DynamicRollingMean()\n",
    "    .lf(lf2)\n",
    "    .numerator_col(\"hit\")\n",
    "    .denominator_col(\"count\")\n",
    "    .date_col(\"date\")\n",
    "    .index_col(\"index\")\n",
    "    .cat_col(\"product_subcat\")\n",
    "    .offset(30)\n",
    "    .window(30)\n",
    "    .rejoin(True)\n",
    "    .op(\"ROLLING_MEAN\")\n",
    ").run()\n",
    "\n",
    "lf3.select(\n",
    "    [\n",
    "        pl.col(\"index\"),\n",
    "        pl.col(\"date\"),\n",
    "        pl.col(\"hit\"),\n",
    "        pl.col(\"subcat_30_30_average\"),\n",
    "        pl.col(\"ROLLING_MEAN(hit[product_subcat])[lag:30/win:30]\"),\n",
    "    ]\n",
    ").collect()"
   ]
  }
 ],
 "metadata": {
  "kernelspec": {
   "display_name": ".venv",
   "language": "python",
   "name": "python3"
  },
  "language_info": {
   "codemirror_mode": {
    "name": "ipython",
    "version": 3
   },
   "file_extension": ".py",
   "mimetype": "text/x-python",
   "name": "python",
   "nbconvert_exporter": "python",
   "pygments_lexer": "ipython3",
   "version": "3.11.8"
  },
  "orig_nbformat": 4
 },
 "nbformat": 4,
 "nbformat_minor": 2
}
