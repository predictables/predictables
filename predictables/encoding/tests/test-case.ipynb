{
 "cells": [
  {
   "cell_type": "code",
   "execution_count": 2,
   "metadata": {},
   "outputs": [
    {
     "data": {
      "text/plain": [
       "'1.26.4'"
      ]
     },
     "execution_count": 2,
     "metadata": {},
     "output_type": "execute_result"
    }
   ],
   "source": [
    "import numpy as np\n",
    "np.__version__"
   ]
  },
  {
   "cell_type": "code",
   "execution_count": 1,
   "metadata": {},
   "outputs": [
    {
     "ename": "",
     "evalue": "",
     "output_type": "error",
     "traceback": [
      "\u001b[1;31mThe Kernel crashed while executing code in the current cell or a previous cell. \n",
      "\u001b[1;31mPlease review the code in the cell(s) to identify a possible cause of the failure. \n",
      "\u001b[1;31mClick <a href='https://aka.ms/vscodeJupyterKernelCrash'>here</a> for more info. \n",
      "\u001b[1;31mView Jupyter <a href='command:jupyter.viewOutput'>log</a> for further details."
     ]
    }
   ],
   "source": [
    "import os\n",
    "import polars as pl\n",
    "\n",
    "os.chdir(\"../../../\")\n",
    "\n",
    "# predictables\\encoding\\src\\lagged_mean_encoding\\_dynamic_rolling_sum.py\n",
    "from predictables.encoding.src.lagged_mean_encoding._dynamic_rolling_sum import (\n",
    "    DynamicRollingSum,\n",
    "    dynamic_rolling_sum,\n",
    ")\n",
    "from predictables.encoding.src.lagged_mean_encoding._dynamic_rolling_count import (\n",
    "    DynamicRollingCount,\n",
    ")"
   ]
  },
  {
   "cell_type": "code",
   "execution_count": null,
   "metadata": {},
   "outputs": [],
   "source": [
    "date_fmt_str = \"%m/%d/%Y\"\n",
    "\n",
    "lf = pl.scan_csv(\n",
    "    \"/app/predictables/encoding/tests/rolling_date_example.csv\"\n",
    ").with_columns(\n",
    "    [\n",
    "        pl.col(\"date\").str.to_date(format=date_fmt_str).cast(pl.Date).name.keep(),\n",
    "        pl.col(\"incr_value\").cast(pl.Float64).name.keep(),\n",
    "        pl.col(\"month_prior\")\n",
    "        .str.to_date(format=date_fmt_str)\n",
    "        .cast(pl.Date)\n",
    "        .name.keep(),\n",
    "        pl.col(\"year_prior\").str.to_date(format=date_fmt_str).cast(pl.Date).name.keep(),\n",
    "        pl.col(\"rolling_sum\").cast(pl.Float64).name.keep(),\n",
    "        pl.col(\"date\").str.to_date(format=date_fmt_str).cast(pl.Date).alias(\"cur_date\"),\n",
    "        pl.col(\"cat1\").cast(pl.Utf8).cast(pl.Categorical).name.keep(),\n",
    "        pl.col(\"cat2\").cast(pl.Utf8).cast(pl.Categorical).name.keep(),\n",
    "    ]\n",
    ")\n",
    "lf.head().collect()"
   ]
  },
  {
   "cell_type": "code",
   "execution_count": null,
   "metadata": {},
   "outputs": [
    {
     "data": {
      "text/html": [
       "<div><style>\n",
       ".dataframe > thead > tr,\n",
       ".dataframe > tbody > tr {\n",
       "  text-align: right;\n",
       "  white-space: pre-wrap;\n",
       "}\n",
       "</style>\n",
       "<small>shape: (1_763, 18)</small><table border=\"1\" class=\"dataframe\"><thead><tr><th>date</th><th>incr_value</th><th>month_prior</th><th>year_prior</th><th>rolling_sum</th><th>cat1</th><th>cat2</th><th>30_days_prior</th><th>60_days_prior</th><th>360_days_prior</th><th>390_days_prior</th><th>sum2</th><th>sum_cat1</th><th>sum_cat2</th><th>sum_catBOTH</th><th>cur_date</th><th>ROLLING_SUM(val[cat1])[lag:30/win:30]</th><th>ROLLING_SUM(val[cat1])[lag:30/win:30]_right</th></tr><tr><td>date</td><td>f64</td><td>date</td><td>date</td><td>f64</td><td>cat</td><td>cat</td><td>str</td><td>str</td><td>str</td><td>str</td><td>i64</td><td>i64</td><td>i64</td><td>i64</td><td>date</td><td>f64</td><td>f64</td></tr></thead><tbody><tr><td>2014-03-04</td><td>1.0</td><td>2014-02-04</td><td>2013-02-04</td><td>34.0</td><td>&quot;A&quot;</td><td>&quot;D&quot;</td><td>&quot;2/2/2014&quot;</td><td>&quot;1/3/2014&quot;</td><td>&quot;3/9/2013&quot;</td><td>&quot;2/7/2013&quot;</td><td>33</td><td>17</td><td>8</td><td>5</td><td>2014-03-04</td><td>1.0</td><td>1.0</td></tr><tr><td>2014-03-05</td><td>1.0</td><td>2014-02-05</td><td>2013-02-05</td><td>35.0</td><td>&quot;A&quot;</td><td>&quot;D&quot;</td><td>&quot;2/3/2014&quot;</td><td>&quot;1/4/2014&quot;</td><td>&quot;3/10/2013&quot;</td><td>&quot;2/8/2013&quot;</td><td>34</td><td>18</td><td>8</td><td>5</td><td>2014-03-05</td><td>3.0</td><td>3.0</td></tr><tr><td>2014-03-07</td><td>1.0</td><td>2014-02-07</td><td>2013-02-07</td><td>37.0</td><td>&quot;A&quot;</td><td>&quot;C&quot;</td><td>&quot;2/5/2014&quot;</td><td>&quot;1/6/2014&quot;</td><td>&quot;3/12/2013&quot;</td><td>&quot;2/10/2013&quot;</td><td>36</td><td>19</td><td>14</td><td>7</td><td>2014-03-07</td><td>6.0</td><td>6.0</td></tr><tr><td>2014-03-08</td><td>1.0</td><td>2014-02-08</td><td>2013-02-08</td><td>38.0</td><td>&quot;B&quot;</td><td>&quot;E&quot;</td><td>&quot;2/6/2014&quot;</td><td>&quot;1/7/2014&quot;</td><td>&quot;3/13/2013&quot;</td><td>&quot;2/11/2013&quot;</td><td>37</td><td>17</td><td>14</td><td>6</td><td>2014-03-08</td><td>4.0</td><td>4.0</td></tr><tr><td>2014-03-09</td><td>1.0</td><td>2014-02-09</td><td>2013-02-09</td><td>39.0</td><td>&quot;A&quot;</td><td>&quot;D&quot;</td><td>&quot;2/7/2014&quot;</td><td>&quot;1/8/2014&quot;</td><td>&quot;3/14/2013&quot;</td><td>&quot;2/12/2013&quot;</td><td>38</td><td>21</td><td>9</td><td>5</td><td>2014-03-09</td><td>17.0</td><td>17.0</td></tr><tr><td>&hellip;</td><td>&hellip;</td><td>&hellip;</td><td>&hellip;</td><td>&hellip;</td><td>&hellip;</td><td>&hellip;</td><td>&hellip;</td><td>&hellip;</td><td>&hellip;</td><td>&hellip;</td><td>&hellip;</td><td>&hellip;</td><td>&hellip;</td><td>&hellip;</td><td>&hellip;</td><td>&hellip;</td><td>&hellip;</td></tr><tr><td>2018-12-27</td><td>1.0</td><td>2018-11-27</td><td>2017-11-27</td><td>365.0</td><td>&quot;B&quot;</td><td>&quot;E&quot;</td><td>&quot;11/27/2018&quot;</td><td>&quot;10/28/2018&quot;</td><td>&quot;1/1/2018&quot;</td><td>&quot;12/2/2017&quot;</td><td>360</td><td>182</td><td>116</td><td>59</td><td>2018-12-27</td><td>6205.0</td><td>6205.0</td></tr><tr><td>2018-12-28</td><td>1.0</td><td>2018-11-28</td><td>2017-11-28</td><td>365.0</td><td>&quot;B&quot;</td><td>&quot;E&quot;</td><td>&quot;11/28/2018&quot;</td><td>&quot;10/29/2018&quot;</td><td>&quot;1/2/2018&quot;</td><td>&quot;12/3/2017&quot;</td><td>360</td><td>181</td><td>116</td><td>58</td><td>2018-12-28</td><td>5840.0</td><td>5840.0</td></tr><tr><td>2018-12-29</td><td>1.0</td><td>2018-11-29</td><td>2017-11-29</td><td>365.0</td><td>&quot;A&quot;</td><td>&quot;D&quot;</td><td>&quot;11/29/2018&quot;</td><td>&quot;10/30/2018&quot;</td><td>&quot;1/3/2018&quot;</td><td>&quot;12/4/2017&quot;</td><td>360</td><td>179</td><td>136</td><td>67</td><td>2018-12-29</td><td>5110.0</td><td>5110.0</td></tr><tr><td>2018-12-30</td><td>1.0</td><td>2018-11-30</td><td>2017-11-30</td><td>365.0</td><td>&quot;A&quot;</td><td>&quot;C&quot;</td><td>&quot;11/30/2018&quot;</td><td>&quot;10/31/2018&quot;</td><td>&quot;1/4/2018&quot;</td><td>&quot;12/5/2017&quot;</td><td>360</td><td>179</td><td>109</td><td>54</td><td>2018-12-30</td><td>5110.0</td><td>5110.0</td></tr><tr><td>2018-12-31</td><td>1.0</td><td>2018-12-01</td><td>2017-12-01</td><td>365.0</td><td>&quot;B&quot;</td><td>&quot;C&quot;</td><td>&quot;12/1/2018&quot;</td><td>&quot;11/1/2018&quot;</td><td>&quot;1/5/2018&quot;</td><td>&quot;12/6/2017&quot;</td><td>360</td><td>181</td><td>109</td><td>55</td><td>2018-12-31</td><td>6205.0</td><td>6205.0</td></tr></tbody></table></div>"
      ],
      "text/plain": [
       "shape: (1_763, 18)\n",
       "┌───────────┬───────────┬───────────┬───────────┬───┬───────────┬───────────┬───────────┬──────────┐\n",
       "│ date      ┆ incr_valu ┆ month_pri ┆ year_prio ┆ … ┆ sum_catBO ┆ cur_date  ┆ ROLLING_S ┆ ROLLING_ │\n",
       "│ ---       ┆ e         ┆ or        ┆ r         ┆   ┆ TH        ┆ ---       ┆ UM(val[ca ┆ SUM(val[ │\n",
       "│ date      ┆ ---       ┆ ---       ┆ ---       ┆   ┆ ---       ┆ date      ┆ t1])[lag: ┆ cat1])[l │\n",
       "│           ┆ f64       ┆ date      ┆ date      ┆   ┆ i64       ┆           ┆ 30/wi…    ┆ ag:30/wi │\n",
       "│           ┆           ┆           ┆           ┆   ┆           ┆           ┆ ---       ┆ …        │\n",
       "│           ┆           ┆           ┆           ┆   ┆           ┆           ┆ f64       ┆ ---      │\n",
       "│           ┆           ┆           ┆           ┆   ┆           ┆           ┆           ┆ f64      │\n",
       "╞═══════════╪═══════════╪═══════════╪═══════════╪═══╪═══════════╪═══════════╪═══════════╪══════════╡\n",
       "│ 2014-03-0 ┆ 1.0       ┆ 2014-02-0 ┆ 2013-02-0 ┆ … ┆ 5         ┆ 2014-03-0 ┆ 1.0       ┆ 1.0      │\n",
       "│ 4         ┆           ┆ 4         ┆ 4         ┆   ┆           ┆ 4         ┆           ┆          │\n",
       "│ 2014-03-0 ┆ 1.0       ┆ 2014-02-0 ┆ 2013-02-0 ┆ … ┆ 5         ┆ 2014-03-0 ┆ 3.0       ┆ 3.0      │\n",
       "│ 5         ┆           ┆ 5         ┆ 5         ┆   ┆           ┆ 5         ┆           ┆          │\n",
       "│ 2014-03-0 ┆ 1.0       ┆ 2014-02-0 ┆ 2013-02-0 ┆ … ┆ 7         ┆ 2014-03-0 ┆ 6.0       ┆ 6.0      │\n",
       "│ 7         ┆           ┆ 7         ┆ 7         ┆   ┆           ┆ 7         ┆           ┆          │\n",
       "│ 2014-03-0 ┆ 1.0       ┆ 2014-02-0 ┆ 2013-02-0 ┆ … ┆ 6         ┆ 2014-03-0 ┆ 4.0       ┆ 4.0      │\n",
       "│ 8         ┆           ┆ 8         ┆ 8         ┆   ┆           ┆ 8         ┆           ┆          │\n",
       "│ 2014-03-0 ┆ 1.0       ┆ 2014-02-0 ┆ 2013-02-0 ┆ … ┆ 5         ┆ 2014-03-0 ┆ 17.0      ┆ 17.0     │\n",
       "│ 9         ┆           ┆ 9         ┆ 9         ┆   ┆           ┆ 9         ┆           ┆          │\n",
       "│ …         ┆ …         ┆ …         ┆ …         ┆ … ┆ …         ┆ …         ┆ …         ┆ …        │\n",
       "│ 2018-12-2 ┆ 1.0       ┆ 2018-11-2 ┆ 2017-11-2 ┆ … ┆ 59        ┆ 2018-12-2 ┆ 6205.0    ┆ 6205.0   │\n",
       "│ 7         ┆           ┆ 7         ┆ 7         ┆   ┆           ┆ 7         ┆           ┆          │\n",
       "│ 2018-12-2 ┆ 1.0       ┆ 2018-11-2 ┆ 2017-11-2 ┆ … ┆ 58        ┆ 2018-12-2 ┆ 5840.0    ┆ 5840.0   │\n",
       "│ 8         ┆           ┆ 8         ┆ 8         ┆   ┆           ┆ 8         ┆           ┆          │\n",
       "│ 2018-12-2 ┆ 1.0       ┆ 2018-11-2 ┆ 2017-11-2 ┆ … ┆ 67        ┆ 2018-12-2 ┆ 5110.0    ┆ 5110.0   │\n",
       "│ 9         ┆           ┆ 9         ┆ 9         ┆   ┆           ┆ 9         ┆           ┆          │\n",
       "│ 2018-12-3 ┆ 1.0       ┆ 2018-11-3 ┆ 2017-11-3 ┆ … ┆ 54        ┆ 2018-12-3 ┆ 5110.0    ┆ 5110.0   │\n",
       "│ 0         ┆           ┆ 0         ┆ 0         ┆   ┆           ┆ 0         ┆           ┆          │\n",
       "│ 2018-12-3 ┆ 1.0       ┆ 2018-12-0 ┆ 2017-12-0 ┆ … ┆ 55        ┆ 2018-12-3 ┆ 6205.0    ┆ 6205.0   │\n",
       "│ 1         ┆           ┆ 1         ┆ 1         ┆   ┆           ┆ 1         ┆           ┆          │\n",
       "└───────────┴───────────┴───────────┴───────────┴───┴───────────┴───────────┴───────────┴──────────┘"
      ]
     },
     "execution_count": 3,
     "metadata": {},
     "output_type": "execute_result"
    }
   ],
   "source": [
    "(\n",
    "    DynamicRollingSum()\n",
    "    .lf(lf.with_row_index())\n",
    "    .x_col(\"rolling_sum\")\n",
    "    .x_name(\"val\")\n",
    "    .date_col(\"date\")\n",
    "    .index_col(\"index\")\n",
    "    .category_cols([\"cat1\"])\n",
    "    .offset(30)\n",
    "    .window(30)\n",
    "    .rejoin(True)\n",
    "    .op(\"ROLLING_SUM\")\n",
    "    .run()\n",
    "    # .with_row_index()\n",
    ").filter(pl.col(\"ROLLING_SUM(val[cat1])[lag:30/win:30]\") > 0)"
   ]
  },
  {
   "cell_type": "code",
   "execution_count": 4,
   "metadata": {},
   "outputs": [
    {
     "ename": "TypeError",
     "evalue": "expected `other` join table to be a LazyFrame, not a 'DataFrame'",
     "output_type": "error",
     "traceback": [
      "\u001b[0;31m---------------------------------------------------------------------------\u001b[0m",
      "\u001b[0;31mTypeError\u001b[0m                                 Traceback (most recent call last)",
      "Cell \u001b[0;32mIn[4], line 13\u001b[0m\n\u001b[1;32m      1\u001b[0m (\n\u001b[1;32m      2\u001b[0m     DynamicRollingCount()\n\u001b[1;32m      3\u001b[0m     \u001b[39m.\u001b[39mlf(\n\u001b[1;32m      4\u001b[0m         DynamicRollingSum()\n\u001b[1;32m      5\u001b[0m         \u001b[39m.\u001b[39;49mlf(lf\u001b[39m.\u001b[39;49mwith_row_index())\n\u001b[1;32m      6\u001b[0m         \u001b[39m.\u001b[39;49mx_col(\u001b[39m\"\u001b[39;49m\u001b[39mrolling_sum\u001b[39;49m\u001b[39m\"\u001b[39;49m)\n\u001b[1;32m      7\u001b[0m         \u001b[39m.\u001b[39;49mx_name(\u001b[39m\"\u001b[39;49m\u001b[39mnumerator\u001b[39;49m\u001b[39m\"\u001b[39;49m)\n\u001b[1;32m      8\u001b[0m         \u001b[39m.\u001b[39;49mdate_col(\u001b[39m\"\u001b[39;49m\u001b[39mdate\u001b[39;49m\u001b[39m\"\u001b[39;49m)\n\u001b[1;32m      9\u001b[0m         \u001b[39m.\u001b[39;49mindex_col(\u001b[39m\"\u001b[39;49m\u001b[39mindex\u001b[39;49m\u001b[39m\"\u001b[39;49m)\n\u001b[1;32m     10\u001b[0m         \u001b[39m.\u001b[39;49moffset(\u001b[39m30\u001b[39;49m)\n\u001b[1;32m     11\u001b[0m         \u001b[39m.\u001b[39;49mwindow(\u001b[39m30\u001b[39;49m)\n\u001b[1;32m     12\u001b[0m         \u001b[39m.\u001b[39;49mrejoin(\u001b[39mTrue\u001b[39;49;00m)\n\u001b[0;32m---> 13\u001b[0m         \u001b[39m.\u001b[39;49mrun()\n\u001b[1;32m     14\u001b[0m         \u001b[39m.\u001b[39mwith_row_index()\n\u001b[1;32m     15\u001b[0m     )\n\u001b[1;32m     16\u001b[0m     \u001b[39m.\u001b[39mx_name(\u001b[39m\"\u001b[39m\u001b[39mdenominator\u001b[39m\u001b[39m\"\u001b[39m)\n\u001b[1;32m     17\u001b[0m     \u001b[39m.\u001b[39mdate_col(\u001b[39m\"\u001b[39m\u001b[39mdate\u001b[39m\u001b[39m\"\u001b[39m)\n\u001b[1;32m     18\u001b[0m     \u001b[39m.\u001b[39mindex_col(\u001b[39m\"\u001b[39m\u001b[39mindex\u001b[39m\u001b[39m\"\u001b[39m)\n\u001b[1;32m     19\u001b[0m     \u001b[39m.\u001b[39moffset(\u001b[39m30\u001b[39m)\n\u001b[1;32m     20\u001b[0m     \u001b[39m.\u001b[39mwindow(\u001b[39m30\u001b[39m)\n\u001b[1;32m     21\u001b[0m     \u001b[39m.\u001b[39mrejoin(\u001b[39mTrue\u001b[39;00m)\n\u001b[1;32m     22\u001b[0m     \u001b[39m.\u001b[39mrun()\n\u001b[1;32m     23\u001b[0m )\n",
      "File \u001b[0;32m/app/predictables/encoding/src/lagged_mean_encoding/_dynamic_rolling_sum.py:334\u001b[0m, in \u001b[0;36mDynamicRollingSum.run\u001b[0;34m(self)\u001b[0m\n\u001b[1;32m    329\u001b[0m \u001b[39m# If rejoin is True, concatenate the rolling sum to the original LazyFrame\u001b[39;00m\n\u001b[1;32m    330\u001b[0m \u001b[39m# Otherwise, return a LazyFrame with the same number of rows, but with columns\u001b[39;00m\n\u001b[1;32m    331\u001b[0m \u001b[39m# for the index, date, categories, and rolling sum\u001b[39;00m\n\u001b[1;32m    332\u001b[0m \u001b[39mif\u001b[39;00m \u001b[39mself\u001b[39m\u001b[39m.\u001b[39m_category_cols \u001b[39mis\u001b[39;00m \u001b[39mNone\u001b[39;00m:\n\u001b[1;32m    333\u001b[0m     \u001b[39mreturn\u001b[39;00m (\n\u001b[0;32m--> 334\u001b[0m         \u001b[39mself\u001b[39;49m\u001b[39m.\u001b[39;49m_lf\u001b[39m.\u001b[39;49mjoin(\n\u001b[1;32m    335\u001b[0m             lf\u001b[39m.\u001b[39;49mselect(\n\u001b[1;32m    336\u001b[0m                 [\n\u001b[1;32m    337\u001b[0m                     pl\u001b[39m.\u001b[39;49mcol(\n\u001b[1;32m    338\u001b[0m                         rolling_op_column_name(\n\u001b[1;32m    339\u001b[0m                             \u001b[39mself\u001b[39;49m\u001b[39m.\u001b[39;49m_op,\n\u001b[1;32m    340\u001b[0m                             \u001b[39mself\u001b[39;49m\u001b[39m.\u001b[39;49m_x_name,\n\u001b[1;32m    341\u001b[0m                             \u001b[39mNone\u001b[39;49;00m,\n\u001b[1;32m    342\u001b[0m                             \u001b[39mself\u001b[39;49m\u001b[39m.\u001b[39;49m_offset,\n\u001b[1;32m    343\u001b[0m                             \u001b[39mself\u001b[39;49m\u001b[39m.\u001b[39;49m_window,\n\u001b[1;32m    344\u001b[0m                         )\n\u001b[1;32m    345\u001b[0m                     )\u001b[39m.\u001b[39;49mname\u001b[39m.\u001b[39;49mkeep()\n\u001b[1;32m    346\u001b[0m                 ]\n\u001b[1;32m    347\u001b[0m             ),\n\u001b[1;32m    348\u001b[0m             on\u001b[39m=\u001b[39;49m[\u001b[39mself\u001b[39;49m\u001b[39m.\u001b[39;49m_index_col],\n\u001b[1;32m    349\u001b[0m             how\u001b[39m=\u001b[39;49m\u001b[39m\"\u001b[39;49m\u001b[39mleft\u001b[39;49m\u001b[39m\"\u001b[39;49m,\n\u001b[1;32m    350\u001b[0m         )\n\u001b[1;32m    351\u001b[0m         \u001b[39mif\u001b[39;00m \u001b[39mself\u001b[39m\u001b[39m.\u001b[39m_rejoin\n\u001b[1;32m    352\u001b[0m         \u001b[39melse\u001b[39;00m lf\n\u001b[1;32m    353\u001b[0m     )\n\u001b[1;32m    355\u001b[0m     \u001b[39m# return (\u001b[39;00m\n\u001b[1;32m    356\u001b[0m     \u001b[39m#     pl.join(\u001b[39;00m\n\u001b[1;32m    357\u001b[0m     \u001b[39m#         [\u001b[39;00m\n\u001b[0;32m   (...)\u001b[0m\n\u001b[1;32m    378\u001b[0m     \u001b[39m# )\u001b[39;00m\n\u001b[1;32m    379\u001b[0m \u001b[39melse\u001b[39;00m:\n\u001b[1;32m    380\u001b[0m     lf \u001b[39m=\u001b[39m lf\u001b[39m.\u001b[39mselect(\n\u001b[1;32m    381\u001b[0m         [\n\u001b[1;32m    382\u001b[0m             pl\u001b[39m.\u001b[39mcol(\u001b[39mself\u001b[39m\u001b[39m.\u001b[39m_index_col)\u001b[39m.\u001b[39mname\u001b[39m.\u001b[39mkeep()\n\u001b[0;32m   (...)\u001b[0m\n\u001b[1;32m    394\u001b[0m         ]\n\u001b[1;32m    395\u001b[0m     )\n",
      "File \u001b[0;32m/app/.venv/lib/python3.11/site-packages/polars/lazyframe/frame.py:4067\u001b[0m, in \u001b[0;36mLazyFrame.join\u001b[0;34m(self, other, on, how, left_on, right_on, suffix, validate, join_nulls, allow_parallel, force_parallel)\u001b[0m\n\u001b[1;32m   4065\u001b[0m \u001b[39mif\u001b[39;00m \u001b[39mnot\u001b[39;00m \u001b[39misinstance\u001b[39m(other, LazyFrame):\n\u001b[1;32m   4066\u001b[0m     msg \u001b[39m=\u001b[39m \u001b[39mf\u001b[39m\u001b[39m\"\u001b[39m\u001b[39mexpected `other` join table to be a LazyFrame, not a \u001b[39m\u001b[39m{\u001b[39;00m\u001b[39mtype\u001b[39m(other)\u001b[39m.\u001b[39m\u001b[39m__name__\u001b[39m\u001b[39m!r}\u001b[39;00m\u001b[39m\"\u001b[39m\n\u001b[0;32m-> 4067\u001b[0m     \u001b[39mraise\u001b[39;00m \u001b[39mTypeError\u001b[39;00m(msg)\n\u001b[1;32m   4069\u001b[0m \u001b[39mif\u001b[39;00m how \u001b[39m==\u001b[39m \u001b[39m\"\u001b[39m\u001b[39mcross\u001b[39m\u001b[39m\"\u001b[39m:\n\u001b[1;32m   4070\u001b[0m     \u001b[39mreturn\u001b[39;00m \u001b[39mself\u001b[39m\u001b[39m.\u001b[39m_from_pyldf(\n\u001b[1;32m   4071\u001b[0m         \u001b[39mself\u001b[39m\u001b[39m.\u001b[39m_ldf\u001b[39m.\u001b[39mjoin(\n\u001b[1;32m   4072\u001b[0m             other\u001b[39m.\u001b[39m_ldf,\n\u001b[0;32m   (...)\u001b[0m\n\u001b[1;32m   4081\u001b[0m         )\n\u001b[1;32m   4082\u001b[0m     )\n",
      "\u001b[0;31mTypeError\u001b[0m: expected `other` join table to be a LazyFrame, not a 'DataFrame'"
     ]
    }
   ],
   "source": [
    "(\n",
    "    DynamicRollingCount()\n",
    "    .lf(\n",
    "        DynamicRollingSum()\n",
    "        .lf(lf.with_row_index())\n",
    "        .x_col(\"rolling_sum\")\n",
    "        .x_name(\"numerator\")\n",
    "        .date_col(\"date\")\n",
    "        .index_col(\"index\")\n",
    "        .offset(30)\n",
    "        .window(30)\n",
    "        .rejoin(True)\n",
    "        .run()\n",
    "        .with_row_index()\n",
    "    )\n",
    "    .x_name(\"denominator\")\n",
    "    .date_col(\"date\")\n",
    "    .index_col(\"index\")\n",
    "    .offset(30)\n",
    "    .window(30)\n",
    "    .rejoin(True)\n",
    "    .run()\n",
    ")"
   ]
  },
  {
   "cell_type": "code",
   "execution_count": null,
   "metadata": {},
   "outputs": [
    {
     "ename": "ColumnNotFoundError",
     "evalue": "numerator\n\nError originated just after this operation:\n SELECT [col(\"index\"), col(\"date\"), col(\"ROLLING_SUM(numerator[ALL])\")] FROM\n   WITH_COLUMNS:\n   [col(\"rolling_value_list\").alias(\"ROLLING_SUM(numerator[ALL])\")]\n    LEFT JOIN:\n    LEFT PLAN ON: [col(\"index\")]\n       SELECT [col(\"index\").alias(\"index\")] FROM\n        WITH ROW INDEX\n           WITH_COLUMNS:\n           [col(\"date\").str.strptime([String(raise)]).strict_cast(Date).alias(\"date\"), col(\"incr_value\").strict_cast(Float64).alias(\"incr_value\"), col(\"month_prior\").str.strptime([String(raise)]).strict_cast(Date).alias(\"month_prior\"), col(\"year_prior\").str.strptime([String(raise)]).strict_cast(Date).alias(\"year_prior\"), col(\"rolling_sum\").strict_cast(Float64).alias(\"rolling_sum\"), col(\"date\").str.strptime([String(raise)]).strict_cast(Date).alias(\"cur_date\"), col(\"cat1\").strict_cast(String).strict_cast(Categorical(None, Physical)).alias(\"cat1\"), col(\"cat2\").strict_cast(String).strict_cast(Categorical(None, Physical)).alias(\"cat2\")]\n\n              Csv SCAN /app/predictables/encoding/tests/rolling_date_example.csv\n              PROJECT */15 COLUMNS\n    RIGHT PLAN ON: [col(\"index\")]\n      SORT BY [col(\"index\")]\n        UNIQUE[maintain_order: false, keep_strategy: Any] BY None\n           SELECT [col(\"index\"), col(\"date\"), col(\"rolling_value_list\")] FROM\n             WITH_COLUMNS:\n             [col(\"value_list\").sum().over([col(\"index\")]).alias(\"rolling_value_list\")]\n              DF [\"index\", \"date\", \"value_list\"]; PROJECT */3 COLUMNS; SELECTION: \"None\"\n    END LEFT JOIN",
     "output_type": "error",
     "traceback": [
      "\u001b[0;31m---------------------------------------------------------------------------\u001b[0m",
      "\u001b[0;31mColumnNotFoundError\u001b[0m                       Traceback (most recent call last)",
      "Cell \u001b[0;32mIn[5], line 1\u001b[0m\n\u001b[0;32m----> 1\u001b[0m lf \u001b[39m=\u001b[39m pl\u001b[39m.\u001b[39;49mconcat(\n\u001b[1;32m      2\u001b[0m     [\n\u001b[1;32m      3\u001b[0m         lf,\n\u001b[1;32m      4\u001b[0m         DynamicRollingSum()\n\u001b[1;32m      5\u001b[0m         \u001b[39m.\u001b[39;49mlf(lf\u001b[39m.\u001b[39;49mwith_row_index())\n\u001b[1;32m      6\u001b[0m         \u001b[39m.\u001b[39;49mx_col(\u001b[39m\"\u001b[39;49m\u001b[39mrolling_sum\u001b[39;49m\u001b[39m\"\u001b[39;49m)\n\u001b[1;32m      7\u001b[0m         \u001b[39m.\u001b[39;49mx_name(\u001b[39m\"\u001b[39;49m\u001b[39mnumerator\u001b[39;49m\u001b[39m\"\u001b[39;49m)\n\u001b[1;32m      8\u001b[0m         \u001b[39m.\u001b[39;49mdate_col(\u001b[39m\"\u001b[39;49m\u001b[39mdate\u001b[39;49m\u001b[39m\"\u001b[39;49m)\n\u001b[1;32m      9\u001b[0m         \u001b[39m.\u001b[39;49mindex_col(\u001b[39m\"\u001b[39;49m\u001b[39mindex\u001b[39;49m\u001b[39m\"\u001b[39;49m)\n\u001b[1;32m     10\u001b[0m         \u001b[39m.\u001b[39;49moffset(\u001b[39m30\u001b[39;49m)\n\u001b[1;32m     11\u001b[0m         \u001b[39m.\u001b[39;49mwindow(\u001b[39m30\u001b[39;49m)\n\u001b[1;32m     12\u001b[0m         \u001b[39m# .rejoin(True)\u001b[39;49;00m\n\u001b[1;32m     13\u001b[0m         \u001b[39m.\u001b[39;49mrun()\n\u001b[1;32m     14\u001b[0m         \u001b[39m.\u001b[39;49mselect([pl\u001b[39m.\u001b[39;49mcol(\u001b[39m\"\u001b[39;49m\u001b[39mnumerator\u001b[39;49m\u001b[39m\"\u001b[39;49m)]),\n\u001b[1;32m     15\u001b[0m     ],\n\u001b[1;32m     16\u001b[0m     how\u001b[39m=\u001b[39;49m\u001b[39m\"\u001b[39;49m\u001b[39mhorizontal\u001b[39;49m\u001b[39m\"\u001b[39;49m,\n\u001b[1;32m     17\u001b[0m )\n\u001b[1;32m     19\u001b[0m lf \u001b[39m=\u001b[39m pl\u001b[39m.\u001b[39mconcat(\n\u001b[1;32m     20\u001b[0m     [\n\u001b[1;32m     21\u001b[0m         lf,\n\u001b[0;32m   (...)\u001b[0m\n\u001b[1;32m     32\u001b[0m     how\u001b[39m=\u001b[39m\u001b[39m\"\u001b[39m\u001b[39mhorizontal\u001b[39m\u001b[39m\"\u001b[39m,\n\u001b[1;32m     33\u001b[0m )\n\u001b[1;32m     35\u001b[0m lf\u001b[39m.\u001b[39mhead()\u001b[39m.\u001b[39mcollect()\n",
      "File \u001b[0;32m/app/.venv/lib/python3.11/site-packages/polars/functions/eager.py:234\u001b[0m, in \u001b[0;36mconcat\u001b[0;34m(items, how, rechunk, parallel)\u001b[0m\n\u001b[1;32m    224\u001b[0m     \u001b[39mreturn\u001b[39;00m wrap_ldf(\n\u001b[1;32m    225\u001b[0m         plr\u001b[39m.\u001b[39mconcat_lf_diagonal(\n\u001b[1;32m    226\u001b[0m             elems,\n\u001b[0;32m   (...)\u001b[0m\n\u001b[1;32m    230\u001b[0m         )\n\u001b[1;32m    231\u001b[0m     )\n\u001b[1;32m    232\u001b[0m \u001b[39melif\u001b[39;00m how \u001b[39m==\u001b[39m \u001b[39m\"\u001b[39m\u001b[39mhorizontal\u001b[39m\u001b[39m\"\u001b[39m:\n\u001b[1;32m    233\u001b[0m     \u001b[39mreturn\u001b[39;00m wrap_ldf(\n\u001b[0;32m--> 234\u001b[0m         plr\u001b[39m.\u001b[39;49mconcat_lf_horizontal(\n\u001b[1;32m    235\u001b[0m             elems,\n\u001b[1;32m    236\u001b[0m             parallel\u001b[39m=\u001b[39;49mparallel,\n\u001b[1;32m    237\u001b[0m         )\n\u001b[1;32m    238\u001b[0m     )\n\u001b[1;32m    239\u001b[0m \u001b[39melse\u001b[39;00m:\n\u001b[1;32m    240\u001b[0m     allowed \u001b[39m=\u001b[39m \u001b[39m\"\u001b[39m\u001b[39m, \u001b[39m\u001b[39m\"\u001b[39m\u001b[39m.\u001b[39mjoin(\u001b[39mrepr\u001b[39m(m) \u001b[39mfor\u001b[39;00m m \u001b[39min\u001b[39;00m get_args(ConcatMethod))\n",
      "\u001b[0;31mColumnNotFoundError\u001b[0m: numerator\n\nError originated just after this operation:\n SELECT [col(\"index\"), col(\"date\"), col(\"ROLLING_SUM(numerator[ALL])\")] FROM\n   WITH_COLUMNS:\n   [col(\"rolling_value_list\").alias(\"ROLLING_SUM(numerator[ALL])\")]\n    LEFT JOIN:\n    LEFT PLAN ON: [col(\"index\")]\n       SELECT [col(\"index\").alias(\"index\")] FROM\n        WITH ROW INDEX\n           WITH_COLUMNS:\n           [col(\"date\").str.strptime([String(raise)]).strict_cast(Date).alias(\"date\"), col(\"incr_value\").strict_cast(Float64).alias(\"incr_value\"), col(\"month_prior\").str.strptime([String(raise)]).strict_cast(Date).alias(\"month_prior\"), col(\"year_prior\").str.strptime([String(raise)]).strict_cast(Date).alias(\"year_prior\"), col(\"rolling_sum\").strict_cast(Float64).alias(\"rolling_sum\"), col(\"date\").str.strptime([String(raise)]).strict_cast(Date).alias(\"cur_date\"), col(\"cat1\").strict_cast(String).strict_cast(Categorical(None, Physical)).alias(\"cat1\"), col(\"cat2\").strict_cast(String).strict_cast(Categorical(None, Physical)).alias(\"cat2\")]\n\n              Csv SCAN /app/predictables/encoding/tests/rolling_date_example.csv\n              PROJECT */15 COLUMNS\n    RIGHT PLAN ON: [col(\"index\")]\n      SORT BY [col(\"index\")]\n        UNIQUE[maintain_order: false, keep_strategy: Any] BY None\n           SELECT [col(\"index\"), col(\"date\"), col(\"rolling_value_list\")] FROM\n             WITH_COLUMNS:\n             [col(\"value_list\").sum().over([col(\"index\")]).alias(\"rolling_value_list\")]\n              DF [\"index\", \"date\", \"value_list\"]; PROJECT */3 COLUMNS; SELECTION: \"None\"\n    END LEFT JOIN"
     ]
    }
   ],
   "source": [
    "lf = pl.concat(\n",
    "    [\n",
    "        lf,\n",
    "        DynamicRollingSum()\n",
    "        .lf(lf.with_row_index())\n",
    "        .x_col(\"rolling_sum\")\n",
    "        .x_name(\"numerator\")\n",
    "        .date_col(\"date\")\n",
    "        .index_col(\"index\")\n",
    "        .offset(30)\n",
    "        .window(30)\n",
    "        # .rejoin(True)\n",
    "        .run()\n",
    "        .select([pl.col(\"numerator\")]),\n",
    "    ],\n",
    "    how=\"horizontal\",\n",
    ")\n",
    "\n",
    "lf = pl.concat(\n",
    "    [\n",
    "        lf,\n",
    "        DynamicRollingCount()\n",
    "        .lf(lf.with_row_index())\n",
    "        .date_col(\"date\")\n",
    "        .index_col(\"index\")\n",
    "        .offset(30)\n",
    "        .window(30)\n",
    "        # .rejoin(True)\n",
    "        .run()\n",
    "        .select([pl.col(\"count\")]),\n",
    "    ],\n",
    "    how=\"horizontal\",\n",
    ")\n",
    "\n",
    "lf.head().collect()"
   ]
  },
  {
   "cell_type": "code",
   "execution_count": null,
   "metadata": {},
   "outputs": [
    {
     "data": {
      "text/html": [
       "<div><style>\n",
       ".dataframe > thead > tr,\n",
       ".dataframe > tbody > tr {\n",
       "  text-align: right;\n",
       "  white-space: pre-wrap;\n",
       "}\n",
       "</style>\n",
       "<small>shape: (1_764, 18)</small><table border=\"1\" class=\"dataframe\"><thead><tr><th>date</th><th>incr_value</th><th>month_prior</th><th>year_prior</th><th>rolling_sum</th><th>cat1</th><th>cat2</th><th>30_days_prior</th><th>60_days_prior</th><th>360_days_prior</th><th>390_days_prior</th><th>sum2</th><th>sum_cat1</th><th>sum_cat2</th><th>sum_catBOTH</th><th>cur_date</th><th>numerator</th><th>count</th></tr><tr><td>date</td><td>f64</td><td>date</td><td>date</td><td>f64</td><td>cat</td><td>cat</td><td>str</td><td>str</td><td>str</td><td>str</td><td>i64</td><td>i64</td><td>i64</td><td>i64</td><td>date</td><td>f64</td><td>f64</td></tr></thead><tbody><tr><td>2014-03-04</td><td>1.0</td><td>2014-02-04</td><td>2013-02-04</td><td>34.0</td><td>&quot;A&quot;</td><td>&quot;D&quot;</td><td>&quot;2/2/2014&quot;</td><td>&quot;1/3/2014&quot;</td><td>&quot;3/9/2013&quot;</td><td>&quot;2/7/2013&quot;</td><td>33</td><td>17</td><td>8</td><td>5</td><td>2014-03-04</td><td>1.0</td><td>30.0</td></tr><tr><td>2014-03-05</td><td>1.0</td><td>2014-02-05</td><td>2013-02-05</td><td>35.0</td><td>&quot;A&quot;</td><td>&quot;D&quot;</td><td>&quot;2/3/2014&quot;</td><td>&quot;1/4/2014&quot;</td><td>&quot;3/10/2013&quot;</td><td>&quot;2/8/2013&quot;</td><td>34</td><td>18</td><td>8</td><td>5</td><td>2014-03-05</td><td>3.0</td><td>30.0</td></tr><tr><td>2014-03-06</td><td>1.0</td><td>2014-02-06</td><td>2013-02-06</td><td>36.0</td><td>&quot;B&quot;</td><td>&quot;E&quot;</td><td>&quot;2/4/2014&quot;</td><td>&quot;1/5/2014&quot;</td><td>&quot;3/11/2013&quot;</td><td>&quot;2/9/2013&quot;</td><td>35</td><td>16</td><td>13</td><td>6</td><td>2014-03-06</td><td>6.0</td><td>30.0</td></tr><tr><td>2014-03-07</td><td>1.0</td><td>2014-02-07</td><td>2013-02-07</td><td>37.0</td><td>&quot;A&quot;</td><td>&quot;C&quot;</td><td>&quot;2/5/2014&quot;</td><td>&quot;1/6/2014&quot;</td><td>&quot;3/12/2013&quot;</td><td>&quot;2/10/2013&quot;</td><td>36</td><td>19</td><td>14</td><td>7</td><td>2014-03-07</td><td>10.0</td><td>30.0</td></tr><tr><td>2014-03-08</td><td>1.0</td><td>2014-02-08</td><td>2013-02-08</td><td>38.0</td><td>&quot;B&quot;</td><td>&quot;E&quot;</td><td>&quot;2/6/2014&quot;</td><td>&quot;1/7/2014&quot;</td><td>&quot;3/13/2013&quot;</td><td>&quot;2/11/2013&quot;</td><td>37</td><td>17</td><td>14</td><td>6</td><td>2014-03-08</td><td>15.0</td><td>30.0</td></tr><tr><td>&hellip;</td><td>&hellip;</td><td>&hellip;</td><td>&hellip;</td><td>&hellip;</td><td>&hellip;</td><td>&hellip;</td><td>&hellip;</td><td>&hellip;</td><td>&hellip;</td><td>&hellip;</td><td>&hellip;</td><td>&hellip;</td><td>&hellip;</td><td>&hellip;</td><td>&hellip;</td><td>&hellip;</td><td>&hellip;</td></tr><tr><td>2018-12-27</td><td>1.0</td><td>2018-11-27</td><td>2017-11-27</td><td>365.0</td><td>&quot;B&quot;</td><td>&quot;E&quot;</td><td>&quot;11/27/2018&quot;</td><td>&quot;10/28/2018&quot;</td><td>&quot;1/1/2018&quot;</td><td>&quot;12/2/2017&quot;</td><td>360</td><td>182</td><td>116</td><td>59</td><td>2018-12-27</td><td>10950.0</td><td>30.0</td></tr><tr><td>2018-12-28</td><td>1.0</td><td>2018-11-28</td><td>2017-11-28</td><td>365.0</td><td>&quot;B&quot;</td><td>&quot;E&quot;</td><td>&quot;11/28/2018&quot;</td><td>&quot;10/29/2018&quot;</td><td>&quot;1/2/2018&quot;</td><td>&quot;12/3/2017&quot;</td><td>360</td><td>181</td><td>116</td><td>58</td><td>2018-12-28</td><td>10950.0</td><td>30.0</td></tr><tr><td>2018-12-29</td><td>1.0</td><td>2018-11-29</td><td>2017-11-29</td><td>365.0</td><td>&quot;A&quot;</td><td>&quot;D&quot;</td><td>&quot;11/29/2018&quot;</td><td>&quot;10/30/2018&quot;</td><td>&quot;1/3/2018&quot;</td><td>&quot;12/4/2017&quot;</td><td>360</td><td>179</td><td>136</td><td>67</td><td>2018-12-29</td><td>10950.0</td><td>30.0</td></tr><tr><td>2018-12-30</td><td>1.0</td><td>2018-11-30</td><td>2017-11-30</td><td>365.0</td><td>&quot;A&quot;</td><td>&quot;C&quot;</td><td>&quot;11/30/2018&quot;</td><td>&quot;10/31/2018&quot;</td><td>&quot;1/4/2018&quot;</td><td>&quot;12/5/2017&quot;</td><td>360</td><td>179</td><td>109</td><td>54</td><td>2018-12-30</td><td>10950.0</td><td>30.0</td></tr><tr><td>2018-12-31</td><td>1.0</td><td>2018-12-01</td><td>2017-12-01</td><td>365.0</td><td>&quot;B&quot;</td><td>&quot;C&quot;</td><td>&quot;12/1/2018&quot;</td><td>&quot;11/1/2018&quot;</td><td>&quot;1/5/2018&quot;</td><td>&quot;12/6/2017&quot;</td><td>360</td><td>181</td><td>109</td><td>55</td><td>2018-12-31</td><td>10950.0</td><td>30.0</td></tr></tbody></table></div>"
      ],
      "text/plain": [
       "shape: (1_764, 18)\n",
       "┌────────────┬────────────┬────────────┬───────────┬───┬───────────┬───────────┬───────────┬───────┐\n",
       "│ date       ┆ incr_value ┆ month_prio ┆ year_prio ┆ … ┆ sum_catBO ┆ cur_date  ┆ numerator ┆ count │\n",
       "│ ---        ┆ ---        ┆ r          ┆ r         ┆   ┆ TH        ┆ ---       ┆ ---       ┆ ---   │\n",
       "│ date       ┆ f64        ┆ ---        ┆ ---       ┆   ┆ ---       ┆ date      ┆ f64       ┆ f64   │\n",
       "│            ┆            ┆ date       ┆ date      ┆   ┆ i64       ┆           ┆           ┆       │\n",
       "╞════════════╪════════════╪════════════╪═══════════╪═══╪═══════════╪═══════════╪═══════════╪═══════╡\n",
       "│ 2014-03-04 ┆ 1.0        ┆ 2014-02-04 ┆ 2013-02-0 ┆ … ┆ 5         ┆ 2014-03-0 ┆ 1.0       ┆ 30.0  │\n",
       "│            ┆            ┆            ┆ 4         ┆   ┆           ┆ 4         ┆           ┆       │\n",
       "│ 2014-03-05 ┆ 1.0        ┆ 2014-02-05 ┆ 2013-02-0 ┆ … ┆ 5         ┆ 2014-03-0 ┆ 3.0       ┆ 30.0  │\n",
       "│            ┆            ┆            ┆ 5         ┆   ┆           ┆ 5         ┆           ┆       │\n",
       "│ 2014-03-06 ┆ 1.0        ┆ 2014-02-06 ┆ 2013-02-0 ┆ … ┆ 6         ┆ 2014-03-0 ┆ 6.0       ┆ 30.0  │\n",
       "│            ┆            ┆            ┆ 6         ┆   ┆           ┆ 6         ┆           ┆       │\n",
       "│ 2014-03-07 ┆ 1.0        ┆ 2014-02-07 ┆ 2013-02-0 ┆ … ┆ 7         ┆ 2014-03-0 ┆ 10.0      ┆ 30.0  │\n",
       "│            ┆            ┆            ┆ 7         ┆   ┆           ┆ 7         ┆           ┆       │\n",
       "│ 2014-03-08 ┆ 1.0        ┆ 2014-02-08 ┆ 2013-02-0 ┆ … ┆ 6         ┆ 2014-03-0 ┆ 15.0      ┆ 30.0  │\n",
       "│            ┆            ┆            ┆ 8         ┆   ┆           ┆ 8         ┆           ┆       │\n",
       "│ …          ┆ …          ┆ …          ┆ …         ┆ … ┆ …         ┆ …         ┆ …         ┆ …     │\n",
       "│ 2018-12-27 ┆ 1.0        ┆ 2018-11-27 ┆ 2017-11-2 ┆ … ┆ 59        ┆ 2018-12-2 ┆ 10950.0   ┆ 30.0  │\n",
       "│            ┆            ┆            ┆ 7         ┆   ┆           ┆ 7         ┆           ┆       │\n",
       "│ 2018-12-28 ┆ 1.0        ┆ 2018-11-28 ┆ 2017-11-2 ┆ … ┆ 58        ┆ 2018-12-2 ┆ 10950.0   ┆ 30.0  │\n",
       "│            ┆            ┆            ┆ 8         ┆   ┆           ┆ 8         ┆           ┆       │\n",
       "│ 2018-12-29 ┆ 1.0        ┆ 2018-11-29 ┆ 2017-11-2 ┆ … ┆ 67        ┆ 2018-12-2 ┆ 10950.0   ┆ 30.0  │\n",
       "│            ┆            ┆            ┆ 9         ┆   ┆           ┆ 9         ┆           ┆       │\n",
       "│ 2018-12-30 ┆ 1.0        ┆ 2018-11-30 ┆ 2017-11-3 ┆ … ┆ 54        ┆ 2018-12-3 ┆ 10950.0   ┆ 30.0  │\n",
       "│            ┆            ┆            ┆ 0         ┆   ┆           ┆ 0         ┆           ┆       │\n",
       "│ 2018-12-31 ┆ 1.0        ┆ 2018-12-01 ┆ 2017-12-0 ┆ … ┆ 55        ┆ 2018-12-3 ┆ 10950.0   ┆ 30.0  │\n",
       "│            ┆            ┆            ┆ 1         ┆   ┆           ┆ 1         ┆           ┆       │\n",
       "└────────────┴────────────┴────────────┴───────────┴───┴───────────┴───────────┴───────────┴───────┘"
      ]
     },
     "execution_count": 4,
     "metadata": {},
     "output_type": "execute_result"
    }
   ],
   "source": [
    "lf.filter((pl.col(\"numerator\") != 0)).collect()"
   ]
  },
  {
   "cell_type": "code",
   "execution_count": null,
   "metadata": {},
   "outputs": [
    {
     "name": "stdout",
     "output_type": "stream",
     "text": [
      "['index', 'date', 'test random name']\n"
     ]
    }
   ],
   "source": [
    "rolling_sum_df = (\n",
    "    DynamicRollingSum()\n",
    "    .lf(lf.with_row_index())\n",
    "    .x_col(\"incr_value\")\n",
    "    .x_name(\"test random name\")\n",
    "    .date_col(\"date\")\n",
    "    .index_col(\"index\")\n",
    "    .offset(30)\n",
    "    .window(30)\n",
    "    .run()\n",
    ")\n",
    "\n",
    "print(rolling_sum_df.columns)"
   ]
  }
 ],
 "metadata": {
  "kernelspec": {
   "display_name": ".venv",
   "language": "python",
   "name": "python3"
  },
  "language_info": {
   "codemirror_mode": {
    "name": "ipython",
    "version": 3
   },
   "file_extension": ".py",
   "mimetype": "text/x-python",
   "name": "python",
   "nbconvert_exporter": "python",
   "pygments_lexer": "ipython3",
   "version": "3.11.8"
  },
  "orig_nbformat": 4
 },
 "nbformat": 4,
 "nbformat_minor": 2
}
