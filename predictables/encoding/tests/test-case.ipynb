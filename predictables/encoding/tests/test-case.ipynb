{
 "cells": [
  {
   "cell_type": "code",
   "execution_count": 1,
   "metadata": {},
   "outputs": [],
   "source": [
    "import polars as pl\n",
    "import os\n",
    "\n",
    "os.chdir(\"../../../\")\n",
    "\n",
    "# predictables\\encoding\\src\\lagged_mean_encoding\\_dynamic_rolling_sum.py\n",
    "from predictables.encoding.src.lagged_mean_encoding._dynamic_rolling_sum import (\n",
    "    _get_date_map,\n",
    "    _get_original_order,\n",
    "    _formatted_category_cols,\n",
    "    _formatted_date_col,\n",
    "    _reversed_date_col,\n",
    "    _group_by_no_categories,\n",
    "    _group_by_categories,\n",
    "    _rolling_sum_no_categories,\n",
    "    _rolling_sum_categories,\n",
    ")"
   ]
  },
  {
   "cell_type": "code",
   "execution_count": 15,
   "metadata": {},
   "outputs": [
    {
     "data": {
      "text/html": [
       "<div><style>\n",
       ".dataframe > thead > tr,\n",
       ".dataframe > tbody > tr {\n",
       "  text-align: right;\n",
       "  white-space: pre-wrap;\n",
       "}\n",
       "</style>\n",
       "<small>shape: (5, 6)</small><table border=\"1\" class=\"dataframe\"><thead><tr><th>date</th><th>incr_value</th><th>month_prior</th><th>year_prior</th><th>rolling_sum</th><th>cur_date</th></tr><tr><td>date</td><td>f64</td><td>date</td><td>date</td><td>f64</td><td>date</td></tr></thead><tbody><tr><td>2014-01-01</td><td>1.0</td><td>2013-12-01</td><td>2012-12-01</td><td>0.0</td><td>2014-01-01</td></tr><tr><td>2014-01-02</td><td>1.0</td><td>2013-12-02</td><td>2012-12-02</td><td>0.0</td><td>2014-01-02</td></tr><tr><td>2014-01-03</td><td>1.0</td><td>2013-12-03</td><td>2012-12-03</td><td>0.0</td><td>2014-01-03</td></tr><tr><td>2014-01-04</td><td>1.0</td><td>2013-12-04</td><td>2012-12-04</td><td>0.0</td><td>2014-01-04</td></tr><tr><td>2014-01-05</td><td>1.0</td><td>2013-12-05</td><td>2012-12-05</td><td>0.0</td><td>2014-01-05</td></tr></tbody></table></div>"
      ],
      "text/plain": [
       "shape: (5, 6)\n",
       "┌────────────┬────────────┬─────────────┬────────────┬─────────────┬────────────┐\n",
       "│ date       ┆ incr_value ┆ month_prior ┆ year_prior ┆ rolling_sum ┆ cur_date   │\n",
       "│ ---        ┆ ---        ┆ ---         ┆ ---        ┆ ---         ┆ ---        │\n",
       "│ date       ┆ f64        ┆ date        ┆ date       ┆ f64         ┆ date       │\n",
       "╞════════════╪════════════╪═════════════╪════════════╪═════════════╪════════════╡\n",
       "│ 2014-01-01 ┆ 1.0        ┆ 2013-12-01  ┆ 2012-12-01 ┆ 0.0         ┆ 2014-01-01 │\n",
       "│ 2014-01-02 ┆ 1.0        ┆ 2013-12-02  ┆ 2012-12-02 ┆ 0.0         ┆ 2014-01-02 │\n",
       "│ 2014-01-03 ┆ 1.0        ┆ 2013-12-03  ┆ 2012-12-03 ┆ 0.0         ┆ 2014-01-03 │\n",
       "│ 2014-01-04 ┆ 1.0        ┆ 2013-12-04  ┆ 2012-12-04 ┆ 0.0         ┆ 2014-01-04 │\n",
       "│ 2014-01-05 ┆ 1.0        ┆ 2013-12-05  ┆ 2012-12-05 ┆ 0.0         ┆ 2014-01-05 │\n",
       "└────────────┴────────────┴─────────────┴────────────┴─────────────┴────────────┘"
      ]
     },
     "execution_count": 15,
     "metadata": {},
     "output_type": "execute_result"
    }
   ],
   "source": [
    "date_fmt_str = \"%m/%d/%Y\"\n",
    "\n",
    "lf = pl.scan_csv(\n",
    "    \"/home/aweaver/work/predictables/predictables/encoding/tests/rolling_date_example.csv\"\n",
    ").with_columns(\n",
    "    [\n",
    "        pl.col(\"date\").str.to_date(format=date_fmt_str).cast(pl.Date).name.keep(),\n",
    "        pl.col(\"incr_value\").cast(pl.Float64).name.keep(),\n",
    "        pl.col(\"month_prior\")\n",
    "        .str.to_date(format=date_fmt_str)\n",
    "        .cast(pl.Date)\n",
    "        .name.keep(),\n",
    "        pl.col(\"year_prior\").str.to_date(format=date_fmt_str).cast(pl.Date).name.keep(),\n",
    "        pl.col(\"rolling_sum\").cast(pl.Float64).name.keep(),\n",
    "        pl.col(\"date\").str.to_date(format=date_fmt_str).cast(pl.Date).alias(\"cur_date\"),\n",
    "    ]\n",
    ")\n",
    "lf.head().collect()"
   ]
  },
  {
   "cell_type": "code",
   "execution_count": 18,
   "metadata": {},
   "outputs": [
    {
     "name": "stdout",
     "output_type": "stream",
     "text": [
      "dcol: cur_date\n",
      "dcol type: <class 'str'>\n",
      "column type: [Date]\n"
     ]
    },
    {
     "data": {
      "text/plain": [
       "[datetime.date(2024, 2, 26),\n",
       " datetime.date(2024, 2, 25),\n",
       " datetime.date(2024, 2, 24),\n",
       " datetime.date(2024, 2, 23),\n",
       " datetime.date(2024, 2, 22),\n",
       " datetime.date(2024, 2, 21),\n",
       " datetime.date(2024, 2, 20),\n",
       " datetime.date(2024, 2, 19),\n",
       " datetime.date(2024, 2, 18),\n",
       " datetime.date(2024, 2, 17)]"
      ]
     },
     "execution_count": 18,
     "metadata": {},
     "output_type": "execute_result"
    }
   ],
   "source": [
    "list(_get_date_map(lf, \"cur_date\").keys())[:10]"
   ]
  },
  {
   "cell_type": "code",
   "execution_count": null,
   "metadata": {},
   "outputs": [],
   "source": []
  }
 ],
 "metadata": {
  "kernelspec": {
   "display_name": ".venv",
   "language": "python",
   "name": "python3"
  },
  "language_info": {
   "codemirror_mode": {
    "name": "ipython",
    "version": 3
   },
   "file_extension": ".py",
   "mimetype": "text/x-python",
   "name": "python",
   "nbconvert_exporter": "python",
   "pygments_lexer": "ipython3",
   "version": "3.11.3"
  },
  "orig_nbformat": 4
 },
 "nbformat": 4,
 "nbformat_minor": 2
}
