{
 "cells": [
  {
   "cell_type": "code",
   "execution_count": 1,
   "metadata": {},
   "outputs": [],
   "source": [
    "import os\n",
    "import polars as pl\n",
    "\n",
    "os.chdir(\"../../../\")\n",
    "\n",
    "# predictables\\encoding\\src\\lagged_mean_encoding\\_dynamic_rolling_sum.py\n",
    "from predictables.encoding.src.lagged_mean_encoding._dynamic_rolling_sum import (\n",
    "    DynamicRollingSum,\n",
    "    dynamic_rolling_sum,\n",
    ")\n",
    "from predictables.encoding.src.lagged_mean_encoding._dynamic_rolling_count import (\n",
    "    DynamicRollingCount,\n",
    ")"
   ]
  },
  {
   "cell_type": "code",
   "execution_count": 2,
   "metadata": {},
   "outputs": [
    {
     "data": {
      "text/html": [
       "<div><style>\n",
       ".dataframe > thead > tr,\n",
       ".dataframe > tbody > tr {\n",
       "  text-align: right;\n",
       "  white-space: pre-wrap;\n",
       "}\n",
       "</style>\n",
       "<small>shape: (5, 2)</small><table border=\"1\" class=\"dataframe\"><thead><tr><th>60_days_prior</th><th>date_list</th></tr><tr><td>date</td><td>list[date]</td></tr></thead><tbody><tr><td>2019-11-02</td><td>[2019-11-02, 2019-11-03, … 2019-12-02]</td></tr><tr><td>2019-11-02</td><td>[2019-11-02, 2019-11-03, … 2019-12-02]</td></tr><tr><td>2019-11-02</td><td>[2019-11-02, 2019-11-03, … 2019-12-02]</td></tr><tr><td>2019-11-03</td><td>[2019-11-03, 2019-11-04, … 2019-12-03]</td></tr><tr><td>2019-11-04</td><td>[2019-11-04, 2019-11-05, … 2019-12-04]</td></tr></tbody></table></div>"
      ],
      "text/plain": [
       "shape: (5, 2)\n",
       "┌───────────────┬───────────────────────────────────┐\n",
       "│ 60_days_prior ┆ date_list                         │\n",
       "│ ---           ┆ ---                               │\n",
       "│ date          ┆ list[date]                        │\n",
       "╞═══════════════╪═══════════════════════════════════╡\n",
       "│ 2019-11-02    ┆ [2019-11-02, 2019-11-03, … 2019-… │\n",
       "│ 2019-11-02    ┆ [2019-11-02, 2019-11-03, … 2019-… │\n",
       "│ 2019-11-02    ┆ [2019-11-02, 2019-11-03, … 2019-… │\n",
       "│ 2019-11-03    ┆ [2019-11-03, 2019-11-04, … 2019-… │\n",
       "│ 2019-11-04    ┆ [2019-11-04, 2019-11-05, … 2019-… │\n",
       "└───────────────┴───────────────────────────────────┘"
      ]
     },
     "execution_count": 2,
     "metadata": {},
     "output_type": "execute_result"
    }
   ],
   "source": [
    "lf = pl.scan_parquet(\"predictables/encoding/tests/ts_testing_df.parquet\")\n",
    "lf.select([pl.col(\"30_days_prior\"), pl.col(\"60_days_prior\")]).select(\n",
    "    [\n",
    "        pl.col(\"60_days_prior\").name.keep(),\n",
    "        pl.date_ranges(pl.col(\"60_days_prior\"), pl.col(\"30_days_prior\"), \"1d\").alias(\n",
    "            \"date_list\"\n",
    "        ),\n",
    "    ]\n",
    ").head().collect()"
   ]
  },
  {
   "cell_type": "code",
   "execution_count": 3,
   "metadata": {},
   "outputs": [
    {
     "data": {
      "text/plain": [
       "Date"
      ]
     },
     "execution_count": 3,
     "metadata": {},
     "output_type": "execute_result"
    }
   ],
   "source": [
    "lf.schema.get(\"date\")"
   ]
  },
  {
   "cell_type": "code",
   "execution_count": 4,
   "metadata": {},
   "outputs": [
    {
     "data": {
      "text/html": [
       "<div><style>\n",
       ".dataframe > thead > tr,\n",
       ".dataframe > tbody > tr {\n",
       "  text-align: right;\n",
       "  white-space: pre-wrap;\n",
       "}\n",
       "</style>\n",
       "<small>shape: (5, 16)</small><table border=\"1\" class=\"dataframe\"><thead><tr><th>date</th><th>incr_value</th><th>month_prior</th><th>year_prior</th><th>rolling_sum</th><th>cat1</th><th>cat2</th><th>30_days_prior</th><th>60_days_prior</th><th>360_days_prior</th><th>390_days_prior</th><th>sum2</th><th>sum_cat1</th><th>sum_cat2</th><th>sum_catBOTH</th><th>cur_date</th></tr><tr><td>date</td><td>f64</td><td>date</td><td>date</td><td>f64</td><td>cat</td><td>cat</td><td>str</td><td>str</td><td>str</td><td>str</td><td>i64</td><td>i64</td><td>i64</td><td>i64</td><td>date</td></tr></thead><tbody><tr><td>2014-01-01</td><td>1.0</td><td>2013-12-01</td><td>2012-12-01</td><td>0.0</td><td>&quot;B&quot;</td><td>&quot;C&quot;</td><td>&quot;12/2/2013&quot;</td><td>&quot;11/2/2013&quot;</td><td>&quot;1/6/2013&quot;</td><td>&quot;12/7/2012&quot;</td><td>0</td><td>0</td><td>0</td><td>0</td><td>2014-01-01</td></tr><tr><td>2014-01-02</td><td>1.0</td><td>2013-12-02</td><td>2012-12-02</td><td>0.0</td><td>&quot;A&quot;</td><td>&quot;C&quot;</td><td>&quot;12/3/2013&quot;</td><td>&quot;11/3/2013&quot;</td><td>&quot;1/7/2013&quot;</td><td>&quot;12/8/2012&quot;</td><td>0</td><td>0</td><td>0</td><td>0</td><td>2014-01-02</td></tr><tr><td>2014-01-03</td><td>1.0</td><td>2013-12-03</td><td>2012-12-03</td><td>0.0</td><td>&quot;B&quot;</td><td>&quot;D&quot;</td><td>&quot;12/4/2013&quot;</td><td>&quot;11/4/2013&quot;</td><td>&quot;1/8/2013&quot;</td><td>&quot;12/9/2012&quot;</td><td>0</td><td>0</td><td>0</td><td>0</td><td>2014-01-03</td></tr><tr><td>2014-01-04</td><td>1.0</td><td>2013-12-04</td><td>2012-12-04</td><td>0.0</td><td>&quot;B&quot;</td><td>&quot;D&quot;</td><td>&quot;12/5/2013&quot;</td><td>&quot;11/5/2013&quot;</td><td>&quot;1/9/2013&quot;</td><td>&quot;12/10/2012&quot;</td><td>0</td><td>0</td><td>0</td><td>0</td><td>2014-01-04</td></tr><tr><td>2014-01-05</td><td>1.0</td><td>2013-12-05</td><td>2012-12-05</td><td>0.0</td><td>&quot;B&quot;</td><td>&quot;E&quot;</td><td>&quot;12/6/2013&quot;</td><td>&quot;11/6/2013&quot;</td><td>&quot;1/10/2013&quot;</td><td>&quot;12/11/2012&quot;</td><td>0</td><td>0</td><td>0</td><td>0</td><td>2014-01-05</td></tr></tbody></table></div>"
      ],
      "text/plain": [
       "shape: (5, 16)\n",
       "┌────────────┬───────────┬───────────┬───────────┬───┬──────────┬──────────┬───────────┬───────────┐\n",
       "│ date       ┆ incr_valu ┆ month_pri ┆ year_prio ┆ … ┆ sum_cat1 ┆ sum_cat2 ┆ sum_catBO ┆ cur_date  │\n",
       "│ ---        ┆ e         ┆ or        ┆ r         ┆   ┆ ---      ┆ ---      ┆ TH        ┆ ---       │\n",
       "│ date       ┆ ---       ┆ ---       ┆ ---       ┆   ┆ i64      ┆ i64      ┆ ---       ┆ date      │\n",
       "│            ┆ f64       ┆ date      ┆ date      ┆   ┆          ┆          ┆ i64       ┆           │\n",
       "╞════════════╪═══════════╪═══════════╪═══════════╪═══╪══════════╪══════════╪═══════════╪═══════════╡\n",
       "│ 2014-01-01 ┆ 1.0       ┆ 2013-12-0 ┆ 2012-12-0 ┆ … ┆ 0        ┆ 0        ┆ 0         ┆ 2014-01-0 │\n",
       "│            ┆           ┆ 1         ┆ 1         ┆   ┆          ┆          ┆           ┆ 1         │\n",
       "│ 2014-01-02 ┆ 1.0       ┆ 2013-12-0 ┆ 2012-12-0 ┆ … ┆ 0        ┆ 0        ┆ 0         ┆ 2014-01-0 │\n",
       "│            ┆           ┆ 2         ┆ 2         ┆   ┆          ┆          ┆           ┆ 2         │\n",
       "│ 2014-01-03 ┆ 1.0       ┆ 2013-12-0 ┆ 2012-12-0 ┆ … ┆ 0        ┆ 0        ┆ 0         ┆ 2014-01-0 │\n",
       "│            ┆           ┆ 3         ┆ 3         ┆   ┆          ┆          ┆           ┆ 3         │\n",
       "│ 2014-01-04 ┆ 1.0       ┆ 2013-12-0 ┆ 2012-12-0 ┆ … ┆ 0        ┆ 0        ┆ 0         ┆ 2014-01-0 │\n",
       "│            ┆           ┆ 4         ┆ 4         ┆   ┆          ┆          ┆           ┆ 4         │\n",
       "│ 2014-01-05 ┆ 1.0       ┆ 2013-12-0 ┆ 2012-12-0 ┆ … ┆ 0        ┆ 0        ┆ 0         ┆ 2014-01-0 │\n",
       "│            ┆           ┆ 5         ┆ 5         ┆   ┆          ┆          ┆           ┆ 5         │\n",
       "└────────────┴───────────┴───────────┴───────────┴───┴──────────┴──────────┴───────────┴───────────┘"
      ]
     },
     "execution_count": 4,
     "metadata": {},
     "output_type": "execute_result"
    }
   ],
   "source": [
    "date_fmt_str = \"%m/%d/%Y\"\n",
    "\n",
    "lf = pl.scan_csv(\n",
    "    \"/app/predictables/encoding/tests/rolling_date_example.csv\"\n",
    ").with_columns(\n",
    "    [\n",
    "        pl.col(\"date\").str.to_date(format=date_fmt_str).cast(pl.Date).name.keep(),\n",
    "        pl.col(\"incr_value\").cast(pl.Float64).name.keep(),\n",
    "        pl.col(\"month_prior\")\n",
    "        .str.to_date(format=date_fmt_str)\n",
    "        .cast(pl.Date)\n",
    "        .name.keep(),\n",
    "        pl.col(\"year_prior\").str.to_date(format=date_fmt_str).cast(pl.Date).name.keep(),\n",
    "        pl.col(\"rolling_sum\").cast(pl.Float64).name.keep(),\n",
    "        pl.col(\"date\").str.to_date(format=date_fmt_str).cast(pl.Date).alias(\"cur_date\"),\n",
    "        pl.col(\"cat1\").cast(pl.Utf8).cast(pl.Categorical).name.keep(),\n",
    "        pl.col(\"cat2\").cast(pl.Utf8).cast(pl.Categorical).name.keep(),\n",
    "    ]\n",
    ")\n",
    "lf.head().collect()"
   ]
  },
  {
   "cell_type": "code",
   "execution_count": 5,
   "metadata": {},
   "outputs": [
    {
     "ename": "ColumnNotFoundError",
     "evalue": "c\n\nError originated just after this operation:\n WITH_COLUMNS:\n [String(0).strict_cast(String).strict_cast(Categorical(None, Physical)).alias(\"cat\")]\n   WITH_COLUMNS:\n   [col(\"rolling_value_list\").alias(\"ROLLING_SUM(rolling_sum[cat])[lag:30/win:30]\")]\n    LEFT JOIN:\n    LEFT PLAN ON: [col(\"index\")]\n       SELECT [col(\"index\").alias(\"index\")] FROM\n        FILTER [(col(\"cat\").strict_cast(String)) == (String(0))] FROM\n\n         WITH_COLUMNS:\n         [String(0).alias(\"cat\")]\n          WITH ROW INDEX\n             WITH_COLUMNS:\n             [col(\"date\").str.strptime([String(raise)]).strict_cast(Date).alias(\"date\"), col(\"incr_value\").strict_cast(Float64).alias(\"incr_value\"), col(\"month_prior\").str.strptime([String(raise)]).strict_cast(Date).alias(\"month_prior\"), col(\"year_prior\").str.strptime([String(raise)]).strict_cast(Date).alias(\"year_prior\"), col(\"rolling_sum\").strict_cast(Float64).alias(\"rolling_sum\"), col(\"date\").str.strptime([String(raise)]).strict_cast(Date).alias(\"cur_date\"), col(\"cat1\").strict_cast(String).strict_cast(Categorical(None, Physical)).alias(\"cat1\"), col(\"cat2\").strict_cast(String).strict_cast(Categorical(None, Physical)).alias(\"cat2\")]\n\n                Csv SCAN /app/predictables/encoding/tests/rolling_date_example.csv\n                PROJECT */15 COLUMNS\n    RIGHT PLAN ON: [col(\"index\")]\n      SORT BY [col(\"index\")]\n        UNIQUE[maintain_order: false, keep_strategy: Any] BY None\n           SELECT [col(\"index\"), col(\"date\"), col(\"rolling_value_list\")] FROM\n             WITH_COLUMNS:\n             [col(\"value_list\").sum().over([col(\"index\")]).alias(\"rolling_value_list\")]\n              DF [\"index\", \"date\", \"value_list\"]; PROJECT */3 COLUMNS; SELECTION: \"None\"\n    END LEFT JOIN",
     "output_type": "error",
     "traceback": [
      "\u001b[0;31m---------------------------------------------------------------------------\u001b[0m",
      "\u001b[0;31mColumnNotFoundError\u001b[0m                       Traceback (most recent call last)",
      "Cell \u001b[0;32mIn[5], line 13\u001b[0m\n\u001b[1;32m      1\u001b[0m \u001b[43m(\u001b[49m\n\u001b[1;32m      2\u001b[0m \u001b[43m    \u001b[49m\u001b[43mDynamicRollingSum\u001b[49m\u001b[43m(\u001b[49m\u001b[43m)\u001b[49m\n\u001b[1;32m      3\u001b[0m \u001b[43m    \u001b[49m\u001b[38;5;241;43m.\u001b[39;49m\u001b[43mlf\u001b[49m\u001b[43m(\u001b[49m\u001b[43mlf\u001b[49m\u001b[38;5;241;43m.\u001b[39;49m\u001b[43mwith_row_index\u001b[49m\u001b[43m(\u001b[49m\u001b[43m)\u001b[49m\u001b[43m)\u001b[49m\n\u001b[1;32m      4\u001b[0m \u001b[43m    \u001b[49m\u001b[38;5;241;43m.\u001b[39;49m\u001b[43mx_col\u001b[49m\u001b[43m(\u001b[49m\u001b[38;5;124;43m\"\u001b[39;49m\u001b[38;5;124;43mrolling_sum\u001b[39;49m\u001b[38;5;124;43m\"\u001b[39;49m\u001b[43m)\u001b[49m\n\u001b[1;32m      5\u001b[0m \u001b[43m    \u001b[49m\u001b[38;5;241;43m.\u001b[39;49m\u001b[43mx_name\u001b[49m\u001b[43m(\u001b[49m\u001b[38;5;124;43m\"\u001b[39;49m\u001b[38;5;124;43mval\u001b[39;49m\u001b[38;5;124;43m\"\u001b[39;49m\u001b[43m)\u001b[49m\n\u001b[1;32m      6\u001b[0m \u001b[43m    \u001b[49m\u001b[38;5;241;43m.\u001b[39;49m\u001b[43mdate_col\u001b[49m\u001b[43m(\u001b[49m\u001b[38;5;124;43m\"\u001b[39;49m\u001b[38;5;124;43mdate\u001b[39;49m\u001b[38;5;124;43m\"\u001b[39;49m\u001b[43m)\u001b[49m\n\u001b[1;32m      7\u001b[0m \u001b[43m    \u001b[49m\u001b[38;5;241;43m.\u001b[39;49m\u001b[43mindex_col\u001b[49m\u001b[43m(\u001b[49m\u001b[38;5;124;43m\"\u001b[39;49m\u001b[38;5;124;43mindex\u001b[39;49m\u001b[38;5;124;43m\"\u001b[39;49m\u001b[43m)\u001b[49m\n\u001b[1;32m      8\u001b[0m \u001b[43m    \u001b[49m\u001b[38;5;66;43;03m# .category_cols(\"cat2\")\u001b[39;49;00m\n\u001b[1;32m      9\u001b[0m \u001b[43m    \u001b[49m\u001b[38;5;241;43m.\u001b[39;49m\u001b[43moffset\u001b[49m\u001b[43m(\u001b[49m\u001b[38;5;241;43m30\u001b[39;49m\u001b[43m)\u001b[49m\n\u001b[1;32m     10\u001b[0m \u001b[43m    \u001b[49m\u001b[38;5;241;43m.\u001b[39;49m\u001b[43mwindow\u001b[49m\u001b[43m(\u001b[49m\u001b[38;5;241;43m30\u001b[39;49m\u001b[43m)\u001b[49m\n\u001b[1;32m     11\u001b[0m \u001b[43m    \u001b[49m\u001b[38;5;241;43m.\u001b[39;49m\u001b[43mrejoin\u001b[49m\u001b[43m(\u001b[49m\u001b[38;5;28;43;01mTrue\u001b[39;49;00m\u001b[43m)\u001b[49m\n\u001b[1;32m     12\u001b[0m \u001b[43m    \u001b[49m\u001b[38;5;241;43m.\u001b[39;49m\u001b[43mop\u001b[49m\u001b[43m(\u001b[49m\u001b[38;5;124;43m\"\u001b[39;49m\u001b[38;5;124;43mROLLING_SUM\u001b[39;49m\u001b[38;5;124;43m\"\u001b[39;49m\u001b[43m)\u001b[49m\n\u001b[0;32m---> 13\u001b[0m \u001b[43m)\u001b[49m\u001b[38;5;241;43m.\u001b[39;49m\u001b[43mrun\u001b[49m\u001b[43m(\u001b[49m\u001b[43m)\u001b[49m\u001b[38;5;241m.\u001b[39mcollect()\n",
      "File \u001b[0;32m/app/predictables/encoding/src/lagged_mean_encoding/_dynamic_rolling_sum.py:615\u001b[0m, in \u001b[0;36mDynamicRollingSum.run\u001b[0;34m(self)\u001b[0m\n\u001b[1;32m    612\u001b[0m lf_with_drs \u001b[38;5;241m=\u001b[39m \u001b[38;5;28mself\u001b[39m\u001b[38;5;241m.\u001b[39m_calculate_sum()\n\u001b[1;32m    614\u001b[0m \u001b[38;5;66;03m# Drop any columns with \"_right\" suffixes\u001b[39;00m\n\u001b[0;32m--> 615\u001b[0m lf_with_drs \u001b[38;5;241m=\u001b[39m \u001b[38;5;28;43mself\u001b[39;49m\u001b[38;5;241;43m.\u001b[39;49m\u001b[43m_drop_right_suffixes\u001b[49m\u001b[43m(\u001b[49m\u001b[43mlf_with_drs\u001b[49m\u001b[43m)\u001b[49m\n\u001b[1;32m    617\u001b[0m \u001b[38;5;66;03m# Join the rolling sum to the original LazyFrame if rejoin is True\u001b[39;00m\n\u001b[1;32m    618\u001b[0m lf \u001b[38;5;241m=\u001b[39m \u001b[38;5;28mself\u001b[39m\u001b[38;5;241m.\u001b[39m_rejoin_rolling_column(lf_with_drs)\n",
      "File \u001b[0;32m/app/predictables/encoding/src/lagged_mean_encoding/_dynamic_rolling_sum.py:552\u001b[0m, in \u001b[0;36mDynamicRollingSum._drop_right_suffixes\u001b[0;34m(self, lf)\u001b[0m\n\u001b[1;32m    537\u001b[0m \u001b[38;5;250m\u001b[39m\u001b[38;5;124;03m\"\"\"Drop any columns with \"_right\" suffixes.\u001b[39;00m\n\u001b[1;32m    538\u001b[0m \n\u001b[1;32m    539\u001b[0m \u001b[38;5;124;03mReturns a LazyFrame with any columns with \"_right\" suffixes dropped.\u001b[39;00m\n\u001b[0;32m   (...)\u001b[0m\n\u001b[1;32m    549\u001b[0m \u001b[38;5;124;03m    A LazyFrame with any columns with \"_right\" suffixes dropped.\u001b[39;00m\n\u001b[1;32m    550\u001b[0m \u001b[38;5;124;03m\"\"\"\u001b[39;00m\n\u001b[1;32m    551\u001b[0m \u001b[38;5;66;03m# Test whether or not any changes need to be made\u001b[39;00m\n\u001b[0;32m--> 552\u001b[0m has_rights \u001b[38;5;241m=\u001b[39m \u001b[38;5;28many\u001b[39m(col\u001b[38;5;241m.\u001b[39mendswith(\u001b[38;5;124m\"\u001b[39m\u001b[38;5;124m_right\u001b[39m\u001b[38;5;124m\"\u001b[39m) \u001b[38;5;28;01mfor\u001b[39;00m col \u001b[38;5;129;01min\u001b[39;00m \u001b[43mlf\u001b[49m\u001b[38;5;241;43m.\u001b[39;49m\u001b[43mcolumns\u001b[49m)\n\u001b[1;32m    554\u001b[0m \u001b[38;5;66;03m# Return the LazyFrame with any columns with \"_right\" suffixes dropped\u001b[39;00m\n\u001b[1;32m    555\u001b[0m \u001b[38;5;66;03m# if there are any, otherwise return the original LazyFrame\u001b[39;00m\n\u001b[1;32m    556\u001b[0m \u001b[38;5;28;01mreturn\u001b[39;00m (\n\u001b[1;32m    557\u001b[0m     lf\u001b[38;5;241m.\u001b[39mdrop([col \u001b[38;5;28;01mfor\u001b[39;00m col \u001b[38;5;129;01min\u001b[39;00m lf\u001b[38;5;241m.\u001b[39mcolumns \u001b[38;5;28;01mif\u001b[39;00m col\u001b[38;5;241m.\u001b[39mendswith(\u001b[38;5;124m\"\u001b[39m\u001b[38;5;124m_right\u001b[39m\u001b[38;5;124m\"\u001b[39m)])\n\u001b[1;32m    558\u001b[0m     \u001b[38;5;28;01mif\u001b[39;00m has_rights\n\u001b[1;32m    559\u001b[0m     \u001b[38;5;28;01melse\u001b[39;00m lf\n\u001b[1;32m    560\u001b[0m )\n",
      "File \u001b[0;32m/app/.venv/lib/python3.11/site-packages/polars/lazyframe/frame.py:663\u001b[0m, in \u001b[0;36mLazyFrame.columns\u001b[0;34m(self)\u001b[0m\n\u001b[1;32m    646\u001b[0m \u001b[38;5;129m@property\u001b[39m\n\u001b[1;32m    647\u001b[0m \u001b[38;5;28;01mdef\u001b[39;00m \u001b[38;5;21mcolumns\u001b[39m(\u001b[38;5;28mself\u001b[39m) \u001b[38;5;241m-\u001b[39m\u001b[38;5;241m>\u001b[39m \u001b[38;5;28mlist\u001b[39m[\u001b[38;5;28mstr\u001b[39m]:\n\u001b[1;32m    648\u001b[0m \u001b[38;5;250m    \u001b[39m\u001b[38;5;124;03m\"\"\"\u001b[39;00m\n\u001b[1;32m    649\u001b[0m \u001b[38;5;124;03m    Get column names.\u001b[39;00m\n\u001b[1;32m    650\u001b[0m \n\u001b[0;32m   (...)\u001b[0m\n\u001b[1;32m    661\u001b[0m \u001b[38;5;124;03m    ['foo', 'bar']\u001b[39;00m\n\u001b[1;32m    662\u001b[0m \u001b[38;5;124;03m    \"\"\"\u001b[39;00m\n\u001b[0;32m--> 663\u001b[0m     \u001b[38;5;28;01mreturn\u001b[39;00m \u001b[38;5;28mself\u001b[39m\u001b[38;5;241m.\u001b[39m_ldf\u001b[38;5;241m.\u001b[39mcolumns()\n",
      "\u001b[0;31mColumnNotFoundError\u001b[0m: c\n\nError originated just after this operation:\n WITH_COLUMNS:\n [String(0).strict_cast(String).strict_cast(Categorical(None, Physical)).alias(\"cat\")]\n   WITH_COLUMNS:\n   [col(\"rolling_value_list\").alias(\"ROLLING_SUM(rolling_sum[cat])[lag:30/win:30]\")]\n    LEFT JOIN:\n    LEFT PLAN ON: [col(\"index\")]\n       SELECT [col(\"index\").alias(\"index\")] FROM\n        FILTER [(col(\"cat\").strict_cast(String)) == (String(0))] FROM\n\n         WITH_COLUMNS:\n         [String(0).alias(\"cat\")]\n          WITH ROW INDEX\n             WITH_COLUMNS:\n             [col(\"date\").str.strptime([String(raise)]).strict_cast(Date).alias(\"date\"), col(\"incr_value\").strict_cast(Float64).alias(\"incr_value\"), col(\"month_prior\").str.strptime([String(raise)]).strict_cast(Date).alias(\"month_prior\"), col(\"year_prior\").str.strptime([String(raise)]).strict_cast(Date).alias(\"year_prior\"), col(\"rolling_sum\").strict_cast(Float64).alias(\"rolling_sum\"), col(\"date\").str.strptime([String(raise)]).strict_cast(Date).alias(\"cur_date\"), col(\"cat1\").strict_cast(String).strict_cast(Categorical(None, Physical)).alias(\"cat1\"), col(\"cat2\").strict_cast(String).strict_cast(Categorical(None, Physical)).alias(\"cat2\")]\n\n                Csv SCAN /app/predictables/encoding/tests/rolling_date_example.csv\n                PROJECT */15 COLUMNS\n    RIGHT PLAN ON: [col(\"index\")]\n      SORT BY [col(\"index\")]\n        UNIQUE[maintain_order: false, keep_strategy: Any] BY None\n           SELECT [col(\"index\"), col(\"date\"), col(\"rolling_value_list\")] FROM\n             WITH_COLUMNS:\n             [col(\"value_list\").sum().over([col(\"index\")]).alias(\"rolling_value_list\")]\n              DF [\"index\", \"date\", \"value_list\"]; PROJECT */3 COLUMNS; SELECTION: \"None\"\n    END LEFT JOIN"
     ]
    }
   ],
   "source": [
    "(\n",
    "    DynamicRollingSum()\n",
    "    .lf(lf.with_row_index())\n",
    "    .x_col(\"rolling_sum\")\n",
    "    .x_name(\"val\")\n",
    "    .date_col(\"date\")\n",
    "    .index_col(\"index\")\n",
    "    # .category_cols(\"cat2\")\n",
    "    .offset(30)\n",
    "    .window(30)\n",
    "    .rejoin(True)\n",
    "    .op(\"ROLLING_SUM\")\n",
    ").run().collect()"
   ]
  },
  {
   "cell_type": "code",
   "execution_count": 6,
   "metadata": {},
   "outputs": [
    {
     "ename": "ColumnNotFoundError",
     "evalue": "c\n\nError originated just after this operation:\n WITH_COLUMNS:\n [String(0).strict_cast(String).strict_cast(Categorical(None, Physical)).alias(\"cat\")]\n   WITH_COLUMNS:\n   [col(\"rolling_value_list\").alias(\"ROLLING_SUM(rolling_sum[cat])[lag:30/win:30]\")]\n    LEFT JOIN:\n    LEFT PLAN ON: [col(\"index\")]\n       SELECT [col(\"index\").alias(\"index\")] FROM\n        FILTER [(col(\"cat\").strict_cast(String)) == (String(0))] FROM\n\n         WITH_COLUMNS:\n         [String(0).alias(\"cat\")]\n          WITH ROW INDEX\n             WITH_COLUMNS:\n             [col(\"date\").str.strptime([String(raise)]).strict_cast(Date).alias(\"date\"), col(\"incr_value\").strict_cast(Float64).alias(\"incr_value\"), col(\"month_prior\").str.strptime([String(raise)]).strict_cast(Date).alias(\"month_prior\"), col(\"year_prior\").str.strptime([String(raise)]).strict_cast(Date).alias(\"year_prior\"), col(\"rolling_sum\").strict_cast(Float64).alias(\"rolling_sum\"), col(\"date\").str.strptime([String(raise)]).strict_cast(Date).alias(\"cur_date\"), col(\"cat1\").strict_cast(String).strict_cast(Categorical(None, Physical)).alias(\"cat1\"), col(\"cat2\").strict_cast(String).strict_cast(Categorical(None, Physical)).alias(\"cat2\")]\n\n                Csv SCAN /app/predictables/encoding/tests/rolling_date_example.csv\n                PROJECT */15 COLUMNS\n    RIGHT PLAN ON: [col(\"index\")]\n      SORT BY [col(\"index\")]\n        UNIQUE[maintain_order: false, keep_strategy: Any] BY None\n           SELECT [col(\"index\"), col(\"date\"), col(\"rolling_value_list\")] FROM\n             WITH_COLUMNS:\n             [col(\"value_list\").sum().over([col(\"index\")]).alias(\"rolling_value_list\")]\n              DF [\"index\", \"date\", \"value_list\"]; PROJECT */3 COLUMNS; SELECTION: \"None\"\n    END LEFT JOIN",
     "output_type": "error",
     "traceback": [
      "\u001b[0;31m---------------------------------------------------------------------------\u001b[0m",
      "\u001b[0;31mColumnNotFoundError\u001b[0m                       Traceback (most recent call last)",
      "Cell \u001b[0;32mIn[6], line 13\u001b[0m\n\u001b[1;32m      1\u001b[0m (\n\u001b[1;32m      2\u001b[0m     \u001b[43mDynamicRollingSum\u001b[49m\u001b[43m(\u001b[49m\u001b[43m)\u001b[49m\n\u001b[1;32m      3\u001b[0m \u001b[43m    \u001b[49m\u001b[38;5;241;43m.\u001b[39;49m\u001b[43mlf\u001b[49m\u001b[43m(\u001b[49m\u001b[43mlf\u001b[49m\u001b[38;5;241;43m.\u001b[39;49m\u001b[43mwith_row_index\u001b[49m\u001b[43m(\u001b[49m\u001b[43m)\u001b[49m\u001b[43m)\u001b[49m\n\u001b[1;32m      4\u001b[0m \u001b[43m    \u001b[49m\u001b[38;5;241;43m.\u001b[39;49m\u001b[43mx_col\u001b[49m\u001b[43m(\u001b[49m\u001b[38;5;124;43m\"\u001b[39;49m\u001b[38;5;124;43mrolling_sum\u001b[39;49m\u001b[38;5;124;43m\"\u001b[39;49m\u001b[43m)\u001b[49m\n\u001b[1;32m      5\u001b[0m \u001b[43m    \u001b[49m\u001b[38;5;241;43m.\u001b[39;49m\u001b[43mx_name\u001b[49m\u001b[43m(\u001b[49m\u001b[38;5;124;43m\"\u001b[39;49m\u001b[38;5;124;43mval\u001b[39;49m\u001b[38;5;124;43m\"\u001b[39;49m\u001b[43m)\u001b[49m\n\u001b[1;32m      6\u001b[0m \u001b[43m    \u001b[49m\u001b[38;5;241;43m.\u001b[39;49m\u001b[43mdate_col\u001b[49m\u001b[43m(\u001b[49m\u001b[38;5;124;43m\"\u001b[39;49m\u001b[38;5;124;43mdate\u001b[39;49m\u001b[38;5;124;43m\"\u001b[39;49m\u001b[43m)\u001b[49m\n\u001b[1;32m      7\u001b[0m \u001b[43m    \u001b[49m\u001b[38;5;241;43m.\u001b[39;49m\u001b[43mindex_col\u001b[49m\u001b[43m(\u001b[49m\u001b[38;5;124;43m\"\u001b[39;49m\u001b[38;5;124;43mindex\u001b[39;49m\u001b[38;5;124;43m\"\u001b[39;49m\u001b[43m)\u001b[49m\n\u001b[1;32m      8\u001b[0m \u001b[43m    \u001b[49m\u001b[38;5;66;43;03m# .category_cols(\"cat2\")\u001b[39;49;00m\n\u001b[1;32m      9\u001b[0m \u001b[43m    \u001b[49m\u001b[38;5;241;43m.\u001b[39;49m\u001b[43moffset\u001b[49m\u001b[43m(\u001b[49m\u001b[38;5;241;43m30\u001b[39;49m\u001b[43m)\u001b[49m\n\u001b[1;32m     10\u001b[0m \u001b[43m    \u001b[49m\u001b[38;5;241;43m.\u001b[39;49m\u001b[43mwindow\u001b[49m\u001b[43m(\u001b[49m\u001b[38;5;241;43m30\u001b[39;49m\u001b[43m)\u001b[49m\n\u001b[1;32m     11\u001b[0m \u001b[43m    \u001b[49m\u001b[38;5;241;43m.\u001b[39;49m\u001b[43mrejoin\u001b[49m\u001b[43m(\u001b[49m\u001b[38;5;28;43;01mTrue\u001b[39;49;00m\u001b[43m)\u001b[49m\n\u001b[1;32m     12\u001b[0m \u001b[43m    \u001b[49m\u001b[38;5;241;43m.\u001b[39;49m\u001b[43mop\u001b[49m\u001b[43m(\u001b[49m\u001b[38;5;124;43m\"\u001b[39;49m\u001b[38;5;124;43mROLLING_SUM\u001b[39;49m\u001b[38;5;124;43m\"\u001b[39;49m\u001b[43m)\u001b[49m\n\u001b[0;32m---> 13\u001b[0m \u001b[43m    \u001b[49m\u001b[38;5;241;43m.\u001b[39;49m\u001b[43mrun\u001b[49m\u001b[43m(\u001b[49m\u001b[43m)\u001b[49m\n\u001b[1;32m     14\u001b[0m     \u001b[38;5;66;03m# .with_row_index()\u001b[39;00m\n\u001b[1;32m     15\u001b[0m )\u001b[38;5;241m.\u001b[39mhead()\n",
      "File \u001b[0;32m/app/predictables/encoding/src/lagged_mean_encoding/_dynamic_rolling_sum.py:615\u001b[0m, in \u001b[0;36mDynamicRollingSum.run\u001b[0;34m(self)\u001b[0m\n\u001b[1;32m    612\u001b[0m lf_with_drs \u001b[38;5;241m=\u001b[39m \u001b[38;5;28mself\u001b[39m\u001b[38;5;241m.\u001b[39m_calculate_sum()\n\u001b[1;32m    614\u001b[0m \u001b[38;5;66;03m# Drop any columns with \"_right\" suffixes\u001b[39;00m\n\u001b[0;32m--> 615\u001b[0m lf_with_drs \u001b[38;5;241m=\u001b[39m \u001b[38;5;28;43mself\u001b[39;49m\u001b[38;5;241;43m.\u001b[39;49m\u001b[43m_drop_right_suffixes\u001b[49m\u001b[43m(\u001b[49m\u001b[43mlf_with_drs\u001b[49m\u001b[43m)\u001b[49m\n\u001b[1;32m    617\u001b[0m \u001b[38;5;66;03m# Join the rolling sum to the original LazyFrame if rejoin is True\u001b[39;00m\n\u001b[1;32m    618\u001b[0m lf \u001b[38;5;241m=\u001b[39m \u001b[38;5;28mself\u001b[39m\u001b[38;5;241m.\u001b[39m_rejoin_rolling_column(lf_with_drs)\n",
      "File \u001b[0;32m/app/predictables/encoding/src/lagged_mean_encoding/_dynamic_rolling_sum.py:552\u001b[0m, in \u001b[0;36mDynamicRollingSum._drop_right_suffixes\u001b[0;34m(self, lf)\u001b[0m\n\u001b[1;32m    537\u001b[0m \u001b[38;5;250m\u001b[39m\u001b[38;5;124;03m\"\"\"Drop any columns with \"_right\" suffixes.\u001b[39;00m\n\u001b[1;32m    538\u001b[0m \n\u001b[1;32m    539\u001b[0m \u001b[38;5;124;03mReturns a LazyFrame with any columns with \"_right\" suffixes dropped.\u001b[39;00m\n\u001b[0;32m   (...)\u001b[0m\n\u001b[1;32m    549\u001b[0m \u001b[38;5;124;03m    A LazyFrame with any columns with \"_right\" suffixes dropped.\u001b[39;00m\n\u001b[1;32m    550\u001b[0m \u001b[38;5;124;03m\"\"\"\u001b[39;00m\n\u001b[1;32m    551\u001b[0m \u001b[38;5;66;03m# Test whether or not any changes need to be made\u001b[39;00m\n\u001b[0;32m--> 552\u001b[0m has_rights \u001b[38;5;241m=\u001b[39m \u001b[38;5;28many\u001b[39m(col\u001b[38;5;241m.\u001b[39mendswith(\u001b[38;5;124m\"\u001b[39m\u001b[38;5;124m_right\u001b[39m\u001b[38;5;124m\"\u001b[39m) \u001b[38;5;28;01mfor\u001b[39;00m col \u001b[38;5;129;01min\u001b[39;00m \u001b[43mlf\u001b[49m\u001b[38;5;241;43m.\u001b[39;49m\u001b[43mcolumns\u001b[49m)\n\u001b[1;32m    554\u001b[0m \u001b[38;5;66;03m# Return the LazyFrame with any columns with \"_right\" suffixes dropped\u001b[39;00m\n\u001b[1;32m    555\u001b[0m \u001b[38;5;66;03m# if there are any, otherwise return the original LazyFrame\u001b[39;00m\n\u001b[1;32m    556\u001b[0m \u001b[38;5;28;01mreturn\u001b[39;00m (\n\u001b[1;32m    557\u001b[0m     lf\u001b[38;5;241m.\u001b[39mdrop([col \u001b[38;5;28;01mfor\u001b[39;00m col \u001b[38;5;129;01min\u001b[39;00m lf\u001b[38;5;241m.\u001b[39mcolumns \u001b[38;5;28;01mif\u001b[39;00m col\u001b[38;5;241m.\u001b[39mendswith(\u001b[38;5;124m\"\u001b[39m\u001b[38;5;124m_right\u001b[39m\u001b[38;5;124m\"\u001b[39m)])\n\u001b[1;32m    558\u001b[0m     \u001b[38;5;28;01mif\u001b[39;00m has_rights\n\u001b[1;32m    559\u001b[0m     \u001b[38;5;28;01melse\u001b[39;00m lf\n\u001b[1;32m    560\u001b[0m )\n",
      "File \u001b[0;32m/app/.venv/lib/python3.11/site-packages/polars/lazyframe/frame.py:663\u001b[0m, in \u001b[0;36mLazyFrame.columns\u001b[0;34m(self)\u001b[0m\n\u001b[1;32m    646\u001b[0m \u001b[38;5;129m@property\u001b[39m\n\u001b[1;32m    647\u001b[0m \u001b[38;5;28;01mdef\u001b[39;00m \u001b[38;5;21mcolumns\u001b[39m(\u001b[38;5;28mself\u001b[39m) \u001b[38;5;241m-\u001b[39m\u001b[38;5;241m>\u001b[39m \u001b[38;5;28mlist\u001b[39m[\u001b[38;5;28mstr\u001b[39m]:\n\u001b[1;32m    648\u001b[0m \u001b[38;5;250m    \u001b[39m\u001b[38;5;124;03m\"\"\"\u001b[39;00m\n\u001b[1;32m    649\u001b[0m \u001b[38;5;124;03m    Get column names.\u001b[39;00m\n\u001b[1;32m    650\u001b[0m \n\u001b[0;32m   (...)\u001b[0m\n\u001b[1;32m    661\u001b[0m \u001b[38;5;124;03m    ['foo', 'bar']\u001b[39;00m\n\u001b[1;32m    662\u001b[0m \u001b[38;5;124;03m    \"\"\"\u001b[39;00m\n\u001b[0;32m--> 663\u001b[0m     \u001b[38;5;28;01mreturn\u001b[39;00m \u001b[38;5;28mself\u001b[39m\u001b[38;5;241m.\u001b[39m_ldf\u001b[38;5;241m.\u001b[39mcolumns()\n",
      "\u001b[0;31mColumnNotFoundError\u001b[0m: c\n\nError originated just after this operation:\n WITH_COLUMNS:\n [String(0).strict_cast(String).strict_cast(Categorical(None, Physical)).alias(\"cat\")]\n   WITH_COLUMNS:\n   [col(\"rolling_value_list\").alias(\"ROLLING_SUM(rolling_sum[cat])[lag:30/win:30]\")]\n    LEFT JOIN:\n    LEFT PLAN ON: [col(\"index\")]\n       SELECT [col(\"index\").alias(\"index\")] FROM\n        FILTER [(col(\"cat\").strict_cast(String)) == (String(0))] FROM\n\n         WITH_COLUMNS:\n         [String(0).alias(\"cat\")]\n          WITH ROW INDEX\n             WITH_COLUMNS:\n             [col(\"date\").str.strptime([String(raise)]).strict_cast(Date).alias(\"date\"), col(\"incr_value\").strict_cast(Float64).alias(\"incr_value\"), col(\"month_prior\").str.strptime([String(raise)]).strict_cast(Date).alias(\"month_prior\"), col(\"year_prior\").str.strptime([String(raise)]).strict_cast(Date).alias(\"year_prior\"), col(\"rolling_sum\").strict_cast(Float64).alias(\"rolling_sum\"), col(\"date\").str.strptime([String(raise)]).strict_cast(Date).alias(\"cur_date\"), col(\"cat1\").strict_cast(String).strict_cast(Categorical(None, Physical)).alias(\"cat1\"), col(\"cat2\").strict_cast(String).strict_cast(Categorical(None, Physical)).alias(\"cat2\")]\n\n                Csv SCAN /app/predictables/encoding/tests/rolling_date_example.csv\n                PROJECT */15 COLUMNS\n    RIGHT PLAN ON: [col(\"index\")]\n      SORT BY [col(\"index\")]\n        UNIQUE[maintain_order: false, keep_strategy: Any] BY None\n           SELECT [col(\"index\"), col(\"date\"), col(\"rolling_value_list\")] FROM\n             WITH_COLUMNS:\n             [col(\"value_list\").sum().over([col(\"index\")]).alias(\"rolling_value_list\")]\n              DF [\"index\", \"date\", \"value_list\"]; PROJECT */3 COLUMNS; SELECTION: \"None\"\n    END LEFT JOIN"
     ]
    }
   ],
   "source": [
    "(\n",
    "    DynamicRollingSum()\n",
    "    .lf(lf.with_row_index())\n",
    "    .x_col(\"rolling_sum\")\n",
    "    .x_name(\"val\")\n",
    "    .date_col(\"date\")\n",
    "    .index_col(\"index\")\n",
    "    # .category_cols(\"cat2\")\n",
    "    .offset(30)\n",
    "    .window(30)\n",
    "    .rejoin(True)\n",
    "    .op(\"ROLLING_SUM\")\n",
    "    .run()\n",
    "    # .with_row_index()\n",
    ").head()"
   ]
  },
  {
   "cell_type": "code",
   "execution_count": null,
   "metadata": {},
   "outputs": [
    {
     "name": "stdout",
     "output_type": "stream",
     "text": [
      "level: 0 | type(level): <class 'str'>\n",
      "out1: shape: (5, 3)\n",
      "┌───────┬────────────┬────────────────────┐\n",
      "│ index ┆ date       ┆ rolling_value_list │\n",
      "│ ---   ┆ ---        ┆ ---                │\n",
      "│ u32   ┆ date       ┆ f64                │\n",
      "╞═══════╪════════════╪════════════════════╡\n",
      "│ 0     ┆ 2014-01-01 ┆ 0.0                │\n",
      "│ 1     ┆ 2014-01-02 ┆ 0.0                │\n",
      "│ 2     ┆ 2014-01-03 ┆ 0.0                │\n",
      "│ 3     ┆ 2014-01-04 ┆ 0.0                │\n",
      "│ 4     ┆ 2014-01-05 ┆ 0.0                │\n",
      "└───────┴────────────┴────────────────────┘\n",
      "out2: shape: (5, 4)\n",
      "┌───────┬────────────┬────────────────────┬───────────────────────────────────┐\n",
      "│ index ┆ date       ┆ rolling_value_list ┆ ROLLING_SUM(rolling_sum[cat])[la… │\n",
      "│ ---   ┆ ---        ┆ ---                ┆ ---                               │\n",
      "│ u32   ┆ date       ┆ f64                ┆ f64                               │\n",
      "╞═══════╪════════════╪════════════════════╪═══════════════════════════════════╡\n",
      "│ 0     ┆ 2014-01-01 ┆ 0.0                ┆ 0.0                               │\n",
      "│ 1     ┆ 2014-01-02 ┆ 0.0                ┆ 0.0                               │\n",
      "│ 2     ┆ 2014-01-03 ┆ 0.0                ┆ 0.0                               │\n",
      "│ 3     ┆ 2014-01-04 ┆ 0.0                ┆ 0.0                               │\n",
      "│ 4     ┆ 2014-01-05 ┆ 0.0                ┆ 0.0                               │\n",
      "└───────┴────────────┴────────────────────┴───────────────────────────────────┘\n",
      "level: 0 | type(level): <class 'str'>\n",
      "cat: ['cat'] | type(cat): <class 'list'>\n"
     ]
    }
   ],
   "source": [
    "x = (\n",
    "    DynamicRollingSum()\n",
    "    .lf(lf.with_row_index())\n",
    "    .x_col(\"rolling_sum\")\n",
    "    .x_name(\"numerator\")\n",
    "    .date_col(\"date\")\n",
    "    .index_col(\"index\")\n",
    "    .offset(30)\n",
    "    .window(30)\n",
    "    .rejoin(True)\n",
    "    .run()\n",
    ")\n",
    "\n",
    "# (\n",
    "#     DynamicRollingCount()\n",
    "#     .lf(\n",
    "#     )\n",
    "#     .x_name(\"denominator\")\n",
    "#     .date_col(\"date\")\n",
    "#     .index_col(\"index\")\n",
    "#     .offset(30)\n",
    "#     .window(30)\n",
    "#     .rejoin(True)\n",
    "#     .run()\n",
    "# )"
   ]
  },
  {
   "cell_type": "code",
   "execution_count": null,
   "metadata": {},
   "outputs": [
    {
     "name": "stdout",
     "output_type": "stream",
     "text": [
      "level: 0 | type(level): <class 'str'>\n",
      "out1: shape: (5, 3)\n",
      "┌───────┬────────────┬────────────────────┐\n",
      "│ index ┆ date       ┆ rolling_value_list │\n",
      "│ ---   ┆ ---        ┆ ---                │\n",
      "│ u32   ┆ date       ┆ f64                │\n",
      "╞═══════╪════════════╪════════════════════╡\n",
      "│ 0     ┆ 2014-01-01 ┆ 0.0                │\n",
      "│ 1     ┆ 2014-01-02 ┆ 0.0                │\n",
      "│ 2     ┆ 2014-01-03 ┆ 0.0                │\n",
      "│ 3     ┆ 2014-01-04 ┆ 0.0                │\n",
      "│ 4     ┆ 2014-01-05 ┆ 0.0                │\n",
      "└───────┴────────────┴────────────────────┘\n",
      "out2: shape: (5, 4)\n",
      "┌───────┬────────────┬────────────────────┬───────────────────────────────────┐\n",
      "│ index ┆ date       ┆ rolling_value_list ┆ ROLLING_SUM(rolling_sum[cat])[la… │\n",
      "│ ---   ┆ ---        ┆ ---                ┆ ---                               │\n",
      "│ u32   ┆ date       ┆ f64                ┆ f64                               │\n",
      "╞═══════╪════════════╪════════════════════╪═══════════════════════════════════╡\n",
      "│ 0     ┆ 2014-01-01 ┆ 0.0                ┆ 0.0                               │\n",
      "│ 1     ┆ 2014-01-02 ┆ 0.0                ┆ 0.0                               │\n",
      "│ 2     ┆ 2014-01-03 ┆ 0.0                ┆ 0.0                               │\n",
      "│ 3     ┆ 2014-01-04 ┆ 0.0                ┆ 0.0                               │\n",
      "│ 4     ┆ 2014-01-05 ┆ 0.0                ┆ 0.0                               │\n",
      "└───────┴────────────┴────────────────────┴───────────────────────────────────┘\n",
      "level: 0 | type(level): <class 'str'>\n",
      "cat: ['cat'] | type(cat): <class 'list'>\n"
     ]
    },
    {
     "ename": "ColumnNotFoundError",
     "evalue": "numerator\n\nError originated just after this operation:\n SELECT [col(\"index\").alias(\"index\"), col(\"date\").alias(\"date\"), col(\"cat\").strict_cast(Categorical(None, Physical)).alias(\"cat\"), col(\"ROLLING_SUM(rolling_sum[cat])[lag:30/win:30]\").alias(\"ROLLING_SUM(rolling_sum[cat])[lag:30/win:30]\")] FROM\n   WITH_COLUMNS:\n   [String(0).strict_cast(String).strict_cast(Categorical(None, Physical)).alias(\"cat\")]\n     WITH_COLUMNS:\n     [col(\"rolling_value_list\").alias(\"ROLLING_SUM(rolling_sum[cat])[lag:30/win:30]\")]\n      LEFT JOIN:\n      LEFT PLAN ON: [col(\"index\")]\n         SELECT [col(\"index\").alias(\"index\")] FROM\n          FILTER [(col(\"cat\").strict_cast(String)) == (String(0))] FROM\n\n           WITH_COLUMNS:\n           [String(0).alias(\"cat\")]\n            WITH ROW INDEX\n               WITH_COLUMNS:\n               [col(\"date\").str.strptime([String(raise)]).strict_cast(Date).alias(\"date\"), col(\"incr_value\").strict_cast(Float64).alias(\"incr_value\"), col(\"month_prior\").str.strptime([String(raise)]).strict_cast(Date).alias(\"month_prior\"), col(\"year_prior\").str.strptime([String(raise)]).strict_cast(Date).alias(\"year_prior\"), col(\"rolling_sum\").strict_cast(Float64).alias(\"rolling_sum\"), col(\"date\").str.strptime([String(raise)]).strict_cast(Date).alias(\"cur_date\"), col(\"cat1\").strict_cast(String).strict_cast(Categorical(None, Physical)).alias(\"cat1\"), col(\"cat2\").strict_cast(String).strict_cast(Categorical(None, Physical)).alias(\"cat2\")]\n\n                  Csv SCAN /app/predictables/encoding/tests/rolling_date_example.csv\n                  PROJECT */15 COLUMNS\n      RIGHT PLAN ON: [col(\"index\")]\n        SORT BY [col(\"index\")]\n          UNIQUE[maintain_order: false, keep_strategy: Any] BY None\n             SELECT [col(\"index\"), col(\"date\"), col(\"rolling_value_list\")] FROM\n               WITH_COLUMNS:\n               [col(\"value_list\").sum().over([col(\"index\")]).alias(\"rolling_value_list\")]\n                DF [\"index\", \"date\", \"value_list\"]; PROJECT */3 COLUMNS; SELECTION: \"None\"\n      END LEFT JOIN",
     "output_type": "error",
     "traceback": [
      "\u001b[0;31m---------------------------------------------------------------------------\u001b[0m",
      "\u001b[0;31mColumnNotFoundError\u001b[0m                       Traceback (most recent call last)",
      "Cell \u001b[0;32mIn[8], line 1\u001b[0m\n\u001b[0;32m----> 1\u001b[0m lf \u001b[38;5;241m=\u001b[39m \u001b[43mpl\u001b[49m\u001b[38;5;241;43m.\u001b[39;49m\u001b[43mconcat\u001b[49m\u001b[43m(\u001b[49m\n\u001b[1;32m      2\u001b[0m \u001b[43m    \u001b[49m\u001b[43m[\u001b[49m\n\u001b[1;32m      3\u001b[0m \u001b[43m        \u001b[49m\u001b[43mlf\u001b[49m\u001b[43m,\u001b[49m\n\u001b[1;32m      4\u001b[0m \u001b[43m        \u001b[49m\u001b[43mDynamicRollingSum\u001b[49m\u001b[43m(\u001b[49m\u001b[43m)\u001b[49m\n\u001b[1;32m      5\u001b[0m \u001b[43m        \u001b[49m\u001b[38;5;241;43m.\u001b[39;49m\u001b[43mlf\u001b[49m\u001b[43m(\u001b[49m\u001b[43mlf\u001b[49m\u001b[38;5;241;43m.\u001b[39;49m\u001b[43mwith_row_index\u001b[49m\u001b[43m(\u001b[49m\u001b[43m)\u001b[49m\u001b[43m)\u001b[49m\n\u001b[1;32m      6\u001b[0m \u001b[43m        \u001b[49m\u001b[38;5;241;43m.\u001b[39;49m\u001b[43mx_col\u001b[49m\u001b[43m(\u001b[49m\u001b[38;5;124;43m\"\u001b[39;49m\u001b[38;5;124;43mrolling_sum\u001b[39;49m\u001b[38;5;124;43m\"\u001b[39;49m\u001b[43m)\u001b[49m\n\u001b[1;32m      7\u001b[0m \u001b[43m        \u001b[49m\u001b[38;5;241;43m.\u001b[39;49m\u001b[43mx_name\u001b[49m\u001b[43m(\u001b[49m\u001b[38;5;124;43m\"\u001b[39;49m\u001b[38;5;124;43mnumerator\u001b[39;49m\u001b[38;5;124;43m\"\u001b[39;49m\u001b[43m)\u001b[49m\n\u001b[1;32m      8\u001b[0m \u001b[43m        \u001b[49m\u001b[38;5;241;43m.\u001b[39;49m\u001b[43mdate_col\u001b[49m\u001b[43m(\u001b[49m\u001b[38;5;124;43m\"\u001b[39;49m\u001b[38;5;124;43mdate\u001b[39;49m\u001b[38;5;124;43m\"\u001b[39;49m\u001b[43m)\u001b[49m\n\u001b[1;32m      9\u001b[0m \u001b[43m        \u001b[49m\u001b[38;5;241;43m.\u001b[39;49m\u001b[43mindex_col\u001b[49m\u001b[43m(\u001b[49m\u001b[38;5;124;43m\"\u001b[39;49m\u001b[38;5;124;43mindex\u001b[39;49m\u001b[38;5;124;43m\"\u001b[39;49m\u001b[43m)\u001b[49m\n\u001b[1;32m     10\u001b[0m \u001b[43m        \u001b[49m\u001b[38;5;241;43m.\u001b[39;49m\u001b[43moffset\u001b[49m\u001b[43m(\u001b[49m\u001b[38;5;241;43m30\u001b[39;49m\u001b[43m)\u001b[49m\n\u001b[1;32m     11\u001b[0m \u001b[43m        \u001b[49m\u001b[38;5;241;43m.\u001b[39;49m\u001b[43mwindow\u001b[49m\u001b[43m(\u001b[49m\u001b[38;5;241;43m30\u001b[39;49m\u001b[43m)\u001b[49m\n\u001b[1;32m     12\u001b[0m \u001b[43m        \u001b[49m\u001b[38;5;66;43;03m# .rejoin(True)\u001b[39;49;00m\n\u001b[1;32m     13\u001b[0m \u001b[43m        \u001b[49m\u001b[38;5;241;43m.\u001b[39;49m\u001b[43mrun\u001b[49m\u001b[43m(\u001b[49m\u001b[43m)\u001b[49m\n\u001b[1;32m     14\u001b[0m \u001b[43m        \u001b[49m\u001b[38;5;241;43m.\u001b[39;49m\u001b[43mselect\u001b[49m\u001b[43m(\u001b[49m\u001b[43m[\u001b[49m\u001b[43mpl\u001b[49m\u001b[38;5;241;43m.\u001b[39;49m\u001b[43mcol\u001b[49m\u001b[43m(\u001b[49m\u001b[38;5;124;43m\"\u001b[39;49m\u001b[38;5;124;43mnumerator\u001b[39;49m\u001b[38;5;124;43m\"\u001b[39;49m\u001b[43m)\u001b[49m\u001b[43m]\u001b[49m\u001b[43m)\u001b[49m\u001b[43m,\u001b[49m\n\u001b[1;32m     15\u001b[0m \u001b[43m    \u001b[49m\u001b[43m]\u001b[49m\u001b[43m,\u001b[49m\n\u001b[1;32m     16\u001b[0m \u001b[43m    \u001b[49m\u001b[43mhow\u001b[49m\u001b[38;5;241;43m=\u001b[39;49m\u001b[38;5;124;43m\"\u001b[39;49m\u001b[38;5;124;43mhorizontal\u001b[39;49m\u001b[38;5;124;43m\"\u001b[39;49m\u001b[43m,\u001b[49m\n\u001b[1;32m     17\u001b[0m \u001b[43m)\u001b[49m\n\u001b[1;32m     19\u001b[0m lf \u001b[38;5;241m=\u001b[39m pl\u001b[38;5;241m.\u001b[39mconcat(\n\u001b[1;32m     20\u001b[0m     [\n\u001b[1;32m     21\u001b[0m         lf,\n\u001b[0;32m   (...)\u001b[0m\n\u001b[1;32m     32\u001b[0m     how\u001b[38;5;241m=\u001b[39m\u001b[38;5;124m\"\u001b[39m\u001b[38;5;124mhorizontal\u001b[39m\u001b[38;5;124m\"\u001b[39m,\n\u001b[1;32m     33\u001b[0m )\n\u001b[1;32m     35\u001b[0m lf\u001b[38;5;241m.\u001b[39mhead()\u001b[38;5;241m.\u001b[39mcollect()\n",
      "File \u001b[0;32m/app/.venv/lib/python3.11/site-packages/polars/functions/eager.py:234\u001b[0m, in \u001b[0;36mconcat\u001b[0;34m(items, how, rechunk, parallel)\u001b[0m\n\u001b[1;32m    224\u001b[0m     \u001b[38;5;28;01mreturn\u001b[39;00m wrap_ldf(\n\u001b[1;32m    225\u001b[0m         plr\u001b[38;5;241m.\u001b[39mconcat_lf_diagonal(\n\u001b[1;32m    226\u001b[0m             elems,\n\u001b[0;32m   (...)\u001b[0m\n\u001b[1;32m    230\u001b[0m         )\n\u001b[1;32m    231\u001b[0m     )\n\u001b[1;32m    232\u001b[0m \u001b[38;5;28;01melif\u001b[39;00m how \u001b[38;5;241m==\u001b[39m \u001b[38;5;124m\"\u001b[39m\u001b[38;5;124mhorizontal\u001b[39m\u001b[38;5;124m\"\u001b[39m:\n\u001b[1;32m    233\u001b[0m     \u001b[38;5;28;01mreturn\u001b[39;00m wrap_ldf(\n\u001b[0;32m--> 234\u001b[0m         \u001b[43mplr\u001b[49m\u001b[38;5;241;43m.\u001b[39;49m\u001b[43mconcat_lf_horizontal\u001b[49m\u001b[43m(\u001b[49m\n\u001b[1;32m    235\u001b[0m \u001b[43m            \u001b[49m\u001b[43melems\u001b[49m\u001b[43m,\u001b[49m\n\u001b[1;32m    236\u001b[0m \u001b[43m            \u001b[49m\u001b[43mparallel\u001b[49m\u001b[38;5;241;43m=\u001b[39;49m\u001b[43mparallel\u001b[49m\u001b[43m,\u001b[49m\n\u001b[1;32m    237\u001b[0m \u001b[43m        \u001b[49m\u001b[43m)\u001b[49m\n\u001b[1;32m    238\u001b[0m     )\n\u001b[1;32m    239\u001b[0m \u001b[38;5;28;01melse\u001b[39;00m:\n\u001b[1;32m    240\u001b[0m     allowed \u001b[38;5;241m=\u001b[39m \u001b[38;5;124m\"\u001b[39m\u001b[38;5;124m, \u001b[39m\u001b[38;5;124m\"\u001b[39m\u001b[38;5;241m.\u001b[39mjoin(\u001b[38;5;28mrepr\u001b[39m(m) \u001b[38;5;28;01mfor\u001b[39;00m m \u001b[38;5;129;01min\u001b[39;00m get_args(ConcatMethod))\n",
      "\u001b[0;31mColumnNotFoundError\u001b[0m: numerator\n\nError originated just after this operation:\n SELECT [col(\"index\").alias(\"index\"), col(\"date\").alias(\"date\"), col(\"cat\").strict_cast(Categorical(None, Physical)).alias(\"cat\"), col(\"ROLLING_SUM(rolling_sum[cat])[lag:30/win:30]\").alias(\"ROLLING_SUM(rolling_sum[cat])[lag:30/win:30]\")] FROM\n   WITH_COLUMNS:\n   [String(0).strict_cast(String).strict_cast(Categorical(None, Physical)).alias(\"cat\")]\n     WITH_COLUMNS:\n     [col(\"rolling_value_list\").alias(\"ROLLING_SUM(rolling_sum[cat])[lag:30/win:30]\")]\n      LEFT JOIN:\n      LEFT PLAN ON: [col(\"index\")]\n         SELECT [col(\"index\").alias(\"index\")] FROM\n          FILTER [(col(\"cat\").strict_cast(String)) == (String(0))] FROM\n\n           WITH_COLUMNS:\n           [String(0).alias(\"cat\")]\n            WITH ROW INDEX\n               WITH_COLUMNS:\n               [col(\"date\").str.strptime([String(raise)]).strict_cast(Date).alias(\"date\"), col(\"incr_value\").strict_cast(Float64).alias(\"incr_value\"), col(\"month_prior\").str.strptime([String(raise)]).strict_cast(Date).alias(\"month_prior\"), col(\"year_prior\").str.strptime([String(raise)]).strict_cast(Date).alias(\"year_prior\"), col(\"rolling_sum\").strict_cast(Float64).alias(\"rolling_sum\"), col(\"date\").str.strptime([String(raise)]).strict_cast(Date).alias(\"cur_date\"), col(\"cat1\").strict_cast(String).strict_cast(Categorical(None, Physical)).alias(\"cat1\"), col(\"cat2\").strict_cast(String).strict_cast(Categorical(None, Physical)).alias(\"cat2\")]\n\n                  Csv SCAN /app/predictables/encoding/tests/rolling_date_example.csv\n                  PROJECT */15 COLUMNS\n      RIGHT PLAN ON: [col(\"index\")]\n        SORT BY [col(\"index\")]\n          UNIQUE[maintain_order: false, keep_strategy: Any] BY None\n             SELECT [col(\"index\"), col(\"date\"), col(\"rolling_value_list\")] FROM\n               WITH_COLUMNS:\n               [col(\"value_list\").sum().over([col(\"index\")]).alias(\"rolling_value_list\")]\n                DF [\"index\", \"date\", \"value_list\"]; PROJECT */3 COLUMNS; SELECTION: \"None\"\n      END LEFT JOIN"
     ]
    }
   ],
   "source": [
    "lf = pl.concat(\n",
    "    [\n",
    "        lf,\n",
    "        DynamicRollingSum()\n",
    "        .lf(lf.with_row_index())\n",
    "        .x_col(\"rolling_sum\")\n",
    "        .x_name(\"numerator\")\n",
    "        .date_col(\"date\")\n",
    "        .index_col(\"index\")\n",
    "        .offset(30)\n",
    "        .window(30)\n",
    "        # .rejoin(True)\n",
    "        .run()\n",
    "        .select([pl.col(\"numerator\")]),\n",
    "    ],\n",
    "    how=\"horizontal\",\n",
    ")\n",
    "\n",
    "lf = pl.concat(\n",
    "    [\n",
    "        lf,\n",
    "        DynamicRollingCount()\n",
    "        .lf(lf.with_row_index())\n",
    "        .date_col(\"date\")\n",
    "        .index_col(\"index\")\n",
    "        .offset(30)\n",
    "        .window(30)\n",
    "        # .rejoin(True)\n",
    "        .run()\n",
    "        .select([pl.col(\"count\")]),\n",
    "    ],\n",
    "    how=\"horizontal\",\n",
    ")\n",
    "\n",
    "lf.head().collect()"
   ]
  },
  {
   "cell_type": "code",
   "execution_count": null,
   "metadata": {},
   "outputs": [
    {
     "data": {
      "text/html": [
       "<div><style>\n",
       ".dataframe > thead > tr,\n",
       ".dataframe > tbody > tr {\n",
       "  text-align: right;\n",
       "  white-space: pre-wrap;\n",
       "}\n",
       "</style>\n",
       "<small>shape: (1_764, 18)</small><table border=\"1\" class=\"dataframe\"><thead><tr><th>date</th><th>incr_value</th><th>month_prior</th><th>year_prior</th><th>rolling_sum</th><th>cat1</th><th>cat2</th><th>30_days_prior</th><th>60_days_prior</th><th>360_days_prior</th><th>390_days_prior</th><th>sum2</th><th>sum_cat1</th><th>sum_cat2</th><th>sum_catBOTH</th><th>cur_date</th><th>numerator</th><th>count</th></tr><tr><td>date</td><td>f64</td><td>date</td><td>date</td><td>f64</td><td>cat</td><td>cat</td><td>str</td><td>str</td><td>str</td><td>str</td><td>i64</td><td>i64</td><td>i64</td><td>i64</td><td>date</td><td>f64</td><td>f64</td></tr></thead><tbody><tr><td>2014-03-04</td><td>1.0</td><td>2014-02-04</td><td>2013-02-04</td><td>34.0</td><td>&quot;A&quot;</td><td>&quot;D&quot;</td><td>&quot;2/2/2014&quot;</td><td>&quot;1/3/2014&quot;</td><td>&quot;3/9/2013&quot;</td><td>&quot;2/7/2013&quot;</td><td>33</td><td>17</td><td>8</td><td>5</td><td>2014-03-04</td><td>1.0</td><td>30.0</td></tr><tr><td>2014-03-05</td><td>1.0</td><td>2014-02-05</td><td>2013-02-05</td><td>35.0</td><td>&quot;A&quot;</td><td>&quot;D&quot;</td><td>&quot;2/3/2014&quot;</td><td>&quot;1/4/2014&quot;</td><td>&quot;3/10/2013&quot;</td><td>&quot;2/8/2013&quot;</td><td>34</td><td>18</td><td>8</td><td>5</td><td>2014-03-05</td><td>3.0</td><td>30.0</td></tr><tr><td>2014-03-06</td><td>1.0</td><td>2014-02-06</td><td>2013-02-06</td><td>36.0</td><td>&quot;B&quot;</td><td>&quot;E&quot;</td><td>&quot;2/4/2014&quot;</td><td>&quot;1/5/2014&quot;</td><td>&quot;3/11/2013&quot;</td><td>&quot;2/9/2013&quot;</td><td>35</td><td>16</td><td>13</td><td>6</td><td>2014-03-06</td><td>6.0</td><td>30.0</td></tr><tr><td>2014-03-07</td><td>1.0</td><td>2014-02-07</td><td>2013-02-07</td><td>37.0</td><td>&quot;A&quot;</td><td>&quot;C&quot;</td><td>&quot;2/5/2014&quot;</td><td>&quot;1/6/2014&quot;</td><td>&quot;3/12/2013&quot;</td><td>&quot;2/10/2013&quot;</td><td>36</td><td>19</td><td>14</td><td>7</td><td>2014-03-07</td><td>10.0</td><td>30.0</td></tr><tr><td>2014-03-08</td><td>1.0</td><td>2014-02-08</td><td>2013-02-08</td><td>38.0</td><td>&quot;B&quot;</td><td>&quot;E&quot;</td><td>&quot;2/6/2014&quot;</td><td>&quot;1/7/2014&quot;</td><td>&quot;3/13/2013&quot;</td><td>&quot;2/11/2013&quot;</td><td>37</td><td>17</td><td>14</td><td>6</td><td>2014-03-08</td><td>15.0</td><td>30.0</td></tr><tr><td>&hellip;</td><td>&hellip;</td><td>&hellip;</td><td>&hellip;</td><td>&hellip;</td><td>&hellip;</td><td>&hellip;</td><td>&hellip;</td><td>&hellip;</td><td>&hellip;</td><td>&hellip;</td><td>&hellip;</td><td>&hellip;</td><td>&hellip;</td><td>&hellip;</td><td>&hellip;</td><td>&hellip;</td><td>&hellip;</td></tr><tr><td>2018-12-27</td><td>1.0</td><td>2018-11-27</td><td>2017-11-27</td><td>365.0</td><td>&quot;B&quot;</td><td>&quot;E&quot;</td><td>&quot;11/27/2018&quot;</td><td>&quot;10/28/2018&quot;</td><td>&quot;1/1/2018&quot;</td><td>&quot;12/2/2017&quot;</td><td>360</td><td>182</td><td>116</td><td>59</td><td>2018-12-27</td><td>10950.0</td><td>30.0</td></tr><tr><td>2018-12-28</td><td>1.0</td><td>2018-11-28</td><td>2017-11-28</td><td>365.0</td><td>&quot;B&quot;</td><td>&quot;E&quot;</td><td>&quot;11/28/2018&quot;</td><td>&quot;10/29/2018&quot;</td><td>&quot;1/2/2018&quot;</td><td>&quot;12/3/2017&quot;</td><td>360</td><td>181</td><td>116</td><td>58</td><td>2018-12-28</td><td>10950.0</td><td>30.0</td></tr><tr><td>2018-12-29</td><td>1.0</td><td>2018-11-29</td><td>2017-11-29</td><td>365.0</td><td>&quot;A&quot;</td><td>&quot;D&quot;</td><td>&quot;11/29/2018&quot;</td><td>&quot;10/30/2018&quot;</td><td>&quot;1/3/2018&quot;</td><td>&quot;12/4/2017&quot;</td><td>360</td><td>179</td><td>136</td><td>67</td><td>2018-12-29</td><td>10950.0</td><td>30.0</td></tr><tr><td>2018-12-30</td><td>1.0</td><td>2018-11-30</td><td>2017-11-30</td><td>365.0</td><td>&quot;A&quot;</td><td>&quot;C&quot;</td><td>&quot;11/30/2018&quot;</td><td>&quot;10/31/2018&quot;</td><td>&quot;1/4/2018&quot;</td><td>&quot;12/5/2017&quot;</td><td>360</td><td>179</td><td>109</td><td>54</td><td>2018-12-30</td><td>10950.0</td><td>30.0</td></tr><tr><td>2018-12-31</td><td>1.0</td><td>2018-12-01</td><td>2017-12-01</td><td>365.0</td><td>&quot;B&quot;</td><td>&quot;C&quot;</td><td>&quot;12/1/2018&quot;</td><td>&quot;11/1/2018&quot;</td><td>&quot;1/5/2018&quot;</td><td>&quot;12/6/2017&quot;</td><td>360</td><td>181</td><td>109</td><td>55</td><td>2018-12-31</td><td>10950.0</td><td>30.0</td></tr></tbody></table></div>"
      ],
      "text/plain": [
       "shape: (1_764, 18)\n",
       "┌────────────┬────────────┬────────────┬───────────┬───┬───────────┬───────────┬───────────┬───────┐\n",
       "│ date       ┆ incr_value ┆ month_prio ┆ year_prio ┆ … ┆ sum_catBO ┆ cur_date  ┆ numerator ┆ count │\n",
       "│ ---        ┆ ---        ┆ r          ┆ r         ┆   ┆ TH        ┆ ---       ┆ ---       ┆ ---   │\n",
       "│ date       ┆ f64        ┆ ---        ┆ ---       ┆   ┆ ---       ┆ date      ┆ f64       ┆ f64   │\n",
       "│            ┆            ┆ date       ┆ date      ┆   ┆ i64       ┆           ┆           ┆       │\n",
       "╞════════════╪════════════╪════════════╪═══════════╪═══╪═══════════╪═══════════╪═══════════╪═══════╡\n",
       "│ 2014-03-04 ┆ 1.0        ┆ 2014-02-04 ┆ 2013-02-0 ┆ … ┆ 5         ┆ 2014-03-0 ┆ 1.0       ┆ 30.0  │\n",
       "│            ┆            ┆            ┆ 4         ┆   ┆           ┆ 4         ┆           ┆       │\n",
       "│ 2014-03-05 ┆ 1.0        ┆ 2014-02-05 ┆ 2013-02-0 ┆ … ┆ 5         ┆ 2014-03-0 ┆ 3.0       ┆ 30.0  │\n",
       "│            ┆            ┆            ┆ 5         ┆   ┆           ┆ 5         ┆           ┆       │\n",
       "│ 2014-03-06 ┆ 1.0        ┆ 2014-02-06 ┆ 2013-02-0 ┆ … ┆ 6         ┆ 2014-03-0 ┆ 6.0       ┆ 30.0  │\n",
       "│            ┆            ┆            ┆ 6         ┆   ┆           ┆ 6         ┆           ┆       │\n",
       "│ 2014-03-07 ┆ 1.0        ┆ 2014-02-07 ┆ 2013-02-0 ┆ … ┆ 7         ┆ 2014-03-0 ┆ 10.0      ┆ 30.0  │\n",
       "│            ┆            ┆            ┆ 7         ┆   ┆           ┆ 7         ┆           ┆       │\n",
       "│ 2014-03-08 ┆ 1.0        ┆ 2014-02-08 ┆ 2013-02-0 ┆ … ┆ 6         ┆ 2014-03-0 ┆ 15.0      ┆ 30.0  │\n",
       "│            ┆            ┆            ┆ 8         ┆   ┆           ┆ 8         ┆           ┆       │\n",
       "│ …          ┆ …          ┆ …          ┆ …         ┆ … ┆ …         ┆ …         ┆ …         ┆ …     │\n",
       "│ 2018-12-27 ┆ 1.0        ┆ 2018-11-27 ┆ 2017-11-2 ┆ … ┆ 59        ┆ 2018-12-2 ┆ 10950.0   ┆ 30.0  │\n",
       "│            ┆            ┆            ┆ 7         ┆   ┆           ┆ 7         ┆           ┆       │\n",
       "│ 2018-12-28 ┆ 1.0        ┆ 2018-11-28 ┆ 2017-11-2 ┆ … ┆ 58        ┆ 2018-12-2 ┆ 10950.0   ┆ 30.0  │\n",
       "│            ┆            ┆            ┆ 8         ┆   ┆           ┆ 8         ┆           ┆       │\n",
       "│ 2018-12-29 ┆ 1.0        ┆ 2018-11-29 ┆ 2017-11-2 ┆ … ┆ 67        ┆ 2018-12-2 ┆ 10950.0   ┆ 30.0  │\n",
       "│            ┆            ┆            ┆ 9         ┆   ┆           ┆ 9         ┆           ┆       │\n",
       "│ 2018-12-30 ┆ 1.0        ┆ 2018-11-30 ┆ 2017-11-3 ┆ … ┆ 54        ┆ 2018-12-3 ┆ 10950.0   ┆ 30.0  │\n",
       "│            ┆            ┆            ┆ 0         ┆   ┆           ┆ 0         ┆           ┆       │\n",
       "│ 2018-12-31 ┆ 1.0        ┆ 2018-12-01 ┆ 2017-12-0 ┆ … ┆ 55        ┆ 2018-12-3 ┆ 10950.0   ┆ 30.0  │\n",
       "│            ┆            ┆            ┆ 1         ┆   ┆           ┆ 1         ┆           ┆       │\n",
       "└────────────┴────────────┴────────────┴───────────┴───┴───────────┴───────────┴───────────┴───────┘"
      ]
     },
     "execution_count": 4,
     "metadata": {},
     "output_type": "execute_result"
    }
   ],
   "source": [
    "lf.filter((pl.col(\"numerator\") != 0)).collect()"
   ]
  },
  {
   "cell_type": "code",
   "execution_count": null,
   "metadata": {},
   "outputs": [
    {
     "name": "stdout",
     "output_type": "stream",
     "text": [
      "['index', 'date', 'test random name']\n"
     ]
    }
   ],
   "source": [
    "rolling_sum_df = (\n",
    "    DynamicRollingSum()\n",
    "    .lf(lf.with_row_index())\n",
    "    .x_col(\"incr_value\")\n",
    "    .x_name(\"test random name\")\n",
    "    .date_col(\"date\")\n",
    "    .index_col(\"index\")\n",
    "    .offset(30)\n",
    "    .window(30)\n",
    "    .run()\n",
    ")\n",
    "\n",
    "print(rolling_sum_df.columns)"
   ]
  }
 ],
 "metadata": {
  "kernelspec": {
   "display_name": ".venv",
   "language": "python",
   "name": "python3"
  },
  "language_info": {
   "codemirror_mode": {
    "name": "ipython",
    "version": 3
   },
   "file_extension": ".py",
   "mimetype": "text/x-python",
   "name": "python",
   "nbconvert_exporter": "python",
   "pygments_lexer": "ipython3",
   "version": "3.11.8"
  },
  "orig_nbformat": 4
 },
 "nbformat": 4,
 "nbformat_minor": 2
}
