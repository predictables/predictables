{
 "cells": [
  {
   "cell_type": "code",
   "execution_count": 6,
   "metadata": {},
   "outputs": [],
   "source": [
    "import os\n",
    "\n",
    "import polars as pl\n",
    "\n",
    "os.chdir(\"../../../\")\n",
    "\n",
    "# predictables\\encoding\\src\\lagged_mean_encoding\\_dynamic_rolling_sum.py\n",
    "from predictables.encoding.src.lagged_mean_encoding._dynamic_rolling_sum import (\n",
    "    DynamicRollingSum,\n",
    ")\n",
    "from predictables.encoding.src.lagged_mean_encoding._dynamic_rolling_mean import (\n",
    "    DynamicRollingSum,\n",
    ")"
   ]
  },
  {
   "cell_type": "code",
   "execution_count": 10,
   "metadata": {},
   "outputs": [
    {
     "data": {
      "text/html": [
       "<div><style>\n",
       ".dataframe > thead > tr,\n",
       ".dataframe > tbody > tr {\n",
       "  text-align: right;\n",
       "  white-space: pre-wrap;\n",
       "}\n",
       "</style>\n",
       "<small>shape: (5, 16)</small><table border=\"1\" class=\"dataframe\"><thead><tr><th>date</th><th>incr_value</th><th>month_prior</th><th>year_prior</th><th>rolling_sum</th><th>cat1</th><th>cat2</th><th>30_days_prior</th><th>60_days_prior</th><th>360_days_prior</th><th>390_days_prior</th><th>sum2</th><th>sum_cat1</th><th>sum_cat2</th><th>sum_catBOTH</th><th>cur_date</th></tr><tr><td>date</td><td>f64</td><td>date</td><td>date</td><td>f64</td><td>cat</td><td>cat</td><td>str</td><td>str</td><td>str</td><td>str</td><td>i64</td><td>i64</td><td>i64</td><td>i64</td><td>date</td></tr></thead><tbody><tr><td>2014-01-01</td><td>1.0</td><td>2013-12-01</td><td>2012-12-01</td><td>0.0</td><td>&quot;B&quot;</td><td>&quot;C&quot;</td><td>&quot;12/2/2013&quot;</td><td>&quot;11/2/2013&quot;</td><td>&quot;1/6/2013&quot;</td><td>&quot;12/7/2012&quot;</td><td>0</td><td>0</td><td>0</td><td>0</td><td>2014-01-01</td></tr><tr><td>2014-01-02</td><td>1.0</td><td>2013-12-02</td><td>2012-12-02</td><td>0.0</td><td>&quot;A&quot;</td><td>&quot;C&quot;</td><td>&quot;12/3/2013&quot;</td><td>&quot;11/3/2013&quot;</td><td>&quot;1/7/2013&quot;</td><td>&quot;12/8/2012&quot;</td><td>0</td><td>0</td><td>0</td><td>0</td><td>2014-01-02</td></tr><tr><td>2014-01-03</td><td>1.0</td><td>2013-12-03</td><td>2012-12-03</td><td>0.0</td><td>&quot;B&quot;</td><td>&quot;D&quot;</td><td>&quot;12/4/2013&quot;</td><td>&quot;11/4/2013&quot;</td><td>&quot;1/8/2013&quot;</td><td>&quot;12/9/2012&quot;</td><td>0</td><td>0</td><td>0</td><td>0</td><td>2014-01-03</td></tr><tr><td>2014-01-04</td><td>1.0</td><td>2013-12-04</td><td>2012-12-04</td><td>0.0</td><td>&quot;B&quot;</td><td>&quot;D&quot;</td><td>&quot;12/5/2013&quot;</td><td>&quot;11/5/2013&quot;</td><td>&quot;1/9/2013&quot;</td><td>&quot;12/10/2012&quot;</td><td>0</td><td>0</td><td>0</td><td>0</td><td>2014-01-04</td></tr><tr><td>2014-01-05</td><td>1.0</td><td>2013-12-05</td><td>2012-12-05</td><td>0.0</td><td>&quot;B&quot;</td><td>&quot;E&quot;</td><td>&quot;12/6/2013&quot;</td><td>&quot;11/6/2013&quot;</td><td>&quot;1/10/2013&quot;</td><td>&quot;12/11/2012&quot;</td><td>0</td><td>0</td><td>0</td><td>0</td><td>2014-01-05</td></tr></tbody></table></div>"
      ],
      "text/plain": [
       "shape: (5, 16)\n",
       "┌────────────┬───────────┬───────────┬───────────┬───┬──────────┬──────────┬───────────┬───────────┐\n",
       "│ date       ┆ incr_valu ┆ month_pri ┆ year_prio ┆ … ┆ sum_cat1 ┆ sum_cat2 ┆ sum_catBO ┆ cur_date  │\n",
       "│ ---        ┆ e         ┆ or        ┆ r         ┆   ┆ ---      ┆ ---      ┆ TH        ┆ ---       │\n",
       "│ date       ┆ ---       ┆ ---       ┆ ---       ┆   ┆ i64      ┆ i64      ┆ ---       ┆ date      │\n",
       "│            ┆ f64       ┆ date      ┆ date      ┆   ┆          ┆          ┆ i64       ┆           │\n",
       "╞════════════╪═══════════╪═══════════╪═══════════╪═══╪══════════╪══════════╪═══════════╪═══════════╡\n",
       "│ 2014-01-01 ┆ 1.0       ┆ 2013-12-0 ┆ 2012-12-0 ┆ … ┆ 0        ┆ 0        ┆ 0         ┆ 2014-01-0 │\n",
       "│            ┆           ┆ 1         ┆ 1         ┆   ┆          ┆          ┆           ┆ 1         │\n",
       "│ 2014-01-02 ┆ 1.0       ┆ 2013-12-0 ┆ 2012-12-0 ┆ … ┆ 0        ┆ 0        ┆ 0         ┆ 2014-01-0 │\n",
       "│            ┆           ┆ 2         ┆ 2         ┆   ┆          ┆          ┆           ┆ 2         │\n",
       "│ 2014-01-03 ┆ 1.0       ┆ 2013-12-0 ┆ 2012-12-0 ┆ … ┆ 0        ┆ 0        ┆ 0         ┆ 2014-01-0 │\n",
       "│            ┆           ┆ 3         ┆ 3         ┆   ┆          ┆          ┆           ┆ 3         │\n",
       "│ 2014-01-04 ┆ 1.0       ┆ 2013-12-0 ┆ 2012-12-0 ┆ … ┆ 0        ┆ 0        ┆ 0         ┆ 2014-01-0 │\n",
       "│            ┆           ┆ 4         ┆ 4         ┆   ┆          ┆          ┆           ┆ 4         │\n",
       "│ 2014-01-05 ┆ 1.0       ┆ 2013-12-0 ┆ 2012-12-0 ┆ … ┆ 0        ┆ 0        ┆ 0         ┆ 2014-01-0 │\n",
       "│            ┆           ┆ 5         ┆ 5         ┆   ┆          ┆          ┆           ┆ 5         │\n",
       "└────────────┴───────────┴───────────┴───────────┴───┴──────────┴──────────┴───────────┴───────────┘"
      ]
     },
     "execution_count": 10,
     "metadata": {},
     "output_type": "execute_result"
    }
   ],
   "source": [
    "date_fmt_str = \"%m/%d/%Y\"\n",
    "\n",
    "lf = pl.scan_csv(\n",
    "    \"/app/predictables/encoding/tests/rolling_date_example.csv\"\n",
    ").with_columns(\n",
    "    [\n",
    "        pl.col(\"date\").str.to_date(format=date_fmt_str).cast(pl.Date).name.keep(),\n",
    "        pl.col(\"incr_value\").cast(pl.Float64).name.keep(),\n",
    "        pl.col(\"month_prior\")\n",
    "        .str.to_date(format=date_fmt_str)\n",
    "        .cast(pl.Date)\n",
    "        .name.keep(),\n",
    "        pl.col(\"year_prior\").str.to_date(format=date_fmt_str).cast(pl.Date).name.keep(),\n",
    "        pl.col(\"rolling_sum\").cast(pl.Float64).name.keep(),\n",
    "        pl.col(\"date\").str.to_date(format=date_fmt_str).cast(pl.Date).alias(\"cur_date\"),\n",
    "        pl.col(\"cat1\").cast(pl.Utf8).cast(pl.Categorical).name.keep(),\n",
    "        pl.col(\"cat2\").cast(pl.Utf8).cast(pl.Categorical).name.keep(),\n",
    "    ]\n",
    ")\n",
    "lf.head().collect()"
   ]
  },
  {
   "cell_type": "code",
   "execution_count": 17,
   "metadata": {},
   "outputs": [
    {
     "data": {
      "text/html": [
       "<div><style>\n",
       ".dataframe > thead > tr,\n",
       ".dataframe > tbody > tr {\n",
       "  text-align: right;\n",
       "  white-space: pre-wrap;\n",
       "}\n",
       "</style>\n",
       "<small>shape: (1_826, 3)</small><table border=\"1\" class=\"dataframe\"><thead><tr><th>index</th><th>date</th><th>rolling_value_list</th></tr><tr><td>u32</td><td>date</td><td>f64</td></tr></thead><tbody><tr><td>0</td><td>2014-01-01</td><td>0.0</td></tr><tr><td>1</td><td>2014-01-02</td><td>0.0</td></tr><tr><td>2</td><td>2014-01-03</td><td>0.0</td></tr><tr><td>3</td><td>2014-01-04</td><td>0.0</td></tr><tr><td>4</td><td>2014-01-05</td><td>0.0</td></tr><tr><td>&hellip;</td><td>&hellip;</td><td>&hellip;</td></tr><tr><td>1821</td><td>2018-12-27</td><td>30.0</td></tr><tr><td>1822</td><td>2018-12-28</td><td>30.0</td></tr><tr><td>1823</td><td>2018-12-29</td><td>30.0</td></tr><tr><td>1824</td><td>2018-12-30</td><td>30.0</td></tr><tr><td>1825</td><td>2018-12-31</td><td>30.0</td></tr></tbody></table></div>"
      ],
      "text/plain": [
       "shape: (1_826, 3)\n",
       "┌───────┬────────────┬────────────────────┐\n",
       "│ index ┆ date       ┆ rolling_value_list │\n",
       "│ ---   ┆ ---        ┆ ---                │\n",
       "│ u32   ┆ date       ┆ f64                │\n",
       "╞═══════╪════════════╪════════════════════╡\n",
       "│ 0     ┆ 2014-01-01 ┆ 0.0                │\n",
       "│ 1     ┆ 2014-01-02 ┆ 0.0                │\n",
       "│ 2     ┆ 2014-01-03 ┆ 0.0                │\n",
       "│ 3     ┆ 2014-01-04 ┆ 0.0                │\n",
       "│ 4     ┆ 2014-01-05 ┆ 0.0                │\n",
       "│ …     ┆ …          ┆ …                  │\n",
       "│ 1821  ┆ 2018-12-27 ┆ 30.0               │\n",
       "│ 1822  ┆ 2018-12-28 ┆ 30.0               │\n",
       "│ 1823  ┆ 2018-12-29 ┆ 30.0               │\n",
       "│ 1824  ┆ 2018-12-30 ┆ 30.0               │\n",
       "│ 1825  ┆ 2018-12-31 ┆ 30.0               │\n",
       "└───────┴────────────┴────────────────────┘"
      ]
     },
     "execution_count": 17,
     "metadata": {},
     "output_type": "execute_result"
    }
   ],
   "source": [
    "(\n",
    "    DynamicRollingSum()\n",
    "    .lf(lf.with_row_index())\n",
    "    .x_col(\"incr_value\")\n",
    "    .date_col(\"date\")\n",
    "    .index_col(\"index\")\n",
    "    .offset(30)\n",
    "    .window(30)\n",
    ").run().collect()"
   ]
  }
 ],
 "metadata": {
  "kernelspec": {
   "display_name": ".venv",
   "language": "python",
   "name": "python3"
  },
  "language_info": {
   "codemirror_mode": {
    "name": "ipython",
    "version": 3
   },
   "file_extension": ".py",
   "mimetype": "text/x-python",
   "name": "python",
   "nbconvert_exporter": "python",
   "pygments_lexer": "ipython3",
   "version": "3.11.8"
  },
  "orig_nbformat": 4
 },
 "nbformat": 4,
 "nbformat_minor": 2
}
