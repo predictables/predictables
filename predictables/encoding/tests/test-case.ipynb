{
 "cells": [
  {
   "cell_type": "code",
   "execution_count": 1,
   "metadata": {},
   "outputs": [],
   "source": [
    "import os\n",
    "import polars as pl\n",
    "\n",
    "os.chdir(\"../../../\")\n",
    "\n",
    "# predictables\\encoding\\src\\lagged_mean_encoding\\_dynamic_rolling_sum.py\n",
    "from predictables.encoding.src.lagged_mean_encoding._dynamic_rolling_sum import (\n",
    "    DynamicRollingSum,\n",
    "    dynamic_rolling_sum,\n",
    ")\n",
    "from predictables.encoding.src.lagged_mean_encoding._dynamic_rolling_count import (\n",
    "    DynamicRollingCount,\n",
    ")"
   ]
  },
  {
   "cell_type": "code",
   "execution_count": 2,
   "metadata": {},
   "outputs": [
    {
     "data": {
      "text/html": [
       "<div><style>\n",
       ".dataframe > thead > tr,\n",
       ".dataframe > tbody > tr {\n",
       "  text-align: right;\n",
       "  white-space: pre-wrap;\n",
       "}\n",
       "</style>\n",
       "<small>shape: (2_559, 47)</small><table border=\"1\" class=\"dataframe\"><thead><tr><th>index</th><th>date</th><th>trans_id</th><th>product_cat</th><th>product_subcat</th><th>product_code</th><th>prob</th><th>hit</th><th>30_days_prior</th><th>60_days_prior</th><th>90_days_prior</th><th>total_30_30_sum</th><th>total_30_60_sum</th><th>total_60_30_sum</th><th>total_30_30_average</th><th>total_30_60_average</th><th>total_60_30_average</th><th>cat_30_30_average</th><th>cat_30_60_average</th><th>cat_60_30_average</th><th>subcat_30_30_average</th><th>subcat_30_60_average</th><th>subcat_60_30_average</th><th>code_30_30_average</th><th>code_30_60_average</th><th>code_60_30_average</th><th>total_30_30_average_laplace(1)_smoothed</th><th>total_30_60_average_laplace(1)_smoothed</th><th>total_60_30_average_laplace(1)_smoothed</th><th>cat_30_30_average_laplace(1)_smoothed</th><th>cat_30_60_average_laplace(1)_smoothed</th><th>cat_60_30_average_laplace(1)_smoothed</th><th>subcat_30_30_average_laplace(1)_smoothed</th><th>subcat_30_60_average_laplace(1)_smoothed</th><th>subcat_60_30_average_laplace(1)_smoothed</th><th>code_30_30_average_laplace(1)_smoothed</th><th>code_30_60_average_laplace(1)_smoothed</th><th>code_60_30_average_laplace(1)_smoothed</th><th>cred_wtd_30_30_average</th><th>cred_wtd_30_60_average</th><th>cred_wtd_60_30_average</th><th>cred_wtd_30_30_Z</th><th>cred_wtd_30_60_Z</th><th>cred_wtd_60_30_Z</th><th>cred_wtd_30_30_n</th><th>cred_wtd_30_60_n</th><th>cred_wtd_60_30_n</th></tr><tr><td>u32</td><td>date</td><td>i64</td><td>str</td><td>str</td><td>str</td><td>f64</td><td>i64</td><td>date</td><td>date</td><td>date</td><td>i64</td><td>i64</td><td>i64</td><td>f64</td><td>f64</td><td>f64</td><td>f64</td><td>f64</td><td>f64</td><td>f64</td><td>f64</td><td>f64</td><td>f64</td><td>f64</td><td>f64</td><td>f64</td><td>f64</td><td>f64</td><td>f64</td><td>f64</td><td>f64</td><td>f64</td><td>f64</td><td>f64</td><td>f64</td><td>f64</td><td>f64</td><td>f64</td><td>f64</td><td>f64</td><td>f64</td><td>f64</td><td>f64</td><td>i64</td><td>i64</td><td>i64</td></tr></thead><tbody><tr><td>0</td><td>2020-01-01</td><td>1</td><td>&quot;D&quot;</td><td>&quot;f&quot;</td><td>&quot;D-f&quot;</td><td>0.362041</td><td>1</td><td>2019-12-02</td><td>2019-11-02</td><td>2019-10-03</td><td>0</td><td>0</td><td>0</td><td>0.0</td><td>0.0</td><td>0.0</td><td>0.0</td><td>0.0</td><td>0.0</td><td>0.0</td><td>0.0</td><td>0.0</td><td>0.0</td><td>0.0</td><td>0.0</td><td>0.5</td><td>0.5</td><td>0.5</td><td>0.5</td><td>0.5</td><td>0.5</td><td>0.5</td><td>0.5</td><td>0.5</td><td>0.5</td><td>0.5</td><td>0.5</td><td>0.5</td><td>0.5</td><td>0.5</td><td>0.0</td><td>0.0</td><td>0.0</td><td>0</td><td>0</td><td>0</td></tr><tr><td>1</td><td>2020-01-02</td><td>1</td><td>&quot;B&quot;</td><td>&quot;f&quot;</td><td>&quot;B-f&quot;</td><td>0.669999</td><td>1</td><td>2019-12-03</td><td>2019-11-03</td><td>2019-10-04</td><td>0</td><td>0</td><td>0</td><td>0.0</td><td>0.0</td><td>0.0</td><td>0.0</td><td>0.0</td><td>0.0</td><td>0.0</td><td>0.0</td><td>0.0</td><td>0.0</td><td>0.0</td><td>0.0</td><td>0.5</td><td>0.5</td><td>0.5</td><td>0.5</td><td>0.5</td><td>0.5</td><td>0.5</td><td>0.5</td><td>0.5</td><td>0.5</td><td>0.5</td><td>0.5</td><td>0.5</td><td>0.5</td><td>0.5</td><td>0.0</td><td>0.0</td><td>0.0</td><td>0</td><td>0</td><td>0</td></tr><tr><td>2</td><td>2020-01-03</td><td>1</td><td>&quot;A&quot;</td><td>&quot;d&quot;</td><td>&quot;A-d&quot;</td><td>0.795662</td><td>0</td><td>2019-12-04</td><td>2019-11-04</td><td>2019-10-05</td><td>0</td><td>0</td><td>0</td><td>0.0</td><td>0.0</td><td>0.0</td><td>0.0</td><td>0.0</td><td>0.0</td><td>0.0</td><td>0.0</td><td>0.0</td><td>0.0</td><td>0.0</td><td>0.0</td><td>0.5</td><td>0.5</td><td>0.5</td><td>0.5</td><td>0.5</td><td>0.5</td><td>0.5</td><td>0.5</td><td>0.5</td><td>0.5</td><td>0.5</td><td>0.5</td><td>0.5</td><td>0.5</td><td>0.5</td><td>0.0</td><td>0.0</td><td>0.0</td><td>0</td><td>0</td><td>0</td></tr><tr><td>3</td><td>2020-01-03</td><td>2</td><td>&quot;A&quot;</td><td>&quot;e&quot;</td><td>&quot;A-e&quot;</td><td>0.764309</td><td>1</td><td>2019-12-04</td><td>2019-11-04</td><td>2019-10-05</td><td>0</td><td>0</td><td>0</td><td>0.0</td><td>0.0</td><td>0.0</td><td>0.0</td><td>0.0</td><td>0.0</td><td>0.0</td><td>0.0</td><td>0.0</td><td>0.0</td><td>0.0</td><td>0.0</td><td>0.5</td><td>0.5</td><td>0.5</td><td>0.5</td><td>0.5</td><td>0.5</td><td>0.5</td><td>0.5</td><td>0.5</td><td>0.5</td><td>0.5</td><td>0.5</td><td>0.5</td><td>0.5</td><td>0.5</td><td>0.0</td><td>0.0</td><td>0.0</td><td>0</td><td>0</td><td>0</td></tr><tr><td>4</td><td>2020-01-04</td><td>1</td><td>&quot;D&quot;</td><td>&quot;c&quot;</td><td>&quot;D-c&quot;</td><td>0.41674</td><td>1</td><td>2019-12-05</td><td>2019-11-05</td><td>2019-10-06</td><td>0</td><td>0</td><td>0</td><td>0.0</td><td>0.0</td><td>0.0</td><td>0.0</td><td>0.0</td><td>0.0</td><td>0.0</td><td>0.0</td><td>0.0</td><td>0.0</td><td>0.0</td><td>0.0</td><td>0.5</td><td>0.5</td><td>0.5</td><td>0.5</td><td>0.5</td><td>0.5</td><td>0.5</td><td>0.5</td><td>0.5</td><td>0.5</td><td>0.5</td><td>0.5</td><td>0.5</td><td>0.5</td><td>0.5</td><td>0.0</td><td>0.0</td><td>0.0</td><td>0</td><td>0</td><td>0</td></tr><tr><td>&hellip;</td><td>&hellip;</td><td>&hellip;</td><td>&hellip;</td><td>&hellip;</td><td>&hellip;</td><td>&hellip;</td><td>&hellip;</td><td>&hellip;</td><td>&hellip;</td><td>&hellip;</td><td>&hellip;</td><td>&hellip;</td><td>&hellip;</td><td>&hellip;</td><td>&hellip;</td><td>&hellip;</td><td>&hellip;</td><td>&hellip;</td><td>&hellip;</td><td>&hellip;</td><td>&hellip;</td><td>&hellip;</td><td>&hellip;</td><td>&hellip;</td><td>&hellip;</td><td>&hellip;</td><td>&hellip;</td><td>&hellip;</td><td>&hellip;</td><td>&hellip;</td><td>&hellip;</td><td>&hellip;</td><td>&hellip;</td><td>&hellip;</td><td>&hellip;</td><td>&hellip;</td><td>&hellip;</td><td>&hellip;</td><td>&hellip;</td><td>&hellip;</td><td>&hellip;</td><td>&hellip;</td><td>&hellip;</td><td>&hellip;</td><td>&hellip;</td><td>&hellip;</td></tr><tr><td>2554</td><td>2023-08-27</td><td>2</td><td>&quot;A&quot;</td><td>&quot;c&quot;</td><td>&quot;A-c&quot;</td><td>0.96099</td><td>0</td><td>2023-07-28</td><td>2023-06-28</td><td>2023-05-29</td><td>14</td><td>27</td><td>13</td><td>0.23729</td><td>0.23684</td><td>0.23636</td><td>0.07692</td><td>0.0</td><td>0.0</td><td>0.0</td><td>0.18182</td><td>0.18182</td><td>0.0</td><td>0.0</td><td>0.0</td><td>0.25</td><td>0.24348</td><td>0.25</td><td>0.14286</td><td>0.07143</td><td>0.07143</td><td>0.09091</td><td>0.25</td><td>0.25</td><td>0.2</td><td>0.25</td><td>0.25</td><td>0.20238</td><td>0.14312</td><td>0.18304</td><td>0.44444</td><td>0.58333</td><td>0.375</td><td>4</td><td>7</td><td>3</td></tr><tr><td>2555</td><td>2023-08-28</td><td>1</td><td>&quot;B&quot;</td><td>&quot;c&quot;</td><td>&quot;B-c&quot;</td><td>0.912941</td><td>0</td><td>2023-07-29</td><td>2023-06-29</td><td>2023-05-30</td><td>14</td><td>27</td><td>13</td><td>0.24138</td><td>0.23894</td><td>0.23636</td><td>0.11765</td><td>0.0625</td><td>0.0625</td><td>0.0</td><td>0.2</td><td>0.2</td><td>0.0</td><td>0.0</td><td>0.0</td><td>0.25424</td><td>0.24561</td><td>0.25</td><td>0.16667</td><td>0.11765</td><td>0.11765</td><td>0.09091</td><td>0.27273</td><td>0.27273</td><td>0.16667</td><td>0.25</td><td>0.25</td><td>0.21046</td><td>0.16687</td><td>0.20037</td><td>0.5</td><td>0.61538</td><td>0.375</td><td>5</td><td>8</td><td>3</td></tr><tr><td>2556</td><td>2023-08-28</td><td>2</td><td>&quot;C&quot;</td><td>&quot;d&quot;</td><td>&quot;C-d&quot;</td><td>0.767156</td><td>0</td><td>2023-07-29</td><td>2023-06-29</td><td>2023-05-30</td><td>14</td><td>27</td><td>13</td><td>0.24138</td><td>0.23894</td><td>0.23636</td><td>0.26667</td><td>0.25</td><td>0.25</td><td>0.25</td><td>0.33333</td><td>0.33333</td><td>0.5</td><td>0.5</td><td>0.5</td><td>0.25424</td><td>0.24561</td><td>0.25</td><td>0.3125</td><td>0.30769</td><td>0.30769</td><td>0.30769</td><td>0.38462</td><td>0.38462</td><td>0.6</td><td>0.6</td><td>0.6</td><td>0.28013</td><td>0.28381</td><td>0.27564</td><td>0.44444</td><td>0.61538</td><td>0.44444</td><td>4</td><td>8</td><td>4</td></tr><tr><td>2557</td><td>2023-08-28</td><td>3</td><td>&quot;C&quot;</td><td>&quot;c&quot;</td><td>&quot;C-c&quot;</td><td>0.782733</td><td>0</td><td>2023-07-29</td><td>2023-06-29</td><td>2023-05-30</td><td>14</td><td>27</td><td>13</td><td>0.24138</td><td>0.23894</td><td>0.23636</td><td>0.26667</td><td>0.25</td><td>0.25</td><td>0.0</td><td>0.2</td><td>0.2</td><td>0.0</td><td>0.0</td><td>0.0</td><td>0.25424</td><td>0.24561</td><td>0.25</td><td>0.3125</td><td>0.30769</td><td>0.30769</td><td>0.09091</td><td>0.27273</td><td>0.27273</td><td>0.5</td><td>0.5</td><td>0.5</td><td>0.26395</td><td>0.26335</td><td>0.25962</td><td>0.16667</td><td>0.28571</td><td>0.16667</td><td>1</td><td>2</td><td>1</td></tr><tr><td>2558</td><td>2023-08-28</td><td>4</td><td>&quot;C&quot;</td><td>&quot;e&quot;</td><td>&quot;C-e&quot;</td><td>0.736927</td><td>0</td><td>2023-07-29</td><td>2023-06-29</td><td>2023-05-30</td><td>14</td><td>27</td><td>13</td><td>0.24138</td><td>0.23894</td><td>0.23636</td><td>0.26667</td><td>0.25</td><td>0.25</td><td>0.25</td><td>0.33333</td><td>0.33333</td><td>0.0</td><td>0.5</td><td>0.5</td><td>0.25424</td><td>0.24561</td><td>0.25</td><td>0.3125</td><td>0.30769</td><td>0.30769</td><td>0.4</td><td>0.4</td><td>0.4</td><td>0.25</td><td>0.66667</td><td>0.66667</td><td>0.27609</td><td>0.27665</td><td>0.26648</td><td>0.375</td><td>0.5</td><td>0.28571</td><td>3</td><td>5</td><td>2</td></tr></tbody></table></div>"
      ],
      "text/plain": [
       "shape: (2_559, 47)\n",
       "┌───────┬────────────┬──────────┬────────────┬───┬────────────┬────────────┬───────────┬───────────┐\n",
       "│ index ┆ date       ┆ trans_id ┆ product_ca ┆ … ┆ cred_wtd_6 ┆ cred_wtd_3 ┆ cred_wtd_ ┆ cred_wtd_ │\n",
       "│ ---   ┆ ---        ┆ ---      ┆ t          ┆   ┆ 0_30_Z     ┆ 0_30_n     ┆ 30_60_n   ┆ 60_30_n   │\n",
       "│ u32   ┆ date       ┆ i64      ┆ ---        ┆   ┆ ---        ┆ ---        ┆ ---       ┆ ---       │\n",
       "│       ┆            ┆          ┆ str        ┆   ┆ f64        ┆ i64        ┆ i64       ┆ i64       │\n",
       "╞═══════╪════════════╪══════════╪════════════╪═══╪════════════╪════════════╪═══════════╪═══════════╡\n",
       "│ 0     ┆ 2020-01-01 ┆ 1        ┆ D          ┆ … ┆ 0.0        ┆ 0          ┆ 0         ┆ 0         │\n",
       "│ 1     ┆ 2020-01-02 ┆ 1        ┆ B          ┆ … ┆ 0.0        ┆ 0          ┆ 0         ┆ 0         │\n",
       "│ 2     ┆ 2020-01-03 ┆ 1        ┆ A          ┆ … ┆ 0.0        ┆ 0          ┆ 0         ┆ 0         │\n",
       "│ 3     ┆ 2020-01-03 ┆ 2        ┆ A          ┆ … ┆ 0.0        ┆ 0          ┆ 0         ┆ 0         │\n",
       "│ 4     ┆ 2020-01-04 ┆ 1        ┆ D          ┆ … ┆ 0.0        ┆ 0          ┆ 0         ┆ 0         │\n",
       "│ …     ┆ …          ┆ …        ┆ …          ┆ … ┆ …          ┆ …          ┆ …         ┆ …         │\n",
       "│ 2554  ┆ 2023-08-27 ┆ 2        ┆ A          ┆ … ┆ 0.375      ┆ 4          ┆ 7         ┆ 3         │\n",
       "│ 2555  ┆ 2023-08-28 ┆ 1        ┆ B          ┆ … ┆ 0.375      ┆ 5          ┆ 8         ┆ 3         │\n",
       "│ 2556  ┆ 2023-08-28 ┆ 2        ┆ C          ┆ … ┆ 0.44444    ┆ 4          ┆ 8         ┆ 4         │\n",
       "│ 2557  ┆ 2023-08-28 ┆ 3        ┆ C          ┆ … ┆ 0.16667    ┆ 1          ┆ 2         ┆ 1         │\n",
       "│ 2558  ┆ 2023-08-28 ┆ 4        ┆ C          ┆ … ┆ 0.28571    ┆ 3          ┆ 5         ┆ 2         │\n",
       "└───────┴────────────┴──────────┴────────────┴───┴────────────┴────────────┴───────────┴───────────┘"
      ]
     },
     "execution_count": 2,
     "metadata": {},
     "output_type": "execute_result"
    }
   ],
   "source": [
    "# lf = pl.scan_parquet(\n",
    "#     \"predictables/encoding/tests/ts_testing_df.parquet\"\n",
    "# ).with_row_index()\n",
    "import polars.selectors as cs\n",
    "\n",
    "lf = pl.read_excel(\"ts_testing.xlsx\", sheet_name=\"Values\", engine=\"calamine\").lazy()\n",
    "lf = lf.with_columns(\n",
    "    [\n",
    "        pl.col(col).cast(pl.Float64).round(6).name.keep()\n",
    "        for col in lf.select(cs.float()).columns\n",
    "    ]\n",
    ").with_row_index()\n",
    "# lf.select([pl.col(\"30_days_prior\"), pl.col(\"60_days_prior\")]).select(\n",
    "#     [\n",
    "#         pl.col(\"60_days_prior\").name.keep(),\n",
    "#         pl.date_ranges(pl.col(\"60_days_prior\"), pl.col(\"30_days_prior\"), \"1d\").alias(\n",
    "#             \"date_list\"\n",
    "#         ),\n",
    "#     ]\n",
    "# ).collect().with_columns(\n",
    "#     [pl.col(\"date_list\").list.eval(pl.element().dt.to_string(\"%Y-%m-%d\"))]\n",
    "# )\n",
    "lf.collect().write_parquet(\"ts_testing.parquet\")\n",
    "lf.collect()"
   ]
  },
  {
   "cell_type": "code",
   "execution_count": 3,
   "metadata": {},
   "outputs": [
    {
     "data": {
      "text/html": [
       "<div><style>\n",
       ".dataframe > thead > tr,\n",
       ".dataframe > tbody > tr {\n",
       "  text-align: right;\n",
       "  white-space: pre-wrap;\n",
       "}\n",
       "</style>\n",
       "<small>shape: (2_559, 5)</small><table border=\"1\" class=\"dataframe\"><thead><tr><th>index</th><th>date</th><th>rolling_hit</th><th>total_30_30_sum</th><th>diff</th></tr><tr><td>u32</td><td>date</td><td>f64</td><td>i64</td><td>f64</td></tr></thead><tbody><tr><td>0</td><td>2020-01-01</td><td>0.0</td><td>0</td><td>0.0</td></tr><tr><td>1</td><td>2020-01-02</td><td>0.0</td><td>0</td><td>0.0</td></tr><tr><td>2</td><td>2020-01-03</td><td>0.0</td><td>0</td><td>0.0</td></tr><tr><td>3</td><td>2020-01-03</td><td>0.0</td><td>0</td><td>0.0</td></tr><tr><td>4</td><td>2020-01-04</td><td>0.0</td><td>0</td><td>0.0</td></tr><tr><td>&hellip;</td><td>&hellip;</td><td>&hellip;</td><td>&hellip;</td><td>&hellip;</td></tr><tr><td>2554</td><td>2023-08-27</td><td>14.0</td><td>14</td><td>0.0</td></tr><tr><td>2555</td><td>2023-08-28</td><td>14.0</td><td>14</td><td>0.0</td></tr><tr><td>2556</td><td>2023-08-28</td><td>14.0</td><td>14</td><td>0.0</td></tr><tr><td>2557</td><td>2023-08-28</td><td>14.0</td><td>14</td><td>0.0</td></tr><tr><td>2558</td><td>2023-08-28</td><td>14.0</td><td>14</td><td>0.0</td></tr></tbody></table></div>"
      ],
      "text/plain": [
       "shape: (2_559, 5)\n",
       "┌───────┬────────────┬─────────────┬─────────────────┬──────┐\n",
       "│ index ┆ date       ┆ rolling_hit ┆ total_30_30_sum ┆ diff │\n",
       "│ ---   ┆ ---        ┆ ---         ┆ ---             ┆ ---  │\n",
       "│ u32   ┆ date       ┆ f64         ┆ i64             ┆ f64  │\n",
       "╞═══════╪════════════╪═════════════╪═════════════════╪══════╡\n",
       "│ 0     ┆ 2020-01-01 ┆ 0.0         ┆ 0               ┆ 0.0  │\n",
       "│ 1     ┆ 2020-01-02 ┆ 0.0         ┆ 0               ┆ 0.0  │\n",
       "│ 2     ┆ 2020-01-03 ┆ 0.0         ┆ 0               ┆ 0.0  │\n",
       "│ 3     ┆ 2020-01-03 ┆ 0.0         ┆ 0               ┆ 0.0  │\n",
       "│ 4     ┆ 2020-01-04 ┆ 0.0         ┆ 0               ┆ 0.0  │\n",
       "│ …     ┆ …          ┆ …           ┆ …               ┆ …    │\n",
       "│ 2554  ┆ 2023-08-27 ┆ 14.0        ┆ 14              ┆ 0.0  │\n",
       "│ 2555  ┆ 2023-08-28 ┆ 14.0        ┆ 14              ┆ 0.0  │\n",
       "│ 2556  ┆ 2023-08-28 ┆ 14.0        ┆ 14              ┆ 0.0  │\n",
       "│ 2557  ┆ 2023-08-28 ┆ 14.0        ┆ 14              ┆ 0.0  │\n",
       "│ 2558  ┆ 2023-08-28 ┆ 14.0        ┆ 14              ┆ 0.0  │\n",
       "└───────┴────────────┴─────────────┴─────────────────┴──────┘"
      ]
     },
     "execution_count": 3,
     "metadata": {},
     "output_type": "execute_result"
    }
   ],
   "source": [
    "from predictables.encoding.src.lagged_mean_encoding.sum.format_columns import (\n",
    "    _format_date_col,\n",
    "    _format_value_col,\n",
    ")\n",
    "from predictables.encoding.src.lagged_mean_encoding.sum.get_date_list_col import (\n",
    "    _get_date_list_col,\n",
    ")\n",
    "\n",
    "index_col, date_col, x_col, offset, window = \"index\", \"date\", \"hit\", 30, 30\n",
    "\n",
    "lf_order = lf.select([index_col, date_col])\n",
    "\n",
    "lf_ = lf.select([pl.col(index_col), pl.col(date_col), pl.col(x_col)])\n",
    "\n",
    "lf_ = _format_date_col(lf_, date_col)\n",
    "lf_ = _format_value_col(lf_, x_col)\n",
    "\n",
    "lf_ = _get_date_list_col(lf_, date_col, offset, window)  # .with_columns([\n",
    "#     pl.col('date_list').list.min().alias('min_date'),\n",
    "#     pl.col('date_list').list.max().alias('max_date'),\n",
    "# ]).with_columns([\n",
    "#     (pl.col(date_col) - pl.col('min_date')).alias('date - min'),\n",
    "#     (pl.col(date_col) - pl.col('max_date')).alias('max - date')\n",
    "# ])\n",
    "mapping = (\n",
    "    lf_.select([date_col, x_col])\n",
    "    .group_by(date_col)\n",
    "    .agg(pl.col(x_col).sum())\n",
    "    .sort(date_col)\n",
    ")\n",
    "\n",
    "assert (\n",
    "    mapping.join(\n",
    "        lf.select([\"date\", \"hit\"]).group_by(\"date\").agg(pl.col(\"hit\").sum()),\n",
    "        how=\"left\",\n",
    "        on=\"date\",\n",
    "    )\n",
    "    .collect()\n",
    "    .with_columns(\n",
    "        [(pl.col(\"hit\") - pl.col(\"hit_right\").cast(pl.Float64)).alias(\"diff\")]\n",
    "    )\n",
    "    .filter(pl.col(\"diff\") != 0)\n",
    "    .shape[0]\n",
    "    == 0\n",
    ")\n",
    "\n",
    "# mapping.join(lf_.select(['date', 'date_list', 'hit']).explode('date_list').group_by('date').agg(pl.col('hit').sum().alias('hitsum')), how='left', left_on='date', right_on=\"date\").collect()\n",
    "# lf_.collect()\n",
    "# mapping.collect()\n",
    "\n",
    "lf_ = (\n",
    "    lf_.explode(\"date_list\")\n",
    "    .join(mapping, how=\"left\", left_on=\"date_list\", right_on=date_col)\n",
    "    .fill_null(0)\n",
    "    .drop([\"date_list\", \"min_date\", \"max_date\"])\n",
    "    .group_by([index_col, date_col])\n",
    "    .agg(pl.col(f\"{x_col}_right\").sum().alias(f\"rolling_{x_col}\"))\n",
    "    .sort(\"index\")\n",
    ")\n",
    "\n",
    "lf_.join(\n",
    "    lf.select([\"index\", \"total_30_30_sum\"]), how=\"left\", on=\"index\"\n",
    ").collect().with_columns(\n",
    "    [(pl.col(\"rolling_hit\") - pl.col(\"total_30_30_sum\").cast(pl.Float64)).alias(\"diff\")]\n",
    ")  # .filter(pl.col('diff') != 0)"
   ]
  },
  {
   "cell_type": "code",
   "execution_count": 9,
   "metadata": {},
   "outputs": [
    {
     "data": {
      "text/html": [
       "<div><style>\n",
       ".dataframe > thead > tr,\n",
       ".dataframe > tbody > tr {\n",
       "  text-align: right;\n",
       "  white-space: pre-wrap;\n",
       "}\n",
       "</style>\n",
       "<small>shape: (2_559, 3)</small><table border=\"1\" class=\"dataframe\"><thead><tr><th>index</th><th>date</th><th>ROLLING_SUM(hit[ALL])[lag:60/win:30]</th></tr><tr><td>u32</td><td>date</td><td>f64</td></tr></thead><tbody><tr><td>0</td><td>2020-01-01</td><td>0.0</td></tr><tr><td>1</td><td>2020-01-02</td><td>0.0</td></tr><tr><td>2</td><td>2020-01-03</td><td>0.0</td></tr><tr><td>3</td><td>2020-01-03</td><td>0.0</td></tr><tr><td>4</td><td>2020-01-04</td><td>0.0</td></tr><tr><td>&hellip;</td><td>&hellip;</td><td>&hellip;</td></tr><tr><td>2554</td><td>2023-08-27</td><td>13.0</td></tr><tr><td>2555</td><td>2023-08-28</td><td>13.0</td></tr><tr><td>2556</td><td>2023-08-28</td><td>13.0</td></tr><tr><td>2557</td><td>2023-08-28</td><td>13.0</td></tr><tr><td>2558</td><td>2023-08-28</td><td>13.0</td></tr></tbody></table></div>"
      ],
      "text/plain": [
       "shape: (2_559, 3)\n",
       "┌───────┬────────────┬───────────────────────────────────┐\n",
       "│ index ┆ date       ┆ ROLLING_SUM(hit[ALL])[lag:60/win… │\n",
       "│ ---   ┆ ---        ┆ ---                               │\n",
       "│ u32   ┆ date       ┆ f64                               │\n",
       "╞═══════╪════════════╪═══════════════════════════════════╡\n",
       "│ 0     ┆ 2020-01-01 ┆ 0.0                               │\n",
       "│ 1     ┆ 2020-01-02 ┆ 0.0                               │\n",
       "│ 2     ┆ 2020-01-03 ┆ 0.0                               │\n",
       "│ 3     ┆ 2020-01-03 ┆ 0.0                               │\n",
       "│ 4     ┆ 2020-01-04 ┆ 0.0                               │\n",
       "│ …     ┆ …          ┆ …                                 │\n",
       "│ 2554  ┆ 2023-08-27 ┆ 13.0                              │\n",
       "│ 2555  ┆ 2023-08-28 ┆ 13.0                              │\n",
       "│ 2556  ┆ 2023-08-28 ┆ 13.0                              │\n",
       "│ 2557  ┆ 2023-08-28 ┆ 13.0                              │\n",
       "│ 2558  ┆ 2023-08-28 ┆ 13.0                              │\n",
       "└───────┴────────────┴───────────────────────────────────┘"
      ]
     },
     "execution_count": 9,
     "metadata": {},
     "output_type": "execute_result"
    }
   ],
   "source": [
    "(\n",
    "    DynamicRollingSum()\n",
    "    .lf(lf)\n",
    "    .x_col(\"hit\")\n",
    "    .x_name(\"hit\")\n",
    "    .date_col(\"date\")\n",
    "    .index_col(\"index\")\n",
    "    # .cat_col(\"cat2\")\n",
    "    .offset(60)\n",
    "    .window(30)\n",
    "    .rejoin(False)\n",
    "    .op(\"ROLLING_SUM\")\n",
    ").run().collect()"
   ]
  },
  {
   "cell_type": "code",
   "execution_count": 5,
   "metadata": {},
   "outputs": [],
   "source": [
    "date_fmt_str = \"%m/%d/%Y\"\n",
    "\n",
    "# lf = pl.scan_csv(\n",
    "#     \"/app/predictables/encoding/tests/rolling_date_example.csv\"\n",
    "# ).with_columns(\n",
    "#     [\n",
    "#         pl.col(\"date\").str.to_date(format=date_fmt_str).cast(pl.Date).name.keep(),\n",
    "#         pl.col(\"incr_value\").cast(pl.Float64).name.keep(),\n",
    "#         pl.col(\"month_prior\")\n",
    "#         .str.to_date(format=date_fmt_str)\n",
    "#         .cast(pl.Date)\n",
    "#         .name.keep(),\n",
    "#         pl.col(\"year_prior\").str.to_date(format=date_fmt_str).cast(pl.Date).name.keep(),\n",
    "#         pl.col(\"rolling_sum\").cast(pl.Float64).name.keep(),\n",
    "#         pl.col(\"date\").str.to_date(format=date_fmt_str).cast(pl.Date).alias(\"cur_date\"),\n",
    "#         pl.col(\"cat1\").cast(pl.Utf8).cast(pl.Categorical).name.keep(),\n",
    "#         pl.col(\"cat2\").cast(pl.Utf8).cast(pl.Categorical).name.keep(),\n",
    "#     ]\n",
    "# )\n",
    "# lf.head().collect()"
   ]
  },
  {
   "cell_type": "code",
   "execution_count": 6,
   "metadata": {},
   "outputs": [
    {
     "data": {
      "text/html": [
       "<div><style>\n",
       ".dataframe > thead > tr,\n",
       ".dataframe > tbody > tr {\n",
       "  text-align: right;\n",
       "  white-space: pre-wrap;\n",
       "}\n",
       "</style>\n",
       "<small>shape: (2_559, 4)</small><table border=\"1\" class=\"dataframe\"><thead><tr><th>index</th><th>date</th><th>date_right</th><th>rolling_hit</th></tr><tr><td>u32</td><td>date</td><td>date</td><td>f64</td></tr></thead><tbody><tr><td>0</td><td>2020-01-01</td><td>2020-01-01</td><td>0.0</td></tr><tr><td>1</td><td>2020-01-02</td><td>2020-01-02</td><td>0.0</td></tr><tr><td>2</td><td>2020-01-03</td><td>2020-01-03</td><td>0.0</td></tr><tr><td>3</td><td>2020-01-03</td><td>2020-01-03</td><td>0.0</td></tr><tr><td>4</td><td>2020-01-04</td><td>2020-01-04</td><td>0.0</td></tr><tr><td>&hellip;</td><td>&hellip;</td><td>&hellip;</td><td>&hellip;</td></tr><tr><td>2554</td><td>2023-08-27</td><td>2023-08-27</td><td>14.0</td></tr><tr><td>2555</td><td>2023-08-28</td><td>2023-08-28</td><td>14.0</td></tr><tr><td>2556</td><td>2023-08-28</td><td>2023-08-28</td><td>14.0</td></tr><tr><td>2557</td><td>2023-08-28</td><td>2023-08-28</td><td>14.0</td></tr><tr><td>2558</td><td>2023-08-28</td><td>2023-08-28</td><td>14.0</td></tr></tbody></table></div>"
      ],
      "text/plain": [
       "shape: (2_559, 4)\n",
       "┌───────┬────────────┬────────────┬─────────────┐\n",
       "│ index ┆ date       ┆ date_right ┆ rolling_hit │\n",
       "│ ---   ┆ ---        ┆ ---        ┆ ---         │\n",
       "│ u32   ┆ date       ┆ date       ┆ f64         │\n",
       "╞═══════╪════════════╪════════════╪═════════════╡\n",
       "│ 0     ┆ 2020-01-01 ┆ 2020-01-01 ┆ 0.0         │\n",
       "│ 1     ┆ 2020-01-02 ┆ 2020-01-02 ┆ 0.0         │\n",
       "│ 2     ┆ 2020-01-03 ┆ 2020-01-03 ┆ 0.0         │\n",
       "│ 3     ┆ 2020-01-03 ┆ 2020-01-03 ┆ 0.0         │\n",
       "│ 4     ┆ 2020-01-04 ┆ 2020-01-04 ┆ 0.0         │\n",
       "│ …     ┆ …          ┆ …          ┆ …           │\n",
       "│ 2554  ┆ 2023-08-27 ┆ 2023-08-27 ┆ 14.0        │\n",
       "│ 2555  ┆ 2023-08-28 ┆ 2023-08-28 ┆ 14.0        │\n",
       "│ 2556  ┆ 2023-08-28 ┆ 2023-08-28 ┆ 14.0        │\n",
       "│ 2557  ┆ 2023-08-28 ┆ 2023-08-28 ┆ 14.0        │\n",
       "│ 2558  ┆ 2023-08-28 ┆ 2023-08-28 ┆ 14.0        │\n",
       "└───────┴────────────┴────────────┴─────────────┘"
      ]
     },
     "execution_count": 6,
     "metadata": {},
     "output_type": "execute_result"
    }
   ],
   "source": [
    "dynamic_rolling_sum(lf, \"hit\", \"date\", \"index\", 30, 30).collect()"
   ]
  },
  {
   "cell_type": "code",
   "execution_count": 7,
   "metadata": {},
   "outputs": [
    {
     "ename": "DuplicateError",
     "evalue": "column with name 'index' has more than one occurrences",
     "output_type": "error",
     "traceback": [
      "\u001b[0;31m---------------------------------------------------------------------------\u001b[0m",
      "\u001b[0;31mDuplicateError\u001b[0m                            Traceback (most recent call last)",
      "Cell \u001b[0;32mIn[7], line 13\u001b[0m\n\u001b[1;32m      1\u001b[0m (\n\u001b[1;32m      2\u001b[0m     \u001b[43mDynamicRollingSum\u001b[49m\u001b[43m(\u001b[49m\u001b[43m)\u001b[49m\n\u001b[1;32m      3\u001b[0m \u001b[43m    \u001b[49m\u001b[38;5;241;43m.\u001b[39;49m\u001b[43mlf\u001b[49m\u001b[43m(\u001b[49m\u001b[43mlf\u001b[49m\u001b[38;5;241;43m.\u001b[39;49m\u001b[43mwith_row_index\u001b[49m\u001b[43m(\u001b[49m\u001b[43m)\u001b[49m\u001b[43m)\u001b[49m\n\u001b[1;32m      4\u001b[0m \u001b[43m    \u001b[49m\u001b[38;5;241;43m.\u001b[39;49m\u001b[43mx_col\u001b[49m\u001b[43m(\u001b[49m\u001b[38;5;124;43m\"\u001b[39;49m\u001b[38;5;124;43mhit\u001b[39;49m\u001b[38;5;124;43m\"\u001b[39;49m\u001b[43m)\u001b[49m\n\u001b[1;32m      5\u001b[0m \u001b[43m    \u001b[49m\u001b[38;5;241;43m.\u001b[39;49m\u001b[43mx_name\u001b[49m\u001b[43m(\u001b[49m\u001b[38;5;124;43m\"\u001b[39;49m\u001b[38;5;124;43mhit\u001b[39;49m\u001b[38;5;124;43m\"\u001b[39;49m\u001b[43m)\u001b[49m\n\u001b[1;32m      6\u001b[0m \u001b[43m    \u001b[49m\u001b[38;5;241;43m.\u001b[39;49m\u001b[43mdate_col\u001b[49m\u001b[43m(\u001b[49m\u001b[38;5;124;43m\"\u001b[39;49m\u001b[38;5;124;43mdate\u001b[39;49m\u001b[38;5;124;43m\"\u001b[39;49m\u001b[43m)\u001b[49m\n\u001b[1;32m      7\u001b[0m \u001b[43m    \u001b[49m\u001b[38;5;241;43m.\u001b[39;49m\u001b[43mindex_col\u001b[49m\u001b[43m(\u001b[49m\u001b[38;5;124;43m\"\u001b[39;49m\u001b[38;5;124;43mindex\u001b[39;49m\u001b[38;5;124;43m\"\u001b[39;49m\u001b[43m)\u001b[49m\n\u001b[1;32m      8\u001b[0m \u001b[43m    \u001b[49m\u001b[38;5;66;43;03m# .cat_col(\"cat2\")\u001b[39;49;00m\n\u001b[1;32m      9\u001b[0m \u001b[43m    \u001b[49m\u001b[38;5;241;43m.\u001b[39;49m\u001b[43moffset\u001b[49m\u001b[43m(\u001b[49m\u001b[38;5;241;43m30\u001b[39;49m\u001b[43m)\u001b[49m\n\u001b[1;32m     10\u001b[0m \u001b[43m    \u001b[49m\u001b[38;5;241;43m.\u001b[39;49m\u001b[43mwindow\u001b[49m\u001b[43m(\u001b[49m\u001b[38;5;241;43m30\u001b[39;49m\u001b[43m)\u001b[49m\n\u001b[1;32m     11\u001b[0m \u001b[43m    \u001b[49m\u001b[38;5;241;43m.\u001b[39;49m\u001b[43mrejoin\u001b[49m\u001b[43m(\u001b[49m\u001b[38;5;28;43;01mTrue\u001b[39;49;00m\u001b[43m)\u001b[49m\n\u001b[1;32m     12\u001b[0m \u001b[43m    \u001b[49m\u001b[38;5;241;43m.\u001b[39;49m\u001b[43mop\u001b[49m\u001b[43m(\u001b[49m\u001b[38;5;124;43m\"\u001b[39;49m\u001b[38;5;124;43mROLLING_SUM\u001b[39;49m\u001b[38;5;124;43m\"\u001b[39;49m\u001b[43m)\u001b[49m\n\u001b[0;32m---> 13\u001b[0m \u001b[43m    \u001b[49m\u001b[38;5;241;43m.\u001b[39;49m\u001b[43mrun\u001b[49m\u001b[43m(\u001b[49m\u001b[43m)\u001b[49m\n\u001b[1;32m     14\u001b[0m )\u001b[38;5;241m.\u001b[39mcollect()\n",
      "File \u001b[0;32m/app/predictables/encoding/src/lagged_mean_encoding/_dynamic_rolling_sum.py:606\u001b[0m, in \u001b[0;36mDynamicRollingSum.run\u001b[0;34m(self)\u001b[0m\n\u001b[1;32m    603\u001b[0m \u001b[38;5;28mself\u001b[39m\u001b[38;5;241m.\u001b[39m_validate_parameters()\n\u001b[1;32m    605\u001b[0m \u001b[38;5;66;03m# Run the dynamic rolling sum if all parameters are set\u001b[39;00m\n\u001b[0;32m--> 606\u001b[0m lf_with_drs \u001b[38;5;241m=\u001b[39m \u001b[38;5;28;43mself\u001b[39;49m\u001b[38;5;241;43m.\u001b[39;49m\u001b[43m_calculate_sum\u001b[49m\u001b[43m(\u001b[49m\u001b[43m)\u001b[49m\n\u001b[1;32m    608\u001b[0m \u001b[38;5;66;03m# Drop any columns with \"_right\" suffixes\u001b[39;00m\n\u001b[1;32m    609\u001b[0m lf_with_drs \u001b[38;5;241m=\u001b[39m \u001b[38;5;28mself\u001b[39m\u001b[38;5;241m.\u001b[39m_drop_right_suffixes(lf_with_drs)\n",
      "File \u001b[0;32m/app/predictables/encoding/src/lagged_mean_encoding/_dynamic_rolling_sum.py:515\u001b[0m, in \u001b[0;36mDynamicRollingSum._calculate_sum\u001b[0;34m(self)\u001b[0m\n\u001b[1;32m    511\u001b[0m lf, x_col, _, date, cat, idx, lag, win, _, _ \u001b[38;5;241m=\u001b[39m \u001b[38;5;28mself\u001b[39m\u001b[38;5;241m.\u001b[39m_get_parameters()\n\u001b[1;32m    513\u001b[0m \u001b[38;5;66;03m# Run the dynamic rolling sum at each level of the category\u001b[39;00m\n\u001b[1;32m    514\u001b[0m frames \u001b[38;5;241m=\u001b[39m [\n\u001b[0;32m--> 515\u001b[0m     \u001b[38;5;28mself\u001b[39m\u001b[38;5;241m.\u001b[39m_calculate_sum_at_level(level) \u001b[38;5;28;01mfor\u001b[39;00m level \u001b[38;5;129;01min\u001b[39;00m \u001b[38;5;28;43mself\u001b[39;49m\u001b[38;5;241;43m.\u001b[39;49m\u001b[43m_get_unique_levels\u001b[49m\u001b[43m(\u001b[49m\u001b[43m)\u001b[49m\n\u001b[1;32m    516\u001b[0m ]\n\u001b[1;32m    518\u001b[0m \u001b[38;5;66;03m# Concatenate the frames\u001b[39;00m\n\u001b[1;32m    519\u001b[0m \u001b[38;5;28;01mreturn\u001b[39;00m pl\u001b[38;5;241m.\u001b[39mconcat(frames, how\u001b[38;5;241m=\u001b[39m\u001b[38;5;124m\"\u001b[39m\u001b[38;5;124mvertical\u001b[39m\u001b[38;5;124m\"\u001b[39m)\u001b[38;5;241m.\u001b[39mselect(\n\u001b[1;32m    520\u001b[0m     [\n\u001b[1;32m    521\u001b[0m         pl\u001b[38;5;241m.\u001b[39mcol(idx)\u001b[38;5;241m.\u001b[39mname\u001b[38;5;241m.\u001b[39mkeep(),  \u001b[38;5;66;03m# -------------------- index column\u001b[39;00m\n\u001b[0;32m   (...)\u001b[0m\n\u001b[1;32m    527\u001b[0m     ]\n\u001b[1;32m    528\u001b[0m )\n",
      "File \u001b[0;32m/app/predictables/encoding/src/lagged_mean_encoding/_dynamic_rolling_sum.py:466\u001b[0m, in \u001b[0;36mDynamicRollingSum._get_unique_levels\u001b[0;34m(self)\u001b[0m\n\u001b[1;32m    463\u001b[0m (lf, _, _, _, cat, _, _, _, _, _) \u001b[38;5;241m=\u001b[39m \u001b[38;5;28mself\u001b[39m\u001b[38;5;241m.\u001b[39m_get_parameters()\n\u001b[1;32m    465\u001b[0m \u001b[38;5;66;03m# If there is a categorical column, return the unique levels\u001b[39;00m\n\u001b[0;32m--> 466\u001b[0m \u001b[38;5;28;01mreturn\u001b[39;00m \u001b[43mlf\u001b[49m\u001b[38;5;241;43m.\u001b[39;49m\u001b[43mselect\u001b[49m\u001b[43m(\u001b[49m\u001b[43m[\u001b[49m\u001b[43mpl\u001b[49m\u001b[38;5;241;43m.\u001b[39;49m\u001b[43mcol\u001b[49m\u001b[43m(\u001b[49m\u001b[43mcat\u001b[49m\u001b[43m)\u001b[49m\u001b[38;5;241;43m.\u001b[39;49m\u001b[43munique\u001b[49m\u001b[43m(\u001b[49m\u001b[43m)\u001b[49m\u001b[38;5;241;43m.\u001b[39;49m\u001b[43mname\u001b[49m\u001b[38;5;241;43m.\u001b[39;49m\u001b[43mkeep\u001b[49m\u001b[43m(\u001b[49m\u001b[43m)\u001b[49m\u001b[43m]\u001b[49m\u001b[43m)\u001b[49m\u001b[38;5;241;43m.\u001b[39;49m\u001b[43mcollect\u001b[49m\u001b[43m(\u001b[49m\u001b[43m)\u001b[49m[cat]\u001b[38;5;241m.\u001b[39mto_list()\n",
      "File \u001b[0;32m/app/.venv/lib/python3.11/site-packages/polars/lazyframe/frame.py:1943\u001b[0m, in \u001b[0;36mLazyFrame.collect\u001b[0;34m(self, type_coercion, predicate_pushdown, projection_pushdown, simplify_expression, slice_pushdown, comm_subplan_elim, comm_subexpr_elim, no_optimization, streaming, background, _eager)\u001b[0m\n\u001b[1;32m   1940\u001b[0m \u001b[38;5;28;01mif\u001b[39;00m background:\n\u001b[1;32m   1941\u001b[0m     \u001b[38;5;28;01mreturn\u001b[39;00m InProcessQuery(ldf\u001b[38;5;241m.\u001b[39mcollect_concurrently())\n\u001b[0;32m-> 1943\u001b[0m \u001b[38;5;28;01mreturn\u001b[39;00m wrap_df(ldf\u001b[38;5;241m.\u001b[39mcollect())\n",
      "\u001b[0;31mDuplicateError\u001b[0m: column with name 'index' has more than one occurrences"
     ]
    }
   ],
   "source": [
    "(\n",
    "    DynamicRollingSum()\n",
    "    .lf(lf.with_row_index())\n",
    "    .x_col(\"hit\")\n",
    "    .x_name(\"hit\")\n",
    "    .date_col(\"date\")\n",
    "    .index_col(\"index\")\n",
    "    # .cat_col(\"cat2\")\n",
    "    .offset(30)\n",
    "    .window(30)\n",
    "    .rejoin(True)\n",
    "    .op(\"ROLLING_SUM\")\n",
    "    .run()\n",
    ").collect()"
   ]
  },
  {
   "cell_type": "code",
   "execution_count": null,
   "metadata": {},
   "outputs": [
    {
     "ename": "ValueError",
     "evalue": "Category column cat2 not found in LazyFrame. Please provide a valid category column.",
     "output_type": "error",
     "traceback": [
      "\u001b[0;31m---------------------------------------------------------------------------\u001b[0m",
      "\u001b[0;31mValueError\u001b[0m                                Traceback (most recent call last)",
      "Cell \u001b[0;32mIn[7], line 13\u001b[0m\n\u001b[1;32m      1\u001b[0m (\n\u001b[1;32m      2\u001b[0m     \u001b[43mDynamicRollingSum\u001b[49m\u001b[43m(\u001b[49m\u001b[43m)\u001b[49m\n\u001b[1;32m      3\u001b[0m \u001b[43m    \u001b[49m\u001b[38;5;241;43m.\u001b[39;49m\u001b[43mlf\u001b[49m\u001b[43m(\u001b[49m\u001b[43mlf\u001b[49m\u001b[38;5;241;43m.\u001b[39;49m\u001b[43mwith_row_index\u001b[49m\u001b[43m(\u001b[49m\u001b[43m)\u001b[49m\u001b[43m)\u001b[49m\n\u001b[1;32m      4\u001b[0m \u001b[43m    \u001b[49m\u001b[38;5;241;43m.\u001b[39;49m\u001b[43mx_col\u001b[49m\u001b[43m(\u001b[49m\u001b[38;5;124;43m\"\u001b[39;49m\u001b[38;5;124;43msum_cat1\u001b[39;49m\u001b[38;5;124;43m\"\u001b[39;49m\u001b[43m)\u001b[49m\n\u001b[1;32m      5\u001b[0m \u001b[43m    \u001b[49m\u001b[38;5;241;43m.\u001b[39;49m\u001b[43mx_name\u001b[49m\u001b[43m(\u001b[49m\u001b[38;5;124;43m\"\u001b[39;49m\u001b[38;5;124;43mval\u001b[39;49m\u001b[38;5;124;43m\"\u001b[39;49m\u001b[43m)\u001b[49m\n\u001b[1;32m      6\u001b[0m \u001b[43m    \u001b[49m\u001b[38;5;241;43m.\u001b[39;49m\u001b[43mdate_col\u001b[49m\u001b[43m(\u001b[49m\u001b[38;5;124;43m\"\u001b[39;49m\u001b[38;5;124;43mdate\u001b[39;49m\u001b[38;5;124;43m\"\u001b[39;49m\u001b[43m)\u001b[49m\n\u001b[1;32m      7\u001b[0m \u001b[43m    \u001b[49m\u001b[38;5;241;43m.\u001b[39;49m\u001b[43mindex_col\u001b[49m\u001b[43m(\u001b[49m\u001b[38;5;124;43m\"\u001b[39;49m\u001b[38;5;124;43mindex\u001b[39;49m\u001b[38;5;124;43m\"\u001b[39;49m\u001b[43m)\u001b[49m\n\u001b[1;32m      8\u001b[0m \u001b[43m    \u001b[49m\u001b[38;5;241;43m.\u001b[39;49m\u001b[43mcat_col\u001b[49m\u001b[43m(\u001b[49m\u001b[38;5;124;43m\"\u001b[39;49m\u001b[38;5;124;43mcat2\u001b[39;49m\u001b[38;5;124;43m\"\u001b[39;49m\u001b[43m)\u001b[49m\n\u001b[1;32m      9\u001b[0m \u001b[43m    \u001b[49m\u001b[38;5;241;43m.\u001b[39;49m\u001b[43moffset\u001b[49m\u001b[43m(\u001b[49m\u001b[38;5;241;43m30\u001b[39;49m\u001b[43m)\u001b[49m\n\u001b[1;32m     10\u001b[0m \u001b[43m    \u001b[49m\u001b[38;5;241;43m.\u001b[39;49m\u001b[43mwindow\u001b[49m\u001b[43m(\u001b[49m\u001b[38;5;241;43m30\u001b[39;49m\u001b[43m)\u001b[49m\n\u001b[1;32m     11\u001b[0m \u001b[43m    \u001b[49m\u001b[38;5;241;43m.\u001b[39;49m\u001b[43mrejoin\u001b[49m\u001b[43m(\u001b[49m\u001b[38;5;28;43;01mTrue\u001b[39;49;00m\u001b[43m)\u001b[49m\n\u001b[1;32m     12\u001b[0m \u001b[43m    \u001b[49m\u001b[38;5;241;43m.\u001b[39;49m\u001b[43mop\u001b[49m\u001b[43m(\u001b[49m\u001b[38;5;124;43m\"\u001b[39;49m\u001b[38;5;124;43mROLLING_SUM\u001b[39;49m\u001b[38;5;124;43m\"\u001b[39;49m\u001b[43m)\u001b[49m\n\u001b[0;32m---> 13\u001b[0m \u001b[43m    \u001b[49m\u001b[38;5;241;43m.\u001b[39;49m\u001b[43mrun\u001b[49m\u001b[43m(\u001b[49m\u001b[43m)\u001b[49m\n\u001b[1;32m     14\u001b[0m     \u001b[38;5;66;03m# .with_row_index()\u001b[39;00m\n\u001b[1;32m     15\u001b[0m )\u001b[38;5;241m.\u001b[39mcollect()\n",
      "File \u001b[0;32m/app/predictables/encoding/src/lagged_mean_encoding/_dynamic_rolling_sum.py:603\u001b[0m, in \u001b[0;36mDynamicRollingSum.run\u001b[0;34m(self)\u001b[0m\n\u001b[1;32m    591\u001b[0m \u001b[38;5;250m\u001b[39m\u001b[38;5;124;03m\"\"\"Run the dynamic rolling sum using the provided LazyFrame and parameters.\u001b[39;00m\n\u001b[1;32m    592\u001b[0m \n\u001b[1;32m    593\u001b[0m \u001b[38;5;124;03mThis method wraps the _run method, which is the method that actually\u001b[39;00m\n\u001b[0;32m   (...)\u001b[0m\n\u001b[1;32m    600\u001b[0m \u001b[38;5;124;03m    A LazyFrame with columns that vary depending on the value of self._rejoin.\u001b[39;00m\n\u001b[1;32m    601\u001b[0m \u001b[38;5;124;03m\"\"\"\u001b[39;00m\n\u001b[1;32m    602\u001b[0m \u001b[38;5;66;03m# Validate, collect, and calcluate parameters\u001b[39;00m\n\u001b[0;32m--> 603\u001b[0m \u001b[38;5;28;43mself\u001b[39;49m\u001b[38;5;241;43m.\u001b[39;49m\u001b[43m_validate_parameters\u001b[49m\u001b[43m(\u001b[49m\u001b[43m)\u001b[49m\n\u001b[1;32m    605\u001b[0m \u001b[38;5;66;03m# Run the dynamic rolling sum if all parameters are set\u001b[39;00m\n\u001b[1;32m    606\u001b[0m lf_with_drs \u001b[38;5;241m=\u001b[39m \u001b[38;5;28mself\u001b[39m\u001b[38;5;241m.\u001b[39m_calculate_sum()\n",
      "File \u001b[0;32m/app/predictables/encoding/src/lagged_mean_encoding/_dynamic_rolling_sum.py:366\u001b[0m, in \u001b[0;36mDynamicRollingSum._validate_parameters\u001b[0;34m(self)\u001b[0m\n\u001b[1;32m    364\u001b[0m \u001b[38;5;28;01mif\u001b[39;00m \u001b[38;5;28misinstance\u001b[39m(\u001b[38;5;28mself\u001b[39m\u001b[38;5;241m.\u001b[39m_cat_col, \u001b[38;5;28mstr\u001b[39m):\n\u001b[1;32m    365\u001b[0m     \u001b[38;5;28;01mif\u001b[39;00m \u001b[38;5;28mself\u001b[39m\u001b[38;5;241m.\u001b[39m_cat_col \u001b[38;5;129;01mnot\u001b[39;00m \u001b[38;5;129;01min\u001b[39;00m \u001b[38;5;28mself\u001b[39m\u001b[38;5;241m.\u001b[39m_lf\u001b[38;5;241m.\u001b[39mcolumns:\n\u001b[0;32m--> 366\u001b[0m         \u001b[38;5;28;01mraise\u001b[39;00m \u001b[38;5;167;01mValueError\u001b[39;00m(\n\u001b[1;32m    367\u001b[0m             \u001b[38;5;124mf\u001b[39m\u001b[38;5;124m\"\u001b[39m\u001b[38;5;124mCategory column \u001b[39m\u001b[38;5;132;01m{\u001b[39;00m\u001b[38;5;28mself\u001b[39m\u001b[38;5;241m.\u001b[39m_cat_col\u001b[38;5;132;01m}\u001b[39;00m\u001b[38;5;124m not found in LazyFrame. \u001b[39m\u001b[38;5;124m\"\u001b[39m\n\u001b[1;32m    368\u001b[0m             \u001b[38;5;124m\"\u001b[39m\u001b[38;5;124mPlease provide a valid category column.\u001b[39m\u001b[38;5;124m\"\u001b[39m\n\u001b[1;32m    369\u001b[0m         )\n\u001b[1;32m    370\u001b[0m \u001b[38;5;28;01melse\u001b[39;00m:\n\u001b[1;32m    371\u001b[0m     \u001b[38;5;28;01mfor\u001b[39;00m col \u001b[38;5;129;01min\u001b[39;00m \u001b[38;5;28mself\u001b[39m\u001b[38;5;241m.\u001b[39m_cat_col:\n",
      "\u001b[0;31mValueError\u001b[0m: Category column cat2 not found in LazyFrame. Please provide a valid category column."
     ]
    }
   ],
   "source": [
    "(\n",
    "    DynamicRollingSum()\n",
    "    .lf(lf.with_row_index())\n",
    "    .x_col(\"sum_cat1\")\n",
    "    .x_name(\"val\")\n",
    "    .date_col(\"date\")\n",
    "    .index_col(\"index\")\n",
    "    .cat_col(\"cat2\")\n",
    "    .offset(30)\n",
    "    .window(30)\n",
    "    .rejoin(True)\n",
    "    .op(\"ROLLING_SUM\")\n",
    "    .run()\n",
    "    # .with_row_index()\n",
    ").collect()"
   ]
  },
  {
   "cell_type": "code",
   "execution_count": null,
   "metadata": {},
   "outputs": [
    {
     "data": {
      "text/html": [
       "<div><style>\n",
       ".dataframe > thead > tr,\n",
       ".dataframe > tbody > tr {\n",
       "  text-align: right;\n",
       "  white-space: pre-wrap;\n",
       "}\n",
       "</style>\n",
       "<small>shape: (1_826, 18)</small><table border=\"1\" class=\"dataframe\"><thead><tr><th>index</th><th>date</th><th>incr_value</th><th>month_prior</th><th>year_prior</th><th>rolling_sum</th><th>cat1</th><th>cat2</th><th>30_days_prior</th><th>60_days_prior</th><th>360_days_prior</th><th>390_days_prior</th><th>sum2</th><th>sum_cat1</th><th>sum_cat2</th><th>sum_catBOTH</th><th>cur_date</th><th>ROLLING_SUM(rolling_sum[ALL])[lag:30/win:30]</th></tr><tr><td>u32</td><td>date</td><td>f64</td><td>date</td><td>date</td><td>f64</td><td>cat</td><td>cat</td><td>str</td><td>str</td><td>str</td><td>str</td><td>i64</td><td>i64</td><td>i64</td><td>i64</td><td>date</td><td>f64</td></tr></thead><tbody><tr><td>0</td><td>2014-01-01</td><td>1.0</td><td>2013-12-01</td><td>2012-12-01</td><td>0.0</td><td>&quot;B&quot;</td><td>&quot;C&quot;</td><td>&quot;12/2/2013&quot;</td><td>&quot;11/2/2013&quot;</td><td>&quot;1/6/2013&quot;</td><td>&quot;12/7/2012&quot;</td><td>0</td><td>0</td><td>0</td><td>0</td><td>2014-01-01</td><td>0.0</td></tr><tr><td>1</td><td>2014-01-02</td><td>1.0</td><td>2013-12-02</td><td>2012-12-02</td><td>0.0</td><td>&quot;A&quot;</td><td>&quot;C&quot;</td><td>&quot;12/3/2013&quot;</td><td>&quot;11/3/2013&quot;</td><td>&quot;1/7/2013&quot;</td><td>&quot;12/8/2012&quot;</td><td>0</td><td>0</td><td>0</td><td>0</td><td>2014-01-02</td><td>0.0</td></tr><tr><td>2</td><td>2014-01-03</td><td>1.0</td><td>2013-12-03</td><td>2012-12-03</td><td>0.0</td><td>&quot;B&quot;</td><td>&quot;D&quot;</td><td>&quot;12/4/2013&quot;</td><td>&quot;11/4/2013&quot;</td><td>&quot;1/8/2013&quot;</td><td>&quot;12/9/2012&quot;</td><td>0</td><td>0</td><td>0</td><td>0</td><td>2014-01-03</td><td>0.0</td></tr><tr><td>3</td><td>2014-01-04</td><td>1.0</td><td>2013-12-04</td><td>2012-12-04</td><td>0.0</td><td>&quot;B&quot;</td><td>&quot;D&quot;</td><td>&quot;12/5/2013&quot;</td><td>&quot;11/5/2013&quot;</td><td>&quot;1/9/2013&quot;</td><td>&quot;12/10/2012&quot;</td><td>0</td><td>0</td><td>0</td><td>0</td><td>2014-01-04</td><td>0.0</td></tr><tr><td>4</td><td>2014-01-05</td><td>1.0</td><td>2013-12-05</td><td>2012-12-05</td><td>0.0</td><td>&quot;B&quot;</td><td>&quot;E&quot;</td><td>&quot;12/6/2013&quot;</td><td>&quot;11/6/2013&quot;</td><td>&quot;1/10/2013&quot;</td><td>&quot;12/11/2012&quot;</td><td>0</td><td>0</td><td>0</td><td>0</td><td>2014-01-05</td><td>0.0</td></tr><tr><td>&hellip;</td><td>&hellip;</td><td>&hellip;</td><td>&hellip;</td><td>&hellip;</td><td>&hellip;</td><td>&hellip;</td><td>&hellip;</td><td>&hellip;</td><td>&hellip;</td><td>&hellip;</td><td>&hellip;</td><td>&hellip;</td><td>&hellip;</td><td>&hellip;</td><td>&hellip;</td><td>&hellip;</td><td>&hellip;</td></tr><tr><td>1821</td><td>2018-12-27</td><td>1.0</td><td>2018-11-27</td><td>2017-11-27</td><td>365.0</td><td>&quot;B&quot;</td><td>&quot;E&quot;</td><td>&quot;11/27/2018&quot;</td><td>&quot;10/28/2018&quot;</td><td>&quot;1/1/2018&quot;</td><td>&quot;12/2/2017&quot;</td><td>360</td><td>182</td><td>116</td><td>59</td><td>2018-12-27</td><td>10950.0</td></tr><tr><td>1822</td><td>2018-12-28</td><td>1.0</td><td>2018-11-28</td><td>2017-11-28</td><td>365.0</td><td>&quot;B&quot;</td><td>&quot;E&quot;</td><td>&quot;11/28/2018&quot;</td><td>&quot;10/29/2018&quot;</td><td>&quot;1/2/2018&quot;</td><td>&quot;12/3/2017&quot;</td><td>360</td><td>181</td><td>116</td><td>58</td><td>2018-12-28</td><td>10950.0</td></tr><tr><td>1823</td><td>2018-12-29</td><td>1.0</td><td>2018-11-29</td><td>2017-11-29</td><td>365.0</td><td>&quot;A&quot;</td><td>&quot;D&quot;</td><td>&quot;11/29/2018&quot;</td><td>&quot;10/30/2018&quot;</td><td>&quot;1/3/2018&quot;</td><td>&quot;12/4/2017&quot;</td><td>360</td><td>179</td><td>136</td><td>67</td><td>2018-12-29</td><td>10950.0</td></tr><tr><td>1824</td><td>2018-12-30</td><td>1.0</td><td>2018-11-30</td><td>2017-11-30</td><td>365.0</td><td>&quot;A&quot;</td><td>&quot;C&quot;</td><td>&quot;11/30/2018&quot;</td><td>&quot;10/31/2018&quot;</td><td>&quot;1/4/2018&quot;</td><td>&quot;12/5/2017&quot;</td><td>360</td><td>179</td><td>109</td><td>54</td><td>2018-12-30</td><td>10950.0</td></tr><tr><td>1825</td><td>2018-12-31</td><td>1.0</td><td>2018-12-01</td><td>2017-12-01</td><td>365.0</td><td>&quot;B&quot;</td><td>&quot;C&quot;</td><td>&quot;12/1/2018&quot;</td><td>&quot;11/1/2018&quot;</td><td>&quot;1/5/2018&quot;</td><td>&quot;12/6/2017&quot;</td><td>360</td><td>181</td><td>109</td><td>55</td><td>2018-12-31</td><td>10950.0</td></tr></tbody></table></div>"
      ],
      "text/plain": [
       "shape: (1_826, 18)\n",
       "┌───────┬────────────┬────────────┬────────────┬───┬──────────┬────────────┬───────────┬───────────┐\n",
       "│ index ┆ date       ┆ incr_value ┆ month_prio ┆ … ┆ sum_cat2 ┆ sum_catBOT ┆ cur_date  ┆ ROLLING_S │\n",
       "│ ---   ┆ ---        ┆ ---        ┆ r          ┆   ┆ ---      ┆ H          ┆ ---       ┆ UM(rollin │\n",
       "│ u32   ┆ date       ┆ f64        ┆ ---        ┆   ┆ i64      ┆ ---        ┆ date      ┆ g_sum[ALL │\n",
       "│       ┆            ┆            ┆ date       ┆   ┆          ┆ i64        ┆           ┆ ])[la…    │\n",
       "│       ┆            ┆            ┆            ┆   ┆          ┆            ┆           ┆ ---       │\n",
       "│       ┆            ┆            ┆            ┆   ┆          ┆            ┆           ┆ f64       │\n",
       "╞═══════╪════════════╪════════════╪════════════╪═══╪══════════╪════════════╪═══════════╪═══════════╡\n",
       "│ 0     ┆ 2014-01-01 ┆ 1.0        ┆ 2013-12-01 ┆ … ┆ 0        ┆ 0          ┆ 2014-01-0 ┆ 0.0       │\n",
       "│       ┆            ┆            ┆            ┆   ┆          ┆            ┆ 1         ┆           │\n",
       "│ 1     ┆ 2014-01-02 ┆ 1.0        ┆ 2013-12-02 ┆ … ┆ 0        ┆ 0          ┆ 2014-01-0 ┆ 0.0       │\n",
       "│       ┆            ┆            ┆            ┆   ┆          ┆            ┆ 2         ┆           │\n",
       "│ 2     ┆ 2014-01-03 ┆ 1.0        ┆ 2013-12-03 ┆ … ┆ 0        ┆ 0          ┆ 2014-01-0 ┆ 0.0       │\n",
       "│       ┆            ┆            ┆            ┆   ┆          ┆            ┆ 3         ┆           │\n",
       "│ 3     ┆ 2014-01-04 ┆ 1.0        ┆ 2013-12-04 ┆ … ┆ 0        ┆ 0          ┆ 2014-01-0 ┆ 0.0       │\n",
       "│       ┆            ┆            ┆            ┆   ┆          ┆            ┆ 4         ┆           │\n",
       "│ 4     ┆ 2014-01-05 ┆ 1.0        ┆ 2013-12-05 ┆ … ┆ 0        ┆ 0          ┆ 2014-01-0 ┆ 0.0       │\n",
       "│       ┆            ┆            ┆            ┆   ┆          ┆            ┆ 5         ┆           │\n",
       "│ …     ┆ …          ┆ …          ┆ …          ┆ … ┆ …        ┆ …          ┆ …         ┆ …         │\n",
       "│ 1821  ┆ 2018-12-27 ┆ 1.0        ┆ 2018-11-27 ┆ … ┆ 116      ┆ 59         ┆ 2018-12-2 ┆ 10950.0   │\n",
       "│       ┆            ┆            ┆            ┆   ┆          ┆            ┆ 7         ┆           │\n",
       "│ 1822  ┆ 2018-12-28 ┆ 1.0        ┆ 2018-11-28 ┆ … ┆ 116      ┆ 58         ┆ 2018-12-2 ┆ 10950.0   │\n",
       "│       ┆            ┆            ┆            ┆   ┆          ┆            ┆ 8         ┆           │\n",
       "│ 1823  ┆ 2018-12-29 ┆ 1.0        ┆ 2018-11-29 ┆ … ┆ 136      ┆ 67         ┆ 2018-12-2 ┆ 10950.0   │\n",
       "│       ┆            ┆            ┆            ┆   ┆          ┆            ┆ 9         ┆           │\n",
       "│ 1824  ┆ 2018-12-30 ┆ 1.0        ┆ 2018-11-30 ┆ … ┆ 109      ┆ 54         ┆ 2018-12-3 ┆ 10950.0   │\n",
       "│       ┆            ┆            ┆            ┆   ┆          ┆            ┆ 0         ┆           │\n",
       "│ 1825  ┆ 2018-12-31 ┆ 1.0        ┆ 2018-12-01 ┆ … ┆ 109      ┆ 55         ┆ 2018-12-3 ┆ 10950.0   │\n",
       "│       ┆            ┆            ┆            ┆   ┆          ┆            ┆ 1         ┆           │\n",
       "└───────┴────────────┴────────────┴────────────┴───┴──────────┴────────────┴───────────┴───────────┘"
      ]
     },
     "execution_count": 17,
     "metadata": {},
     "output_type": "execute_result"
    }
   ],
   "source": [
    "x = (\n",
    "    DynamicRollingSum()\n",
    "    .lf(lf.with_row_index())\n",
    "    .x_col(\"rolling_sum\")\n",
    "    .x_name(\"numerator\")\n",
    "    .date_col(\"date\")\n",
    "    .index_col(\"index\")\n",
    "    .offset(30)\n",
    "    .window(30)\n",
    "    .rejoin(True)\n",
    "    .run()\n",
    ")\n",
    "x.collect()\n",
    "# (\n",
    "#     DynamicRollingCount()\n",
    "#     .lf(\n",
    "#     )\n",
    "#     .x_name(\"denominator\")\n",
    "#     .date_col(\"date\")\n",
    "#     .index_col(\"index\")\n",
    "#     .offset(30)\n",
    "#     .window(30)\n",
    "#     .rejoin(True)\n",
    "#     .run()\n",
    "# )"
   ]
  },
  {
   "cell_type": "code",
   "execution_count": null,
   "metadata": {},
   "outputs": [
    {
     "ename": "ColumnNotFoundError",
     "evalue": "numerator\n\nError originated just after this operation:\n SELECT [col(\"index\"), col(\"date\"), col(\"ROLLING_SUM(rolling_sum[ALL])[lag:30/win:30]\")] FROM\n   SELECT [col(\"index\").alias(\"index\"), col(\"date\").alias(\"date\"), col(\"cat\").strict_cast(Categorical(None, Physical)).alias(\"cat\"), col(\"ROLLING_SUM(rolling_sum[ALL])[lag:30/win:30]\").alias(\"ROLLING_SUM(rolling_sum[ALL])[lag:30/win:30]\")] FROM\n    DF [\"index\", \"date\", \"values\", \"ROLLING_SUM(rolling_sum[ALL])[lag:30/win:30]\"]; PROJECT */5 COLUMNS; SELECTION: \"None\"",
     "output_type": "error",
     "traceback": [
      "\u001b[0;31m---------------------------------------------------------------------------\u001b[0m",
      "\u001b[0;31mColumnNotFoundError\u001b[0m                       Traceback (most recent call last)",
      "Cell \u001b[0;32mIn[9], line 1\u001b[0m\n\u001b[0;32m----> 1\u001b[0m lf \u001b[38;5;241m=\u001b[39m \u001b[43mpl\u001b[49m\u001b[38;5;241;43m.\u001b[39;49m\u001b[43mconcat\u001b[49m\u001b[43m(\u001b[49m\n\u001b[1;32m      2\u001b[0m \u001b[43m    \u001b[49m\u001b[43m[\u001b[49m\n\u001b[1;32m      3\u001b[0m \u001b[43m        \u001b[49m\u001b[43mlf\u001b[49m\u001b[43m,\u001b[49m\n\u001b[1;32m      4\u001b[0m \u001b[43m        \u001b[49m\u001b[43mDynamicRollingSum\u001b[49m\u001b[43m(\u001b[49m\u001b[43m)\u001b[49m\n\u001b[1;32m      5\u001b[0m \u001b[43m        \u001b[49m\u001b[38;5;241;43m.\u001b[39;49m\u001b[43mlf\u001b[49m\u001b[43m(\u001b[49m\u001b[43mlf\u001b[49m\u001b[38;5;241;43m.\u001b[39;49m\u001b[43mwith_row_index\u001b[49m\u001b[43m(\u001b[49m\u001b[43m)\u001b[49m\u001b[43m)\u001b[49m\n\u001b[1;32m      6\u001b[0m \u001b[43m        \u001b[49m\u001b[38;5;241;43m.\u001b[39;49m\u001b[43mx_col\u001b[49m\u001b[43m(\u001b[49m\u001b[38;5;124;43m\"\u001b[39;49m\u001b[38;5;124;43mrolling_sum\u001b[39;49m\u001b[38;5;124;43m\"\u001b[39;49m\u001b[43m)\u001b[49m\n\u001b[1;32m      7\u001b[0m \u001b[43m        \u001b[49m\u001b[38;5;241;43m.\u001b[39;49m\u001b[43mx_name\u001b[49m\u001b[43m(\u001b[49m\u001b[38;5;124;43m\"\u001b[39;49m\u001b[38;5;124;43mnumerator\u001b[39;49m\u001b[38;5;124;43m\"\u001b[39;49m\u001b[43m)\u001b[49m\n\u001b[1;32m      8\u001b[0m \u001b[43m        \u001b[49m\u001b[38;5;241;43m.\u001b[39;49m\u001b[43mdate_col\u001b[49m\u001b[43m(\u001b[49m\u001b[38;5;124;43m\"\u001b[39;49m\u001b[38;5;124;43mdate\u001b[39;49m\u001b[38;5;124;43m\"\u001b[39;49m\u001b[43m)\u001b[49m\n\u001b[1;32m      9\u001b[0m \u001b[43m        \u001b[49m\u001b[38;5;241;43m.\u001b[39;49m\u001b[43mindex_col\u001b[49m\u001b[43m(\u001b[49m\u001b[38;5;124;43m\"\u001b[39;49m\u001b[38;5;124;43mindex\u001b[39;49m\u001b[38;5;124;43m\"\u001b[39;49m\u001b[43m)\u001b[49m\n\u001b[1;32m     10\u001b[0m \u001b[43m        \u001b[49m\u001b[38;5;241;43m.\u001b[39;49m\u001b[43moffset\u001b[49m\u001b[43m(\u001b[49m\u001b[38;5;241;43m30\u001b[39;49m\u001b[43m)\u001b[49m\n\u001b[1;32m     11\u001b[0m \u001b[43m        \u001b[49m\u001b[38;5;241;43m.\u001b[39;49m\u001b[43mwindow\u001b[49m\u001b[43m(\u001b[49m\u001b[38;5;241;43m30\u001b[39;49m\u001b[43m)\u001b[49m\n\u001b[1;32m     12\u001b[0m \u001b[43m        \u001b[49m\u001b[38;5;66;43;03m# .rejoin(True)\u001b[39;49;00m\n\u001b[1;32m     13\u001b[0m \u001b[43m        \u001b[49m\u001b[38;5;241;43m.\u001b[39;49m\u001b[43mrun\u001b[49m\u001b[43m(\u001b[49m\u001b[43m)\u001b[49m\n\u001b[1;32m     14\u001b[0m \u001b[43m        \u001b[49m\u001b[38;5;241;43m.\u001b[39;49m\u001b[43mselect\u001b[49m\u001b[43m(\u001b[49m\u001b[43m[\u001b[49m\u001b[43mpl\u001b[49m\u001b[38;5;241;43m.\u001b[39;49m\u001b[43mcol\u001b[49m\u001b[43m(\u001b[49m\u001b[38;5;124;43m\"\u001b[39;49m\u001b[38;5;124;43mnumerator\u001b[39;49m\u001b[38;5;124;43m\"\u001b[39;49m\u001b[43m)\u001b[49m\u001b[43m]\u001b[49m\u001b[43m)\u001b[49m\u001b[43m,\u001b[49m\n\u001b[1;32m     15\u001b[0m \u001b[43m    \u001b[49m\u001b[43m]\u001b[49m\u001b[43m,\u001b[49m\n\u001b[1;32m     16\u001b[0m \u001b[43m    \u001b[49m\u001b[43mhow\u001b[49m\u001b[38;5;241;43m=\u001b[39;49m\u001b[38;5;124;43m\"\u001b[39;49m\u001b[38;5;124;43mhorizontal\u001b[39;49m\u001b[38;5;124;43m\"\u001b[39;49m\u001b[43m,\u001b[49m\n\u001b[1;32m     17\u001b[0m \u001b[43m)\u001b[49m\n\u001b[1;32m     19\u001b[0m lf \u001b[38;5;241m=\u001b[39m pl\u001b[38;5;241m.\u001b[39mconcat(\n\u001b[1;32m     20\u001b[0m     [\n\u001b[1;32m     21\u001b[0m         lf,\n\u001b[0;32m   (...)\u001b[0m\n\u001b[1;32m     32\u001b[0m     how\u001b[38;5;241m=\u001b[39m\u001b[38;5;124m\"\u001b[39m\u001b[38;5;124mhorizontal\u001b[39m\u001b[38;5;124m\"\u001b[39m,\n\u001b[1;32m     33\u001b[0m )\n\u001b[1;32m     35\u001b[0m lf\u001b[38;5;241m.\u001b[39mhead()\u001b[38;5;241m.\u001b[39mcollect()\n",
      "File \u001b[0;32m/app/.venv/lib/python3.11/site-packages/polars/functions/eager.py:234\u001b[0m, in \u001b[0;36mconcat\u001b[0;34m(items, how, rechunk, parallel)\u001b[0m\n\u001b[1;32m    224\u001b[0m     \u001b[38;5;28;01mreturn\u001b[39;00m wrap_ldf(\n\u001b[1;32m    225\u001b[0m         plr\u001b[38;5;241m.\u001b[39mconcat_lf_diagonal(\n\u001b[1;32m    226\u001b[0m             elems,\n\u001b[0;32m   (...)\u001b[0m\n\u001b[1;32m    230\u001b[0m         )\n\u001b[1;32m    231\u001b[0m     )\n\u001b[1;32m    232\u001b[0m \u001b[38;5;28;01melif\u001b[39;00m how \u001b[38;5;241m==\u001b[39m \u001b[38;5;124m\"\u001b[39m\u001b[38;5;124mhorizontal\u001b[39m\u001b[38;5;124m\"\u001b[39m:\n\u001b[1;32m    233\u001b[0m     \u001b[38;5;28;01mreturn\u001b[39;00m wrap_ldf(\n\u001b[0;32m--> 234\u001b[0m         \u001b[43mplr\u001b[49m\u001b[38;5;241;43m.\u001b[39;49m\u001b[43mconcat_lf_horizontal\u001b[49m\u001b[43m(\u001b[49m\n\u001b[1;32m    235\u001b[0m \u001b[43m            \u001b[49m\u001b[43melems\u001b[49m\u001b[43m,\u001b[49m\n\u001b[1;32m    236\u001b[0m \u001b[43m            \u001b[49m\u001b[43mparallel\u001b[49m\u001b[38;5;241;43m=\u001b[39;49m\u001b[43mparallel\u001b[49m\u001b[43m,\u001b[49m\n\u001b[1;32m    237\u001b[0m \u001b[43m        \u001b[49m\u001b[43m)\u001b[49m\n\u001b[1;32m    238\u001b[0m     )\n\u001b[1;32m    239\u001b[0m \u001b[38;5;28;01melse\u001b[39;00m:\n\u001b[1;32m    240\u001b[0m     allowed \u001b[38;5;241m=\u001b[39m \u001b[38;5;124m\"\u001b[39m\u001b[38;5;124m, \u001b[39m\u001b[38;5;124m\"\u001b[39m\u001b[38;5;241m.\u001b[39mjoin(\u001b[38;5;28mrepr\u001b[39m(m) \u001b[38;5;28;01mfor\u001b[39;00m m \u001b[38;5;129;01min\u001b[39;00m get_args(ConcatMethod))\n",
      "\u001b[0;31mColumnNotFoundError\u001b[0m: numerator\n\nError originated just after this operation:\n SELECT [col(\"index\"), col(\"date\"), col(\"ROLLING_SUM(rolling_sum[ALL])[lag:30/win:30]\")] FROM\n   SELECT [col(\"index\").alias(\"index\"), col(\"date\").alias(\"date\"), col(\"cat\").strict_cast(Categorical(None, Physical)).alias(\"cat\"), col(\"ROLLING_SUM(rolling_sum[ALL])[lag:30/win:30]\").alias(\"ROLLING_SUM(rolling_sum[ALL])[lag:30/win:30]\")] FROM\n    DF [\"index\", \"date\", \"values\", \"ROLLING_SUM(rolling_sum[ALL])[lag:30/win:30]\"]; PROJECT */5 COLUMNS; SELECTION: \"None\""
     ]
    }
   ],
   "source": [
    "lf = pl.concat(\n",
    "    [\n",
    "        lf,\n",
    "        DynamicRollingSum()\n",
    "        .lf(lf.with_row_index())\n",
    "        .x_col(\"rolling_sum\")\n",
    "        .x_name(\"numerator\")\n",
    "        .date_col(\"date\")\n",
    "        .index_col(\"index\")\n",
    "        .offset(30)\n",
    "        .window(30)\n",
    "        # .rejoin(True)\n",
    "        .run()\n",
    "        .select([pl.col(\"numerator\")]),\n",
    "    ],\n",
    "    how=\"horizontal\",\n",
    ")\n",
    "\n",
    "lf = pl.concat(\n",
    "    [\n",
    "        lf,\n",
    "        DynamicRollingCount()\n",
    "        .lf(lf.with_row_index())\n",
    "        .date_col(\"date\")\n",
    "        .index_col(\"index\")\n",
    "        .offset(30)\n",
    "        .window(30)\n",
    "        # .rejoin(True)\n",
    "        .run()\n",
    "        .select([pl.col(\"count\")]),\n",
    "    ],\n",
    "    how=\"horizontal\",\n",
    ")\n",
    "\n",
    "lf.head().collect()"
   ]
  },
  {
   "cell_type": "code",
   "execution_count": null,
   "metadata": {},
   "outputs": [
    {
     "data": {
      "text/html": [
       "<div><style>\n",
       ".dataframe > thead > tr,\n",
       ".dataframe > tbody > tr {\n",
       "  text-align: right;\n",
       "  white-space: pre-wrap;\n",
       "}\n",
       "</style>\n",
       "<small>shape: (1_764, 18)</small><table border=\"1\" class=\"dataframe\"><thead><tr><th>date</th><th>incr_value</th><th>month_prior</th><th>year_prior</th><th>rolling_sum</th><th>cat1</th><th>cat2</th><th>30_days_prior</th><th>60_days_prior</th><th>360_days_prior</th><th>390_days_prior</th><th>sum2</th><th>sum_cat1</th><th>sum_cat2</th><th>sum_catBOTH</th><th>cur_date</th><th>numerator</th><th>count</th></tr><tr><td>date</td><td>f64</td><td>date</td><td>date</td><td>f64</td><td>cat</td><td>cat</td><td>str</td><td>str</td><td>str</td><td>str</td><td>i64</td><td>i64</td><td>i64</td><td>i64</td><td>date</td><td>f64</td><td>f64</td></tr></thead><tbody><tr><td>2014-03-04</td><td>1.0</td><td>2014-02-04</td><td>2013-02-04</td><td>34.0</td><td>&quot;A&quot;</td><td>&quot;D&quot;</td><td>&quot;2/2/2014&quot;</td><td>&quot;1/3/2014&quot;</td><td>&quot;3/9/2013&quot;</td><td>&quot;2/7/2013&quot;</td><td>33</td><td>17</td><td>8</td><td>5</td><td>2014-03-04</td><td>1.0</td><td>30.0</td></tr><tr><td>2014-03-05</td><td>1.0</td><td>2014-02-05</td><td>2013-02-05</td><td>35.0</td><td>&quot;A&quot;</td><td>&quot;D&quot;</td><td>&quot;2/3/2014&quot;</td><td>&quot;1/4/2014&quot;</td><td>&quot;3/10/2013&quot;</td><td>&quot;2/8/2013&quot;</td><td>34</td><td>18</td><td>8</td><td>5</td><td>2014-03-05</td><td>3.0</td><td>30.0</td></tr><tr><td>2014-03-06</td><td>1.0</td><td>2014-02-06</td><td>2013-02-06</td><td>36.0</td><td>&quot;B&quot;</td><td>&quot;E&quot;</td><td>&quot;2/4/2014&quot;</td><td>&quot;1/5/2014&quot;</td><td>&quot;3/11/2013&quot;</td><td>&quot;2/9/2013&quot;</td><td>35</td><td>16</td><td>13</td><td>6</td><td>2014-03-06</td><td>6.0</td><td>30.0</td></tr><tr><td>2014-03-07</td><td>1.0</td><td>2014-02-07</td><td>2013-02-07</td><td>37.0</td><td>&quot;A&quot;</td><td>&quot;C&quot;</td><td>&quot;2/5/2014&quot;</td><td>&quot;1/6/2014&quot;</td><td>&quot;3/12/2013&quot;</td><td>&quot;2/10/2013&quot;</td><td>36</td><td>19</td><td>14</td><td>7</td><td>2014-03-07</td><td>10.0</td><td>30.0</td></tr><tr><td>2014-03-08</td><td>1.0</td><td>2014-02-08</td><td>2013-02-08</td><td>38.0</td><td>&quot;B&quot;</td><td>&quot;E&quot;</td><td>&quot;2/6/2014&quot;</td><td>&quot;1/7/2014&quot;</td><td>&quot;3/13/2013&quot;</td><td>&quot;2/11/2013&quot;</td><td>37</td><td>17</td><td>14</td><td>6</td><td>2014-03-08</td><td>15.0</td><td>30.0</td></tr><tr><td>&hellip;</td><td>&hellip;</td><td>&hellip;</td><td>&hellip;</td><td>&hellip;</td><td>&hellip;</td><td>&hellip;</td><td>&hellip;</td><td>&hellip;</td><td>&hellip;</td><td>&hellip;</td><td>&hellip;</td><td>&hellip;</td><td>&hellip;</td><td>&hellip;</td><td>&hellip;</td><td>&hellip;</td><td>&hellip;</td></tr><tr><td>2018-12-27</td><td>1.0</td><td>2018-11-27</td><td>2017-11-27</td><td>365.0</td><td>&quot;B&quot;</td><td>&quot;E&quot;</td><td>&quot;11/27/2018&quot;</td><td>&quot;10/28/2018&quot;</td><td>&quot;1/1/2018&quot;</td><td>&quot;12/2/2017&quot;</td><td>360</td><td>182</td><td>116</td><td>59</td><td>2018-12-27</td><td>10950.0</td><td>30.0</td></tr><tr><td>2018-12-28</td><td>1.0</td><td>2018-11-28</td><td>2017-11-28</td><td>365.0</td><td>&quot;B&quot;</td><td>&quot;E&quot;</td><td>&quot;11/28/2018&quot;</td><td>&quot;10/29/2018&quot;</td><td>&quot;1/2/2018&quot;</td><td>&quot;12/3/2017&quot;</td><td>360</td><td>181</td><td>116</td><td>58</td><td>2018-12-28</td><td>10950.0</td><td>30.0</td></tr><tr><td>2018-12-29</td><td>1.0</td><td>2018-11-29</td><td>2017-11-29</td><td>365.0</td><td>&quot;A&quot;</td><td>&quot;D&quot;</td><td>&quot;11/29/2018&quot;</td><td>&quot;10/30/2018&quot;</td><td>&quot;1/3/2018&quot;</td><td>&quot;12/4/2017&quot;</td><td>360</td><td>179</td><td>136</td><td>67</td><td>2018-12-29</td><td>10950.0</td><td>30.0</td></tr><tr><td>2018-12-30</td><td>1.0</td><td>2018-11-30</td><td>2017-11-30</td><td>365.0</td><td>&quot;A&quot;</td><td>&quot;C&quot;</td><td>&quot;11/30/2018&quot;</td><td>&quot;10/31/2018&quot;</td><td>&quot;1/4/2018&quot;</td><td>&quot;12/5/2017&quot;</td><td>360</td><td>179</td><td>109</td><td>54</td><td>2018-12-30</td><td>10950.0</td><td>30.0</td></tr><tr><td>2018-12-31</td><td>1.0</td><td>2018-12-01</td><td>2017-12-01</td><td>365.0</td><td>&quot;B&quot;</td><td>&quot;C&quot;</td><td>&quot;12/1/2018&quot;</td><td>&quot;11/1/2018&quot;</td><td>&quot;1/5/2018&quot;</td><td>&quot;12/6/2017&quot;</td><td>360</td><td>181</td><td>109</td><td>55</td><td>2018-12-31</td><td>10950.0</td><td>30.0</td></tr></tbody></table></div>"
      ],
      "text/plain": [
       "shape: (1_764, 18)\n",
       "┌────────────┬────────────┬────────────┬───────────┬───┬───────────┬───────────┬───────────┬───────┐\n",
       "│ date       ┆ incr_value ┆ month_prio ┆ year_prio ┆ … ┆ sum_catBO ┆ cur_date  ┆ numerator ┆ count │\n",
       "│ ---        ┆ ---        ┆ r          ┆ r         ┆   ┆ TH        ┆ ---       ┆ ---       ┆ ---   │\n",
       "│ date       ┆ f64        ┆ ---        ┆ ---       ┆   ┆ ---       ┆ date      ┆ f64       ┆ f64   │\n",
       "│            ┆            ┆ date       ┆ date      ┆   ┆ i64       ┆           ┆           ┆       │\n",
       "╞════════════╪════════════╪════════════╪═══════════╪═══╪═══════════╪═══════════╪═══════════╪═══════╡\n",
       "│ 2014-03-04 ┆ 1.0        ┆ 2014-02-04 ┆ 2013-02-0 ┆ … ┆ 5         ┆ 2014-03-0 ┆ 1.0       ┆ 30.0  │\n",
       "│            ┆            ┆            ┆ 4         ┆   ┆           ┆ 4         ┆           ┆       │\n",
       "│ 2014-03-05 ┆ 1.0        ┆ 2014-02-05 ┆ 2013-02-0 ┆ … ┆ 5         ┆ 2014-03-0 ┆ 3.0       ┆ 30.0  │\n",
       "│            ┆            ┆            ┆ 5         ┆   ┆           ┆ 5         ┆           ┆       │\n",
       "│ 2014-03-06 ┆ 1.0        ┆ 2014-02-06 ┆ 2013-02-0 ┆ … ┆ 6         ┆ 2014-03-0 ┆ 6.0       ┆ 30.0  │\n",
       "│            ┆            ┆            ┆ 6         ┆   ┆           ┆ 6         ┆           ┆       │\n",
       "│ 2014-03-07 ┆ 1.0        ┆ 2014-02-07 ┆ 2013-02-0 ┆ … ┆ 7         ┆ 2014-03-0 ┆ 10.0      ┆ 30.0  │\n",
       "│            ┆            ┆            ┆ 7         ┆   ┆           ┆ 7         ┆           ┆       │\n",
       "│ 2014-03-08 ┆ 1.0        ┆ 2014-02-08 ┆ 2013-02-0 ┆ … ┆ 6         ┆ 2014-03-0 ┆ 15.0      ┆ 30.0  │\n",
       "│            ┆            ┆            ┆ 8         ┆   ┆           ┆ 8         ┆           ┆       │\n",
       "│ …          ┆ …          ┆ …          ┆ …         ┆ … ┆ …         ┆ …         ┆ …         ┆ …     │\n",
       "│ 2018-12-27 ┆ 1.0        ┆ 2018-11-27 ┆ 2017-11-2 ┆ … ┆ 59        ┆ 2018-12-2 ┆ 10950.0   ┆ 30.0  │\n",
       "│            ┆            ┆            ┆ 7         ┆   ┆           ┆ 7         ┆           ┆       │\n",
       "│ 2018-12-28 ┆ 1.0        ┆ 2018-11-28 ┆ 2017-11-2 ┆ … ┆ 58        ┆ 2018-12-2 ┆ 10950.0   ┆ 30.0  │\n",
       "│            ┆            ┆            ┆ 8         ┆   ┆           ┆ 8         ┆           ┆       │\n",
       "│ 2018-12-29 ┆ 1.0        ┆ 2018-11-29 ┆ 2017-11-2 ┆ … ┆ 67        ┆ 2018-12-2 ┆ 10950.0   ┆ 30.0  │\n",
       "│            ┆            ┆            ┆ 9         ┆   ┆           ┆ 9         ┆           ┆       │\n",
       "│ 2018-12-30 ┆ 1.0        ┆ 2018-11-30 ┆ 2017-11-3 ┆ … ┆ 54        ┆ 2018-12-3 ┆ 10950.0   ┆ 30.0  │\n",
       "│            ┆            ┆            ┆ 0         ┆   ┆           ┆ 0         ┆           ┆       │\n",
       "│ 2018-12-31 ┆ 1.0        ┆ 2018-12-01 ┆ 2017-12-0 ┆ … ┆ 55        ┆ 2018-12-3 ┆ 10950.0   ┆ 30.0  │\n",
       "│            ┆            ┆            ┆ 1         ┆   ┆           ┆ 1         ┆           ┆       │\n",
       "└────────────┴────────────┴────────────┴───────────┴───┴───────────┴───────────┴───────────┴───────┘"
      ]
     },
     "execution_count": 4,
     "metadata": {},
     "output_type": "execute_result"
    }
   ],
   "source": [
    "lf.filter((pl.col(\"numerator\") != 0)).collect()"
   ]
  },
  {
   "cell_type": "code",
   "execution_count": null,
   "metadata": {},
   "outputs": [
    {
     "name": "stdout",
     "output_type": "stream",
     "text": [
      "['index', 'date', 'test random name']\n"
     ]
    }
   ],
   "source": [
    "rolling_sum_df = (\n",
    "    DynamicRollingSum()\n",
    "    .lf(lf.with_row_index())\n",
    "    .x_col(\"incr_value\")\n",
    "    .x_name(\"test random name\")\n",
    "    .date_col(\"date\")\n",
    "    .index_col(\"index\")\n",
    "    .offset(30)\n",
    "    .window(30)\n",
    "    .run()\n",
    ")\n",
    "\n",
    "print(rolling_sum_df.columns)"
   ]
  }
 ],
 "metadata": {
  "kernelspec": {
   "display_name": ".venv",
   "language": "python",
   "name": "python3"
  },
  "language_info": {
   "codemirror_mode": {
    "name": "ipython",
    "version": 3
   },
   "file_extension": ".py",
   "mimetype": "text/x-python",
   "name": "python",
   "nbconvert_exporter": "python",
   "pygments_lexer": "ipython3",
   "version": "3.11.8"
  },
  "orig_nbformat": 4
 },
 "nbformat": 4,
 "nbformat_minor": 2
}
