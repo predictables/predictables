{
 "cells": [
  {
   "cell_type": "code",
   "execution_count": 19,
   "metadata": {},
   "outputs": [],
   "source": [
    "import os\n",
    "\n",
    "import polars as pl\n",
    "\n",
    "os.chdir(\"../../../\")\n",
    "\n",
    "# predictables\\encoding\\src\\lagged_mean_encoding\\_dynamic_rolling_sum.py\n",
    "from predictables.encoding.src.lagged_mean_encoding._dynamic_rolling_sum import (\n",
    "    _formatted_category_cols,\n",
    "    _formatted_date_col,\n",
    "    _get_date_map,\n",
    "    _get_original_order,\n",
    "    _group_by_categories,\n",
    "    _group_by_no_categories,\n",
    "    _reversed_date_col,\n",
    "    _rolling_sum_categories,\n",
    "    _rolling_sum_no_categories,\n",
    ")"
   ]
  },
  {
   "cell_type": "code",
   "execution_count": 23,
   "metadata": {},
   "outputs": [
    {
     "data": {
      "text/html": [
       "<div><style>\n",
       ".dataframe > thead > tr,\n",
       ".dataframe > tbody > tr {\n",
       "  text-align: right;\n",
       "  white-space: pre-wrap;\n",
       "}\n",
       "</style>\n",
       "<small>shape: (5, 8)</small><table border=\"1\" class=\"dataframe\"><thead><tr><th>date</th><th>incr_value</th><th>month_prior</th><th>year_prior</th><th>rolling_sum</th><th>cat1</th><th>cat2</th><th>cur_date</th></tr><tr><td>date</td><td>f64</td><td>date</td><td>date</td><td>f64</td><td>cat</td><td>cat</td><td>date</td></tr></thead><tbody><tr><td>2014-01-01</td><td>1.0</td><td>2013-12-01</td><td>2012-12-01</td><td>0.0</td><td>&quot;B&quot;</td><td>&quot;C&quot;</td><td>2014-01-01</td></tr><tr><td>2014-01-02</td><td>1.0</td><td>2013-12-02</td><td>2012-12-02</td><td>0.0</td><td>&quot;A&quot;</td><td>&quot;C&quot;</td><td>2014-01-02</td></tr><tr><td>2014-01-03</td><td>1.0</td><td>2013-12-03</td><td>2012-12-03</td><td>0.0</td><td>&quot;B&quot;</td><td>&quot;D&quot;</td><td>2014-01-03</td></tr><tr><td>2014-01-04</td><td>1.0</td><td>2013-12-04</td><td>2012-12-04</td><td>0.0</td><td>&quot;B&quot;</td><td>&quot;D&quot;</td><td>2014-01-04</td></tr><tr><td>2014-01-05</td><td>1.0</td><td>2013-12-05</td><td>2012-12-05</td><td>0.0</td><td>&quot;B&quot;</td><td>&quot;E&quot;</td><td>2014-01-05</td></tr></tbody></table></div>"
      ],
      "text/plain": [
       "shape: (5, 8)\n",
       "┌────────────┬────────────┬─────────────┬────────────┬─────────────┬──────┬──────┬────────────┐\n",
       "│ date       ┆ incr_value ┆ month_prior ┆ year_prior ┆ rolling_sum ┆ cat1 ┆ cat2 ┆ cur_date   │\n",
       "│ ---        ┆ ---        ┆ ---         ┆ ---        ┆ ---         ┆ ---  ┆ ---  ┆ ---        │\n",
       "│ date       ┆ f64        ┆ date        ┆ date       ┆ f64         ┆ cat  ┆ cat  ┆ date       │\n",
       "╞════════════╪════════════╪═════════════╪════════════╪═════════════╪══════╪══════╪════════════╡\n",
       "│ 2014-01-01 ┆ 1.0        ┆ 2013-12-01  ┆ 2012-12-01 ┆ 0.0         ┆ B    ┆ C    ┆ 2014-01-01 │\n",
       "│ 2014-01-02 ┆ 1.0        ┆ 2013-12-02  ┆ 2012-12-02 ┆ 0.0         ┆ A    ┆ C    ┆ 2014-01-02 │\n",
       "│ 2014-01-03 ┆ 1.0        ┆ 2013-12-03  ┆ 2012-12-03 ┆ 0.0         ┆ B    ┆ D    ┆ 2014-01-03 │\n",
       "│ 2014-01-04 ┆ 1.0        ┆ 2013-12-04  ┆ 2012-12-04 ┆ 0.0         ┆ B    ┆ D    ┆ 2014-01-04 │\n",
       "│ 2014-01-05 ┆ 1.0        ┆ 2013-12-05  ┆ 2012-12-05 ┆ 0.0         ┆ B    ┆ E    ┆ 2014-01-05 │\n",
       "└────────────┴────────────┴─────────────┴────────────┴─────────────┴──────┴──────┴────────────┘"
      ]
     },
     "execution_count": 23,
     "metadata": {},
     "output_type": "execute_result"
    }
   ],
   "source": [
    "date_fmt_str = \"%m/%d/%Y\"\n",
    "\n",
    "lf = pl.scan_csv(\n",
    "    \"/home/aweaver/work/predictables/predictables/encoding/tests/rolling_date_example.csv\"\n",
    ").with_columns(\n",
    "    [\n",
    "        pl.col(\"date\").str.to_date(format=date_fmt_str).cast(pl.Date).name.keep(),\n",
    "        pl.col(\"incr_value\").cast(pl.Float64).name.keep(),\n",
    "        pl.col(\"month_prior\")\n",
    "        .str.to_date(format=date_fmt_str)\n",
    "        .cast(pl.Date)\n",
    "        .name.keep(),\n",
    "        pl.col(\"year_prior\").str.to_date(format=date_fmt_str).cast(pl.Date).name.keep(),\n",
    "        pl.col(\"rolling_sum\").cast(pl.Float64).name.keep(),\n",
    "        pl.col(\"date\").str.to_date(format=date_fmt_str).cast(pl.Date).alias(\"cur_date\"),\n",
    "        pl.col(\"cat1\").cast(pl.Utf8).cast(pl.Categorical).name.keep(),\n",
    "        pl.col(\"cat2\").cast(pl.Utf8).cast(pl.Categorical).name.keep(),\n",
    "    ]\n",
    ")\n",
    "lf.head().collect()"
   ]
  },
  {
   "cell_type": "code",
   "execution_count": 26,
   "metadata": {},
   "outputs": [
    {
     "name": "stdout",
     "output_type": "stream",
     "text": [
      "dcol: date\n",
      "dcol type: <class 'str'>\n",
      "column type: [Date]\n",
      "dcol: date\n",
      "dcol type: <class 'str'>\n",
      "column type: [Date]\n"
     ]
    },
    {
     "name": "stderr",
     "output_type": "stream",
     "text": [
      "thread '<unnamed>' panicked at /home/runner/work/polars/polars/crates/polars-lazy/src/frame/mod.rs:1019:18:\n",
      "called `Result::unwrap()` on an `Err` value: ColumnNotFound(ErrString(\"date\"))\n",
      "note: run with `RUST_BACKTRACE=1` environment variable to display a backtrace\n"
     ]
    },
    {
     "ename": "PanicException",
     "evalue": "called `Result::unwrap()` on an `Err` value: ColumnNotFound(ErrString(\"date\"))",
     "output_type": "error",
     "traceback": [
      "\u001b[0;31m---------------------------------------------------------------------------\u001b[0m",
      "\u001b[0;31mPanicException\u001b[0m                            Traceback (most recent call last)",
      "Cell \u001b[0;32mIn[26], line 1\u001b[0m\n\u001b[0;32m----> 1\u001b[0m \u001b[43m_rolling_sum_no_categories\u001b[49m\u001b[43m(\u001b[49m\u001b[43mlf\u001b[49m\u001b[43m,\u001b[49m\u001b[43m \u001b[49m\u001b[38;5;124;43m\"\u001b[39;49m\u001b[38;5;124;43mincr_value\u001b[39;49m\u001b[38;5;124;43m\"\u001b[39;49m\u001b[43m,\u001b[49m\u001b[43m \u001b[49m\u001b[38;5;124;43m\"\u001b[39;49m\u001b[38;5;124;43mdate\u001b[39;49m\u001b[38;5;124;43m\"\u001b[39;49m\u001b[43m,\u001b[49m\u001b[43m \u001b[49m\u001b[38;5;124;43m\"\u001b[39;49m\u001b[38;5;124;43mincr\u001b[39;49m\u001b[38;5;124;43m\"\u001b[39;49m\u001b[43m)\u001b[49m\u001b[38;5;241m.\u001b[39mcollect()\n",
      "File \u001b[0;32m~/work/predictables/predictables/encoding/src/lagged_mean_encoding/_dynamic_rolling_sum.py:531\u001b[0m, in \u001b[0;36m_rolling_sum_no_categories\u001b[0;34m(lf, x, date_col, x_name, every, period, offset)\u001b[0m\n\u001b[1;32m    506\u001b[0m \u001b[38;5;28;01mdef\u001b[39;00m \u001b[38;5;21m_rolling_sum_no_categories\u001b[39m(\n\u001b[1;32m    507\u001b[0m     lf: pl\u001b[38;5;241m.\u001b[39mLazyFrame,\n\u001b[1;32m    508\u001b[0m     x: \u001b[38;5;28mstr\u001b[39m,\n\u001b[0;32m   (...)\u001b[0m\n\u001b[1;32m    513\u001b[0m     offset: \u001b[38;5;28mstr\u001b[39m \u001b[38;5;241m=\u001b[39m \u001b[38;5;124m\"\u001b[39m\u001b[38;5;124m-1mo\u001b[39m\u001b[38;5;124m\"\u001b[39m,\n\u001b[1;32m    514\u001b[0m ) \u001b[38;5;241m-\u001b[39m\u001b[38;5;241m>\u001b[39m pl\u001b[38;5;241m.\u001b[39mLazyFrame:\n\u001b[1;32m    515\u001b[0m \u001b[38;5;250m    \u001b[39m\u001b[38;5;124;03m\"\"\"\u001b[39;00m\n\u001b[1;32m    516\u001b[0m \u001b[38;5;124;03m    Calculate the rolling sum for each row in the lazyframe. This function is used when there are no category columns to group by.\u001b[39;00m\n\u001b[1;32m    517\u001b[0m \n\u001b[1;32m    518\u001b[0m \u001b[38;5;124;03m    Parameters\u001b[39;00m\n\u001b[1;32m    519\u001b[0m \u001b[38;5;124;03m    ----------\u001b[39;00m\n\u001b[1;32m    520\u001b[0m \u001b[38;5;124;03m    lf : pl.LazyFrame\u001b[39;00m\n\u001b[1;32m    521\u001b[0m \u001b[38;5;124;03m        The lazyframe to calculate the rolling sum for.\u001b[39;00m\n\u001b[1;32m    522\u001b[0m \u001b[38;5;124;03m    x : str\u001b[39;00m\n\u001b[1;32m    523\u001b[0m \u001b[38;5;124;03m        The name of the column to calculate the rolling sum for.\u001b[39;00m\n\u001b[1;32m    524\u001b[0m \u001b[38;5;124;03m    date_col : str\u001b[39;00m\n\u001b[1;32m    525\u001b[0m \u001b[38;5;124;03m        The name of the date column.\u001b[39;00m\n\u001b[1;32m    526\u001b[0m \u001b[38;5;124;03m    x_name : str, optional\u001b[39;00m\n\u001b[1;32m    527\u001b[0m \u001b[38;5;124;03m        The name of the new column to add to the lazyframe.\u001b[39;00m\n\u001b[1;32m    528\u001b[0m \u001b[38;5;124;03m    every : str, optional\u001b[39;00m\n\u001b[1;32m    529\u001b[0m \u001b[38;5;124;03m        The frequency of the rolling sum. Default is \"1d\".\u001b[39;00m\n\u001b[1;32m    530\u001b[0m \u001b[38;5;124;03m    period : str, optional\u001b[39;00m\n\u001b[0;32m--> 531\u001b[0m \u001b[38;5;124;03m        The period of the rolling sum. Default is \"1y\".\u001b[39;00m\n\u001b[1;32m    532\u001b[0m \u001b[38;5;124;03m    offset : str, optional\u001b[39;00m\n\u001b[1;32m    533\u001b[0m \u001b[38;5;124;03m        The offset of the rolling sum. Default is \"-1mo\".\u001b[39;00m\n\u001b[1;32m    534\u001b[0m \n\u001b[1;32m    535\u001b[0m \u001b[38;5;124;03m    Returns\u001b[39;00m\n\u001b[1;32m    536\u001b[0m \u001b[38;5;124;03m    -------\u001b[39;00m\n\u001b[1;32m    537\u001b[0m \u001b[38;5;124;03m    pl.LazyFrame\u001b[39;00m\n\u001b[1;32m    538\u001b[0m \u001b[38;5;124;03m        The lazyframe with the rolling sum added as a new column.\u001b[39;00m\n\u001b[1;32m    539\u001b[0m \u001b[38;5;124;03m    \"\"\"\u001b[39;00m\n\u001b[1;32m    540\u001b[0m     \u001b[38;5;66;03m# Get the lazyframe with the original row order preserved\u001b[39;00m\n\u001b[1;32m    541\u001b[0m     lf_order \u001b[38;5;241m=\u001b[39m _get_original_order(lf, date_col)\n",
      "File \u001b[0;32m~/work/predictables/predictables/encoding/src/lagged_mean_encoding/_dynamic_rolling_sum.py:427\u001b[0m, in \u001b[0;36m_group_by_no_categories\u001b[0;34m(lf, reversed_date_expr, x, x_name, every, period, offset)\u001b[0m\n\u001b[1;32m    408\u001b[0m \u001b[38;5;28;01mdef\u001b[39;00m \u001b[38;5;21m_group_by_no_categories\u001b[39m(\n\u001b[1;32m    409\u001b[0m     lf: pl\u001b[38;5;241m.\u001b[39mLazyFrame,\n\u001b[1;32m    410\u001b[0m     reversed_date_expr: pl\u001b[38;5;241m.\u001b[39mExpr,\n\u001b[0;32m   (...)\u001b[0m\n\u001b[1;32m    415\u001b[0m     offset: \u001b[38;5;28mstr\u001b[39m \u001b[38;5;241m=\u001b[39m \u001b[38;5;124m\"\u001b[39m\u001b[38;5;124m-1mo\u001b[39m\u001b[38;5;124m\"\u001b[39m,\n\u001b[1;32m    416\u001b[0m ) \u001b[38;5;241m-\u001b[39m\u001b[38;5;241m>\u001b[39m pl\u001b[38;5;241m.\u001b[39mLazyFrame:  \u001b[38;5;66;03m# type: ignore\u001b[39;00m\n\u001b[1;32m    417\u001b[0m \u001b[38;5;250m    \u001b[39m\u001b[38;5;124;03m\"\"\"\u001b[39;00m\n\u001b[1;32m    418\u001b[0m \u001b[38;5;124;03m    Group the lazyframe by the reversed date column. This function is used when there\u001b[39;00m\n\u001b[1;32m    419\u001b[0m \u001b[38;5;124;03m    are no category columns to group by.\u001b[39;00m\n\u001b[1;32m    420\u001b[0m \n\u001b[1;32m    421\u001b[0m \u001b[38;5;124;03m    Parameters\u001b[39;00m\n\u001b[1;32m    422\u001b[0m \u001b[38;5;124;03m    ----------\u001b[39;00m\n\u001b[1;32m    423\u001b[0m \u001b[38;5;124;03m    lf : pl.LazyFrame\u001b[39;00m\n\u001b[1;32m    424\u001b[0m \u001b[38;5;124;03m        The lazyframe to group by.\u001b[39;00m\n\u001b[1;32m    425\u001b[0m \u001b[38;5;124;03m    reversed_date_expr : pl.Expr\u001b[39;00m\n\u001b[1;32m    426\u001b[0m \u001b[38;5;124;03m        The expression for the reversed date column.\u001b[39;00m\n\u001b[0;32m--> 427\u001b[0m \u001b[38;5;124;03m    x : str\u001b[39;00m\n\u001b[1;32m    428\u001b[0m \u001b[38;5;124;03m        The name of the column to calculate the rolling sum for.\u001b[39;00m\n\u001b[1;32m    429\u001b[0m \u001b[38;5;124;03m    x_name : str, optional\u001b[39;00m\n\u001b[1;32m    430\u001b[0m \u001b[38;5;124;03m        The name of the new column to add to the lazyframe.\u001b[39;00m\n\u001b[1;32m    431\u001b[0m \u001b[38;5;124;03m    every : str, optional\u001b[39;00m\n\u001b[1;32m    432\u001b[0m \u001b[38;5;124;03m        The frequency of the rolling sum. Default is \"1d\".\u001b[39;00m\n\u001b[1;32m    433\u001b[0m \u001b[38;5;124;03m    period : str, optional\u001b[39;00m\n\u001b[1;32m    434\u001b[0m \u001b[38;5;124;03m        The period of the rolling sum. Default is \"1y\".\u001b[39;00m\n\u001b[1;32m    435\u001b[0m \u001b[38;5;124;03m    offset : str, optional\u001b[39;00m\n\u001b[1;32m    436\u001b[0m \u001b[38;5;124;03m        The offset of the rolling sum. Default is \"-1mo\".\u001b[39;00m\n\u001b[1;32m    437\u001b[0m \n\u001b[1;32m    438\u001b[0m \u001b[38;5;124;03m    Returns\u001b[39;00m\n\u001b[1;32m    439\u001b[0m \u001b[38;5;124;03m    -------\u001b[39;00m\n\u001b[1;32m    440\u001b[0m \u001b[38;5;124;03m    pl.LazyFrame\u001b[39;00m\n\u001b[1;32m    441\u001b[0m \u001b[38;5;124;03m        The grouped lazyframe.\u001b[39;00m\n\u001b[1;32m    442\u001b[0m \u001b[38;5;124;03m    \"\"\"\u001b[39;00m\n\u001b[1;32m    443\u001b[0m     \u001b[38;5;28;01mreturn\u001b[39;00m lf\u001b[38;5;241m.\u001b[39msort(reversed_date_expr)\u001b[38;5;241m.\u001b[39mgroup_by_dynamic(  \u001b[38;5;66;03m# type: ignore\u001b[39;00m\n\u001b[1;32m    444\u001b[0m         reversed_date_expr,\n\u001b[1;32m    445\u001b[0m         every\u001b[38;5;241m=\u001b[39mevery,\n\u001b[0;32m   (...)\u001b[0m\n\u001b[1;32m    449\u001b[0m         check_sorted\u001b[38;5;241m=\u001b[39m\u001b[38;5;28;01mFalse\u001b[39;00m,\n\u001b[1;32m    450\u001b[0m     )\n",
      "File \u001b[0;32m~/work/predictables/.venv/lib/python3.11/site-packages/polars/lazyframe/frame.py:3722\u001b[0m, in \u001b[0;36mLazyFrame.group_by_dynamic\u001b[0;34m(self, index_column, every, period, offset, truncate, include_boundaries, closed, label, by, start_by, check_sorted)\u001b[0m\n\u001b[1;32m   3719\u001b[0m every \u001b[38;5;241m=\u001b[39m _timedelta_to_pl_duration(every)\n\u001b[1;32m   3721\u001b[0m pyexprs_by \u001b[38;5;241m=\u001b[39m parse_as_list_of_expressions(by) \u001b[38;5;28;01mif\u001b[39;00m by \u001b[38;5;129;01mis\u001b[39;00m \u001b[38;5;129;01mnot\u001b[39;00m \u001b[38;5;28;01mNone\u001b[39;00m \u001b[38;5;28;01melse\u001b[39;00m []\n\u001b[0;32m-> 3722\u001b[0m lgb \u001b[38;5;241m=\u001b[39m \u001b[38;5;28;43mself\u001b[39;49m\u001b[38;5;241;43m.\u001b[39;49m\u001b[43m_ldf\u001b[49m\u001b[38;5;241;43m.\u001b[39;49m\u001b[43mgroup_by_dynamic\u001b[49m\u001b[43m(\u001b[49m\n\u001b[1;32m   3723\u001b[0m \u001b[43m    \u001b[49m\u001b[43mindex_column\u001b[49m\u001b[43m,\u001b[49m\n\u001b[1;32m   3724\u001b[0m \u001b[43m    \u001b[49m\u001b[43mevery\u001b[49m\u001b[43m,\u001b[49m\n\u001b[1;32m   3725\u001b[0m \u001b[43m    \u001b[49m\u001b[43mperiod\u001b[49m\u001b[43m,\u001b[49m\n\u001b[1;32m   3726\u001b[0m \u001b[43m    \u001b[49m\u001b[43moffset\u001b[49m\u001b[43m,\u001b[49m\n\u001b[1;32m   3727\u001b[0m \u001b[43m    \u001b[49m\u001b[43mlabel\u001b[49m\u001b[43m,\u001b[49m\n\u001b[1;32m   3728\u001b[0m \u001b[43m    \u001b[49m\u001b[43minclude_boundaries\u001b[49m\u001b[43m,\u001b[49m\n\u001b[1;32m   3729\u001b[0m \u001b[43m    \u001b[49m\u001b[43mclosed\u001b[49m\u001b[43m,\u001b[49m\n\u001b[1;32m   3730\u001b[0m \u001b[43m    \u001b[49m\u001b[43mpyexprs_by\u001b[49m\u001b[43m,\u001b[49m\n\u001b[1;32m   3731\u001b[0m \u001b[43m    \u001b[49m\u001b[43mstart_by\u001b[49m\u001b[43m,\u001b[49m\n\u001b[1;32m   3732\u001b[0m \u001b[43m    \u001b[49m\u001b[43mcheck_sorted\u001b[49m\u001b[43m,\u001b[49m\n\u001b[1;32m   3733\u001b[0m \u001b[43m\u001b[49m\u001b[43m)\u001b[49m\n\u001b[1;32m   3734\u001b[0m \u001b[38;5;28;01mreturn\u001b[39;00m LazyGroupBy(lgb)\n",
      "\u001b[0;31mPanicException\u001b[0m: called `Result::unwrap()` on an `Err` value: ColumnNotFound(ErrString(\"date\"))"
     ]
    }
   ],
   "source": [
    "_rolling_sum_no_categories(lf, \"incr_value\", \"date\", \"incr\").collect()"
   ]
  },
  {
   "cell_type": "code",
   "execution_count": null,
   "metadata": {},
   "outputs": [],
   "source": []
  }
 ],
 "metadata": {
  "kernelspec": {
   "display_name": ".venv",
   "language": "python",
   "name": "python3"
  },
  "language_info": {
   "codemirror_mode": {
    "name": "ipython",
    "version": 3
   },
   "file_extension": ".py",
   "mimetype": "text/x-python",
   "name": "python",
   "nbconvert_exporter": "python",
   "pygments_lexer": "ipython3",
   "version": "3.11.3"
  },
  "orig_nbformat": 4
 },
 "nbformat": 4,
 "nbformat_minor": 2
}
