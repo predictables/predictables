{
 "cells": [
  {
   "cell_type": "code",
   "execution_count": 20,
   "metadata": {},
   "outputs": [],
   "source": [
    "%run ./time_series_encoding.py\n",
    "\n",
    "synthetic_lf().collect().write_parquet(\"synthetic.parquet\")\n",
    "lf = load_and_preprocess_data(\"synthetic.parquet\")\n",
    "lf.head().collect()"
   ]
  },
  {
   "cell_type": "code",
   "execution_count": null,
   "metadata": {},
   "outputs": [],
   "source": [
    "lf.columns[1:]"
   ]
  },
  {
   "cell_type": "code",
   "execution_count": null,
   "metadata": {},
   "outputs": [],
   "source": [
    "lf1 = recode_columns(lf)\n",
    "\n",
    "lf1.head().collect()"
   ]
  },
  {
   "cell_type": "markdown",
   "metadata": {},
   "source": [
    "\n",
    "1. starting at the lag 2, continuing for `n_prior` lags (so 2 to 2+n_prior inclusive)\n",
    "2. use the lag 2 value as the target, and the remaining columns as features to predict the lag 2 value\n",
    "3. using the lag 1 value as the target, and the remaining columns as features, apply the fitted model to the lag 2 to lag 2+n_prior columns to estimate the lag 1 value\n",
    "4. calculate the MSE of the estimated lag 1 value and the actual lag 1 value \n",
    "\n",
    "5. repeat steps 3 and 4, starting at lag 3, fitting the model to the lag 3 to lag 3+n_prior columns, estimating the lag 2 value, calculating the MSE of the estimated lag 2 value and the actual lag 2 value, and so on\n",
    "6. continue until you have n_folds MSE values\n",
    "7. return the mean and sd of the MSE values"
   ]
  },
  {
   "cell_type": "code",
   "execution_count": null,
   "metadata": {},
   "outputs": [],
   "source": [
    "get_columns(lf1, \"feature1\", 5, 2 - 1).collect()"
   ]
  },
  {
   "cell_type": "code",
   "execution_count": null,
   "metadata": {},
   "outputs": [],
   "source": [
    "\"\"\"\n",
    "\n",
    "1. starting at the lag 2, continuing for `n_prior` lags (so 2 to 2+n_prior inclusive)\n",
    "2. use the lag 2 value as the target, and the remaining columns as features to predict the lag 2 value\n",
    "3. using the lag 1 value as the target, and the remaining columns as features, apply the fitted model to the lag 2 to lag 2+n_prior columns to estimate the lag 1 value\n",
    "4. calculate the MSE of the estimated lag 1 value and the actual lag 1 value \n",
    "\n",
    "5. repeat steps 3 and 4, starting at lag 3, fitting the model to the lag 3 to lag 3+n_prior columns, estimating the lag 2 value, calculating the MSE of the estimated lag 2 value and the actual lag 2 value, and so on\n",
    "6. continue until you have n_folds MSE values\n",
    "7. return the mean and sd of the MSE values\n",
    "\"\"\"\n",
    "\n",
    "\n",
    "def lagged_forecast(lf: pl.LazyFrame, feature: str, n_folds: int, n_prior: int):\n",
    "    # for fold in range(1, n_folds + 1):\n",
    "    fold = 1\n",
    "\n",
    "    # train model on lag 2 to lag 2+n_prior columns\n",
    "    y_col = get_columns(lf, feature, n_folds).columns[0]\n",
    "    x_cols = get_columns(lf, feature, n_folds, fold + 1 - 1).columns[1:]\n",
    "    print(f\"y_cols: {y_col}\")\n",
    "    print(f\"x_cols: {x_cols}\")\n",
    "    y = lf.select(y_col).collect().to_numpy().reshape(-1, 1)\n",
    "\n",
    "    # X0 = lf.select(\n",
    "    #     [\n",
    "    #         get_columns(lf, feature, n_folds, fold + i - 1)\n",
    "    #         for i in range(1, n_prior + 2)\n",
    "    #     ]\n",
    "    # ).collect()\n",
    "\n",
    "    # estimate lag 1 value\n",
    "\n",
    "    return y\n",
    "\n",
    "\n",
    "lagged_forecast(lf1, \"feature1\", 5, 3)"
   ]
  },
  {
   "cell_type": "code",
   "execution_count": null,
   "metadata": {},
   "outputs": [],
   "source": [
    "get_columns(lf1, \"feature1\", 5, i).columns"
   ]
  },
  {
   "cell_type": "code",
   "execution_count": null,
   "metadata": {},
   "outputs": [],
   "source": [
    "xy = X_y_generator(lf1, \"feature1\", 5, 2)\n",
    "count = 0\n",
    "for x, y in xy:\n",
    "    count += 1\n",
    "    print(f\"count: {count}\")\n",
    "    print(\n",
    "        f\"\\n\\n==\\nx:\\n==\\n\\n{x.reshape(-1, 1)[:5]}\\n\\n==\\ny:\\n==\\n\\n{y.reshape(-1, 1)[:5]}\"\n",
    "    )"
   ]
  },
  {
   "cell_type": "code",
   "execution_count": null,
   "metadata": {},
   "outputs": [],
   "source": [
    "def extract_features_and_lags(lf: pl.LazyFrame) -> tuple:\n",
    "    features = [c.split(\"_\")[2] for c in lf.select(cs.starts_with(\"logit\")).columns]\n",
    "\n",
    "    lags = [\n",
    "        int(c.split(\"_\")[-1].replace(\"]\", \"\"))\n",
    "        for c in lf.select(cs.starts_with(\"logit\")).columns\n",
    "    ]\n",
    "\n",
    "    lf = lf.select(\n",
    "        [pl.col(\"index\")]\n",
    "        + [\n",
    "            pl.col(c).alias(f\"{f}_{int(l/30)}\")\n",
    "            for c, f, l in zip(\n",
    "                lf.select(cs.starts_with(\"logit\")).columns, features, lags\n",
    "            )\n",
    "        ]\n",
    "    )\n",
    "    return lf, features, lags\n",
    "\n",
    "\n",
    "df, feats, lags = extract_features_and_lags(lf)\n",
    "df.head().collect()"
   ]
  },
  {
   "cell_type": "code",
   "execution_count": null,
   "metadata": {},
   "outputs": [],
   "source": []
  }
 ],
 "metadata": {
  "kernelspec": {
   "display_name": ".venv",
   "language": "python",
   "name": "python3"
  },
  "language_info": {
   "codemirror_mode": {
    "name": "ipython",
    "version": 3
   },
   "file_extension": ".py",
   "mimetype": "text/x-python",
   "name": "python",
   "nbconvert_exporter": "python",
   "pygments_lexer": "ipython3",
   "version": "3.11.8"
  }
 },
 "nbformat": 4,
 "nbformat_minor": 2
}
