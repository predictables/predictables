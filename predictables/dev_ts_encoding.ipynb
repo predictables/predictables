{
 "cells": [
  {
   "cell_type": "code",
   "execution_count": 2,
   "metadata": {},
   "outputs": [
    {
     "data": {
      "text/html": [
       "<div><style>\n",
       ".dataframe > thead > tr,\n",
       ".dataframe > tbody > tr {\n",
       "  text-align: right;\n",
       "  white-space: pre-wrap;\n",
       "}\n",
       "</style>\n",
       "<small>shape: (5, 19)</small><table border=\"1\" class=\"dataframe\"><thead><tr><th>index</th><th>logit[MEAN_ENCODED_feature1_30]</th><th>logit[MEAN_ENCODED_feature1_60]</th><th>logit[MEAN_ENCODED_feature1_90]</th><th>logit[MEAN_ENCODED_feature1_120]</th><th>logit[MEAN_ENCODED_feature1_150]</th><th>logit[MEAN_ENCODED_feature1_180]</th><th>logit[MEAN_ENCODED_feature1_210]</th><th>logit[MEAN_ENCODED_feature1_240]</th><th>logit[MEAN_ENCODED_feature1_270]</th><th>logit[MEAN_ENCODED_feature1_300]</th><th>logit[MEAN_ENCODED_feature1_330]</th><th>logit[MEAN_ENCODED_feature1_360]</th><th>logit[MEAN_ENCODED_feature1_390]</th><th>logit[MEAN_ENCODED_feature1_420]</th><th>logit[MEAN_ENCODED_feature1_450]</th><th>logit[MEAN_ENCODED_feature1_480]</th><th>logit[MEAN_ENCODED_feature1_510]</th><th>logit[MEAN_ENCODED_feature1_540]</th></tr><tr><td>i64</td><td>f64</td><td>f64</td><td>f64</td><td>f64</td><td>f64</td><td>f64</td><td>f64</td><td>f64</td><td>f64</td><td>f64</td><td>f64</td><td>f64</td><td>f64</td><td>f64</td><td>f64</td><td>f64</td><td>f64</td><td>f64</td></tr></thead><tbody><tr><td>0</td><td>39.965675</td><td>37.965675</td><td>35.965675</td><td>33.965675</td><td>31.965675</td><td>29.965675</td><td>27.965675</td><td>25.965675</td><td>23.965675</td><td>21.965675</td><td>19.965675</td><td>17.965675</td><td>15.965675</td><td>13.965675</td><td>11.965675</td><td>9.965675</td><td>7.965675</td><td>3.660958</td></tr><tr><td>1</td><td>36.273492</td><td>34.273492</td><td>32.273492</td><td>30.273492</td><td>28.273492</td><td>26.273492</td><td>24.273492</td><td>22.273492</td><td>20.273492</td><td>18.273492</td><td>16.273492</td><td>14.273492</td><td>12.273492</td><td>10.273492</td><td>8.273492</td><td>6.273492</td><td>4.273492</td><td>1.313476</td></tr><tr><td>2</td><td>41.618858</td><td>39.618858</td><td>37.618858</td><td>35.618858</td><td>33.618858</td><td>31.618858</td><td>29.618858</td><td>27.618858</td><td>25.618858</td><td>23.618858</td><td>21.618858</td><td>19.618858</td><td>17.618858</td><td>15.618858</td><td>13.618858</td><td>11.618858</td><td>9.618858</td><td>4.868407</td></tr><tr><td>3</td><td>42.442557</td><td>40.442557</td><td>38.442557</td><td>36.442557</td><td>34.442557</td><td>32.442557</td><td>30.442557</td><td>28.442557</td><td>26.442557</td><td>24.442557</td><td>22.442557</td><td>20.442557</td><td>18.442557</td><td>16.442557</td><td>14.442557</td><td>12.442557</td><td>10.442557</td><td>5.501992</td></tr><tr><td>4</td><td>34.240056</td><td>32.240056</td><td>30.240056</td><td>28.240056</td><td>26.240056</td><td>24.240056</td><td>22.240056</td><td>20.240056</td><td>18.240056</td><td>16.240056</td><td>14.240056</td><td>12.240056</td><td>10.240056</td><td>8.240056</td><td>6.240056</td><td>4.240056</td><td>2.240056</td><td>0.191092</td></tr></tbody></table></div>"
      ],
      "text/plain": [
       "shape: (5, 19)\n",
       "┌───────┬────────────┬────────────┬────────────┬───┬───────────┬───────────┬───────────┬───────────┐\n",
       "│ index ┆ logit[MEAN ┆ logit[MEAN ┆ logit[MEAN ┆ … ┆ logit[MEA ┆ logit[MEA ┆ logit[MEA ┆ logit[MEA │\n",
       "│ ---   ┆ _ENCODED_f ┆ _ENCODED_f ┆ _ENCODED_f ┆   ┆ N_ENCODED ┆ N_ENCODED ┆ N_ENCODED ┆ N_ENCODED │\n",
       "│ i64   ┆ eature1_30 ┆ eature1_60 ┆ eature1_90 ┆   ┆ _feature1 ┆ _feature1 ┆ _feature1 ┆ _feature1 │\n",
       "│       ┆ ]          ┆ ]          ┆ ]          ┆   ┆ _450]     ┆ _480]     ┆ _510]     ┆ _540]     │\n",
       "│       ┆ ---        ┆ ---        ┆ ---        ┆   ┆ ---       ┆ ---       ┆ ---       ┆ ---       │\n",
       "│       ┆ f64        ┆ f64        ┆ f64        ┆   ┆ f64       ┆ f64       ┆ f64       ┆ f64       │\n",
       "╞═══════╪════════════╪════════════╪════════════╪═══╪═══════════╪═══════════╪═══════════╪═══════════╡\n",
       "│ 0     ┆ 39.965675  ┆ 37.965675  ┆ 35.965675  ┆ … ┆ 11.965675 ┆ 9.965675  ┆ 7.965675  ┆ 3.660958  │\n",
       "│ 1     ┆ 36.273492  ┆ 34.273492  ┆ 32.273492  ┆ … ┆ 8.273492  ┆ 6.273492  ┆ 4.273492  ┆ 1.313476  │\n",
       "│ 2     ┆ 41.618858  ┆ 39.618858  ┆ 37.618858  ┆ … ┆ 13.618858 ┆ 11.618858 ┆ 9.618858  ┆ 4.868407  │\n",
       "│ 3     ┆ 42.442557  ┆ 40.442557  ┆ 38.442557  ┆ … ┆ 14.442557 ┆ 12.442557 ┆ 10.442557 ┆ 5.501992  │\n",
       "│ 4     ┆ 34.240056  ┆ 32.240056  ┆ 30.240056  ┆ … ┆ 6.240056  ┆ 4.240056  ┆ 2.240056  ┆ 0.191092  │\n",
       "└───────┴────────────┴────────────┴────────────┴───┴───────────┴───────────┴───────────┴───────────┘"
      ]
     },
     "execution_count": 2,
     "metadata": {},
     "output_type": "execute_result"
    }
   ],
   "source": [
    "%run ./time_series_encoding.py\n",
    "\n",
    "synthetic_lf().collect().write_parquet(\"synthetic.parquet\")\n",
    "lf = load_and_preprocess_data(\"synthetic.parquet\")\n",
    "lf.head().collect()"
   ]
  },
  {
   "cell_type": "code",
   "execution_count": 3,
   "metadata": {},
   "outputs": [
    {
     "data": {
      "text/html": [
       "<div><style>\n",
       ".dataframe > thead > tr,\n",
       ".dataframe > tbody > tr {\n",
       "  text-align: right;\n",
       "  white-space: pre-wrap;\n",
       "}\n",
       "</style>\n",
       "<small>shape: (5, 19)</small><table border=\"1\" class=\"dataframe\"><thead><tr><th>index</th><th>feature1_1</th><th>feature1_2</th><th>feature1_3</th><th>feature1_4</th><th>feature1_5</th><th>feature1_6</th><th>feature1_7</th><th>feature1_8</th><th>feature1_9</th><th>feature1_10</th><th>feature1_11</th><th>feature1_12</th><th>feature1_13</th><th>feature1_14</th><th>feature1_15</th><th>feature1_16</th><th>feature1_17</th><th>feature1_18</th></tr><tr><td>i64</td><td>f64</td><td>f64</td><td>f64</td><td>f64</td><td>f64</td><td>f64</td><td>f64</td><td>f64</td><td>f64</td><td>f64</td><td>f64</td><td>f64</td><td>f64</td><td>f64</td><td>f64</td><td>f64</td><td>f64</td><td>f64</td></tr></thead><tbody><tr><td>0</td><td>39.965675</td><td>37.965675</td><td>35.965675</td><td>33.965675</td><td>31.965675</td><td>29.965675</td><td>27.965675</td><td>25.965675</td><td>23.965675</td><td>21.965675</td><td>19.965675</td><td>17.965675</td><td>15.965675</td><td>13.965675</td><td>11.965675</td><td>9.965675</td><td>7.965675</td><td>3.660958</td></tr><tr><td>1</td><td>36.273492</td><td>34.273492</td><td>32.273492</td><td>30.273492</td><td>28.273492</td><td>26.273492</td><td>24.273492</td><td>22.273492</td><td>20.273492</td><td>18.273492</td><td>16.273492</td><td>14.273492</td><td>12.273492</td><td>10.273492</td><td>8.273492</td><td>6.273492</td><td>4.273492</td><td>1.313476</td></tr><tr><td>2</td><td>41.618858</td><td>39.618858</td><td>37.618858</td><td>35.618858</td><td>33.618858</td><td>31.618858</td><td>29.618858</td><td>27.618858</td><td>25.618858</td><td>23.618858</td><td>21.618858</td><td>19.618858</td><td>17.618858</td><td>15.618858</td><td>13.618858</td><td>11.618858</td><td>9.618858</td><td>4.868407</td></tr><tr><td>3</td><td>42.442557</td><td>40.442557</td><td>38.442557</td><td>36.442557</td><td>34.442557</td><td>32.442557</td><td>30.442557</td><td>28.442557</td><td>26.442557</td><td>24.442557</td><td>22.442557</td><td>20.442557</td><td>18.442557</td><td>16.442557</td><td>14.442557</td><td>12.442557</td><td>10.442557</td><td>5.501992</td></tr><tr><td>4</td><td>34.240056</td><td>32.240056</td><td>30.240056</td><td>28.240056</td><td>26.240056</td><td>24.240056</td><td>22.240056</td><td>20.240056</td><td>18.240056</td><td>16.240056</td><td>14.240056</td><td>12.240056</td><td>10.240056</td><td>8.240056</td><td>6.240056</td><td>4.240056</td><td>2.240056</td><td>0.191092</td></tr></tbody></table></div>"
      ],
      "text/plain": [
       "shape: (5, 19)\n",
       "┌───────┬────────────┬────────────┬────────────┬───┬───────────┬───────────┬───────────┬───────────┐\n",
       "│ index ┆ feature1_1 ┆ feature1_2 ┆ feature1_3 ┆ … ┆ feature1_ ┆ feature1_ ┆ feature1_ ┆ feature1_ │\n",
       "│ ---   ┆ ---        ┆ ---        ┆ ---        ┆   ┆ 15        ┆ 16        ┆ 17        ┆ 18        │\n",
       "│ i64   ┆ f64        ┆ f64        ┆ f64        ┆   ┆ ---       ┆ ---       ┆ ---       ┆ ---       │\n",
       "│       ┆            ┆            ┆            ┆   ┆ f64       ┆ f64       ┆ f64       ┆ f64       │\n",
       "╞═══════╪════════════╪════════════╪════════════╪═══╪═══════════╪═══════════╪═══════════╪═══════════╡\n",
       "│ 0     ┆ 39.965675  ┆ 37.965675  ┆ 35.965675  ┆ … ┆ 11.965675 ┆ 9.965675  ┆ 7.965675  ┆ 3.660958  │\n",
       "│ 1     ┆ 36.273492  ┆ 34.273492  ┆ 32.273492  ┆ … ┆ 8.273492  ┆ 6.273492  ┆ 4.273492  ┆ 1.313476  │\n",
       "│ 2     ┆ 41.618858  ┆ 39.618858  ┆ 37.618858  ┆ … ┆ 13.618858 ┆ 11.618858 ┆ 9.618858  ┆ 4.868407  │\n",
       "│ 3     ┆ 42.442557  ┆ 40.442557  ┆ 38.442557  ┆ … ┆ 14.442557 ┆ 12.442557 ┆ 10.442557 ┆ 5.501992  │\n",
       "│ 4     ┆ 34.240056  ┆ 32.240056  ┆ 30.240056  ┆ … ┆ 6.240056  ┆ 4.240056  ┆ 2.240056  ┆ 0.191092  │\n",
       "└───────┴────────────┴────────────┴────────────┴───┴───────────┴───────────┴───────────┴───────────┘"
      ]
     },
     "execution_count": 3,
     "metadata": {},
     "output_type": "execute_result"
    }
   ],
   "source": [
    "lf1 = recode_columns(lf)\n",
    "\n",
    "lf1.head().collect()"
   ]
  },
  {
   "cell_type": "code",
   "execution_count": 4,
   "metadata": {},
   "outputs": [
    {
     "data": {
      "text/html": [
       "<div><style>\n",
       ".dataframe > thead > tr,\n",
       ".dataframe > tbody > tr {\n",
       "  text-align: right;\n",
       "  white-space: pre-wrap;\n",
       "}\n",
       "</style>\n",
       "<small>shape: (5, 2)</small><table border=\"1\" class=\"dataframe\"><thead><tr><th>feature1_1</th><th>feature1_2</th></tr><tr><td>f64</td><td>f64</td></tr></thead><tbody><tr><td>39.965675</td><td>37.965675</td></tr><tr><td>36.273492</td><td>34.273492</td></tr><tr><td>41.618858</td><td>39.618858</td></tr><tr><td>42.442557</td><td>40.442557</td></tr><tr><td>34.240056</td><td>32.240056</td></tr></tbody></table></div>"
      ],
      "text/plain": [
       "shape: (5, 2)\n",
       "┌────────────┬────────────┐\n",
       "│ feature1_1 ┆ feature1_2 │\n",
       "│ ---        ┆ ---        │\n",
       "│ f64        ┆ f64        │\n",
       "╞════════════╪════════════╡\n",
       "│ 39.965675  ┆ 37.965675  │\n",
       "│ 36.273492  ┆ 34.273492  │\n",
       "│ 41.618858  ┆ 39.618858  │\n",
       "│ 42.442557  ┆ 40.442557  │\n",
       "│ 34.240056  ┆ 32.240056  │\n",
       "└────────────┴────────────┘"
      ]
     },
     "execution_count": 4,
     "metadata": {},
     "output_type": "execute_result"
    }
   ],
   "source": [
    "lf1.select([f\"feature1_{i}\" for i in range(1, 2 + 1)]).head().collect()"
   ]
  },
  {
   "cell_type": "code",
   "execution_count": 12,
   "metadata": {},
   "outputs": [
    {
     "name": "stdout",
     "output_type": "stream",
     "text": [
      "count: 1\n",
      "\n",
      "\n",
      "==\n",
      "x:\n",
      "==\n",
      "\n",
      "[[29.9656754 ]\n",
      " [26.27349209]\n",
      " [31.61885781]\n",
      " [32.44255692]\n",
      " [24.24005649]]\n",
      "\n",
      "==\n",
      "y:\n",
      "==\n",
      "\n",
      "[[31.9656754 ]\n",
      " [28.27349209]\n",
      " [33.61885781]\n",
      " [34.44255692]\n",
      " [26.24005649]]\n",
      "count: 2\n",
      "\n",
      "\n",
      "==\n",
      "x:\n",
      "==\n",
      "\n",
      "[[31.9656754 ]\n",
      " [28.27349209]\n",
      " [33.61885781]\n",
      " [34.44255692]\n",
      " [26.24005649]]\n",
      "\n",
      "==\n",
      "y:\n",
      "==\n",
      "\n",
      "[[33.9656754 ]\n",
      " [30.27349209]\n",
      " [35.61885781]\n",
      " [36.44255692]\n",
      " [28.24005649]]\n",
      "count: 3\n",
      "\n",
      "\n",
      "==\n",
      "x:\n",
      "==\n",
      "\n",
      "[[33.9656754 ]\n",
      " [30.27349209]\n",
      " [35.61885781]\n",
      " [36.44255692]\n",
      " [28.24005649]]\n",
      "\n",
      "==\n",
      "y:\n",
      "==\n",
      "\n",
      "[[35.9656754 ]\n",
      " [32.27349209]\n",
      " [37.61885781]\n",
      " [38.44255692]\n",
      " [30.24005649]]\n",
      "count: 4\n",
      "\n",
      "\n",
      "==\n",
      "x:\n",
      "==\n",
      "\n",
      "[[35.9656754 ]\n",
      " [32.27349209]\n",
      " [37.61885781]\n",
      " [38.44255692]\n",
      " [30.24005649]]\n",
      "\n",
      "==\n",
      "y:\n",
      "==\n",
      "\n",
      "[[37.9656754 ]\n",
      " [34.27349209]\n",
      " [39.61885781]\n",
      " [40.44255692]\n",
      " [32.24005649]]\n",
      "count: 5\n",
      "\n",
      "\n",
      "==\n",
      "x:\n",
      "==\n",
      "\n",
      "[[37.9656754 ]\n",
      " [34.27349209]\n",
      " [39.61885781]\n",
      " [40.44255692]\n",
      " [32.24005649]]\n",
      "\n",
      "==\n",
      "y:\n",
      "==\n",
      "\n",
      "[[39.9656754 ]\n",
      " [36.27349209]\n",
      " [41.61885781]\n",
      " [42.44255692]\n",
      " [34.24005649]]\n"
     ]
    }
   ],
   "source": [
    "xy = X_y_generator(lf1, \"feature1\", 5, 2)\n",
    "count = 0\n",
    "for x, y in xy:\n",
    "    count += 1\n",
    "    print(f\"count: {count}\")\n",
    "    print(\n",
    "        f\"\\n\\n==\\nx:\\n==\\n\\n{x.reshape(-1, 1)[:5]}\\n\\n==\\ny:\\n==\\n\\n{y.reshape(-1, 1)[:5]}\"\n",
    "    )"
   ]
  },
  {
   "cell_type": "code",
   "execution_count": 44,
   "metadata": {},
   "outputs": [
    {
     "data": {
      "text/html": [
       "<div><style>\n",
       ".dataframe > thead > tr,\n",
       ".dataframe > tbody > tr {\n",
       "  text-align: right;\n",
       "  white-space: pre-wrap;\n",
       "}\n",
       "</style>\n",
       "<small>shape: (5, 19)</small><table border=\"1\" class=\"dataframe\"><thead><tr><th>index</th><th>feature1_1</th><th>feature1_2</th><th>feature1_3</th><th>feature1_4</th><th>feature1_5</th><th>feature1_6</th><th>feature1_7</th><th>feature1_8</th><th>feature1_9</th><th>feature1_10</th><th>feature1_11</th><th>feature1_12</th><th>feature1_13</th><th>feature1_14</th><th>feature1_15</th><th>feature1_16</th><th>feature1_17</th><th>feature1_18</th></tr><tr><td>i64</td><td>f64</td><td>f64</td><td>f64</td><td>f64</td><td>f64</td><td>f64</td><td>f64</td><td>f64</td><td>f64</td><td>f64</td><td>f64</td><td>f64</td><td>f64</td><td>f64</td><td>f64</td><td>f64</td><td>f64</td><td>f64</td></tr></thead><tbody><tr><td>0</td><td>39.965675</td><td>37.965675</td><td>35.965675</td><td>33.965675</td><td>31.965675</td><td>29.965675</td><td>27.965675</td><td>25.965675</td><td>23.965675</td><td>21.965675</td><td>19.965675</td><td>17.965675</td><td>15.965675</td><td>13.965675</td><td>11.965675</td><td>9.965675</td><td>7.965675</td><td>3.660958</td></tr><tr><td>1</td><td>36.273492</td><td>34.273492</td><td>32.273492</td><td>30.273492</td><td>28.273492</td><td>26.273492</td><td>24.273492</td><td>22.273492</td><td>20.273492</td><td>18.273492</td><td>16.273492</td><td>14.273492</td><td>12.273492</td><td>10.273492</td><td>8.273492</td><td>6.273492</td><td>4.273492</td><td>1.313476</td></tr><tr><td>2</td><td>41.618858</td><td>39.618858</td><td>37.618858</td><td>35.618858</td><td>33.618858</td><td>31.618858</td><td>29.618858</td><td>27.618858</td><td>25.618858</td><td>23.618858</td><td>21.618858</td><td>19.618858</td><td>17.618858</td><td>15.618858</td><td>13.618858</td><td>11.618858</td><td>9.618858</td><td>4.868407</td></tr><tr><td>3</td><td>42.442557</td><td>40.442557</td><td>38.442557</td><td>36.442557</td><td>34.442557</td><td>32.442557</td><td>30.442557</td><td>28.442557</td><td>26.442557</td><td>24.442557</td><td>22.442557</td><td>20.442557</td><td>18.442557</td><td>16.442557</td><td>14.442557</td><td>12.442557</td><td>10.442557</td><td>5.501992</td></tr><tr><td>4</td><td>34.240056</td><td>32.240056</td><td>30.240056</td><td>28.240056</td><td>26.240056</td><td>24.240056</td><td>22.240056</td><td>20.240056</td><td>18.240056</td><td>16.240056</td><td>14.240056</td><td>12.240056</td><td>10.240056</td><td>8.240056</td><td>6.240056</td><td>4.240056</td><td>2.240056</td><td>0.191092</td></tr></tbody></table></div>"
      ],
      "text/plain": [
       "shape: (5, 19)\n",
       "┌───────┬────────────┬────────────┬────────────┬───┬───────────┬───────────┬───────────┬───────────┐\n",
       "│ index ┆ feature1_1 ┆ feature1_2 ┆ feature1_3 ┆ … ┆ feature1_ ┆ feature1_ ┆ feature1_ ┆ feature1_ │\n",
       "│ ---   ┆ ---        ┆ ---        ┆ ---        ┆   ┆ 15        ┆ 16        ┆ 17        ┆ 18        │\n",
       "│ i64   ┆ f64        ┆ f64        ┆ f64        ┆   ┆ ---       ┆ ---       ┆ ---       ┆ ---       │\n",
       "│       ┆            ┆            ┆            ┆   ┆ f64       ┆ f64       ┆ f64       ┆ f64       │\n",
       "╞═══════╪════════════╪════════════╪════════════╪═══╪═══════════╪═══════════╪═══════════╪═══════════╡\n",
       "│ 0     ┆ 39.965675  ┆ 37.965675  ┆ 35.965675  ┆ … ┆ 11.965675 ┆ 9.965675  ┆ 7.965675  ┆ 3.660958  │\n",
       "│ 1     ┆ 36.273492  ┆ 34.273492  ┆ 32.273492  ┆ … ┆ 8.273492  ┆ 6.273492  ┆ 4.273492  ┆ 1.313476  │\n",
       "│ 2     ┆ 41.618858  ┆ 39.618858  ┆ 37.618858  ┆ … ┆ 13.618858 ┆ 11.618858 ┆ 9.618858  ┆ 4.868407  │\n",
       "│ 3     ┆ 42.442557  ┆ 40.442557  ┆ 38.442557  ┆ … ┆ 14.442557 ┆ 12.442557 ┆ 10.442557 ┆ 5.501992  │\n",
       "│ 4     ┆ 34.240056  ┆ 32.240056  ┆ 30.240056  ┆ … ┆ 6.240056  ┆ 4.240056  ┆ 2.240056  ┆ 0.191092  │\n",
       "└───────┴────────────┴────────────┴────────────┴───┴───────────┴───────────┴───────────┴───────────┘"
      ]
     },
     "execution_count": 44,
     "metadata": {},
     "output_type": "execute_result"
    }
   ],
   "source": [
    "def extract_features_and_lags(lf: pl.LazyFrame) -> tuple:\n",
    "    features = [c.split(\"_\")[2] for c in lf.select(cs.starts_with(\"logit\")).columns]\n",
    "\n",
    "    lags = [\n",
    "        int(c.split(\"_\")[-1].replace(\"]\", \"\"))\n",
    "        for c in lf.select(cs.starts_with(\"logit\")).columns\n",
    "    ]\n",
    "\n",
    "    lf = lf.select(\n",
    "        [pl.col(\"index\")]\n",
    "        + [\n",
    "            pl.col(c).alias(f\"{f}_{int(l/30)}\")\n",
    "            for c, f, l in zip(\n",
    "                lf.select(cs.starts_with(\"logit\")).columns, features, lags\n",
    "            )\n",
    "        ]\n",
    "    )\n",
    "    return lf, features, lags\n",
    "\n",
    "\n",
    "df, feats, lags = extract_features_and_lags(lf)\n",
    "df.head().collect()"
   ]
  },
  {
   "cell_type": "code",
   "execution_count": null,
   "metadata": {},
   "outputs": [],
   "source": []
  }
 ],
 "metadata": {
  "kernelspec": {
   "display_name": ".venv",
   "language": "python",
   "name": "python3"
  },
  "language_info": {
   "codemirror_mode": {
    "name": "ipython",
    "version": 3
   },
   "file_extension": ".py",
   "mimetype": "text/x-python",
   "name": "python",
   "nbconvert_exporter": "python",
   "pygments_lexer": "ipython3",
   "version": "3.11.8"
  }
 },
 "nbformat": 4,
 "nbformat_minor": 2
}
