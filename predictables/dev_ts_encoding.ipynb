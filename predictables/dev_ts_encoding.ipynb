{
 "cells": [
  {
   "cell_type": "code",
   "execution_count": null,
   "metadata": {},
   "outputs": [
    {
     "ename": "Exception",
     "evalue": "File `'predictables/time_series_encoding.py'` not found.",
     "output_type": "error",
     "traceback": [
      "\u001b[0;31m---------------------------------------------------------------------------\u001b[0m",
      "\u001b[0;31mOSError\u001b[0m                                   Traceback (most recent call last)",
      "File \u001b[0;32m/app/.venv/lib/python3.11/site-packages/IPython/core/magics/execution.py:716\u001b[0m, in \u001b[0;36mExecutionMagics.run\u001b[0;34m(self, parameter_s, runner, file_finder)\u001b[0m\n\u001b[1;32m    715\u001b[0m     fpath \u001b[38;5;241m=\u001b[39m arg_lst[\u001b[38;5;241m0\u001b[39m]\n\u001b[0;32m--> 716\u001b[0m     filename \u001b[38;5;241m=\u001b[39m \u001b[43mfile_finder\u001b[49m\u001b[43m(\u001b[49m\u001b[43mfpath\u001b[49m\u001b[43m)\u001b[49m\n\u001b[1;32m    717\u001b[0m \u001b[38;5;28;01mexcept\u001b[39;00m \u001b[38;5;167;01mIndexError\u001b[39;00m \u001b[38;5;28;01mas\u001b[39;00m e:\n",
      "File \u001b[0;32m/app/.venv/lib/python3.11/site-packages/IPython/utils/path.py:90\u001b[0m, in \u001b[0;36mget_py_filename\u001b[0;34m(name)\u001b[0m\n\u001b[1;32m     89\u001b[0m         \u001b[38;5;28;01mreturn\u001b[39;00m py_name\n\u001b[0;32m---> 90\u001b[0m \u001b[38;5;28;01mraise\u001b[39;00m \u001b[38;5;167;01mIOError\u001b[39;00m(\u001b[38;5;124m\"\u001b[39m\u001b[38;5;124mFile `\u001b[39m\u001b[38;5;132;01m%r\u001b[39;00m\u001b[38;5;124m` not found.\u001b[39m\u001b[38;5;124m\"\u001b[39m \u001b[38;5;241m%\u001b[39m name)\n",
      "\u001b[0;31mOSError\u001b[0m: File `'predictables/time_series_encoding.py'` not found.",
      "\nThe above exception was the direct cause of the following exception:\n",
      "\u001b[0;31mException\u001b[0m                                 Traceback (most recent call last)",
      "Cell \u001b[0;32mIn[1], line 1\u001b[0m\n\u001b[0;32m----> 1\u001b[0m \u001b[43mget_ipython\u001b[49m\u001b[43m(\u001b[49m\u001b[43m)\u001b[49m\u001b[38;5;241;43m.\u001b[39;49m\u001b[43mrun_line_magic\u001b[49m\u001b[43m(\u001b[49m\u001b[38;5;124;43m'\u001b[39;49m\u001b[38;5;124;43mrun\u001b[39;49m\u001b[38;5;124;43m'\u001b[39;49m\u001b[43m,\u001b[49m\u001b[43m \u001b[49m\u001b[38;5;124;43m'\u001b[39;49m\u001b[38;5;124;43mpredictables/time_series_encoding.py\u001b[39;49m\u001b[38;5;124;43m'\u001b[39;49m\u001b[43m)\u001b[49m\n\u001b[1;32m      3\u001b[0m synthetic_lf()\u001b[38;5;241m.\u001b[39mcollect()\u001b[38;5;241m.\u001b[39mwrite_parquet(\u001b[38;5;124m\"\u001b[39m\u001b[38;5;124msynthetic.parquet\u001b[39m\u001b[38;5;124m\"\u001b[39m)\n\u001b[1;32m      4\u001b[0m lf \u001b[38;5;241m=\u001b[39m load_and_preprocess_data(\u001b[38;5;124m\"\u001b[39m\u001b[38;5;124msynthetic.parquet\u001b[39m\u001b[38;5;124m\"\u001b[39m)\n",
      "File \u001b[0;32m/app/.venv/lib/python3.11/site-packages/IPython/core/interactiveshell.py:2454\u001b[0m, in \u001b[0;36mInteractiveShell.run_line_magic\u001b[0;34m(self, magic_name, line, _stack_depth)\u001b[0m\n\u001b[1;32m   2452\u001b[0m     kwargs[\u001b[38;5;124m'\u001b[39m\u001b[38;5;124mlocal_ns\u001b[39m\u001b[38;5;124m'\u001b[39m] \u001b[38;5;241m=\u001b[39m \u001b[38;5;28mself\u001b[39m\u001b[38;5;241m.\u001b[39mget_local_scope(stack_depth)\n\u001b[1;32m   2453\u001b[0m \u001b[38;5;28;01mwith\u001b[39;00m \u001b[38;5;28mself\u001b[39m\u001b[38;5;241m.\u001b[39mbuiltin_trap:\n\u001b[0;32m-> 2454\u001b[0m     result \u001b[38;5;241m=\u001b[39m \u001b[43mfn\u001b[49m\u001b[43m(\u001b[49m\u001b[38;5;241;43m*\u001b[39;49m\u001b[43margs\u001b[49m\u001b[43m,\u001b[49m\u001b[43m \u001b[49m\u001b[38;5;241;43m*\u001b[39;49m\u001b[38;5;241;43m*\u001b[39;49m\u001b[43mkwargs\u001b[49m\u001b[43m)\u001b[49m\n\u001b[1;32m   2456\u001b[0m \u001b[38;5;66;03m# The code below prevents the output from being displayed\u001b[39;00m\n\u001b[1;32m   2457\u001b[0m \u001b[38;5;66;03m# when using magics with decorator @output_can_be_silenced\u001b[39;00m\n\u001b[1;32m   2458\u001b[0m \u001b[38;5;66;03m# when the last Python token in the expression is a ';'.\u001b[39;00m\n\u001b[1;32m   2459\u001b[0m \u001b[38;5;28;01mif\u001b[39;00m \u001b[38;5;28mgetattr\u001b[39m(fn, magic\u001b[38;5;241m.\u001b[39mMAGIC_OUTPUT_CAN_BE_SILENCED, \u001b[38;5;28;01mFalse\u001b[39;00m):\n",
      "File \u001b[0;32m/app/.venv/lib/python3.11/site-packages/IPython/core/magics/execution.py:727\u001b[0m, in \u001b[0;36mExecutionMagics.run\u001b[0;34m(self, parameter_s, runner, file_finder)\u001b[0m\n\u001b[1;32m    725\u001b[0m     \u001b[38;5;28;01mif\u001b[39;00m os\u001b[38;5;241m.\u001b[39mname \u001b[38;5;241m==\u001b[39m \u001b[38;5;124m'\u001b[39m\u001b[38;5;124mnt\u001b[39m\u001b[38;5;124m'\u001b[39m \u001b[38;5;129;01mand\u001b[39;00m re\u001b[38;5;241m.\u001b[39mmatch(\u001b[38;5;124mr\u001b[39m\u001b[38;5;124m\"\u001b[39m\u001b[38;5;124m^\u001b[39m\u001b[38;5;124m'\u001b[39m\u001b[38;5;124m.*\u001b[39m\u001b[38;5;124m'\u001b[39m\u001b[38;5;124m$\u001b[39m\u001b[38;5;124m\"\u001b[39m,fpath):\n\u001b[1;32m    726\u001b[0m         warn(\u001b[38;5;124m'\u001b[39m\u001b[38;5;124mFor Windows, use double quotes to wrap a filename: \u001b[39m\u001b[38;5;132;01m%r\u001b[39;00m\u001b[38;5;124mun \u001b[39m\u001b[38;5;124m\"\u001b[39m\u001b[38;5;124mmypath\u001b[39m\u001b[38;5;130;01m\\\\\u001b[39;00m\u001b[38;5;124mmyfile.py\u001b[39m\u001b[38;5;124m\"\u001b[39m\u001b[38;5;124m'\u001b[39m)\n\u001b[0;32m--> 727\u001b[0m     \u001b[38;5;28;01mraise\u001b[39;00m \u001b[38;5;167;01mException\u001b[39;00m(msg) \u001b[38;5;28;01mfrom\u001b[39;00m \u001b[38;5;21;01me\u001b[39;00m\n\u001b[1;32m    728\u001b[0m \u001b[38;5;28;01mexcept\u001b[39;00m \u001b[38;5;167;01mTypeError\u001b[39;00m:\n\u001b[1;32m    729\u001b[0m     \u001b[38;5;28;01mif\u001b[39;00m fpath \u001b[38;5;129;01min\u001b[39;00m sys\u001b[38;5;241m.\u001b[39mmeta_path:\n",
      "\u001b[0;31mException\u001b[0m: File `'predictables/time_series_encoding.py'` not found."
     ]
    }
   ],
   "source": [
    "%run ./time_series_encoding.py\n",
    "\n",
    "synthetic_lf().collect().write_parquet(\"synthetic.parquet\")\n",
    "lf = load_and_preprocess_data(\"synthetic.parquet\")\n",
    "lf.head().collect()"
   ]
  },
  {
   "cell_type": "code",
   "execution_count": null,
   "metadata": {},
   "outputs": [
    {
     "data": {
      "text/html": [
       "<div><style>\n",
       ".dataframe > thead > tr,\n",
       ".dataframe > tbody > tr {\n",
       "  text-align: right;\n",
       "  white-space: pre-wrap;\n",
       "}\n",
       "</style>\n",
       "<small>shape: (5, 19)</small><table border=\"1\" class=\"dataframe\"><thead><tr><th>index</th><th>feature1_1</th><th>feature1_2</th><th>feature1_3</th><th>feature1_4</th><th>feature1_5</th><th>feature1_6</th><th>feature1_7</th><th>feature1_8</th><th>feature1_9</th><th>feature1_10</th><th>feature1_11</th><th>feature1_12</th><th>feature1_13</th><th>feature1_14</th><th>feature1_15</th><th>feature1_16</th><th>feature1_17</th><th>feature1_18</th></tr><tr><td>i64</td><td>f64</td><td>f64</td><td>f64</td><td>f64</td><td>f64</td><td>f64</td><td>f64</td><td>f64</td><td>f64</td><td>f64</td><td>f64</td><td>f64</td><td>f64</td><td>f64</td><td>f64</td><td>f64</td><td>f64</td><td>f64</td></tr></thead><tbody><tr><td>0</td><td>39.965675</td><td>37.965675</td><td>35.965675</td><td>33.965675</td><td>31.965675</td><td>29.965675</td><td>27.965675</td><td>25.965675</td><td>23.965675</td><td>21.965675</td><td>19.965675</td><td>17.965675</td><td>15.965675</td><td>13.965675</td><td>11.965675</td><td>9.965675</td><td>7.965675</td><td>3.660958</td></tr><tr><td>1</td><td>36.273492</td><td>34.273492</td><td>32.273492</td><td>30.273492</td><td>28.273492</td><td>26.273492</td><td>24.273492</td><td>22.273492</td><td>20.273492</td><td>18.273492</td><td>16.273492</td><td>14.273492</td><td>12.273492</td><td>10.273492</td><td>8.273492</td><td>6.273492</td><td>4.273492</td><td>1.313476</td></tr><tr><td>2</td><td>41.618858</td><td>39.618858</td><td>37.618858</td><td>35.618858</td><td>33.618858</td><td>31.618858</td><td>29.618858</td><td>27.618858</td><td>25.618858</td><td>23.618858</td><td>21.618858</td><td>19.618858</td><td>17.618858</td><td>15.618858</td><td>13.618858</td><td>11.618858</td><td>9.618858</td><td>4.868407</td></tr><tr><td>3</td><td>42.442557</td><td>40.442557</td><td>38.442557</td><td>36.442557</td><td>34.442557</td><td>32.442557</td><td>30.442557</td><td>28.442557</td><td>26.442557</td><td>24.442557</td><td>22.442557</td><td>20.442557</td><td>18.442557</td><td>16.442557</td><td>14.442557</td><td>12.442557</td><td>10.442557</td><td>5.501992</td></tr><tr><td>4</td><td>34.240056</td><td>32.240056</td><td>30.240056</td><td>28.240056</td><td>26.240056</td><td>24.240056</td><td>22.240056</td><td>20.240056</td><td>18.240056</td><td>16.240056</td><td>14.240056</td><td>12.240056</td><td>10.240056</td><td>8.240056</td><td>6.240056</td><td>4.240056</td><td>2.240056</td><td>0.191092</td></tr></tbody></table></div>"
      ],
      "text/plain": [
       "shape: (5, 19)\n",
       "┌───────┬────────────┬────────────┬────────────┬───┬───────────┬───────────┬───────────┬───────────┐\n",
       "│ index ┆ feature1_1 ┆ feature1_2 ┆ feature1_3 ┆ … ┆ feature1_ ┆ feature1_ ┆ feature1_ ┆ feature1_ │\n",
       "│ ---   ┆ ---        ┆ ---        ┆ ---        ┆   ┆ 15        ┆ 16        ┆ 17        ┆ 18        │\n",
       "│ i64   ┆ f64        ┆ f64        ┆ f64        ┆   ┆ ---       ┆ ---       ┆ ---       ┆ ---       │\n",
       "│       ┆            ┆            ┆            ┆   ┆ f64       ┆ f64       ┆ f64       ┆ f64       │\n",
       "╞═══════╪════════════╪════════════╪════════════╪═══╪═══════════╪═══════════╪═══════════╪═══════════╡\n",
       "│ 0     ┆ 39.965675  ┆ 37.965675  ┆ 35.965675  ┆ … ┆ 11.965675 ┆ 9.965675  ┆ 7.965675  ┆ 3.660958  │\n",
       "│ 1     ┆ 36.273492  ┆ 34.273492  ┆ 32.273492  ┆ … ┆ 8.273492  ┆ 6.273492  ┆ 4.273492  ┆ 1.313476  │\n",
       "│ 2     ┆ 41.618858  ┆ 39.618858  ┆ 37.618858  ┆ … ┆ 13.618858 ┆ 11.618858 ┆ 9.618858  ┆ 4.868407  │\n",
       "│ 3     ┆ 42.442557  ┆ 40.442557  ┆ 38.442557  ┆ … ┆ 14.442557 ┆ 12.442557 ┆ 10.442557 ┆ 5.501992  │\n",
       "│ 4     ┆ 34.240056  ┆ 32.240056  ┆ 30.240056  ┆ … ┆ 6.240056  ┆ 4.240056  ┆ 2.240056  ┆ 0.191092  │\n",
       "└───────┴────────────┴────────────┴────────────┴───┴───────────┴───────────┴───────────┴───────────┘"
      ]
     },
     "execution_count": 6,
     "metadata": {},
     "output_type": "execute_result"
    }
   ],
   "source": [
    "lf1 = recode_columns(lf)\n",
    "\n",
    "lf1.head().collect()"
   ]
  },
  {
   "cell_type": "code",
   "execution_count": null,
   "metadata": {},
   "outputs": [],
   "source": [
    "lf1.select([f\"feature1_{i}\" for i in range(1, 2 + 1)]).head().collect()"
   ]
  },
  {
   "cell_type": "code",
   "execution_count": 12,
   "metadata": {},
   "outputs": [
    {
     "name": "stdout",
     "output_type": "stream",
     "text": [
      "count: 1\n",
      "\n",
      "\n",
      "==\n",
      "x:\n",
      "==\n",
      "\n",
      "[[29.9656754 ]\n",
      " [26.27349209]\n",
      " [31.61885781]\n",
      " [32.44255692]\n",
      " [24.24005649]]\n",
      "\n",
      "==\n",
      "y:\n",
      "==\n",
      "\n",
      "[[31.9656754 ]\n",
      " [28.27349209]\n",
      " [33.61885781]\n",
      " [34.44255692]\n",
      " [26.24005649]]\n",
      "count: 2\n",
      "\n",
      "\n",
      "==\n",
      "x:\n",
      "==\n",
      "\n",
      "[[31.9656754 ]\n",
      " [28.27349209]\n",
      " [33.61885781]\n",
      " [34.44255692]\n",
      " [26.24005649]]\n",
      "\n",
      "==\n",
      "y:\n",
      "==\n",
      "\n",
      "[[33.9656754 ]\n",
      " [30.27349209]\n",
      " [35.61885781]\n",
      " [36.44255692]\n",
      " [28.24005649]]\n",
      "count: 3\n",
      "\n",
      "\n",
      "==\n",
      "x:\n",
      "==\n",
      "\n",
      "[[33.9656754 ]\n",
      " [30.27349209]\n",
      " [35.61885781]\n",
      " [36.44255692]\n",
      " [28.24005649]]\n",
      "\n",
      "==\n",
      "y:\n",
      "==\n",
      "\n",
      "[[35.9656754 ]\n",
      " [32.27349209]\n",
      " [37.61885781]\n",
      " [38.44255692]\n",
      " [30.24005649]]\n",
      "count: 4\n",
      "\n",
      "\n",
      "==\n",
      "x:\n",
      "==\n",
      "\n",
      "[[35.9656754 ]\n",
      " [32.27349209]\n",
      " [37.61885781]\n",
      " [38.44255692]\n",
      " [30.24005649]]\n",
      "\n",
      "==\n",
      "y:\n",
      "==\n",
      "\n",
      "[[37.9656754 ]\n",
      " [34.27349209]\n",
      " [39.61885781]\n",
      " [40.44255692]\n",
      " [32.24005649]]\n",
      "count: 5\n",
      "\n",
      "\n",
      "==\n",
      "x:\n",
      "==\n",
      "\n",
      "[[37.9656754 ]\n",
      " [34.27349209]\n",
      " [39.61885781]\n",
      " [40.44255692]\n",
      " [32.24005649]]\n",
      "\n",
      "==\n",
      "y:\n",
      "==\n",
      "\n",
      "[[39.9656754 ]\n",
      " [36.27349209]\n",
      " [41.61885781]\n",
      " [42.44255692]\n",
      " [34.24005649]]\n"
     ]
    }
   ],
   "source": [
    "xy = X_y_generator(lf1, \"feature1\", 5, 2)\n",
    "count = 0\n",
    "for x, y in xy:\n",
    "    count += 1\n",
    "    print(f\"count: {count}\")\n",
    "    print(\n",
    "        f\"\\n\\n==\\nx:\\n==\\n\\n{x.reshape(-1, 1)[:5]}\\n\\n==\\ny:\\n==\\n\\n{y.reshape(-1, 1)[:5]}\"\n",
    "    )"
   ]
  },
  {
   "cell_type": "code",
   "execution_count": 44,
   "metadata": {},
   "outputs": [
    {
     "data": {
      "text/html": [
       "<div><style>\n",
       ".dataframe > thead > tr,\n",
       ".dataframe > tbody > tr {\n",
       "  text-align: right;\n",
       "  white-space: pre-wrap;\n",
       "}\n",
       "</style>\n",
       "<small>shape: (5, 19)</small><table border=\"1\" class=\"dataframe\"><thead><tr><th>index</th><th>feature1_1</th><th>feature1_2</th><th>feature1_3</th><th>feature1_4</th><th>feature1_5</th><th>feature1_6</th><th>feature1_7</th><th>feature1_8</th><th>feature1_9</th><th>feature1_10</th><th>feature1_11</th><th>feature1_12</th><th>feature1_13</th><th>feature1_14</th><th>feature1_15</th><th>feature1_16</th><th>feature1_17</th><th>feature1_18</th></tr><tr><td>i64</td><td>f64</td><td>f64</td><td>f64</td><td>f64</td><td>f64</td><td>f64</td><td>f64</td><td>f64</td><td>f64</td><td>f64</td><td>f64</td><td>f64</td><td>f64</td><td>f64</td><td>f64</td><td>f64</td><td>f64</td><td>f64</td></tr></thead><tbody><tr><td>0</td><td>39.965675</td><td>37.965675</td><td>35.965675</td><td>33.965675</td><td>31.965675</td><td>29.965675</td><td>27.965675</td><td>25.965675</td><td>23.965675</td><td>21.965675</td><td>19.965675</td><td>17.965675</td><td>15.965675</td><td>13.965675</td><td>11.965675</td><td>9.965675</td><td>7.965675</td><td>3.660958</td></tr><tr><td>1</td><td>36.273492</td><td>34.273492</td><td>32.273492</td><td>30.273492</td><td>28.273492</td><td>26.273492</td><td>24.273492</td><td>22.273492</td><td>20.273492</td><td>18.273492</td><td>16.273492</td><td>14.273492</td><td>12.273492</td><td>10.273492</td><td>8.273492</td><td>6.273492</td><td>4.273492</td><td>1.313476</td></tr><tr><td>2</td><td>41.618858</td><td>39.618858</td><td>37.618858</td><td>35.618858</td><td>33.618858</td><td>31.618858</td><td>29.618858</td><td>27.618858</td><td>25.618858</td><td>23.618858</td><td>21.618858</td><td>19.618858</td><td>17.618858</td><td>15.618858</td><td>13.618858</td><td>11.618858</td><td>9.618858</td><td>4.868407</td></tr><tr><td>3</td><td>42.442557</td><td>40.442557</td><td>38.442557</td><td>36.442557</td><td>34.442557</td><td>32.442557</td><td>30.442557</td><td>28.442557</td><td>26.442557</td><td>24.442557</td><td>22.442557</td><td>20.442557</td><td>18.442557</td><td>16.442557</td><td>14.442557</td><td>12.442557</td><td>10.442557</td><td>5.501992</td></tr><tr><td>4</td><td>34.240056</td><td>32.240056</td><td>30.240056</td><td>28.240056</td><td>26.240056</td><td>24.240056</td><td>22.240056</td><td>20.240056</td><td>18.240056</td><td>16.240056</td><td>14.240056</td><td>12.240056</td><td>10.240056</td><td>8.240056</td><td>6.240056</td><td>4.240056</td><td>2.240056</td><td>0.191092</td></tr></tbody></table></div>"
      ],
      "text/plain": [
       "shape: (5, 19)\n",
       "┌───────┬────────────┬────────────┬────────────┬───┬───────────┬───────────┬───────────┬───────────┐\n",
       "│ index ┆ feature1_1 ┆ feature1_2 ┆ feature1_3 ┆ … ┆ feature1_ ┆ feature1_ ┆ feature1_ ┆ feature1_ │\n",
       "│ ---   ┆ ---        ┆ ---        ┆ ---        ┆   ┆ 15        ┆ 16        ┆ 17        ┆ 18        │\n",
       "│ i64   ┆ f64        ┆ f64        ┆ f64        ┆   ┆ ---       ┆ ---       ┆ ---       ┆ ---       │\n",
       "│       ┆            ┆            ┆            ┆   ┆ f64       ┆ f64       ┆ f64       ┆ f64       │\n",
       "╞═══════╪════════════╪════════════╪════════════╪═══╪═══════════╪═══════════╪═══════════╪═══════════╡\n",
       "│ 0     ┆ 39.965675  ┆ 37.965675  ┆ 35.965675  ┆ … ┆ 11.965675 ┆ 9.965675  ┆ 7.965675  ┆ 3.660958  │\n",
       "│ 1     ┆ 36.273492  ┆ 34.273492  ┆ 32.273492  ┆ … ┆ 8.273492  ┆ 6.273492  ┆ 4.273492  ┆ 1.313476  │\n",
       "│ 2     ┆ 41.618858  ┆ 39.618858  ┆ 37.618858  ┆ … ┆ 13.618858 ┆ 11.618858 ┆ 9.618858  ┆ 4.868407  │\n",
       "│ 3     ┆ 42.442557  ┆ 40.442557  ┆ 38.442557  ┆ … ┆ 14.442557 ┆ 12.442557 ┆ 10.442557 ┆ 5.501992  │\n",
       "│ 4     ┆ 34.240056  ┆ 32.240056  ┆ 30.240056  ┆ … ┆ 6.240056  ┆ 4.240056  ┆ 2.240056  ┆ 0.191092  │\n",
       "└───────┴────────────┴────────────┴────────────┴───┴───────────┴───────────┴───────────┴───────────┘"
      ]
     },
     "execution_count": 44,
     "metadata": {},
     "output_type": "execute_result"
    }
   ],
   "source": [
    "def extract_features_and_lags(lf: pl.LazyFrame) -> tuple:\n",
    "    features = [c.split(\"_\")[2] for c in lf.select(cs.starts_with(\"logit\")).columns]\n",
    "\n",
    "    lags = [\n",
    "        int(c.split(\"_\")[-1].replace(\"]\", \"\"))\n",
    "        for c in lf.select(cs.starts_with(\"logit\")).columns\n",
    "    ]\n",
    "\n",
    "    lf = lf.select(\n",
    "        [pl.col(\"index\")]\n",
    "        + [\n",
    "            pl.col(c).alias(f\"{f}_{int(l/30)}\")\n",
    "            for c, f, l in zip(\n",
    "                lf.select(cs.starts_with(\"logit\")).columns, features, lags\n",
    "            )\n",
    "        ]\n",
    "    )\n",
    "    return lf, features, lags\n",
    "\n",
    "\n",
    "df, feats, lags = extract_features_and_lags(lf)\n",
    "df.head().collect()"
   ]
  },
  {
   "cell_type": "code",
   "execution_count": null,
   "metadata": {},
   "outputs": [],
   "source": []
  }
 ],
 "metadata": {
  "kernelspec": {
   "display_name": ".venv",
   "language": "python",
   "name": "python3"
  },
  "language_info": {
   "codemirror_mode": {
    "name": "ipython",
    "version": 3
   },
   "file_extension": ".py",
   "mimetype": "text/x-python",
   "name": "python",
   "nbconvert_exporter": "python",
   "pygments_lexer": "ipython3",
   "version": "3.11.8"
  }
 },
 "nbformat": 4,
 "nbformat_minor": 2
}
