{
 "cells": [
  {
   "cell_type": "code",
   "execution_count": 1,
   "metadata": {},
   "outputs": [
    {
     "data": {
      "text/html": [
       "<div><style>\n",
       ".dataframe > thead > tr,\n",
       ".dataframe > tbody > tr {\n",
       "  text-align: right;\n",
       "  white-space: pre-wrap;\n",
       "}\n",
       "</style>\n",
       "<small>shape: (5, 19)</small><table border=\"1\" class=\"dataframe\"><thead><tr><th>index</th><th>logit[MEAN_ENCODED_feature1_540]</th><th>logit[MEAN_ENCODED_feature1_510]</th><th>logit[MEAN_ENCODED_feature1_480]</th><th>logit[MEAN_ENCODED_feature1_450]</th><th>logit[MEAN_ENCODED_feature1_420]</th><th>logit[MEAN_ENCODED_feature1_390]</th><th>logit[MEAN_ENCODED_feature1_360]</th><th>logit[MEAN_ENCODED_feature1_330]</th><th>logit[MEAN_ENCODED_feature1_300]</th><th>logit[MEAN_ENCODED_feature1_270]</th><th>logit[MEAN_ENCODED_feature1_240]</th><th>logit[MEAN_ENCODED_feature1_210]</th><th>logit[MEAN_ENCODED_feature1_180]</th><th>logit[MEAN_ENCODED_feature1_150]</th><th>logit[MEAN_ENCODED_feature1_120]</th><th>logit[MEAN_ENCODED_feature1_90]</th><th>logit[MEAN_ENCODED_feature1_60]</th><th>logit[MEAN_ENCODED_feature1_30]</th></tr><tr><td>i64</td><td>f64</td><td>f64</td><td>f64</td><td>f64</td><td>f64</td><td>f64</td><td>f64</td><td>f64</td><td>f64</td><td>f64</td><td>f64</td><td>f64</td><td>f64</td><td>f64</td><td>f64</td><td>f64</td><td>f64</td><td>f64</td></tr></thead><tbody><tr><td>0</td><td>3.660958</td><td>7.965675</td><td>9.965675</td><td>11.965675</td><td>13.965675</td><td>15.965675</td><td>17.965675</td><td>19.965675</td><td>21.965675</td><td>23.965675</td><td>25.965675</td><td>27.965675</td><td>29.965675</td><td>31.965675</td><td>33.965675</td><td>35.965675</td><td>37.965675</td><td>39.965675</td></tr><tr><td>1</td><td>1.313476</td><td>4.273492</td><td>6.273492</td><td>8.273492</td><td>10.273492</td><td>12.273492</td><td>14.273492</td><td>16.273492</td><td>18.273492</td><td>20.273492</td><td>22.273492</td><td>24.273492</td><td>26.273492</td><td>28.273492</td><td>30.273492</td><td>32.273492</td><td>34.273492</td><td>36.273492</td></tr><tr><td>2</td><td>4.868407</td><td>9.618858</td><td>11.618858</td><td>13.618858</td><td>15.618858</td><td>17.618858</td><td>19.618858</td><td>21.618858</td><td>23.618858</td><td>25.618858</td><td>27.618858</td><td>29.618858</td><td>31.618858</td><td>33.618858</td><td>35.618858</td><td>37.618858</td><td>39.618858</td><td>41.618858</td></tr><tr><td>3</td><td>5.501992</td><td>10.442557</td><td>12.442557</td><td>14.442557</td><td>16.442557</td><td>18.442557</td><td>20.442557</td><td>22.442557</td><td>24.442557</td><td>26.442557</td><td>28.442557</td><td>30.442557</td><td>32.442557</td><td>34.442557</td><td>36.442557</td><td>38.442557</td><td>40.442557</td><td>42.442557</td></tr><tr><td>4</td><td>0.191092</td><td>2.240056</td><td>4.240056</td><td>6.240056</td><td>8.240056</td><td>10.240056</td><td>12.240056</td><td>14.240056</td><td>16.240056</td><td>18.240056</td><td>20.240056</td><td>22.240056</td><td>24.240056</td><td>26.240056</td><td>28.240056</td><td>30.240056</td><td>32.240056</td><td>34.240056</td></tr></tbody></table></div>"
      ],
      "text/plain": [
       "shape: (5, 19)\n",
       "┌───────┬────────────┬────────────┬────────────┬───┬───────────┬───────────┬───────────┬───────────┐\n",
       "│ index ┆ logit[MEAN ┆ logit[MEAN ┆ logit[MEAN ┆ … ┆ logit[MEA ┆ logit[MEA ┆ logit[MEA ┆ logit[MEA │\n",
       "│ ---   ┆ _ENCODED_f ┆ _ENCODED_f ┆ _ENCODED_f ┆   ┆ N_ENCODED ┆ N_ENCODED ┆ N_ENCODED ┆ N_ENCODED │\n",
       "│ i64   ┆ eature1_54 ┆ eature1_51 ┆ eature1_48 ┆   ┆ _feature1 ┆ _feature1 ┆ _feature1 ┆ _feature1 │\n",
       "│       ┆ 0]         ┆ 0]         ┆ 0]         ┆   ┆ _120]     ┆ _90]      ┆ _60]      ┆ _30]      │\n",
       "│       ┆ ---        ┆ ---        ┆ ---        ┆   ┆ ---       ┆ ---       ┆ ---       ┆ ---       │\n",
       "│       ┆ f64        ┆ f64        ┆ f64        ┆   ┆ f64       ┆ f64       ┆ f64       ┆ f64       │\n",
       "╞═══════╪════════════╪════════════╪════════════╪═══╪═══════════╪═══════════╪═══════════╪═══════════╡\n",
       "│ 0     ┆ 3.660958   ┆ 7.965675   ┆ 9.965675   ┆ … ┆ 33.965675 ┆ 35.965675 ┆ 37.965675 ┆ 39.965675 │\n",
       "│ 1     ┆ 1.313476   ┆ 4.273492   ┆ 6.273492   ┆ … ┆ 30.273492 ┆ 32.273492 ┆ 34.273492 ┆ 36.273492 │\n",
       "│ 2     ┆ 4.868407   ┆ 9.618858   ┆ 11.618858  ┆ … ┆ 35.618858 ┆ 37.618858 ┆ 39.618858 ┆ 41.618858 │\n",
       "│ 3     ┆ 5.501992   ┆ 10.442557  ┆ 12.442557  ┆ … ┆ 36.442557 ┆ 38.442557 ┆ 40.442557 ┆ 42.442557 │\n",
       "│ 4     ┆ 0.191092   ┆ 2.240056   ┆ 4.240056   ┆ … ┆ 28.240056 ┆ 30.240056 ┆ 32.240056 ┆ 34.240056 │\n",
       "└───────┴────────────┴────────────┴────────────┴───┴───────────┴───────────┴───────────┴───────────┘"
      ]
     },
     "execution_count": 1,
     "metadata": {},
     "output_type": "execute_result"
    }
   ],
   "source": [
    "%run ./time_series_encoding.py\n",
    "\n",
    "synthetic_lf().collect().write_parquet(\"synthetic.parquet\")\n",
    "lf = load_and_preprocess_data(\"synthetic.parquet\")\n",
    "\n",
    "lf = lf.select(\n",
    "    [pl.col(\"index\")]\n",
    "    + [pl.col(c) for c in list(reversed(lf.columns)) if c.startswith(\"logit\")]\n",
    ")\n",
    "lf.head().collect()"
   ]
  },
  {
   "cell_type": "code",
   "execution_count": 2,
   "metadata": {},
   "outputs": [
    {
     "name": "stdout",
     "output_type": "stream",
     "text": [
      "Averaged MSE for 1 lags: 0.0629\n",
      "Averaged MSE for 2 lags: 0.2163\n",
      "Averaged MSE for 3 lags: 0.1053\n",
      "Averaged MSE for 4 lags: 0.0867\n",
      "Averaged MSE for 5 lags: 0.0739\n",
      "Averaged MSE for 6 lags: 0.0577\n",
      "Averaged MSE for 7 lags: 0.0801\n",
      "Averaged MSE for 8 lags: 0.0637\n",
      "Averaged MSE for 9 lags: 0.0573\n",
      "Averaged MSE for 10 lags: 0.0582\n",
      "Averaged MSE for 11 lags: 0.0535\n",
      "Averaged MSE for 12 lags: 0.0619\n"
     ]
    },
    {
     "data": {
      "text/html": [
       "<i>naive plan: (run <b>LazyFrame.explain(optimized=True)</b> to see the optimized plan)</i>\n",
       "    <p></p>\n",
       "    <div>HCONCAT<p></p>  PLAN 0:<p></p>     SELECT [col(\"index\")] FROM<p></p>       SELECT [col(\"index\"), col(\"logit[MEAN_ENCODED_feature1_540]\"), col(\"logit[MEAN_ENCODED_feature1_510]\"), col(\"logit[MEAN_ENCODED_feature1_480]\"), col(\"logit[MEAN_ENCODED_feature1_450]\"), col(\"logit[MEAN_ENCODED_feature1_420]\"), col(\"logit[MEAN_ENCODED_feature1_390]\"), col(\"logit[MEAN_ENCODED_feature1_360]\"), col(\"logit[MEAN_ENCODED_feature1_330]\"), col(\"logit[MEAN_ENCODED_feature1_300]\"), col(\"logit[MEAN_ENCODED_feature1_270]\"), col(\"logit[MEAN_ENCODED_feature1_240]\"), col(\"logit[MEAN_ENCODED_feature1_210]\"), col(\"logit[MEAN_ENCODED_feature1_180]\"), col(\"logit[MEAN_ENCODED_feature1_150]\"), col(\"logit[MEAN_ENCODED_feature1_120]\"), col(\"logit[MEAN_ENCODED_feature1_90]\"), col(\"logit[MEAN_ENCODED_feature1_60]\"), col(\"logit[MEAN_ENCODED_feature1_30]\")] FROM<p></p>         SELECT [col(\"index\"), col(\"logit[MEAN_ENCODED_feature1_30]\"), col(\"logit[MEAN_ENCODED_feature1_60]\"), col(\"logit[MEAN_ENCODED_feature1_90]\"), col(\"logit[MEAN_ENCODED_feature1_120]\"), col(\"logit[MEAN_ENCODED_feature1_150]\"), col(\"logit[MEAN_ENCODED_feature1_180]\"), col(\"logit[MEAN_ENCODED_feature1_210]\"), col(\"logit[MEAN_ENCODED_feature1_240]\"), col(\"logit[MEAN_ENCODED_feature1_270]\"), col(\"logit[MEAN_ENCODED_feature1_300]\"), col(\"logit[MEAN_ENCODED_feature1_330]\"), col(\"logit[MEAN_ENCODED_feature1_360]\"), col(\"logit[MEAN_ENCODED_feature1_390]\"), col(\"logit[MEAN_ENCODED_feature1_420]\"), col(\"logit[MEAN_ENCODED_feature1_450]\"), col(\"logit[MEAN_ENCODED_feature1_480]\"), col(\"logit[MEAN_ENCODED_feature1_510]\"), col(\"logit[MEAN_ENCODED_feature1_540]\")] FROM<p></p><p></p>            Parquet SCAN synthetic.parquet<p></p>            PROJECT */19 COLUMNS<p></p>  PLAN 1:<p></p>    DF [\"feature1_current\"]; PROJECT */1 COLUMNS; SELECTION: \"None\"<p></p>END HCONCAT</div>"
      ],
      "text/plain": [
       "<LazyFrame [2 cols, {\"index\": Int64, \"feature1_current\": Float64}] at 0x7F946DE12B90>"
      ]
     },
     "execution_count": 2,
     "metadata": {},
     "output_type": "execute_result"
    }
   ],
   "source": [
    "from catboost import CatBoostRegressor\n",
    "\n",
    "ts = TimeSeriesEncoding(lf, CatBoostRegressor(verbose=0))\n",
    "ts.encode_feature().collect()"
   ]
  },
  {
   "cell_type": "code",
   "execution_count": 3,
   "metadata": {},
   "outputs": [
    {
     "data": {
      "text/plain": [
       "11"
      ]
     },
     "execution_count": 3,
     "metadata": {},
     "output_type": "execute_result"
    }
   ],
   "source": [
    "ts.find_optimal_lags()"
   ]
  },
  {
   "cell_type": "code",
   "execution_count": 5,
   "metadata": {},
   "outputs": [
    {
     "data": {
      "text/html": [
       "<div><style>\n",
       ".dataframe > thead > tr,\n",
       ".dataframe > tbody > tr {\n",
       "  text-align: right;\n",
       "  white-space: pre-wrap;\n",
       "}\n",
       "</style>\n",
       "<small>shape: (500, 4)</small><table border=\"1\" class=\"dataframe\"><thead><tr><th>index</th><th>feature1_current</th><th>logit[MEAN_ENCODED_feature1_30]</th><th>logit[MEAN_ENCODED_feature1_60]</th></tr><tr><td>i64</td><td>f64</td><td>f64</td><td>f64</td></tr></thead><tbody><tr><td>0</td><td>41.960077</td><td>39.965675</td><td>37.965675</td></tr><tr><td>1</td><td>38.262564</td><td>36.273492</td><td>34.273492</td></tr><tr><td>2</td><td>43.597497</td><td>41.618858</td><td>39.618858</td></tr><tr><td>3</td><td>44.447554</td><td>42.442557</td><td>40.442557</td></tr><tr><td>4</td><td>36.27281</td><td>34.240056</td><td>32.240056</td></tr><tr><td>&hellip;</td><td>&hellip;</td><td>&hellip;</td><td>&hellip;</td></tr><tr><td>495</td><td>44.447554</td><td>42.419702</td><td>40.419702</td></tr><tr><td>496</td><td>36.507787</td><td>34.497376</td><td>32.497376</td></tr><tr><td>497</td><td>40.052175</td><td>38.043689</td><td>36.043689</td></tr><tr><td>498</td><td>36.186376</td><td>34.15496</td><td>32.15496</td></tr><tr><td>499</td><td>37.25928</td><td>35.234113</td><td>33.234113</td></tr></tbody></table></div>"
      ],
      "text/plain": [
       "shape: (500, 4)\n",
       "┌───────┬──────────────────┬─────────────────────────────────┬─────────────────────────────────┐\n",
       "│ index ┆ feature1_current ┆ logit[MEAN_ENCODED_feature1_30] ┆ logit[MEAN_ENCODED_feature1_60] │\n",
       "│ ---   ┆ ---              ┆ ---                             ┆ ---                             │\n",
       "│ i64   ┆ f64              ┆ f64                             ┆ f64                             │\n",
       "╞═══════╪══════════════════╪═════════════════════════════════╪═════════════════════════════════╡\n",
       "│ 0     ┆ 41.960077        ┆ 39.965675                       ┆ 37.965675                       │\n",
       "│ 1     ┆ 38.262564        ┆ 36.273492                       ┆ 34.273492                       │\n",
       "│ 2     ┆ 43.597497        ┆ 41.618858                       ┆ 39.618858                       │\n",
       "│ 3     ┆ 44.447554        ┆ 42.442557                       ┆ 40.442557                       │\n",
       "│ 4     ┆ 36.27281         ┆ 34.240056                       ┆ 32.240056                       │\n",
       "│ …     ┆ …                ┆ …                               ┆ …                               │\n",
       "│ 495   ┆ 44.447554        ┆ 42.419702                       ┆ 40.419702                       │\n",
       "│ 496   ┆ 36.507787        ┆ 34.497376                       ┆ 32.497376                       │\n",
       "│ 497   ┆ 40.052175        ┆ 38.043689                       ┆ 36.043689                       │\n",
       "│ 498   ┆ 36.186376        ┆ 34.15496                        ┆ 32.15496                        │\n",
       "│ 499   ┆ 37.25928         ┆ 35.234113                       ┆ 33.234113                       │\n",
       "└───────┴──────────────────┴─────────────────────────────────┴─────────────────────────────────┘"
      ]
     },
     "execution_count": 5,
     "metadata": {},
     "output_type": "execute_result"
    }
   ],
   "source": [
    "pl.concat(\n",
    "    [\n",
    "        ts.encode_feature(),\n",
    "        lf.select(\n",
    "            [\"logit[MEAN_ENCODED_feature1_30]\", \"logit[MEAN_ENCODED_feature1_60]\"]\n",
    "        ),\n",
    "    ],\n",
    "    how=\"horizontal\",\n",
    ").collect()"
   ]
  },
  {
   "cell_type": "code",
   "execution_count": null,
   "metadata": {},
   "outputs": [],
   "source": [
    "lf.columns[1:]"
   ]
  },
  {
   "cell_type": "code",
   "execution_count": null,
   "metadata": {},
   "outputs": [],
   "source": [
    "lf1 = recode_columns(lf)\n",
    "\n",
    "lf1.head().collect()"
   ]
  },
  {
   "cell_type": "markdown",
   "metadata": {},
   "source": [
    "\n",
    "1. starting at the lag 2, continuing for `n_prior` lags (so 2 to 2+n_prior inclusive)\n",
    "2. use the lag 2 value as the target, and the remaining columns as features to predict the lag 2 value\n",
    "3. using the lag 1 value as the target, and the remaining columns as features, apply the fitted model to the lag 2 to lag 2+n_prior columns to estimate the lag 1 value\n",
    "4. calculate the MSE of the estimated lag 1 value and the actual lag 1 value \n",
    "\n",
    "5. repeat steps 3 and 4, starting at lag 3, fitting the model to the lag 3 to lag 3+n_prior columns, estimating the lag 2 value, calculating the MSE of the estimated lag 2 value and the actual lag 2 value, and so on\n",
    "6. continue until you have n_folds MSE values\n",
    "7. return the mean and sd of the MSE values"
   ]
  },
  {
   "cell_type": "code",
   "execution_count": null,
   "metadata": {},
   "outputs": [],
   "source": [
    "get_columns(lf1, \"feature1\", 5, 2 - 1).collect()"
   ]
  },
  {
   "cell_type": "code",
   "execution_count": null,
   "metadata": {},
   "outputs": [],
   "source": [
    "\"\"\"\n",
    "\n",
    "1. starting at the lag 2, continuing for `n_prior` lags (so 2 to 2+n_prior inclusive)\n",
    "2. use the lag 2 value as the target, and the remaining columns as features to predict the lag 2 value\n",
    "3. using the lag 1 value as the target, and the remaining columns as features, apply the fitted model to the lag 2 to lag 2+n_prior columns to estimate the lag 1 value\n",
    "4. calculate the MSE of the estimated lag 1 value and the actual lag 1 value \n",
    "\n",
    "5. repeat steps 3 and 4, starting at lag 3, fitting the model to the lag 3 to lag 3+n_prior columns, estimating the lag 2 value, calculating the MSE of the estimated lag 2 value and the actual lag 2 value, and so on\n",
    "6. continue until you have n_folds MSE values\n",
    "7. return the mean and sd of the MSE values\n",
    "\"\"\"\n",
    "\n",
    "\n",
    "def lagged_forecast(lf: pl.LazyFrame, feature: str, n_folds: int, n_prior: int):\n",
    "    # for fold in range(1, n_folds + 1):\n",
    "    fold = 1\n",
    "\n",
    "    # train model on lag 2 to lag 2+n_prior columns\n",
    "    y_col = get_columns(lf, feature, n_folds).columns[0]\n",
    "    x_cols = get_columns(lf, feature, n_folds, fold + 1 - 1).columns[1:]\n",
    "    print(f\"y_cols: {y_col}\")\n",
    "    print(f\"x_cols: {x_cols}\")\n",
    "    y = lf.select(y_col).collect().to_numpy().reshape(-1, 1)\n",
    "\n",
    "    # X0 = lf.select(\n",
    "    #     [\n",
    "    #         get_columns(lf, feature, n_folds, fold + i - 1)\n",
    "    #         for i in range(1, n_prior + 2)\n",
    "    #     ]\n",
    "    # ).collect()\n",
    "\n",
    "    # estimate lag 1 value\n",
    "\n",
    "    return y\n",
    "\n",
    "\n",
    "lagged_forecast(lf1, \"feature1\", 5, 3)"
   ]
  },
  {
   "cell_type": "code",
   "execution_count": null,
   "metadata": {},
   "outputs": [],
   "source": [
    "get_columns(lf1, \"feature1\", 5, i).columns"
   ]
  },
  {
   "cell_type": "code",
   "execution_count": null,
   "metadata": {},
   "outputs": [],
   "source": [
    "xy = X_y_generator(lf1, \"feature1\", 5, 2)\n",
    "count = 0\n",
    "for x, y in xy:\n",
    "    count += 1\n",
    "    print(f\"count: {count}\")\n",
    "    print(\n",
    "        f\"\\n\\n==\\nx:\\n==\\n\\n{x.reshape(-1, 1)[:5]}\\n\\n==\\ny:\\n==\\n\\n{y.reshape(-1, 1)[:5]}\"\n",
    "    )"
   ]
  },
  {
   "cell_type": "code",
   "execution_count": null,
   "metadata": {},
   "outputs": [],
   "source": [
    "def extract_features_and_lags(lf: pl.LazyFrame) -> tuple:\n",
    "    features = [c.split(\"_\")[2] for c in lf.select(cs.starts_with(\"logit\")).columns]\n",
    "\n",
    "    lags = [\n",
    "        int(c.split(\"_\")[-1].replace(\"]\", \"\"))\n",
    "        for c in lf.select(cs.starts_with(\"logit\")).columns\n",
    "    ]\n",
    "\n",
    "    lf = lf.select(\n",
    "        [pl.col(\"index\")]\n",
    "        + [\n",
    "            pl.col(c).alias(f\"{f}_{int(l/30)}\")\n",
    "            for c, f, l in zip(\n",
    "                lf.select(cs.starts_with(\"logit\")).columns, features, lags\n",
    "            )\n",
    "        ]\n",
    "    )\n",
    "    return lf, features, lags\n",
    "\n",
    "\n",
    "df, feats, lags = extract_features_and_lags(lf)\n",
    "df.head().collect()"
   ]
  },
  {
   "cell_type": "code",
   "execution_count": null,
   "metadata": {},
   "outputs": [],
   "source": []
  }
 ],
 "metadata": {
  "kernelspec": {
   "display_name": ".venv",
   "language": "python",
   "name": "python3"
  },
  "language_info": {
   "codemirror_mode": {
    "name": "ipython",
    "version": 3
   },
   "file_extension": ".py",
   "mimetype": "text/x-python",
   "name": "python",
   "nbconvert_exporter": "python",
   "pygments_lexer": "ipython3",
   "version": "3.11.8"
  }
 },
 "nbformat": 4,
 "nbformat_minor": 2
}
