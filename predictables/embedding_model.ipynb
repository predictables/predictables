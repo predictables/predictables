{
 "cells": [
  {
   "cell_type": "code",
   "execution_count": 1,
   "metadata": {},
   "outputs": [],
   "source": [
    "import polars as pl\n",
    "from predictables.naics_cd_embedding import (\n",
    "    NAICSConfig,\n",
    "    NAICSDefaults,\n",
    "    NAICSEmbeddingModel,\n",
    "    NAICSDataLoader,\n",
    "    NAICSEarlyStopper,\n",
    ")"
   ]
  },
  {
   "cell_type": "code",
   "execution_count": 2,
   "metadata": {},
   "outputs": [
    {
     "name": "stdout",
     "output_type": "stream",
     "text": [
      "(100000, 8)\n"
     ]
    },
    {
     "data": {
      "text/html": [
       "<div><style>\n",
       ".dataframe > thead > tr,\n",
       ".dataframe > tbody > tr {\n",
       "  text-align: right;\n",
       "  white-space: pre-wrap;\n",
       "}\n",
       "</style>\n",
       "<small>shape: (5, 8)</small><table border=\"1\" class=\"dataframe\"><thead><tr><th>naics_2_cd</th><th>naics_3_cd</th><th>naics_4_cd</th><th>naics_5_cd</th><th>naics_6_cd</th><th>probability</th><th>target</th><th>__index_level_0__</th></tr><tr><td>str</td><td>str</td><td>str</td><td>str</td><td>str</td><td>f64</td><td>i64</td><td>i64</td></tr></thead><tbody><tr><td>&quot;15&quot;</td><td>&quot;152&quot;</td><td>&quot;1524&quot;</td><td>&quot;15242&quot;</td><td>&quot;152423&quot;</td><td>0.653017</td><td>0</td><td>968</td></tr><tr><td>&quot;19&quot;</td><td>&quot;194&quot;</td><td>&quot;1942&quot;</td><td>&quot;19422&quot;</td><td>&quot;194223&quot;</td><td>0.990028</td><td>1</td><td>1742</td></tr><tr><td>&quot;18&quot;</td><td>&quot;182&quot;</td><td>&quot;1821&quot;</td><td>&quot;18212&quot;</td><td>&quot;182122&quot;</td><td>0.952741</td><td>1</td><td>1480</td></tr><tr><td>&quot;17&quot;</td><td>&quot;172&quot;</td><td>&quot;1722&quot;</td><td>&quot;17222&quot;</td><td>&quot;172222&quot;</td><td>0.891737</td><td>1</td><td>1309</td></tr><tr><td>&quot;12&quot;</td><td>&quot;125&quot;</td><td>&quot;1251&quot;</td><td>&quot;12513&quot;</td><td>&quot;125133&quot;</td><td>0.47786</td><td>1</td><td>512</td></tr></tbody></table></div>"
      ],
      "text/plain": [
       "shape: (5, 8)\n",
       "┌────────────┬────────────┬────────────┬────────────┬────────────┬────────────┬────────┬───────────┐\n",
       "│ naics_2_cd ┆ naics_3_cd ┆ naics_4_cd ┆ naics_5_cd ┆ naics_6_cd ┆ probabilit ┆ target ┆ __index_l │\n",
       "│ ---        ┆ ---        ┆ ---        ┆ ---        ┆ ---        ┆ y          ┆ ---    ┆ evel_0__  │\n",
       "│ str        ┆ str        ┆ str        ┆ str        ┆ str        ┆ ---        ┆ i64    ┆ ---       │\n",
       "│            ┆            ┆            ┆            ┆            ┆ f64        ┆        ┆ i64       │\n",
       "╞════════════╪════════════╪════════════╪════════════╪════════════╪════════════╪════════╪═══════════╡\n",
       "│ 15         ┆ 152        ┆ 1524       ┆ 15242      ┆ 152423     ┆ 0.653017   ┆ 0      ┆ 968       │\n",
       "│ 19         ┆ 194        ┆ 1942       ┆ 19422      ┆ 194223     ┆ 0.990028   ┆ 1      ┆ 1742      │\n",
       "│ 18         ┆ 182        ┆ 1821       ┆ 18212      ┆ 182122     ┆ 0.952741   ┆ 1      ┆ 1480      │\n",
       "│ 17         ┆ 172        ┆ 1722       ┆ 17222      ┆ 172222     ┆ 0.891737   ┆ 1      ┆ 1309      │\n",
       "│ 12         ┆ 125        ┆ 1251       ┆ 12513      ┆ 125133     ┆ 0.47786    ┆ 1      ┆ 512       │\n",
       "└────────────┴────────────┴────────────┴────────────┴────────────┴────────────┴────────┴───────────┘"
      ]
     },
     "execution_count": 2,
     "metadata": {},
     "output_type": "execute_result"
    }
   ],
   "source": [
    "lf = pl.scan_parquet(\"./final_naics_data.parquet\")\n",
    "print(lf.collect().shape)\n",
    "lf.head().collect()"
   ]
  },
  {
   "cell_type": "code",
   "execution_count": 3,
   "metadata": {},
   "outputs": [],
   "source": [
    "_, model, loss, optim = NAICSDefaults().get()"
   ]
  },
  {
   "cell_type": "code",
   "execution_count": 4,
   "metadata": {},
   "outputs": [
    {
     "data": {
      "text/plain": [
       "50"
      ]
     },
     "execution_count": 4,
     "metadata": {},
     "output_type": "execute_result"
    }
   ],
   "source": [
    "uniques = lf.select(\n",
    "    [\n",
    "        pl.col(c).n_unique().name.keep()\n",
    "        for c in lf.columns\n",
    "        if c.lower().find(\"naics\") > -1\n",
    "    ]\n",
    ").collect()\n",
    "\n",
    "uniques.item(0, 1)"
   ]
  },
  {
   "cell_type": "code",
   "execution_count": 5,
   "metadata": {},
   "outputs": [],
   "source": [
    "config = NAICSConfig(is_classification=True)\n",
    "config.add(2, uniques.item(0, 0), 100, 0.5)\n",
    "config.add(3, uniques.item(0, 1), 100, 0.4)\n",
    "config.add(4, uniques.item(0, 2), 100, 0.3)\n",
    "config.add(5, uniques.item(0, 3), 100, 0.2)\n",
    "config.add(6, uniques.item(0, 4), 100, 0.1)"
   ]
  },
  {
   "cell_type": "code",
   "execution_count": 6,
   "metadata": {},
   "outputs": [
    {
     "ename": "",
     "evalue": "",
     "output_type": "error",
     "traceback": [
      "\u001b[1;31mThe Kernel crashed while executing code in the current cell or a previous cell. \n",
      "\u001b[1;31mPlease review the code in the cell(s) to identify a possible cause of the failure. \n",
      "\u001b[1;31mClick <a href='https://aka.ms/vscodeJupyterKernelCrash'>here</a> for more info. \n",
      "\u001b[1;31mView Jupyter <a href='command:jupyter.viewOutput'>log</a> for further details."
     ]
    }
   ],
   "source": [
    "# data =\n",
    "NAICSDataLoader(lf)"
   ]
  }
 ],
 "metadata": {
  "kernelspec": {
   "display_name": ".venv",
   "language": "python",
   "name": "python3"
  },
  "language_info": {
   "codemirror_mode": {
    "name": "ipython",
    "version": 3
   },
   "file_extension": ".py",
   "mimetype": "text/x-python",
   "name": "python",
   "nbconvert_exporter": "python",
   "pygments_lexer": "ipython3",
   "version": "3.11.8"
  }
 },
 "nbformat": 4,
 "nbformat_minor": 2
}
