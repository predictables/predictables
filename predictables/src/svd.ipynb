{
 "cells": [
  {
   "cell_type": "code",
   "execution_count": 2,
   "metadata": {},
   "outputs": [],
   "source": [
    "%run \"singular_value_decomp.py\""
   ]
  },
  {
   "cell_type": "code",
   "execution_count": 10,
   "metadata": {},
   "outputs": [
    {
     "data": {
      "text/html": [
       "<div><style>\n",
       ".dataframe > thead > tr > th,\n",
       ".dataframe > tbody > tr > td {\n",
       "  text-align: right;\n",
       "  white-space: pre-wrap;\n",
       "}\n",
       "</style>\n",
       "<small>shape: (11, 6)</small><table border=\"1\" class=\"dataframe\"><thead><tr><th>column_0</th><th>column_1</th><th>column_2</th><th>column_3</th><th>column_4</th><th>column_5</th></tr><tr><td>f64</td><td>f64</td><td>f64</td><td>f64</td><td>f64</td><td>f64</td></tr></thead><tbody><tr><td>-0.243853</td><td>-0.391435</td><td>1.705415</td><td>1.606315</td><td>0.558313</td><td>-0.638508</td></tr><tr><td>-2.092108</td><td>-0.450376</td><td>-0.982397</td><td>0.114953</td><td>-0.576985</td><td>1.333879</td></tr><tr><td>0.18308</td><td>-1.084762</td><td>-1.6665</td><td>-0.112995</td><td>-1.01715</td><td>0.796706</td></tr><tr><td>2.273845</td><td>-1.116</td><td>-1.114354</td><td>-1.146829</td><td>-1.005438</td><td>-1.255404</td></tr><tr><td>0.704571</td><td>0.899537</td><td>2.087893</td><td>-0.01794</td><td>1.211709</td><td>-0.719654</td></tr><tr><td>-0.043449</td><td>-0.480264</td><td>-0.071063</td><td>1.18477</td><td>0.274225</td><td>1.206691</td></tr><tr><td>0.960638</td><td>-1.135626</td><td>2.42888</td><td>-0.04755</td><td>-0.639597</td><td>-0.930277</td></tr><tr><td>-0.802544</td><td>-0.366642</td><td>-0.548146</td><td>-0.894424</td><td>-0.947665</td><td>1.70077</td></tr><tr><td>0.022557</td><td>1.695053</td><td>-0.430661</td><td>0.495758</td><td>0.094814</td><td>-1.686178</td></tr><tr><td>2.071882</td><td>-0.777107</td><td>-1.500149</td><td>0.387504</td><td>0.672099</td><td>0.127472</td></tr><tr><td>-0.549959</td><td>-0.217028</td><td>-0.893884</td><td>-0.045094</td><td>-0.192766</td><td>0.348692</td></tr></tbody></table></div>"
      ],
      "text/plain": [
       "shape: (11, 6)\n",
       "┌───────────┬───────────┬───────────┬───────────┬───────────┬───────────┐\n",
       "│ column_0  ┆ column_1  ┆ column_2  ┆ column_3  ┆ column_4  ┆ column_5  │\n",
       "│ ---       ┆ ---       ┆ ---       ┆ ---       ┆ ---       ┆ ---       │\n",
       "│ f64       ┆ f64       ┆ f64       ┆ f64       ┆ f64       ┆ f64       │\n",
       "╞═══════════╪═══════════╪═══════════╪═══════════╪═══════════╪═══════════╡\n",
       "│ -0.243853 ┆ -0.391435 ┆ 1.705415  ┆ 1.606315  ┆ 0.558313  ┆ -0.638508 │\n",
       "│ -2.092108 ┆ -0.450376 ┆ -0.982397 ┆ 0.114953  ┆ -0.576985 ┆ 1.333879  │\n",
       "│ 0.18308   ┆ -1.084762 ┆ -1.6665   ┆ -0.112995 ┆ -1.01715  ┆ 0.796706  │\n",
       "│ 2.273845  ┆ -1.116    ┆ -1.114354 ┆ -1.146829 ┆ -1.005438 ┆ -1.255404 │\n",
       "│ …         ┆ …         ┆ …         ┆ …         ┆ …         ┆ …         │\n",
       "│ -0.802544 ┆ -0.366642 ┆ -0.548146 ┆ -0.894424 ┆ -0.947665 ┆ 1.70077   │\n",
       "│ 0.022557  ┆ 1.695053  ┆ -0.430661 ┆ 0.495758  ┆ 0.094814  ┆ -1.686178 │\n",
       "│ 2.071882  ┆ -0.777107 ┆ -1.500149 ┆ 0.387504  ┆ 0.672099  ┆ 0.127472  │\n",
       "│ -0.549959 ┆ -0.217028 ┆ -0.893884 ┆ -0.045094 ┆ -0.192766 ┆ 0.348692  │\n",
       "└───────────┴───────────┴───────────┴───────────┴───────────┴───────────┘"
      ]
     },
     "execution_count": 10,
     "metadata": {},
     "output_type": "execute_result"
    }
   ],
   "source": [
    "import numpy as np\n",
    "\n",
    "A = pl.from_numpy(np.random.randn(11, 6))\n",
    "A"
   ]
  },
  {
   "cell_type": "code",
   "execution_count": 11,
   "metadata": {},
   "outputs": [],
   "source": [
    "svd = SingularValueDecomposition(A)"
   ]
  },
  {
   "cell_type": "code",
   "execution_count": 22,
   "metadata": {},
   "outputs": [
    {
     "data": {
      "text/html": [
       "<div><style>\n",
       ".dataframe > thead > tr > th,\n",
       ".dataframe > tbody > tr > td {\n",
       "  text-align: right;\n",
       "  white-space: pre-wrap;\n",
       "}\n",
       "</style>\n",
       "<small>shape: (11, 11)</small><table border=\"1\" class=\"dataframe\"><thead><tr><th>Col0</th><th>Col1</th><th>Col2</th><th>Col3</th><th>Col4</th><th>Col5</th><th>Col6</th><th>Col7</th><th>Col8</th><th>Col9</th><th>Col10</th></tr><tr><td>f32</td><td>f32</td><td>f32</td><td>f32</td><td>f32</td><td>f32</td><td>f32</td><td>f32</td><td>f32</td><td>f32</td><td>f32</td></tr></thead><tbody><tr><td>1.0</td><td>0.0</td><td>0.0</td><td>0.0</td><td>0.0</td><td>0.0</td><td>0.0</td><td>0.0</td><td>0.0</td><td>0.0</td><td>0.0</td></tr><tr><td>0.0</td><td>1.0</td><td>0.0</td><td>0.0</td><td>0.0</td><td>0.0</td><td>0.0</td><td>0.0</td><td>0.0</td><td>0.0</td><td>0.0</td></tr><tr><td>0.0</td><td>0.0</td><td>1.0</td><td>0.0</td><td>0.0</td><td>0.0</td><td>0.0</td><td>0.0</td><td>0.0</td><td>0.0</td><td>0.0</td></tr><tr><td>0.0</td><td>0.0</td><td>0.0</td><td>1.0</td><td>0.0</td><td>0.0</td><td>0.0</td><td>0.0</td><td>0.0</td><td>0.0</td><td>0.0</td></tr><tr><td>0.0</td><td>0.0</td><td>0.0</td><td>0.0</td><td>1.0</td><td>0.0</td><td>0.0</td><td>0.0</td><td>0.0</td><td>0.0</td><td>0.0</td></tr><tr><td>0.0</td><td>0.0</td><td>0.0</td><td>0.0</td><td>0.0</td><td>1.0</td><td>0.0</td><td>0.0</td><td>0.0</td><td>0.0</td><td>0.0</td></tr><tr><td>0.0</td><td>0.0</td><td>0.0</td><td>0.0</td><td>0.0</td><td>0.0</td><td>1.0</td><td>0.0</td><td>0.0</td><td>0.0</td><td>0.0</td></tr><tr><td>0.0</td><td>0.0</td><td>0.0</td><td>0.0</td><td>0.0</td><td>0.0</td><td>0.0</td><td>1.0</td><td>0.0</td><td>0.0</td><td>0.0</td></tr><tr><td>0.0</td><td>0.0</td><td>0.0</td><td>0.0</td><td>0.0</td><td>0.0</td><td>0.0</td><td>0.0</td><td>1.0</td><td>0.0</td><td>0.0</td></tr><tr><td>0.0</td><td>0.0</td><td>0.0</td><td>0.0</td><td>0.0</td><td>0.0</td><td>0.0</td><td>0.0</td><td>0.0</td><td>1.0</td><td>0.0</td></tr><tr><td>0.0</td><td>0.0</td><td>0.0</td><td>0.0</td><td>0.0</td><td>0.0</td><td>0.0</td><td>0.0</td><td>0.0</td><td>0.0</td><td>1.0</td></tr></tbody></table></div>"
      ],
      "text/plain": [
       "shape: (11, 11)\n",
       "┌──────┬──────┬──────┬──────┬───┬──────┬──────┬──────┬───────┐\n",
       "│ Col0 ┆ Col1 ┆ Col2 ┆ Col3 ┆ … ┆ Col7 ┆ Col8 ┆ Col9 ┆ Col10 │\n",
       "│ ---  ┆ ---  ┆ ---  ┆ ---  ┆   ┆ ---  ┆ ---  ┆ ---  ┆ ---   │\n",
       "│ f32  ┆ f32  ┆ f32  ┆ f32  ┆   ┆ f32  ┆ f32  ┆ f32  ┆ f32   │\n",
       "╞══════╪══════╪══════╪══════╪═══╪══════╪══════╪══════╪═══════╡\n",
       "│ 1.0  ┆ 0.0  ┆ 0.0  ┆ 0.0  ┆ … ┆ 0.0  ┆ 0.0  ┆ 0.0  ┆ 0.0   │\n",
       "│ 0.0  ┆ 1.0  ┆ 0.0  ┆ 0.0  ┆ … ┆ 0.0  ┆ 0.0  ┆ 0.0  ┆ 0.0   │\n",
       "│ 0.0  ┆ 0.0  ┆ 1.0  ┆ 0.0  ┆ … ┆ 0.0  ┆ 0.0  ┆ 0.0  ┆ 0.0   │\n",
       "│ 0.0  ┆ 0.0  ┆ 0.0  ┆ 1.0  ┆ … ┆ 0.0  ┆ 0.0  ┆ 0.0  ┆ 0.0   │\n",
       "│ …    ┆ …    ┆ …    ┆ …    ┆ … ┆ …    ┆ …    ┆ …    ┆ …     │\n",
       "│ 0.0  ┆ 0.0  ┆ 0.0  ┆ 0.0  ┆ … ┆ 1.0  ┆ 0.0  ┆ 0.0  ┆ 0.0   │\n",
       "│ 0.0  ┆ 0.0  ┆ 0.0  ┆ 0.0  ┆ … ┆ 0.0  ┆ 1.0  ┆ 0.0  ┆ 0.0   │\n",
       "│ 0.0  ┆ 0.0  ┆ 0.0  ┆ 0.0  ┆ … ┆ 0.0  ┆ 0.0  ┆ 1.0  ┆ 0.0   │\n",
       "│ 0.0  ┆ 0.0  ┆ 0.0  ┆ 0.0  ┆ … ┆ 0.0  ┆ 0.0  ┆ 0.0  ┆ 1.0   │\n",
       "└──────┴──────┴──────┴──────┴───┴──────┴──────┴──────┴───────┘"
      ]
     },
     "execution_count": 22,
     "metadata": {},
     "output_type": "execute_result"
    }
   ],
   "source": [
    "V = pl.DataFrame(\n",
    "    pl.Series([1] + ([0] * (svd.n_rows - 1))).cast(pl.Float32).alias(\"Col0\")\n",
    ")\n",
    "\n",
    "V = V.with_columns(\n",
    "    [\n",
    "        pl.Series(([0] * i) + [1] + ([0] * (svd.n_rows - i - 1)))\n",
    "        .cast(pl.Float32)\n",
    "        .alias(f\"Col{i}\")\n",
    "        for i in range(1, svd.n_rows)\n",
    "    ]\n",
    ")"
   ]
  }
 ],
 "metadata": {
  "kernelspec": {
   "display_name": "dat",
   "language": "python",
   "name": "python3"
  },
  "language_info": {
   "codemirror_mode": {
    "name": "ipython",
    "version": 3
   },
   "file_extension": ".py",
   "mimetype": "text/x-python",
   "name": "python",
   "nbconvert_exporter": "python",
   "pygments_lexer": "ipython3",
   "version": "3.10.12"
  },
  "orig_nbformat": 4
 },
 "nbformat": 4,
 "nbformat_minor": 2
}
