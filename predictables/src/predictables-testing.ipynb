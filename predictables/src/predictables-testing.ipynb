{
 "cells": [
  {
   "cell_type": "code",
   "execution_count": 1,
   "metadata": {},
   "outputs": [],
   "source": [
    "import pandas as pd\n",
    "import polars as pl\n",
    "import numpy as np\n",
    "import sys\n",
    "\n",
    "sys.path.append(r\"..\\..\")\n",
    "sys.path.append(r\"..\")\n",
    "\n",
    "import scipy.stats as stats\n",
    "import statsmodels.stats as sms\n",
    "import statsmodels.stats.outliers_influence as oi\n",
    "from statsmodels.stats.outliers_influence import variance_inflation_factor as vif\n",
    "\n",
    "from importlib import reload\n",
    "\n",
    "# from PredicTables.src import correlation_matrix as cm\n",
    "# import PredicTables.src.correlation_matrix as cm\n",
    "\n",
    "# from PredicTables.src.variance_inflation_factor import _vif\n",
    "# from PredicTables.src.eigenvalue_analysis import _eigenvalues"
   ]
  },
  {
   "cell_type": "code",
   "execution_count": null,
   "metadata": {},
   "outputs": [],
   "source": [
    "import requests\n",
    "import json\n",
    "\n",
    "dat = {\"req\": \"HI THERE\"}\n",
    "\n",
    "dat = json.dumps(dat)"
   ]
  },
  {
   "cell_type": "code",
   "execution_count": 2,
   "metadata": {},
   "outputs": [],
   "source": [
    "from scipy.stats import norm\n",
    "\n",
    "\n",
    "def a():\n",
    "    # Create random variables with random seed=42\n",
    "    rvs = pd.Series(norm.rvs(size=3, random_state=42))\n",
    "    return pd.Series([1, 2, 3]) * rvs\n",
    "\n",
    "\n",
    "def b():\n",
    "    # Create random variables with random seed=42\n",
    "    rvs = pd.Series(norm.rvs(size=3, random_state=421))\n",
    "    return pd.Series([4, 5, 6]) * rvs\n",
    "\n",
    "\n",
    "def c():\n",
    "    # Create random variables with random seed=42\n",
    "    rvs = pd.Series(norm.rvs(size=3, random_state=422))\n",
    "    return pd.Series([7, 8, 9]) * rvs\n",
    "\n",
    "\n",
    "# cm = reload(cm)\n",
    "import numpy as np\n",
    "\n",
    "np.random.seed(42)\n",
    "data = np.random.normal(size=(1000, 20))\n",
    "df = pd.DataFrame(\n",
    "    data[:, :10], columns=[\"a\", \"b\", \"c\", \"d\", \"e\", \"f\", \"g\", \"h\", \"i\", \"j\"]\n",
    ")\n",
    "# x = cm._highly_correlated_variables(df, threshold=0.01)\n",
    "# tuple(x['var1 var2'.split()].to_records(index=False))\n",
    "# x[:5]"
   ]
  },
  {
   "cell_type": "code",
   "execution_count": 3,
   "metadata": {},
   "outputs": [],
   "source": [
    "df[\"corrvar\"] = (\n",
    "    df.iloc[:, 0] * norm.rvs(size=df.shape[0], random_state=42)\n",
    ") + norm.rvs(size=df.shape[0], random_state=44, loc=df.iloc[:, 0].mean())"
   ]
  },
  {
   "cell_type": "code",
   "execution_count": 4,
   "metadata": {},
   "outputs": [
    {
     "data": {
      "text/html": [
       "<div>\n",
       "<style scoped>\n",
       "    .dataframe tbody tr th:only-of-type {\n",
       "        vertical-align: middle;\n",
       "    }\n",
       "\n",
       "    .dataframe tbody tr th {\n",
       "        vertical-align: top;\n",
       "    }\n",
       "\n",
       "    .dataframe thead th {\n",
       "        text-align: right;\n",
       "    }\n",
       "</style>\n",
       "<table border=\"1\" class=\"dataframe\">\n",
       "  <thead>\n",
       "    <tr style=\"text-align: right;\">\n",
       "      <th></th>\n",
       "      <th>prem</th>\n",
       "      <th>account_naics</th>\n",
       "      <th>evolve_manual_prem</th>\n",
       "      <th>evolve_hit_count</th>\n",
       "      <th>gt_mean</th>\n",
       "    </tr>\n",
       "  </thead>\n",
       "  <tbody>\n",
       "    <tr>\n",
       "      <th>0</th>\n",
       "      <td>2480.0</td>\n",
       "      <td>561730.0</td>\n",
       "      <td>2254.545455</td>\n",
       "      <td>0.0</td>\n",
       "      <td>0</td>\n",
       "    </tr>\n",
       "    <tr>\n",
       "      <th>1</th>\n",
       "      <td>4347.0</td>\n",
       "      <td>561730.0</td>\n",
       "      <td>4347.000000</td>\n",
       "      <td>0.0</td>\n",
       "      <td>1</td>\n",
       "    </tr>\n",
       "    <tr>\n",
       "      <th>2</th>\n",
       "      <td>4563.0</td>\n",
       "      <td>561730.0</td>\n",
       "      <td>3802.500000</td>\n",
       "      <td>0.0</td>\n",
       "      <td>1</td>\n",
       "    </tr>\n",
       "    <tr>\n",
       "      <th>3</th>\n",
       "      <td>1946.0</td>\n",
       "      <td>523930.0</td>\n",
       "      <td>1496.923077</td>\n",
       "      <td>0.0</td>\n",
       "      <td>0</td>\n",
       "    </tr>\n",
       "    <tr>\n",
       "      <th>4</th>\n",
       "      <td>800.0</td>\n",
       "      <td>523930.0</td>\n",
       "      <td>800.000000</td>\n",
       "      <td>0.0</td>\n",
       "      <td>0</td>\n",
       "    </tr>\n",
       "  </tbody>\n",
       "</table>\n",
       "</div>"
      ],
      "text/plain": [
       "     prem  account_naics  evolve_manual_prem  evolve_hit_count gt_mean\n",
       "0  2480.0       561730.0         2254.545455               0.0       0\n",
       "1  4347.0       561730.0         4347.000000               0.0       1\n",
       "2  4563.0       561730.0         3802.500000               0.0       1\n",
       "3  1946.0       523930.0         1496.923077               0.0       0\n",
       "4   800.0       523930.0          800.000000               0.0       0"
      ]
     },
     "execution_count": 4,
     "metadata": {},
     "output_type": "execute_result"
    }
   ],
   "source": [
    "filename = r\"C:\\Users\\aweaver\\OneDrive - The Cincinnati Insurance Company\\Small Business\\Hit Ratio Model\\dat\\dan3.parquet\"\n",
    "cols = [\"prem\", \"account_naics\", \"evolve_manual_prem\", \"evolve_hit_count\"]\n",
    "\n",
    "df = pd.read_parquet(filename)[cols].dropna().astype(float)\n",
    "df[\"gt_mean\"] = (\n",
    "    (df[\"prem\"] > df[\"prem\"].mean()).astype(int).astype(str).astype(\"category\")\n",
    ")\n",
    "\n",
    "df.head()"
   ]
  },
  {
   "cell_type": "code",
   "execution_count": 5,
   "metadata": {},
   "outputs": [],
   "source": [
    "# cm._correlation_matrix(df).where(np.tril(np.ones(cm._correlation_matrix(df).shape), k=-1).astype(bool)).unstack().dropna()"
   ]
  },
  {
   "cell_type": "code",
   "execution_count": 6,
   "metadata": {},
   "outputs": [],
   "source": [
    "# ldf.select('gt_mean').unique().collect().shape[0]"
   ]
  },
  {
   "cell_type": "code",
   "execution_count": 7,
   "metadata": {},
   "outputs": [],
   "source": [
    "df[\"col1\"] = df[\"prem\"] + norm.rvs(size=df.shape[0], random_state=42)\n",
    "df[\"bin1\"] = (df[\"prem\"] > df[\"prem\"].mean()).astype(int).astype(str).astype(\"category\")\n",
    "df[\"bin2\"] = (\n",
    "    (df[\"prem\"] > df[\"prem\"].median()).astype(int).astype(str).astype(\"category\")\n",
    ")"
   ]
  },
  {
   "cell_type": "code",
   "execution_count": 8,
   "metadata": {},
   "outputs": [
    {
     "data": {
      "text/html": [
       "<div><style>\n",
       ".dataframe > thead > tr > th,\n",
       ".dataframe > tbody > tr > td {\n",
       "  text-align: right;\n",
       "  white-space: pre-wrap;\n",
       "}\n",
       "</style>\n",
       "<small>shape: (5, 8)</small><table border=\"1\" class=\"dataframe\"><thead><tr><th>prem</th><th>account_naics</th><th>evolve_manual_prem</th><th>evolve_hit_count</th><th>gt_mean</th><th>col1</th><th>bin1</th><th>bin2</th></tr><tr><td>f64</td><td>f64</td><td>f64</td><td>f64</td><td>cat</td><td>f64</td><td>cat</td><td>cat</td></tr></thead><tbody><tr><td>2480.0</td><td>561730.0</td><td>2254.545455</td><td>0.0</td><td>&quot;0&quot;</td><td>2480.496714</td><td>&quot;0&quot;</td><td>&quot;1&quot;</td></tr><tr><td>4347.0</td><td>561730.0</td><td>4347.0</td><td>0.0</td><td>&quot;1&quot;</td><td>4346.861736</td><td>&quot;1&quot;</td><td>&quot;1&quot;</td></tr><tr><td>4563.0</td><td>561730.0</td><td>3802.5</td><td>0.0</td><td>&quot;1&quot;</td><td>4563.647689</td><td>&quot;1&quot;</td><td>&quot;1&quot;</td></tr><tr><td>1946.0</td><td>523930.0</td><td>1496.923077</td><td>0.0</td><td>&quot;0&quot;</td><td>1947.52303</td><td>&quot;0&quot;</td><td>&quot;1&quot;</td></tr><tr><td>800.0</td><td>523930.0</td><td>800.0</td><td>0.0</td><td>&quot;0&quot;</td><td>799.765847</td><td>&quot;0&quot;</td><td>&quot;0&quot;</td></tr></tbody></table></div>"
      ],
      "text/plain": [
       "shape: (5, 8)\n",
       "┌────────┬───────────────┬─────────────────┬─────────────────┬─────────┬─────────────┬──────┬──────┐\n",
       "│ prem   ┆ account_naics ┆ evolve_manual_p ┆ evolve_hit_coun ┆ gt_mean ┆ col1        ┆ bin1 ┆ bin2 │\n",
       "│ ---    ┆ ---           ┆ rem             ┆ t               ┆ ---     ┆ ---         ┆ ---  ┆ ---  │\n",
       "│ f64    ┆ f64           ┆ ---             ┆ ---             ┆ cat     ┆ f64         ┆ cat  ┆ cat  │\n",
       "│        ┆               ┆ f64             ┆ f64             ┆         ┆             ┆      ┆      │\n",
       "╞════════╪═══════════════╪═════════════════╪═════════════════╪═════════╪═════════════╪══════╪══════╡\n",
       "│ 2480.0 ┆ 561730.0      ┆ 2254.545455     ┆ 0.0             ┆ 0       ┆ 2480.496714 ┆ 0    ┆ 1    │\n",
       "│ 4347.0 ┆ 561730.0      ┆ 4347.0          ┆ 0.0             ┆ 1       ┆ 4346.861736 ┆ 1    ┆ 1    │\n",
       "│ 4563.0 ┆ 561730.0      ┆ 3802.5          ┆ 0.0             ┆ 1       ┆ 4563.647689 ┆ 1    ┆ 1    │\n",
       "│ 1946.0 ┆ 523930.0      ┆ 1496.923077     ┆ 0.0             ┆ 0       ┆ 1947.52303  ┆ 0    ┆ 1    │\n",
       "│ 800.0  ┆ 523930.0      ┆ 800.0           ┆ 0.0             ┆ 0       ┆ 799.765847  ┆ 0    ┆ 0    │\n",
       "└────────┴───────────────┴─────────────────┴─────────────────┴─────────┴─────────────┴──────┴──────┘"
      ]
     },
     "execution_count": 8,
     "metadata": {},
     "output_type": "execute_result"
    }
   ],
   "source": [
    "ldf = pl.from_pandas(df).lazy()\n",
    "ldf.head().collect()"
   ]
  },
  {
   "cell_type": "code",
   "execution_count": 9,
   "metadata": {},
   "outputs": [
    {
     "data": {
      "text/html": [
       "<div><style>\n",
       ".dataframe > thead > tr > th,\n",
       ".dataframe > tbody > tr > td {\n",
       "  text-align: right;\n",
       "  white-space: pre-wrap;\n",
       "}\n",
       "</style>\n",
       "<small>shape: (6, 4)</small><table border=\"1\" class=\"dataframe\"><thead><tr><th>bin1</th><th>bin2</th><th>gt_mean</th><th>evolve_hit_count</th></tr><tr><td>cat</td><td>cat</td><td>cat</td><td>cat</td></tr></thead><tbody><tr><td>&quot;0&quot;</td><td>&quot;1&quot;</td><td>&quot;0&quot;</td><td>&quot;0&quot;</td></tr><tr><td>&quot;1&quot;</td><td>&quot;1&quot;</td><td>&quot;1&quot;</td><td>&quot;1&quot;</td></tr><tr><td>&quot;1&quot;</td><td>&quot;1&quot;</td><td>&quot;1&quot;</td><td>&quot;0&quot;</td></tr><tr><td>&quot;0&quot;</td><td>&quot;0&quot;</td><td>&quot;0&quot;</td><td>&quot;1&quot;</td></tr><tr><td>&quot;0&quot;</td><td>&quot;0&quot;</td><td>&quot;0&quot;</td><td>&quot;0&quot;</td></tr><tr><td>&quot;0&quot;</td><td>&quot;1&quot;</td><td>&quot;0&quot;</td><td>&quot;1&quot;</td></tr></tbody></table></div>"
      ],
      "text/plain": [
       "shape: (6, 4)\n",
       "┌──────┬──────┬─────────┬──────────────────┐\n",
       "│ bin1 ┆ bin2 ┆ gt_mean ┆ evolve_hit_count │\n",
       "│ ---  ┆ ---  ┆ ---     ┆ ---              │\n",
       "│ cat  ┆ cat  ┆ cat     ┆ cat              │\n",
       "╞══════╪══════╪═════════╪══════════════════╡\n",
       "│ 0    ┆ 1    ┆ 0       ┆ 0                │\n",
       "│ 1    ┆ 1    ┆ 1       ┆ 1                │\n",
       "│ 1    ┆ 1    ┆ 1       ┆ 0                │\n",
       "│ 0    ┆ 0    ┆ 0       ┆ 1                │\n",
       "│ 0    ┆ 0    ┆ 0       ┆ 0                │\n",
       "│ 0    ┆ 1    ┆ 0       ┆ 1                │\n",
       "└──────┴──────┴─────────┴──────────────────┘"
      ]
     },
     "execution_count": 9,
     "metadata": {},
     "output_type": "execute_result"
    }
   ],
   "source": [
    "binary = (\n",
    "    ldf.select(\"bin1 bin2 gt_mean evolve_hit_count\".split())\n",
    "    .cast(pl.Int8)\n",
    "    .cast(pl.Utf8)\n",
    "    .cast(pl.Categorical)\n",
    ")\n",
    "continuous = ldf.select(\"prem evolve_manual_prem col1\".split())\n",
    "binary.unique().collect()"
   ]
  },
  {
   "cell_type": "code",
   "execution_count": 10,
   "metadata": {},
   "outputs": [
    {
     "data": {
      "text/html": [
       "<div><style>\n",
       ".dataframe > thead > tr > th,\n",
       ".dataframe > tbody > tr > td {\n",
       "  text-align: right;\n",
       "  white-space: pre-wrap;\n",
       "}\n",
       "</style>\n",
       "<small>shape: (5, 3)</small><table border=\"1\" class=\"dataframe\"><thead><tr><th>prem</th><th>evolve_manual_prem</th><th>col1</th></tr><tr><td>f64</td><td>f64</td><td>f64</td></tr></thead><tbody><tr><td>2480.0</td><td>2254.545455</td><td>2480.496714</td></tr><tr><td>4347.0</td><td>4347.0</td><td>4346.861736</td></tr><tr><td>4563.0</td><td>3802.5</td><td>4563.647689</td></tr><tr><td>1946.0</td><td>1496.923077</td><td>1947.52303</td></tr><tr><td>800.0</td><td>800.0</td><td>799.765847</td></tr></tbody></table></div>"
      ],
      "text/plain": [
       "shape: (5, 3)\n",
       "┌────────┬────────────────────┬─────────────┐\n",
       "│ prem   ┆ evolve_manual_prem ┆ col1        │\n",
       "│ ---    ┆ ---                ┆ ---         │\n",
       "│ f64    ┆ f64                ┆ f64         │\n",
       "╞════════╪════════════════════╪═════════════╡\n",
       "│ 2480.0 ┆ 2254.545455        ┆ 2480.496714 │\n",
       "│ 4347.0 ┆ 4347.0             ┆ 4346.861736 │\n",
       "│ 4563.0 ┆ 3802.5             ┆ 4563.647689 │\n",
       "│ 1946.0 ┆ 1496.923077        ┆ 1947.52303  │\n",
       "│ 800.0  ┆ 800.0              ┆ 799.765847  │\n",
       "└────────┴────────────────────┴─────────────┘"
      ]
     },
     "execution_count": 10,
     "metadata": {},
     "output_type": "execute_result"
    }
   ],
   "source": [
    "continuous.head().collect()"
   ]
  },
  {
   "cell_type": "code",
   "execution_count": 19,
   "metadata": {},
   "outputs": [
    {
     "data": {
      "text/html": [
       "<div><style>\n",
       ".dataframe > thead > tr > th,\n",
       ".dataframe > tbody > tr > td {\n",
       "  text-align: right;\n",
       "  white-space: pre-wrap;\n",
       "}\n",
       "</style>\n",
       "<small>shape: (12, 4)</small><table border=\"1\" class=\"dataframe\"><thead><tr><th>feature1</th><th>feature2</th><th>r</th><th>|r|</th></tr><tr><td>str</td><td>str</td><td>f64</td><td>f64</td></tr></thead><tbody><tr><td>&quot;evolve_hit_cou…</td><td>&quot;evolve_manual_…</td><td>-0.0256</td><td>0.0256</td></tr><tr><td>&quot;evolve_hit_cou…</td><td>&quot;col1&quot;</td><td>-0.026687</td><td>0.026687</td></tr><tr><td>&quot;evolve_hit_cou…</td><td>&quot;prem&quot;</td><td>-0.026687</td><td>0.026687</td></tr><tr><td>&quot;bin2&quot;</td><td>&quot;col1&quot;</td><td>0.115</td><td>0.115</td></tr><tr><td>&quot;bin2&quot;</td><td>&quot;prem&quot;</td><td>0.115</td><td>0.115</td></tr><tr><td>&quot;bin2&quot;</td><td>&quot;evolve_manual_…</td><td>0.124289</td><td>0.124289</td></tr><tr><td>&quot;bin1&quot;</td><td>&quot;col1&quot;</td><td>0.158539</td><td>0.158539</td></tr><tr><td>&quot;gt_mean&quot;</td><td>&quot;col1&quot;</td><td>0.158539</td><td>0.158539</td></tr><tr><td>&quot;bin1&quot;</td><td>&quot;prem&quot;</td><td>0.158539</td><td>0.158539</td></tr><tr><td>&quot;gt_mean&quot;</td><td>&quot;prem&quot;</td><td>0.158539</td><td>0.158539</td></tr><tr><td>&quot;bin1&quot;</td><td>&quot;evolve_manual_…</td><td>0.171642</td><td>0.171642</td></tr><tr><td>&quot;gt_mean&quot;</td><td>&quot;evolve_manual_…</td><td>0.171642</td><td>0.171642</td></tr></tbody></table></div>"
      ],
      "text/plain": [
       "shape: (12, 4)\n",
       "┌──────────────────┬────────────────────┬───────────┬──────────┐\n",
       "│ feature1         ┆ feature2           ┆ r         ┆ |r|      │\n",
       "│ ---              ┆ ---                ┆ ---       ┆ ---      │\n",
       "│ str              ┆ str                ┆ f64       ┆ f64      │\n",
       "╞══════════════════╪════════════════════╪═══════════╪══════════╡\n",
       "│ evolve_hit_count ┆ evolve_manual_prem ┆ -0.0256   ┆ 0.0256   │\n",
       "│ evolve_hit_count ┆ col1               ┆ -0.026687 ┆ 0.026687 │\n",
       "│ evolve_hit_count ┆ prem               ┆ -0.026687 ┆ 0.026687 │\n",
       "│ bin2             ┆ col1               ┆ 0.115     ┆ 0.115    │\n",
       "│ …                ┆ …                  ┆ …         ┆ …        │\n",
       "│ bin1             ┆ prem               ┆ 0.158539  ┆ 0.158539 │\n",
       "│ gt_mean          ┆ prem               ┆ 0.158539  ┆ 0.158539 │\n",
       "│ bin1             ┆ evolve_manual_prem ┆ 0.171642  ┆ 0.171642 │\n",
       "│ gt_mean          ┆ evolve_manual_prem ┆ 0.171642  ┆ 0.171642 │\n",
       "└──────────────────┴────────────────────┴───────────┴──────────┘"
      ]
     },
     "execution_count": 19,
     "metadata": {},
     "output_type": "execute_result"
    }
   ],
   "source": [
    "# create a table of sums of the continuous variables for each level of the binary variables\n",
    "\n",
    "binary = (\n",
    "    ldf.select(\"bin1 bin2 gt_mean evolve_hit_count\".split())\n",
    "    .cast(pl.Int8)\n",
    "    .cast(pl.Utf8)\n",
    "    .cast(pl.Categorical)\n",
    ")\n",
    "continuous = ldf.select(\"prem evolve_manual_prem col1\".split())\n",
    "\n",
    "# Get the sum of each continuous variable for each level of each binary variable\n",
    "sum_bin1 = pl.concat(\n",
    "    [\n",
    "        ldf.filter(pl.col(b).cast(pl.Int8).cast(pl.Utf8) == \"1\").sum().collect()\n",
    "        for b in binary.columns\n",
    "    ]\n",
    ").lazy()\n",
    "sum_bin0 = pl.concat(\n",
    "    [\n",
    "        ldf.filter(pl.col(b).cast(pl.Int8).cast(pl.Utf8) == \"0\").sum().collect()\n",
    "        for b in binary.columns\n",
    "    ]\n",
    ").lazy()\n",
    "\n",
    "# Get the number of observations for each level of each binary variable\n",
    "count_bin1 = pl.concat(\n",
    "    [\n",
    "        ldf.filter(pl.col(b).cast(pl.Int8).cast(pl.Utf8) == \"1\")\n",
    "        .with_columns([pl.lit(1).alias(c) for c in continuous.columns])\n",
    "        .sum()\n",
    "        .collect()\n",
    "        for b in binary.columns\n",
    "    ]\n",
    ").lazy()\n",
    "count_bin0 = pl.concat(\n",
    "    [\n",
    "        ldf.filter(pl.col(b).cast(pl.Int8).cast(pl.Utf8) == \"0\")\n",
    "        .with_columns([pl.lit(1).alias(c) for c in continuous.columns])\n",
    "        .sum()\n",
    "        .collect()\n",
    "        for b in binary.columns\n",
    "    ]\n",
    ").lazy()\n",
    "\n",
    "# Get the number of observations for each continuous variable for all levels of the binary variables\n",
    "count_bin = pl.concat(\n",
    "    [\n",
    "        ldf.with_columns([pl.lit(1).alias(c) for c in continuous.columns])\n",
    "        .sum()\n",
    "        .collect()\n",
    "        for b in binary.columns\n",
    "    ]\n",
    ").lazy()\n",
    "\n",
    "# Get the mean of each continuous variable for each level of each binary variable\n",
    "mean_bin1 = pl.concat(\n",
    "    [\n",
    "        ldf.filter(pl.col(b).cast(pl.Int8).cast(pl.Utf8) == \"1\").mean().collect()\n",
    "        for b in binary.columns\n",
    "    ]\n",
    ").lazy()\n",
    "mean_bin0 = pl.concat(\n",
    "    [\n",
    "        ldf.filter(pl.col(b).cast(pl.Int8).cast(pl.Utf8) == \"0\").mean().collect()\n",
    "        for b in binary.columns\n",
    "    ]\n",
    ").lazy()\n",
    "\n",
    "# Get the mean of each continuous variable for all levels of the binary variables\n",
    "mean_bin = pl.concat([ldf.mean().collect() for b in binary.columns]).lazy()\n",
    "\n",
    "# Calculate the standard deviation of each continuous variable for all levels of the binary variables\n",
    "# Uses `with_context` to pass the mean and count tables to the standard deviation table\n",
    "sd = continuous.with_context(\n",
    "    [\n",
    "        mean_bin.select(pl.all().suffix(\"_mean\")),\n",
    "        count_bin.select(pl.all().suffix(\"_count\")),\n",
    "    ]\n",
    ").select(\n",
    "    [\n",
    "        (\n",
    "            (pl.col(c) - pl.col(f\"{c}_mean\").first()).pow(2).sum()\n",
    "            / (pl.col(f\"{c}_count\").first() - 1)\n",
    "        )\n",
    "        .sqrt()\n",
    "        .alias(c)\n",
    "        for c in continuous.columns\n",
    "    ]\n",
    ")\n",
    "\n",
    "# Calculate the bias correction factor for each continuous variable for all levels of the binary variables\n",
    "bias_correction = count_bin.with_context(\n",
    "    [count_bin1.select(pl.all().suffix(\"1\")), count_bin0.select(pl.all().suffix(\"0\"))]\n",
    ").select(\n",
    "    [\n",
    "        (pl.col(c + \"1\") * pl.col(c + \"0\") / (pl.col(c) * (pl.col(c) - 1)))\n",
    "        .sqrt()\n",
    "        .alias(c)\n",
    "        for c in continuous.columns\n",
    "    ]\n",
    ")\n",
    "\n",
    "# Calculate the point biserial correlation for each continuous variable for all levels of the binary variables, then\n",
    "# melt the table to get a row for each (binary, continuous) pair, and sort by the absolute value of the correlation\n",
    "# coefficient so the most correlated features are at the top\n",
    "r_pb = (\n",
    "    mean_bin1.select(pl.all().suffix(\"_mean1\"))\n",
    "    .with_context(\n",
    "        [\n",
    "            mean_bin0.select(pl.all().suffix(\"_mean0\")),\n",
    "            sd.select(pl.all().suffix(\"_sd\")),\n",
    "            bias_correction.select(pl.all().suffix(\"_bias_correction\")),\n",
    "        ]\n",
    "    )\n",
    "    .select(\n",
    "        [\n",
    "            (\n",
    "                ((pl.col(c + \"_mean1\") - pl.col(c + \"_mean0\")) / pl.col(c + \"_sd\"))\n",
    "                * pl.col(c + \"_bias_correction\")\n",
    "            ).alias(c)\n",
    "            for c in continuous.columns\n",
    "        ]\n",
    "    )\n",
    "    .with_columns(pl.Series(binary.columns).alias(\"feature1\"))\n",
    "    .melt(id_vars=\"feature1\", variable_name=\"feature2\", value_name=\"r\")\n",
    "    .with_columns(pl.col(\"r\").abs().alias(\"|r|\"))\n",
    "    .sort([\"|r|\", \"feature1\", \"feature2\"])\n",
    ")\n",
    "\n",
    "r_pb.collect()"
   ]
  },
  {
   "cell_type": "code",
   "execution_count": 13,
   "metadata": {},
   "outputs": [
    {
     "data": {
      "text/html": [
       "<div><style>\n",
       ".dataframe > thead > tr > th,\n",
       ".dataframe > tbody > tr > td {\n",
       "  text-align: right;\n",
       "  white-space: pre-wrap;\n",
       "}\n",
       "</style>\n",
       "<small>shape: (4, 8)</small><table border=\"1\" class=\"dataframe\"><thead><tr><th>prem</th><th>account_naics</th><th>evolve_manual_prem</th><th>evolve_hit_count</th><th>gt_mean</th><th>col1</th><th>bin1</th><th>bin2</th></tr><tr><td>i32</td><td>f64</td><td>i32</td><td>f64</td><td>cat</td><td>i32</td><td>cat</td><td>cat</td></tr></thead><tbody><tr><td>14669</td><td>8.5925e9</td><td>14669</td><td>5519.0</td><td>null</td><td>14669</td><td>null</td><td>null</td></tr><tr><td>14669</td><td>8.5925e9</td><td>14669</td><td>5519.0</td><td>null</td><td>14669</td><td>null</td><td>null</td></tr><tr><td>14669</td><td>8.5925e9</td><td>14669</td><td>5519.0</td><td>null</td><td>14669</td><td>null</td><td>null</td></tr><tr><td>14669</td><td>8.5925e9</td><td>14669</td><td>5519.0</td><td>null</td><td>14669</td><td>null</td><td>null</td></tr></tbody></table></div>"
      ],
      "text/plain": [
       "shape: (4, 8)\n",
       "┌───────┬───────────────┬────────────────────┬──────────────────┬─────────┬───────┬──────┬──────┐\n",
       "│ prem  ┆ account_naics ┆ evolve_manual_prem ┆ evolve_hit_count ┆ gt_mean ┆ col1  ┆ bin1 ┆ bin2 │\n",
       "│ ---   ┆ ---           ┆ ---                ┆ ---              ┆ ---     ┆ ---   ┆ ---  ┆ ---  │\n",
       "│ i32   ┆ f64           ┆ i32                ┆ f64              ┆ cat     ┆ i32   ┆ cat  ┆ cat  │\n",
       "╞═══════╪═══════════════╪════════════════════╪══════════════════╪═════════╪═══════╪══════╪══════╡\n",
       "│ 14669 ┆ 8.5925e9      ┆ 14669              ┆ 5519.0           ┆ null    ┆ 14669 ┆ null ┆ null │\n",
       "│ 14669 ┆ 8.5925e9      ┆ 14669              ┆ 5519.0           ┆ null    ┆ 14669 ┆ null ┆ null │\n",
       "│ 14669 ┆ 8.5925e9      ┆ 14669              ┆ 5519.0           ┆ null    ┆ 14669 ┆ null ┆ null │\n",
       "│ 14669 ┆ 8.5925e9      ┆ 14669              ┆ 5519.0           ┆ null    ┆ 14669 ┆ null ┆ null │\n",
       "└───────┴───────────────┴────────────────────┴──────────────────┴─────────┴───────┴──────┴──────┘"
      ]
     },
     "execution_count": 13,
     "metadata": {},
     "output_type": "execute_result"
    }
   ],
   "source": [
    "count_bin.collect()"
   ]
  },
  {
   "cell_type": "code",
   "execution_count": 14,
   "metadata": {},
   "outputs": [
    {
     "data": {
      "text/plain": [
       "30467867.005497254"
      ]
     },
     "execution_count": 14,
     "metadata": {},
     "output_type": "execute_result"
    }
   ],
   "source": [
    "ldf.select([\"evolve_manual_prem\", \"bin1\"]).filter(\n",
    "    pl.col(\"bin1\").eq(\"1\")\n",
    ").sum().collect()[\"evolve_manual_prem\"].item()"
   ]
  },
  {
   "cell_type": "code",
   "execution_count": null,
   "metadata": {},
   "outputs": [],
   "source": []
  },
  {
   "cell_type": "code",
   "execution_count": 15,
   "metadata": {},
   "outputs": [
    {
     "data": {
      "text/plain": [
       "((14669, 1), (14669, 1))"
      ]
     },
     "execution_count": 15,
     "metadata": {},
     "output_type": "execute_result"
    }
   ],
   "source": [
    "b = df.bin1.astype(np.float64).values.reshape(-1, 1)\n",
    "c = df.prem.astype(np.float64).values.reshape(-1, 1)\n",
    "b.shape, c.shape"
   ]
  },
  {
   "cell_type": "code",
   "execution_count": 16,
   "metadata": {},
   "outputs": [
    {
     "data": {
      "text/plain": [
       "(dtype('float64'), dtype('float64'))"
      ]
     },
     "execution_count": 16,
     "metadata": {},
     "output_type": "execute_result"
    }
   ],
   "source": [
    "b.dtype, c.dtype"
   ]
  },
  {
   "cell_type": "code",
   "execution_count": 17,
   "metadata": {},
   "outputs": [
    {
     "ename": "NameError",
     "evalue": "name 'cm' is not defined",
     "output_type": "error",
     "traceback": [
      "\u001b[1;31m---------------------------------------------------------------------------\u001b[0m",
      "\u001b[1;31mNameError\u001b[0m                                 Traceback (most recent call last)",
      "Cell \u001b[1;32mIn[17], line 3\u001b[0m\n\u001b[0;32m      1\u001b[0m \u001b[39m# reload(cm)\u001b[39;00m\n\u001b[1;32m----> 3\u001b[0m cm\u001b[39m.\u001b[39m_point_biserial_correlation_matrix(df)\n",
      "\u001b[1;31mNameError\u001b[0m: name 'cm' is not defined"
     ]
    }
   ],
   "source": [
    "# reload(cm)\n",
    "\n",
    "cm._point_biserial_correlation_matrix(df)"
   ]
  },
  {
   "cell_type": "code",
   "execution_count": null,
   "metadata": {},
   "outputs": [
    {
     "ename": "AttributeError",
     "evalue": "module 'PredicTables.src.correlation_matrix' has no attribute '_correlation_matrix_plot'",
     "output_type": "error",
     "traceback": [
      "\u001b[1;31m---------------------------------------------------------------------------\u001b[0m",
      "\u001b[1;31mAttributeError\u001b[0m                            Traceback (most recent call last)",
      "Cell \u001b[1;32mIn[8], line 1\u001b[0m\n\u001b[1;32m----> 1\u001b[0m cm\u001b[39m.\u001b[39;49m_correlation_matrix_plot(df);\n",
      "\u001b[1;31mAttributeError\u001b[0m: module 'PredicTables.src.correlation_matrix' has no attribute '_correlation_matrix_plot'"
     ]
    }
   ],
   "source": [
    "cm._correlation_matrix_plot(df);"
   ]
  },
  {
   "cell_type": "code",
   "execution_count": null,
   "metadata": {},
   "outputs": [
    {
     "data": {
      "text/plain": [
       "[('prem', 'evolve_manual_prem'),\n",
       " ('prem', 'corrvar'),\n",
       " ('evolve_manual_prem', 'corrvar')]"
      ]
     },
     "execution_count": 26,
     "metadata": {},
     "output_type": "execute_result"
    }
   ],
   "source": [
    "cm = reload(cm)\n",
    "cm._highly_correlated_variables(df, threshold=0.7)"
   ]
  },
  {
   "cell_type": "code",
   "execution_count": null,
   "metadata": {},
   "outputs": [
    {
     "data": {
      "text/html": [
       "<div>\n",
       "<style scoped>\n",
       "    .dataframe tbody tr th:only-of-type {\n",
       "        vertical-align: middle;\n",
       "    }\n",
       "\n",
       "    .dataframe tbody tr th {\n",
       "        vertical-align: top;\n",
       "    }\n",
       "\n",
       "    .dataframe thead th {\n",
       "        text-align: right;\n",
       "    }\n",
       "</style>\n",
       "<table border=\"1\" class=\"dataframe\">\n",
       "  <thead>\n",
       "    <tr style=\"text-align: right;\">\n",
       "      <th></th>\n",
       "      <th>feature</th>\n",
       "      <th>eigenvalue</th>\n",
       "      <th>log[condition_number]</th>\n",
       "    </tr>\n",
       "  </thead>\n",
       "  <tbody>\n",
       "    <tr>\n",
       "      <th>0</th>\n",
       "      <td>a</td>\n",
       "      <td>0.82</td>\n",
       "      <td>0.35</td>\n",
       "    </tr>\n",
       "    <tr>\n",
       "      <th>1</th>\n",
       "      <td>d</td>\n",
       "      <td>0.88</td>\n",
       "      <td>0.28</td>\n",
       "    </tr>\n",
       "    <tr>\n",
       "      <th>2</th>\n",
       "      <td>e</td>\n",
       "      <td>0.89</td>\n",
       "      <td>0.27</td>\n",
       "    </tr>\n",
       "    <tr>\n",
       "      <th>3</th>\n",
       "      <td>f</td>\n",
       "      <td>0.93</td>\n",
       "      <td>0.23</td>\n",
       "    </tr>\n",
       "    <tr>\n",
       "      <th>4</th>\n",
       "      <td>corrvar</td>\n",
       "      <td>0.99</td>\n",
       "      <td>0.17</td>\n",
       "    </tr>\n",
       "    <tr>\n",
       "      <th>5</th>\n",
       "      <td>j</td>\n",
       "      <td>1.02</td>\n",
       "      <td>0.14</td>\n",
       "    </tr>\n",
       "    <tr>\n",
       "      <th>6</th>\n",
       "      <td>i</td>\n",
       "      <td>1.03</td>\n",
       "      <td>0.13</td>\n",
       "    </tr>\n",
       "    <tr>\n",
       "      <th>7</th>\n",
       "      <td>h</td>\n",
       "      <td>1.04</td>\n",
       "      <td>0.12</td>\n",
       "    </tr>\n",
       "    <tr>\n",
       "      <th>8</th>\n",
       "      <td>g</td>\n",
       "      <td>1.08</td>\n",
       "      <td>0.08</td>\n",
       "    </tr>\n",
       "    <tr>\n",
       "      <th>9</th>\n",
       "      <td>c</td>\n",
       "      <td>1.15</td>\n",
       "      <td>0.02</td>\n",
       "    </tr>\n",
       "    <tr>\n",
       "      <th>10</th>\n",
       "      <td>b</td>\n",
       "      <td>1.17</td>\n",
       "      <td>0.00</td>\n",
       "    </tr>\n",
       "  </tbody>\n",
       "</table>\n",
       "</div>"
      ],
      "text/plain": [
       "    feature  eigenvalue  log[condition_number]\n",
       "0         a        0.82                   0.35\n",
       "1         d        0.88                   0.28\n",
       "2         e        0.89                   0.27\n",
       "3         f        0.93                   0.23\n",
       "4   corrvar        0.99                   0.17\n",
       "5         j        1.02                   0.14\n",
       "6         i        1.03                   0.13\n",
       "7         h        1.04                   0.12\n",
       "8         g        1.08                   0.08\n",
       "9         c        1.15                   0.02\n",
       "10        b        1.17                   0.00"
      ]
     },
     "execution_count": 6,
     "metadata": {},
     "output_type": "execute_result"
    }
   ],
   "source": [
    "_eigenvalues(df, round_to=2)"
   ]
  },
  {
   "cell_type": "code",
   "execution_count": null,
   "metadata": {},
   "outputs": [],
   "source": [
    "cm = reload(cm)\n",
    "import numpy as np\n",
    "\n",
    "np.random.seed(42)\n",
    "data = np.random.normal(size=(1000, 20))\n",
    "df = pd.DataFrame(\n",
    "    data[:, :10], columns=[\"a\", \"b\", \"c\", \"d\", \"e\", \"f\", \"g\", \"h\", \"i\", \"j\"]\n",
    ")\n",
    "# x = cm._highly_correlated_variables(df, threshold=0.01)\n",
    "# tuple(x['var1 var2'.split()].to_records(index=False))\n",
    "# x"
   ]
  },
  {
   "cell_type": "code",
   "execution_count": null,
   "metadata": {},
   "outputs": [],
   "source": []
  },
  {
   "cell_type": "code",
   "execution_count": null,
   "metadata": {},
   "outputs": [],
   "source": []
  },
  {
   "cell_type": "code",
   "execution_count": null,
   "metadata": {},
   "outputs": [
    {
     "data": {
      "text/html": [
       "<div>\n",
       "<style scoped>\n",
       "    .dataframe tbody tr th:only-of-type {\n",
       "        vertical-align: middle;\n",
       "    }\n",
       "\n",
       "    .dataframe tbody tr th {\n",
       "        vertical-align: top;\n",
       "    }\n",
       "\n",
       "    .dataframe thead th {\n",
       "        text-align: right;\n",
       "    }\n",
       "</style>\n",
       "<table border=\"1\" class=\"dataframe\">\n",
       "  <thead>\n",
       "    <tr style=\"text-align: right;\">\n",
       "      <th></th>\n",
       "      <th>prem</th>\n",
       "      <th>account_naics</th>\n",
       "      <th>evolve_manual_prem</th>\n",
       "      <th>evolve_hit_count</th>\n",
       "    </tr>\n",
       "  </thead>\n",
       "  <tbody>\n",
       "    <tr>\n",
       "      <th>0</th>\n",
       "      <td>2480.0</td>\n",
       "      <td>561730.0</td>\n",
       "      <td>2254.545455</td>\n",
       "      <td>0.0</td>\n",
       "    </tr>\n",
       "    <tr>\n",
       "      <th>1</th>\n",
       "      <td>4347.0</td>\n",
       "      <td>561730.0</td>\n",
       "      <td>4347.000000</td>\n",
       "      <td>0.0</td>\n",
       "    </tr>\n",
       "    <tr>\n",
       "      <th>2</th>\n",
       "      <td>4563.0</td>\n",
       "      <td>561730.0</td>\n",
       "      <td>3802.500000</td>\n",
       "      <td>0.0</td>\n",
       "    </tr>\n",
       "    <tr>\n",
       "      <th>3</th>\n",
       "      <td>1946.0</td>\n",
       "      <td>523930.0</td>\n",
       "      <td>1496.923077</td>\n",
       "      <td>0.0</td>\n",
       "    </tr>\n",
       "    <tr>\n",
       "      <th>4</th>\n",
       "      <td>800.0</td>\n",
       "      <td>523930.0</td>\n",
       "      <td>800.000000</td>\n",
       "      <td>0.0</td>\n",
       "    </tr>\n",
       "  </tbody>\n",
       "</table>\n",
       "</div>"
      ],
      "text/plain": [
       "     prem  account_naics  evolve_manual_prem  evolve_hit_count\n",
       "0  2480.0       561730.0         2254.545455               0.0\n",
       "1  4347.0       561730.0         4347.000000               0.0\n",
       "2  4563.0       561730.0         3802.500000               0.0\n",
       "3  1946.0       523930.0         1496.923077               0.0\n",
       "4   800.0       523930.0          800.000000               0.0"
      ]
     },
     "execution_count": 9,
     "metadata": {},
     "output_type": "execute_result"
    }
   ],
   "source": [
    "filename = r\"C:\\Users\\aweaver\\OneDrive - The Cincinnati Insurance Company\\Small Business\\Hit Ratio Model\\dat\\dan3.parquet\"\n",
    "cols = [\"prem\", \"account_naics\", \"evolve_manual_prem\", \"evolve_hit_count\"]\n",
    "\n",
    "df = pd.read_parquet(filename)[cols].dropna().astype(float)\n",
    "df.head()"
   ]
  },
  {
   "cell_type": "code",
   "execution_count": null,
   "metadata": {},
   "outputs": [
    {
     "data": {
      "text/html": [
       "<div>\n",
       "<style scoped>\n",
       "    .dataframe tbody tr th:only-of-type {\n",
       "        vertical-align: middle;\n",
       "    }\n",
       "\n",
       "    .dataframe tbody tr th {\n",
       "        vertical-align: top;\n",
       "    }\n",
       "\n",
       "    .dataframe thead th {\n",
       "        text-align: right;\n",
       "    }\n",
       "</style>\n",
       "<table border=\"1\" class=\"dataframe\">\n",
       "  <thead>\n",
       "    <tr style=\"text-align: right;\">\n",
       "      <th></th>\n",
       "      <th>prem</th>\n",
       "      <th>account_naics</th>\n",
       "      <th>evolve_manual_prem</th>\n",
       "      <th>evolve_hit_count</th>\n",
       "    </tr>\n",
       "  </thead>\n",
       "  <tbody>\n",
       "    <tr>\n",
       "      <th>prem</th>\n",
       "      <td>1.000000</td>\n",
       "      <td>0.004578</td>\n",
       "      <td>0.998906</td>\n",
       "      <td>-0.026687</td>\n",
       "    </tr>\n",
       "    <tr>\n",
       "      <th>account_naics</th>\n",
       "      <td>0.004578</td>\n",
       "      <td>1.000000</td>\n",
       "      <td>0.003449</td>\n",
       "      <td>-0.003700</td>\n",
       "    </tr>\n",
       "    <tr>\n",
       "      <th>evolve_manual_prem</th>\n",
       "      <td>0.998906</td>\n",
       "      <td>0.003449</td>\n",
       "      <td>1.000000</td>\n",
       "      <td>-0.025600</td>\n",
       "    </tr>\n",
       "    <tr>\n",
       "      <th>evolve_hit_count</th>\n",
       "      <td>-0.026687</td>\n",
       "      <td>-0.003700</td>\n",
       "      <td>-0.025600</td>\n",
       "      <td>1.000000</td>\n",
       "    </tr>\n",
       "  </tbody>\n",
       "</table>\n",
       "</div>"
      ],
      "text/plain": [
       "                        prem  account_naics  evolve_manual_prem  \\\n",
       "prem                1.000000       0.004578            0.998906   \n",
       "account_naics       0.004578       1.000000            0.003449   \n",
       "evolve_manual_prem  0.998906       0.003449            1.000000   \n",
       "evolve_hit_count   -0.026687      -0.003700           -0.025600   \n",
       "\n",
       "                    evolve_hit_count  \n",
       "prem                       -0.026687  \n",
       "account_naics              -0.003700  \n",
       "evolve_manual_prem         -0.025600  \n",
       "evolve_hit_count            1.000000  "
      ]
     },
     "execution_count": 10,
     "metadata": {},
     "output_type": "execute_result"
    }
   ],
   "source": [
    "cm._correlation_matrix(df)"
   ]
  },
  {
   "cell_type": "code",
   "execution_count": null,
   "metadata": {},
   "outputs": [
    {
     "data": {
      "image/png": "[encoded data removed]",
      "text/plain": [
       "<Figure size 640x480 with 1 Axes>"
      ]
     },
     "metadata": {},
     "output_type": "display_data"
    }
   ],
   "source": [
    "cm._correlation_matrix_plot(df);"
   ]
  }
 ],
 "metadata": {
  "kernelspec": {
   "display_name": "dat",
   "language": "python",
   "name": "python3"
  },
  "language_info": {
   "codemirror_mode": {
    "name": "ipython",
    "version": 3
   },
   "file_extension": ".py",
   "mimetype": "text/x-python",
   "name": "python",
   "nbconvert_exporter": "python",
   "pygments_lexer": "ipython3",
   "version": "3.10.12"
  },
  "orig_nbformat": 4
 },
 "nbformat": 4,
 "nbformat_minor": 2
}
