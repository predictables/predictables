{
 "cells": [
  {
   "cell_type": "code",
   "execution_count": 1,
   "metadata": {},
   "outputs": [
    {
     "name": "stdout",
     "output_type": "stream",
     "text": [
      "/home/aweaver/work/predictables\n"
     ]
    }
   ],
   "source": [
    "%cd ../../"
   ]
  },
  {
   "cell_type": "code",
   "execution_count": 2,
   "metadata": {},
   "outputs": [],
   "source": [
    "from PredicTables.corr.src.pearson import pearson\n",
    "from PredicTables.util import to_pl_lf"
   ]
  },
  {
   "cell_type": "code",
   "execution_count": 3,
   "metadata": {},
   "outputs": [],
   "source": [
    "from datetime import date\n",
    "import polars as pl\n",
    "import pandas as pd\n",
    "\n",
    "\n",
    "def invalid_df():\n",
    "    df = pd.DataFrame(\n",
    "        {\n",
    "            \"a\": [0, 1, 0, 0, 1],\n",
    "            \"b\": [\"cat\", \"dog\", \"cat\", \"cat\", \"dog\"],\n",
    "            \"c\": [\n",
    "                date(2020, 1, 1),\n",
    "                date(2020, 1, 2),\n",
    "                date(2020, 1, 3),\n",
    "                date(2020, 1, 4),\n",
    "                date(2020, 1, 5),\n",
    "            ],\n",
    "            \"d\": [20, 19, 16, 13, 4],\n",
    "            \"e\": [True, False, True, False, True],\n",
    "        }\n",
    "    )\n",
    "    df = to_pl_lf(df)\n",
    "    return df.select(\n",
    "        [\n",
    "            pl.col(\"a\").cast(pl.Int64).name.keep(),\n",
    "            pl.col(\"b\").cast(pl.Utf8).name.keep(),\n",
    "            pl.col(\"c\").cast(pl.Date).name.keep(),\n",
    "            pl.col(\"d\").cast(pl.Float64).name.keep(),\n",
    "            pl.col(\"e\").cast(pl.Boolean).name.keep(),\n",
    "        ]\n",
    "    )"
   ]
  },
  {
   "cell_type": "code",
   "execution_count": 4,
   "metadata": {},
   "outputs": [
    {
     "name": "stderr",
     "output_type": "stream",
     "text": [
      "2023-12-27 - PredicTables.corr.src.pearson - DEBUG - START pearson.py - pearson_expression - column1: a - column2: a - dtype1: BINARY - dtype2: BINARY\n",
      "2023-12-27 - PredicTables.corr.src.pearson - DEBUG - START pearson.py - pearson_expression - column1: a - column2: b - dtype1: BINARY - dtype2: BINARY\n",
      "2023-12-27 - PredicTables.corr.src.pearson - DEBUG - START pearson.py - pearson_expression - column1: a - column2: c - dtype1: BINARY - dtype2: DATE\n",
      "2023-12-27 - PredicTables.corr.src.pearson - DEBUG - START pearson.py - pearson_expression - column1: a - column2: d - dtype1: BINARY - dtype2: CONTINUOUS\n"
     ]
    },
    {
     "name": "stderr",
     "output_type": "stream",
     "text": [
      "2023-12-27 - PredicTables.corr.src.pearson - DEBUG - START pearson.py - pearson_expression - column1: a - column2: e - dtype1: BINARY - dtype2: BINARY\n",
      "2023-12-27 - PredicTables.corr.src.pearson - DEBUG - START pearson.py - pearson_expression - column1: b - column2: a - dtype1: BINARY - dtype2: BINARY\n",
      "2023-12-27 - PredicTables.corr.src.pearson - DEBUG - START pearson.py - pearson_expression - column1: b - column2: b - dtype1: BINARY - dtype2: BINARY\n",
      "2023-12-27 - PredicTables.corr.src.pearson - DEBUG - START pearson.py - pearson_expression - column1: b - column2: c - dtype1: BINARY - dtype2: DATE\n",
      "2023-12-27 - PredicTables.corr.src.pearson - DEBUG - START pearson.py - pearson_expression - column1: b - column2: d - dtype1: BINARY - dtype2: CONTINUOUS\n",
      "2023-12-27 - PredicTables.corr.src.pearson - DEBUG - START pearson.py - pearson_expression - column1: b - column2: e - dtype1: BINARY - dtype2: BINARY\n",
      "2023-12-27 - PredicTables.corr.src.pearson - DEBUG - START pearson.py - pearson_expression - column1: c - column2: a - dtype1: DATE - dtype2: BINARY\n",
      "2023-12-27 - PredicTables.corr.src.pearson - DEBUG - START pearson.py - pearson_expression - column1: c - column2: b - dtype1: DATE - dtype2: BINARY\n",
      "2023-12-27 - PredicTables.corr.src.pearson - DEBUG - START pearson.py - pearson_expression - column1: c - column2: c - dtype1: DATE - dtype2: DATE\n",
      "2023-12-27 - PredicTables.corr.src.pearson - DEBUG - START pearson.py - pearson_expression - column1: c - column2: d - dtype1: DATE - dtype2: CONTINUOUS\n",
      "2023-12-27 - PredicTables.corr.src.pearson - DEBUG - START pearson.py - pearson_expression - column1: c - column2: e - dtype1: DATE - dtype2: BINARY\n",
      "2023-12-27 - PredicTables.corr.src.pearson - DEBUG - START pearson.py - pearson_expression - column1: d - column2: a - dtype1: CONTINUOUS - dtype2: BINARY\n",
      "2023-12-27 - PredicTables.corr.src.pearson - DEBUG - START pearson.py - pearson_expression - column1: d - column2: b - dtype1: CONTINUOUS - dtype2: BINARY\n",
      "2023-12-27 - PredicTables.corr.src.pearson - DEBUG - START pearson.py - pearson_expression - column1: d - column2: c - dtype1: CONTINUOUS - dtype2: DATE\n",
      "2023-12-27 - PredicTables.corr.src.pearson - DEBUG - START pearson.py - pearson_expression - column1: d - column2: d - dtype1: CONTINUOUS - dtype2: CONTINUOUS\n",
      "2023-12-27 - PredicTables.corr.src.pearson - DEBUG - START pearson.py - pearson_expression - column1: d - column2: e - dtype1: CONTINUOUS - dtype2: BINARY\n",
      "2023-12-27 - PredicTables.corr.src.pearson - DEBUG - START pearson.py - pearson_expression - column1: e - column2: a - dtype1: BINARY - dtype2: BINARY\n",
      "2023-12-27 - PredicTables.corr.src.pearson - DEBUG - START pearson.py - pearson_expression - column1: e - column2: b - dtype1: BINARY - dtype2: BINARY\n",
      "2023-12-27 - PredicTables.corr.src.pearson - DEBUG - START pearson.py - pearson_expression - column1: e - column2: c - dtype1: BINARY - dtype2: DATE\n",
      "2023-12-27 - PredicTables.corr.src.pearson - DEBUG - START pearson.py - pearson_expression - column1: e - column2: d - dtype1: BINARY - dtype2: CONTINUOUS\n",
      "2023-12-27 - PredicTables.corr.src.pearson - DEBUG - START pearson.py - pearson_expression - column1: e - column2: e - dtype1: BINARY - dtype2: BINARY\n",
      "2023-12-27 - PredicTables.corr.src.pearson - DEBUG - corr_df: shape: (0, 0)\n",
      "┌┐\n",
      "╞╡\n",
      "└┘\n"
     ]
    },
    {
     "data": {
      "text/html": [
       "<div><style>\n",
       ".dataframe > thead > tr,\n",
       ".dataframe > tbody > tr {\n",
       "  text-align: right;\n",
       "  white-space: pre-wrap;\n",
       "}\n",
       "</style>\n",
       "<small>shape: (0, 0)</small><table border=\"1\" class=\"dataframe\"><thead><tr></tr><tr></tr></thead><tbody></tbody></table></div>"
      ],
      "text/plain": [
       "shape: (0, 0)\n",
       "┌┐\n",
       "╞╡\n",
       "└┘"
      ]
     },
     "execution_count": 4,
     "metadata": {},
     "output_type": "execute_result"
    }
   ],
   "source": [
    "pearson(invalid_df())"
   ]
  },
  {
   "cell_type": "code",
   "execution_count": 13,
   "metadata": {},
   "outputs": [
    {
     "data": {
      "text/plain": [
       "True"
      ]
     },
     "execution_count": 13,
     "metadata": {},
     "output_type": "execute_result"
    }
   ],
   "source": [
    "import numpy as np\n",
    "\n",
    "s1 = pd.Series([1, 2, 3, 4, 5])\n",
    "s2 = pd.Series([1, 2, 3, 4, 5])\n",
    "\n",
    "np.allclose(s1.sort_values().values, s2.values)"
   ]
  }
 ],
 "metadata": {
  "kernelspec": {
   "display_name": ".env",
   "language": "python",
   "name": "python3"
  },
  "language_info": {
   "codemirror_mode": {
    "name": "ipython",
    "version": 3
   },
   "file_extension": ".py",
   "mimetype": "text/x-python",
   "name": "python",
   "nbconvert_exporter": "python",
   "pygments_lexer": "ipython3",
   "version": "3.10.12"
  }
 },
 "nbformat": 4,
 "nbformat_minor": 2
}
