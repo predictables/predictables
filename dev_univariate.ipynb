{
 "cells": [
  {
   "cell_type": "code",
   "execution_count": 1,
   "metadata": {},
   "outputs": [],
   "source": [
    "# import datetime\n",
    "# import polars as pl\n",
    "\n",
    "# df = (\n",
    "#     pl.scan_csv(\n",
    "#         \"/home/aweaver/work/predictables/predictables/encoding/tests/rolling_date_example.csv\"\n",
    "#     )\n",
    "#     .drop(\n",
    "#         [\n",
    "#             \"month_prior\",\n",
    "#             \"year_prior\",\n",
    "#             \"rolling_sum\",\n",
    "#             \"60_days_prior\",\n",
    "#             \"360_days_prior\",\n",
    "#         ]\n",
    "#     )\n",
    "#     .with_columns(\n",
    "#         [\n",
    "#             pl.col(\"date\").str.to_date(\"%m/%d/%Y\").alias(\"date\"),\n",
    "#             (pl.col(\"390_days_prior\").str.to_date(\"%m/%d/%Y\")).alias(\"390_days_prior\"),\n",
    "#         ]\n",
    "#     )\n",
    "#     .with_columns(\n",
    "#         [\n",
    "#             pl.date_ranges(\n",
    "#                 start=pl.col(\"390_days_prior\") + datetime.timedelta(days=1),\n",
    "#                 end=pl.col(\"30_days_prior\").str.to_date(\"%m/%d/%Y\"),\n",
    "#                 interval=\"1d\",\n",
    "#             ).alias(\"date_list\"),\n",
    "#         ]\n",
    "#     )\n",
    "# )\n",
    "\n",
    "# value_map = {\n",
    "#     d: v for d, v in df.select([pl.col(\"date\"), pl.col(\"incr_value\")]).collect().rows()\n",
    "# }\n",
    "\n",
    "# df0 = df.with_columns(\n",
    "#     [\n",
    "#         pl.col(\"date_list\")\n",
    "#         .list.eval(pl.element().is_in(list(value_map.keys())).cast(pl.Int32))\n",
    "#         .list.sum()\n",
    "#         .alias(\"value_list\")\n",
    "#     ]\n",
    "# )\n",
    "\n",
    "# # value_map\n",
    "# df0.collect()\n",
    "# # .with_columns(\n",
    "# #     [(pl.col(\"sum2\") - pl.col(\"value_list\")).alias(\"diff\")]\n",
    "# # ).with_columns(pl.col(\"date_list\")).filter(pl.col(\"diff\") > 0)"
   ]
  },
  {
   "cell_type": "code",
   "execution_count": 2,
   "metadata": {},
   "outputs": [],
   "source": [
    "# import polars as pl\n",
    "# from predictables.encoding.src.lagged_mean_encoding._dynamic_rolling_sum import (\n",
    "#     dynamic_rolling_sum,\n",
    "# )\n",
    "\n",
    "# df = pl.scan_csv(\n",
    "#     \"/home/aweaver/work/predictables/predictables/encoding/tests/rolling_date_example.csv\"\n",
    "# ).with_columns([pl.col(\"date\").str.to_date(\"%m/%d/%Y\").alias(\"date\")])\n",
    "# dynamic_rolling_sum(df, \"incr_value\", \"date\").collect()"
   ]
  },
  {
   "cell_type": "code",
   "execution_count": 3,
   "metadata": {},
   "outputs": [],
   "source": [
    "# dynamic_rolling_sum(df, \"incr_value\", \"date\").explode(\"date_list\").with_columns(\n",
    "#     [\n",
    "#         pl.when(pl.col(\"date_list\").is_in(list(value_map.keys())))\n",
    "#         .then(\n",
    "#             pl.col(\"date_list\").replace(\n",
    "#                 old=pl.Series(value_map.keys()), new=pl.Series(value_map.values())\n",
    "#             )\n",
    "#         )\n",
    "#         .otherwise(pl.lit(0))\n",
    "#         .alias(\"value_list\")\n",
    "#     ]\n",
    "# ).drop(\"date_list\").group_by(\"date\").agg(pl.sum(\"value_list\")).sort(\"date\").join(\n",
    "#     df0.select([pl.col(\"date\"), pl.col(\"sum2\")]), how=\"left\", on=\"date\"\n",
    "# ).with_columns((pl.col(\"value_list\") - pl.col(\"sum2\")).alias(\"diff\")).filter(\n",
    "#     pl.col(\"diff\") != 0\n",
    "# ).collect()\n",
    "\n",
    "# # .with_columns(\n",
    "# #     [pl.implode(\"date_list\", \"value_list\")]\n",
    "# # )"
   ]
  },
  {
   "cell_type": "code",
   "execution_count": 4,
   "metadata": {},
   "outputs": [
    {
     "data": {
      "text/html": [
       "<div><style>\n",
       ".dataframe > thead > tr,\n",
       ".dataframe > tbody > tr {\n",
       "  text-align: right;\n",
       "  white-space: pre-wrap;\n",
       "}\n",
       "</style>\n",
       "<small>shape: (5, 11)</small><table border=\"1\" class=\"dataframe\"><thead><tr><th>index</th><th>date</th><th>incr_value</th><th>cat1</th><th>cat2</th><th>30_days_prior</th><th>390_days_prior</th><th>sum2</th><th>sum_cat1</th><th>sum_cat2</th><th>sum_catBOTH</th></tr><tr><td>u32</td><td>date</td><td>i64</td><td>str</td><td>str</td><td>str</td><td>str</td><td>i64</td><td>i64</td><td>i64</td><td>i64</td></tr></thead><tbody><tr><td>0</td><td>2014-01-01</td><td>1</td><td>&quot;B&quot;</td><td>&quot;C&quot;</td><td>&quot;12/2/2013&quot;</td><td>&quot;12/7/2012&quot;</td><td>0</td><td>0</td><td>0</td><td>0</td></tr><tr><td>1</td><td>2014-01-02</td><td>1</td><td>&quot;A&quot;</td><td>&quot;C&quot;</td><td>&quot;12/3/2013&quot;</td><td>&quot;12/8/2012&quot;</td><td>0</td><td>0</td><td>0</td><td>0</td></tr><tr><td>2</td><td>2014-01-03</td><td>1</td><td>&quot;B&quot;</td><td>&quot;D&quot;</td><td>&quot;12/4/2013&quot;</td><td>&quot;12/9/2012&quot;</td><td>0</td><td>0</td><td>0</td><td>0</td></tr><tr><td>3</td><td>2014-01-04</td><td>1</td><td>&quot;B&quot;</td><td>&quot;D&quot;</td><td>&quot;12/5/2013&quot;</td><td>&quot;12/10/2012&quot;</td><td>0</td><td>0</td><td>0</td><td>0</td></tr><tr><td>4</td><td>2014-01-05</td><td>1</td><td>&quot;B&quot;</td><td>&quot;E&quot;</td><td>&quot;12/6/2013&quot;</td><td>&quot;12/11/2012&quot;</td><td>0</td><td>0</td><td>0</td><td>0</td></tr></tbody></table></div>"
      ],
      "text/plain": [
       "shape: (5, 11)\n",
       "┌───────┬────────────┬────────────┬──────┬───┬──────┬──────────┬──────────┬─────────────┐\n",
       "│ index ┆ date       ┆ incr_value ┆ cat1 ┆ … ┆ sum2 ┆ sum_cat1 ┆ sum_cat2 ┆ sum_catBOTH │\n",
       "│ ---   ┆ ---        ┆ ---        ┆ ---  ┆   ┆ ---  ┆ ---      ┆ ---      ┆ ---         │\n",
       "│ u32   ┆ date       ┆ i64        ┆ str  ┆   ┆ i64  ┆ i64      ┆ i64      ┆ i64         │\n",
       "╞═══════╪════════════╪════════════╪══════╪═══╪══════╪══════════╪══════════╪═════════════╡\n",
       "│ 0     ┆ 2014-01-01 ┆ 1          ┆ B    ┆ … ┆ 0    ┆ 0        ┆ 0        ┆ 0           │\n",
       "│ 1     ┆ 2014-01-02 ┆ 1          ┆ A    ┆ … ┆ 0    ┆ 0        ┆ 0        ┆ 0           │\n",
       "│ 2     ┆ 2014-01-03 ┆ 1          ┆ B    ┆ … ┆ 0    ┆ 0        ┆ 0        ┆ 0           │\n",
       "│ 3     ┆ 2014-01-04 ┆ 1          ┆ B    ┆ … ┆ 0    ┆ 0        ┆ 0        ┆ 0           │\n",
       "│ 4     ┆ 2014-01-05 ┆ 1          ┆ B    ┆ … ┆ 0    ┆ 0        ┆ 0        ┆ 0           │\n",
       "└───────┴────────────┴────────────┴──────┴───┴──────┴──────────┴──────────┴─────────────┘"
      ]
     },
     "execution_count": 4,
     "metadata": {},
     "output_type": "execute_result"
    }
   ],
   "source": [
    "import polars as pl\n",
    "\n",
    "from predictables.encoding import DynamicRollingMean, DynamicRollingSum\n",
    "\n",
    "df = (\n",
    "    pl.scan_csv(\n",
    "        \"/home/aweaver/work/predictables/predictables/encoding/tests/rolling_date_example.csv\"\n",
    "    )\n",
    "    .with_columns([pl.col(\"date\").str.to_date(\"%m/%d/%Y\").alias(\"date\")])\n",
    "    .drop(\n",
    "        [\"month_prior\", \"year_prior\", \"rolling_sum\", \"60_days_prior\", \"360_days_prior\"]\n",
    "    )\n",
    "    .with_row_index()\n",
    ")\n",
    "\n",
    "df.head().collect()"
   ]
  },
  {
   "cell_type": "code",
   "execution_count": 7,
   "metadata": {},
   "outputs": [
    {
     "name": "stdout",
     "output_type": "stream",
     "text": [
      "shape: (5, 6)\n",
      "┌───────┬────────────┬──────┬──────┬──────────────┬──────────────┐\n",
      "│ index ┆ date       ┆ cat1 ┆ cat2 ┆ rolling_cat1 ┆ rolling_cat2 │\n",
      "│ ---   ┆ ---        ┆ ---  ┆ ---  ┆ ---          ┆ ---          │\n",
      "│ u32   ┆ date       ┆ cat  ┆ cat  ┆ f64          ┆ f64          │\n",
      "╞═══════╪════════════╪══════╪══════╪══════════════╪══════════════╡\n",
      "│ 0     ┆ 2014-01-01 ┆ B    ┆ C    ┆ 0.0          ┆ 0.0          │\n",
      "│ 1     ┆ 2014-01-02 ┆ A    ┆ C    ┆ 0.0          ┆ 0.0          │\n",
      "│ 2     ┆ 2014-01-03 ┆ B    ┆ D    ┆ 0.0          ┆ 0.0          │\n",
      "│ 3     ┆ 2014-01-04 ┆ B    ┆ D    ┆ 0.0          ┆ 0.0          │\n",
      "│ 4     ┆ 2014-01-05 ┆ B    ┆ E    ┆ 0.0          ┆ 0.0          │\n",
      "└───────┴────────────┴──────┴──────┴──────────────┴──────────────┘\n"
     ]
    },
    {
     "ename": "ComputeError",
     "evalue": "datatypes of join keys don't match - `cat1`: cat on left does not match `cat1`: str on right",
     "output_type": "error",
     "traceback": [
      "\u001b[0;31m---------------------------------------------------------------------------\u001b[0m",
      "\u001b[0;31mComputeError\u001b[0m                              Traceback (most recent call last)",
      "Cell \u001b[0;32mIn[7], line 26\u001b[0m\n\u001b[1;32m      1\u001b[0m lf \u001b[38;5;241m=\u001b[39m (\n\u001b[1;32m      2\u001b[0m     DynamicRollingSum()\n\u001b[1;32m      3\u001b[0m     \u001b[38;5;241m.\u001b[39mlf(df)\n\u001b[0;32m   (...)\u001b[0m\n\u001b[1;32m     12\u001b[0m     \u001b[38;5;66;03m# .lazy()\u001b[39;00m\n\u001b[1;32m     13\u001b[0m )\n\u001b[1;32m     15\u001b[0m (\n\u001b[1;32m     16\u001b[0m     \u001b[43mDynamicRollingMean\u001b[49m\u001b[43m(\u001b[49m\u001b[43m)\u001b[49m\n\u001b[1;32m     17\u001b[0m \u001b[43m    \u001b[49m\u001b[38;5;241;43m.\u001b[39;49m\u001b[43mlf\u001b[49m\u001b[43m(\u001b[49m\u001b[43mlf\u001b[49m\u001b[43m)\u001b[49m\n\u001b[1;32m     18\u001b[0m \u001b[43m    \u001b[49m\u001b[38;5;241;43m.\u001b[39;49m\u001b[43mdate_col\u001b[49m\u001b[43m(\u001b[49m\u001b[38;5;124;43m\"\u001b[39;49m\u001b[38;5;124;43mdate\u001b[39;49m\u001b[38;5;124;43m\"\u001b[39;49m\u001b[43m)\u001b[49m\n\u001b[1;32m     19\u001b[0m \u001b[43m    \u001b[49m\u001b[38;5;241;43m.\u001b[39;49m\u001b[43mnumerator_col\u001b[49m\u001b[43m(\u001b[49m\u001b[38;5;124;43m\"\u001b[39;49m\u001b[38;5;124;43mrolling_cat1\u001b[39;49m\u001b[38;5;124;43m\"\u001b[39;49m\u001b[43m)\u001b[49m\n\u001b[1;32m     20\u001b[0m \u001b[43m    \u001b[49m\u001b[38;5;241;43m.\u001b[39;49m\u001b[43mdenominator_col\u001b[49m\u001b[43m(\u001b[49m\u001b[38;5;124;43m\"\u001b[39;49m\u001b[38;5;124;43mrolling_cat2\u001b[39;49m\u001b[38;5;124;43m\"\u001b[39;49m\u001b[43m)\u001b[49m\n\u001b[1;32m     21\u001b[0m \u001b[43m    \u001b[49m\u001b[38;5;241;43m.\u001b[39;49m\u001b[43mindex_col\u001b[49m\u001b[43m(\u001b[49m\u001b[38;5;124;43m\"\u001b[39;49m\u001b[38;5;124;43mindex\u001b[39;49m\u001b[38;5;124;43m\"\u001b[39;49m\u001b[43m)\u001b[49m\n\u001b[1;32m     22\u001b[0m \u001b[43m    \u001b[49m\u001b[38;5;66;43;03m# .x_name(\"rolling_ratio\")\u001b[39;49;00m\n\u001b[1;32m     23\u001b[0m \u001b[43m    \u001b[49m\u001b[38;5;241;43m.\u001b[39;49m\u001b[43moffset\u001b[49m\u001b[43m(\u001b[49m\u001b[38;5;241;43m30\u001b[39;49m\u001b[43m)\u001b[49m\n\u001b[1;32m     24\u001b[0m \u001b[43m    \u001b[49m\u001b[38;5;241;43m.\u001b[39;49m\u001b[43mwindow\u001b[49m\u001b[43m(\u001b[49m\u001b[38;5;241;43m30\u001b[39;49m\u001b[43m)\u001b[49m\n\u001b[1;32m     25\u001b[0m \u001b[43m    \u001b[49m\u001b[38;5;241;43m.\u001b[39;49m\u001b[43mcategory_cols\u001b[49m\u001b[43m(\u001b[49m\u001b[43m[\u001b[49m\u001b[38;5;124;43m\"\u001b[39;49m\u001b[38;5;124;43mcat1\u001b[39;49m\u001b[38;5;124;43m\"\u001b[39;49m\u001b[43m,\u001b[49m\u001b[43m \u001b[49m\u001b[38;5;124;43m\"\u001b[39;49m\u001b[38;5;124;43mcat2\u001b[39;49m\u001b[38;5;124;43m\"\u001b[39;49m\u001b[43m]\u001b[49m\u001b[43m)\u001b[49m\n\u001b[0;32m---> 26\u001b[0m \u001b[43m    \u001b[49m\u001b[38;5;241;43m.\u001b[39;49m\u001b[43mrun\u001b[49m\u001b[43m(\u001b[49m\u001b[43m)\u001b[49m\n\u001b[1;32m     27\u001b[0m     \u001b[38;5;241m.\u001b[39mcollect()\n\u001b[1;32m     28\u001b[0m )\n\u001b[1;32m     30\u001b[0m \u001b[38;5;66;03m# print(lf.columns)\u001b[39;00m\n\u001b[1;32m     31\u001b[0m \u001b[38;5;66;03m# lf.head().collect()\u001b[39;00m\n\u001b[1;32m     32\u001b[0m \u001b[38;5;66;03m# (\u001b[39;00m\n\u001b[0;32m   (...)\u001b[0m\n\u001b[1;32m     43\u001b[0m \u001b[38;5;66;03m#     .run()\u001b[39;00m\n\u001b[1;32m     44\u001b[0m \u001b[38;5;66;03m# ).collect()\u001b[39;00m\n",
      "File \u001b[0;32m~/work/predictables/predictables/encoding/src/lagged_mean_encoding/_dynamic_rolling_mean.py:179\u001b[0m, in \u001b[0;36mDynamicRollingMean.run\u001b[0;34m(self)\u001b[0m\n\u001b[1;32m    177\u001b[0m \u001b[38;5;28mself\u001b[39m\u001b[38;5;241m.\u001b[39m_lf\u001b[38;5;241m.\u001b[39mcollect()\n\u001b[1;32m    178\u001b[0m \u001b[38;5;28mprint\u001b[39m(\u001b[38;5;28mself\u001b[39m\u001b[38;5;241m.\u001b[39m_lf\u001b[38;5;241m.\u001b[39mhead()\u001b[38;5;241m.\u001b[39mcollect())\n\u001b[0;32m--> 179\u001b[0m \u001b[38;5;28;43mself\u001b[39;49m\u001b[38;5;241;43m.\u001b[39;49m\u001b[43mbuild_numerator_col\u001b[49m\u001b[43m(\u001b[49m\u001b[38;5;28;43mself\u001b[39;49m\u001b[38;5;241;43m.\u001b[39;49m\u001b[43m_lf\u001b[49m\u001b[43m)\u001b[49m\n\u001b[1;32m    180\u001b[0m \u001b[38;5;28mself\u001b[39m\u001b[38;5;241m.\u001b[39m_lf\u001b[38;5;241m.\u001b[39mcollect()\n\u001b[1;32m    181\u001b[0m \u001b[38;5;28mprint\u001b[39m(\u001b[38;5;28mself\u001b[39m\u001b[38;5;241m.\u001b[39m_lf\u001b[38;5;241m.\u001b[39mhead()\u001b[38;5;241m.\u001b[39mcollect())\n",
      "File \u001b[0;32m~/work/predictables/predictables/encoding/src/lagged_mean_encoding/_dynamic_rolling_mean.py:117\u001b[0m, in \u001b[0;36mDynamicRollingMean.build_numerator_col\u001b[0;34m(self, lf)\u001b[0m\n\u001b[1;32m     90\u001b[0m \u001b[38;5;28;01mdef\u001b[39;00m \u001b[38;5;21mbuild_numerator_col\u001b[39m(\u001b[38;5;28mself\u001b[39m, lf: pl\u001b[38;5;241m.\u001b[39mLazyFrame) \u001b[38;5;241m-\u001b[39m\u001b[38;5;241m>\u001b[39m \u001b[38;5;28;01mNone\u001b[39;00m:\n\u001b[1;32m     91\u001b[0m \u001b[38;5;250m    \u001b[39m\u001b[38;5;124;03m\"\"\"\u001b[39;00m\n\u001b[1;32m     92\u001b[0m \u001b[38;5;124;03m    Build the numerator column for the rolling mean calculation, and return\u001b[39;00m\n\u001b[1;32m     93\u001b[0m \u001b[38;5;124;03m    the `LazyFrame` with the numerator column built.\u001b[39;00m\n\u001b[0;32m   (...)\u001b[0m\n\u001b[1;32m    105\u001b[0m \n\u001b[1;32m    106\u001b[0m \u001b[38;5;124;03m    \"\"\"\u001b[39;00m\n\u001b[1;32m    107\u001b[0m     num_lf \u001b[38;5;241m=\u001b[39m (\n\u001b[1;32m    108\u001b[0m         \u001b[43mDynamicRollingSum\u001b[49m\u001b[43m(\u001b[49m\u001b[43m)\u001b[49m\n\u001b[1;32m    109\u001b[0m \u001b[43m        \u001b[49m\u001b[38;5;241;43m.\u001b[39;49m\u001b[43mlf\u001b[49m\u001b[43m(\u001b[49m\u001b[38;5;28;43mself\u001b[39;49m\u001b[38;5;241;43m.\u001b[39;49m\u001b[43m_lf\u001b[49m\u001b[43m)\u001b[49m\n\u001b[1;32m    110\u001b[0m \u001b[43m        \u001b[49m\u001b[38;5;241;43m.\u001b[39;49m\u001b[43mdate_col\u001b[49m\u001b[43m(\u001b[49m\u001b[38;5;28;43mself\u001b[39;49m\u001b[38;5;241;43m.\u001b[39;49m\u001b[43m_date_col\u001b[49m\u001b[43m)\u001b[49m\n\u001b[1;32m    111\u001b[0m \u001b[43m        \u001b[49m\u001b[38;5;241;43m.\u001b[39;49m\u001b[43mx_col\u001b[49m\u001b[43m(\u001b[49m\u001b[38;5;28;43mself\u001b[39;49m\u001b[38;5;241;43m.\u001b[39;49m\u001b[43m_numerator_col\u001b[49m\u001b[43m)\u001b[49m\n\u001b[1;32m    112\u001b[0m \u001b[43m        \u001b[49m\u001b[38;5;241;43m.\u001b[39;49m\u001b[43mx_name\u001b[49m\u001b[43m(\u001b[49m\u001b[38;5;124;43m\"\u001b[39;49m\u001b[38;5;124;43mnum\u001b[39;49m\u001b[38;5;124;43m\"\u001b[39;49m\u001b[43m)\u001b[49m\n\u001b[1;32m    113\u001b[0m \u001b[43m        \u001b[49m\u001b[38;5;241;43m.\u001b[39;49m\u001b[43moffset\u001b[49m\u001b[43m(\u001b[49m\u001b[38;5;28;43mself\u001b[39;49m\u001b[38;5;241;43m.\u001b[39;49m\u001b[43m_offset\u001b[49m\u001b[43m)\u001b[49m\n\u001b[1;32m    114\u001b[0m \u001b[43m        \u001b[49m\u001b[38;5;241;43m.\u001b[39;49m\u001b[43mwindow\u001b[49m\u001b[43m(\u001b[49m\u001b[38;5;28;43mself\u001b[39;49m\u001b[38;5;241;43m.\u001b[39;49m\u001b[43m_window\u001b[49m\u001b[43m)\u001b[49m\n\u001b[1;32m    115\u001b[0m \u001b[43m        \u001b[49m\u001b[38;5;241;43m.\u001b[39;49m\u001b[43mcategory_cols\u001b[49m\u001b[43m(\u001b[49m\u001b[38;5;28;43mself\u001b[39;49m\u001b[38;5;241;43m.\u001b[39;49m\u001b[43m_category_cols\u001b[49m\u001b[43m)\u001b[49m\n\u001b[1;32m    116\u001b[0m \u001b[43m        \u001b[49m\u001b[38;5;241;43m.\u001b[39;49m\u001b[43mindex_col\u001b[49m\u001b[43m(\u001b[49m\u001b[38;5;28;43mself\u001b[39;49m\u001b[38;5;241;43m.\u001b[39;49m\u001b[43m_index_col\u001b[49m\u001b[43m)\u001b[49m\n\u001b[0;32m--> 117\u001b[0m \u001b[43m        \u001b[49m\u001b[38;5;241;43m.\u001b[39;49m\u001b[43mrun\u001b[49m\u001b[43m(\u001b[49m\u001b[43m)\u001b[49m\n\u001b[1;32m    118\u001b[0m     )\n\u001b[1;32m    120\u001b[0m     \u001b[38;5;66;03m# Update the _lf attribute\u001b[39;00m\n\u001b[1;32m    121\u001b[0m     \u001b[38;5;28mself\u001b[39m\u001b[38;5;241m.\u001b[39m_lf \u001b[38;5;241m=\u001b[39m (\n\u001b[1;32m    122\u001b[0m         \u001b[38;5;28mself\u001b[39m\u001b[38;5;241m.\u001b[39m_lf\u001b[38;5;241m.\u001b[39mjoin(num_lf, on\u001b[38;5;241m=\u001b[39m\u001b[38;5;28mself\u001b[39m\u001b[38;5;241m.\u001b[39m_index_col, how\u001b[38;5;241m=\u001b[39m\u001b[38;5;124m\"\u001b[39m\u001b[38;5;124mleft\u001b[39m\u001b[38;5;124m\"\u001b[39m)\n\u001b[1;32m    123\u001b[0m         \u001b[38;5;241m.\u001b[39mdrop(\u001b[38;5;124m\"\u001b[39m\u001b[38;5;124mdate_right\u001b[39m\u001b[38;5;124m\"\u001b[39m)\n\u001b[1;32m    124\u001b[0m         \u001b[38;5;241m.\u001b[39mwith_columns([pl\u001b[38;5;241m.\u001b[39mcol(\u001b[38;5;124m\"\u001b[39m\u001b[38;5;124mrolling_value_list\u001b[39m\u001b[38;5;124m\"\u001b[39m)\u001b[38;5;241m.\u001b[39malias(\u001b[38;5;124m\"\u001b[39m\u001b[38;5;124mnum\u001b[39m\u001b[38;5;124m\"\u001b[39m)])\n\u001b[1;32m    125\u001b[0m         \u001b[38;5;241m.\u001b[39mdrop(\u001b[38;5;124m\"\u001b[39m\u001b[38;5;124mrolling_value_list\u001b[39m\u001b[38;5;124m\"\u001b[39m)\n\u001b[1;32m    126\u001b[0m     )\n",
      "File \u001b[0;32m~/work/predictables/predictables/encoding/src/lagged_mean_encoding/_dynamic_rolling_sum.py:292\u001b[0m, in \u001b[0;36mDynamicRollingSum.run\u001b[0;34m(self)\u001b[0m\n\u001b[1;32m    288\u001b[0m     \u001b[38;5;28mself\u001b[39m\u001b[38;5;241m.\u001b[39m_category_cols \u001b[38;5;241m=\u001b[39m [\u001b[38;5;28mself\u001b[39m\u001b[38;5;241m.\u001b[39m_category_cols]\n\u001b[1;32m    290\u001b[0m \u001b[38;5;28;01mfor\u001b[39;00m c \u001b[38;5;129;01min\u001b[39;00m \u001b[38;5;28mself\u001b[39m\u001b[38;5;241m.\u001b[39m_category_cols:\n\u001b[1;32m    291\u001b[0m     unique_levels \u001b[38;5;241m=\u001b[39m (\n\u001b[0;32m--> 292\u001b[0m         \u001b[38;5;28;43mself\u001b[39;49m\u001b[38;5;241;43m.\u001b[39;49m\u001b[43m_lf\u001b[49m\u001b[38;5;241;43m.\u001b[39;49m\u001b[43mselect\u001b[49m\u001b[43m(\u001b[49m\u001b[43mc\u001b[49m\u001b[43m)\u001b[49m\u001b[38;5;241;43m.\u001b[39;49m\u001b[43munique\u001b[49m\u001b[43m(\u001b[49m\u001b[43m)\u001b[49m\u001b[38;5;241;43m.\u001b[39;49m\u001b[43mcollect\u001b[49m\u001b[43m(\u001b[49m\u001b[43m)\u001b[49m\u001b[38;5;241m.\u001b[39mto_series()\u001b[38;5;241m.\u001b[39mto_list()\n\u001b[1;32m    293\u001b[0m     )\n\u001b[1;32m    294\u001b[0m     cat_dfs \u001b[38;5;241m=\u001b[39m []\n\u001b[1;32m    295\u001b[0m     \u001b[38;5;28;01mfor\u001b[39;00m level \u001b[38;5;129;01min\u001b[39;00m unique_levels:\n",
      "File \u001b[0;32m~/work/predictables/.venv/lib/python3.11/site-packages/polars/lazyframe/frame.py:1940\u001b[0m, in \u001b[0;36mLazyFrame.collect\u001b[0;34m(self, type_coercion, predicate_pushdown, projection_pushdown, simplify_expression, slice_pushdown, comm_subplan_elim, comm_subexpr_elim, no_optimization, streaming, background, _eager)\u001b[0m\n\u001b[1;32m   1937\u001b[0m \u001b[38;5;28;01mif\u001b[39;00m background:\n\u001b[1;32m   1938\u001b[0m     \u001b[38;5;28;01mreturn\u001b[39;00m InProcessQuery(ldf\u001b[38;5;241m.\u001b[39mcollect_concurrently())\n\u001b[0;32m-> 1940\u001b[0m \u001b[38;5;28;01mreturn\u001b[39;00m wrap_df(ldf\u001b[38;5;241m.\u001b[39mcollect())\n",
      "\u001b[0;31mComputeError\u001b[0m: datatypes of join keys don't match - `cat1`: cat on left does not match `cat1`: str on right"
     ]
    }
   ],
   "source": [
    "lf = (\n",
    "    DynamicRollingSum()\n",
    "    .lf(df)\n",
    "    .date_col(\"date\")\n",
    "    .x_col(\"incr_value\")\n",
    "    .offset(30)\n",
    "    .window(360)\n",
    "    .category_cols([\"cat1\", \"cat2\"])\n",
    "    .index_col(\"index\")\n",
    "    .run()\n",
    "    # .collect()\n",
    "    # .lazy()\n",
    ")\n",
    "\n",
    "(\n",
    "    DynamicRollingMean()\n",
    "    .lf(lf)\n",
    "    .date_col(\"date\")\n",
    "    .numerator_col(\"rolling_cat1\")\n",
    "    .denominator_col(\"rolling_cat2\")\n",
    "    .index_col(\"index\")\n",
    "    # .x_name(\"rolling_ratio\")\n",
    "    .offset(30)\n",
    "    .window(30)\n",
    "    # .category_cols([\"cat1\", \"cat2\"])\n",
    "    .run()\n",
    "    .collect()\n",
    ")\n",
    "\n",
    "# print(lf.columns)\n",
    "# lf.head().collect()\n",
    "# (\n",
    "#     DynamicRollingMean()\n",
    "#     .lf(df)\n",
    "#     .date_col(\"date\")\n",
    "#     .numerator_col(\"incr_value\")\n",
    "#     .denominator_col(\"sum2\")\n",
    "#     # .x_name(\"rolling_cat12_ratio\")\n",
    "#     .index_col(\"index\")\n",
    "#     .offset(30)\n",
    "#     .window(360)\n",
    "#     # .category_cols([\"cat1\"])\n",
    "#     .run()\n",
    "# ).collect()"
   ]
  },
  {
   "cell_type": "code",
   "execution_count": 6,
   "metadata": {},
   "outputs": [
    {
     "ename": "TypeError",
     "evalue": "invalid predicate for `filter`: <generator object <genexpr> at 0x7f5fc84b65e0>",
     "output_type": "error",
     "traceback": [
      "\u001b[0;31m---------------------------------------------------------------------------\u001b[0m",
      "\u001b[0;31mTypeError\u001b[0m                                 Traceback (most recent call last)",
      "Cell \u001b[0;32mIn[6], line 30\u001b[0m\n\u001b[1;32m     26\u001b[0m cat_dfs \u001b[38;5;241m=\u001b[39m []\n\u001b[1;32m     27\u001b[0m \u001b[38;5;28;01mfor\u001b[39;00m level \u001b[38;5;129;01min\u001b[39;00m unique_levels:\n\u001b[1;32m     28\u001b[0m     cat_dfs\u001b[38;5;241m.\u001b[39mappend(\n\u001b[1;32m     29\u001b[0m         DynamicRollingSum()\n\u001b[0;32m---> 30\u001b[0m         \u001b[38;5;241m.\u001b[39mlf(\u001b[43mdf\u001b[49m\u001b[38;5;241;43m.\u001b[39;49m\u001b[43mfilter\u001b[49m\u001b[43m(\u001b[49m\u001b[43mpl\u001b[49m\u001b[38;5;241;43m.\u001b[39;49m\u001b[43mcol\u001b[49m\u001b[43m(\u001b[49m\u001b[43mcols\u001b[49m\u001b[43m[\u001b[49m\u001b[43mi\u001b[49m\u001b[43m]\u001b[49m\u001b[43m)\u001b[49m\u001b[43m \u001b[49m\u001b[38;5;241;43m==\u001b[39;49m\u001b[43m \u001b[49m\u001b[43mlevel\u001b[49m\u001b[43m[\u001b[49m\u001b[43mi\u001b[49m\u001b[43m]\u001b[49m\u001b[43m \u001b[49m\u001b[38;5;28;43;01mfor\u001b[39;49;00m\u001b[43m \u001b[49m\u001b[43mi\u001b[49m\u001b[43m \u001b[49m\u001b[38;5;129;43;01min\u001b[39;49;00m\u001b[43m \u001b[49m\u001b[38;5;28;43mrange\u001b[39;49m\u001b[43m(\u001b[49m\u001b[38;5;28;43mlen\u001b[39;49m\u001b[43m(\u001b[49m\u001b[43mcols\u001b[49m\u001b[43m)\u001b[49m\u001b[43m)\u001b[49m\u001b[43m)\u001b[49m)\n\u001b[1;32m     31\u001b[0m         \u001b[38;5;241m.\u001b[39mx_col(\u001b[38;5;124m\"\u001b[39m\u001b[38;5;124mincr_value\u001b[39m\u001b[38;5;124m\"\u001b[39m)\n\u001b[1;32m     32\u001b[0m         \u001b[38;5;241m.\u001b[39mdate_col(\u001b[38;5;124m\"\u001b[39m\u001b[38;5;124mdate\u001b[39m\u001b[38;5;124m\"\u001b[39m)\n\u001b[1;32m     33\u001b[0m         \u001b[38;5;241m.\u001b[39mindex_col(\u001b[38;5;124m\"\u001b[39m\u001b[38;5;124mindex\u001b[39m\u001b[38;5;124m\"\u001b[39m)\n\u001b[1;32m     34\u001b[0m         \u001b[38;5;241m.\u001b[39moffset(\u001b[38;5;241m30\u001b[39m)\n\u001b[1;32m     35\u001b[0m         \u001b[38;5;241m.\u001b[39mwindow(\u001b[38;5;241m360\u001b[39m)\n\u001b[1;32m     36\u001b[0m         \u001b[38;5;241m.\u001b[39mrun()\n\u001b[1;32m     37\u001b[0m         \u001b[38;5;241m.\u001b[39mwith_columns([pl\u001b[38;5;241m.\u001b[39mlit(level)\u001b[38;5;241m.\u001b[39malias(\u001b[38;5;124m\"\u001b[39m\u001b[38;5;124m_\u001b[39m\u001b[38;5;124m\"\u001b[39m\u001b[38;5;241m.\u001b[39mjoin(cols))])\n\u001b[1;32m     38\u001b[0m         \u001b[38;5;241m.\u001b[39mwith_columns(pl\u001b[38;5;241m.\u001b[39mcol(\u001b[38;5;124m\"\u001b[39m\u001b[38;5;124mrolling_value_list\u001b[39m\u001b[38;5;124m\"\u001b[39m)\u001b[38;5;241m.\u001b[39malias(\u001b[38;5;124mf\u001b[39m\u001b[38;5;124m\"\u001b[39m\u001b[38;5;124mrolling_\u001b[39m\u001b[38;5;132;01m{\u001b[39;00m\u001b[38;5;124m'\u001b[39m\u001b[38;5;124m_\u001b[39m\u001b[38;5;124m'\u001b[39m\u001b[38;5;241m.\u001b[39mjoin(cols)\u001b[38;5;132;01m}\u001b[39;00m\u001b[38;5;124m\"\u001b[39m))\n\u001b[1;32m     39\u001b[0m         \u001b[38;5;241m.\u001b[39mdrop([\u001b[38;5;124m\"\u001b[39m\u001b[38;5;124mrolling_value_list\u001b[39m\u001b[38;5;124m\"\u001b[39m])\n\u001b[1;32m     40\u001b[0m         \u001b[38;5;241m.\u001b[39msort([\u001b[38;5;124m\"\u001b[39m\u001b[38;5;124mindex\u001b[39m\u001b[38;5;124m\"\u001b[39m, \u001b[38;5;124m\"\u001b[39m\u001b[38;5;124m_\u001b[39m\u001b[38;5;124m\"\u001b[39m\u001b[38;5;241m.\u001b[39mjoin(cols)])\n\u001b[1;32m     41\u001b[0m     )\n\u001b[1;32m     43\u001b[0m df \u001b[38;5;241m=\u001b[39m df\u001b[38;5;241m.\u001b[39mjoin(pl\u001b[38;5;241m.\u001b[39mconcat(cat_dfs, how\u001b[38;5;241m=\u001b[39m\u001b[38;5;124m\"\u001b[39m\u001b[38;5;124mvertical\u001b[39m\u001b[38;5;124m\"\u001b[39m), on\u001b[38;5;241m=\u001b[39m[\u001b[38;5;124m\"\u001b[39m\u001b[38;5;124mindex\u001b[39m\u001b[38;5;124m\"\u001b[39m] \u001b[38;5;241m+\u001b[39m cols, how\u001b[38;5;241m=\u001b[39m\u001b[38;5;124m\"\u001b[39m\u001b[38;5;124mleft\u001b[39m\u001b[38;5;124m\"\u001b[39m)\n\u001b[1;32m     44\u001b[0m \u001b[38;5;28;01mif\u001b[39;00m \u001b[38;5;124m\"\u001b[39m\u001b[38;5;124mdate_right\u001b[39m\u001b[38;5;124m\"\u001b[39m \u001b[38;5;129;01min\u001b[39;00m df\u001b[38;5;241m.\u001b[39mcolumns:\n",
      "File \u001b[0;32m~/work/predictables/.venv/lib/python3.11/site-packages/polars/lazyframe/frame.py:2937\u001b[0m, in \u001b[0;36mLazyFrame.filter\u001b[0;34m(self, *predicates, **constraints)\u001b[0m\n\u001b[1;32m   2931\u001b[0m     err \u001b[38;5;241m=\u001b[39m (\n\u001b[1;32m   2932\u001b[0m         \u001b[38;5;124mf\u001b[39m\u001b[38;5;124m\"\u001b[39m\u001b[38;5;124mSeries(…, dtype=\u001b[39m\u001b[38;5;132;01m{\u001b[39;00mp\u001b[38;5;241m.\u001b[39mdtype\u001b[38;5;132;01m}\u001b[39;00m\u001b[38;5;124m)\u001b[39m\u001b[38;5;124m\"\u001b[39m\n\u001b[1;32m   2933\u001b[0m         \u001b[38;5;28;01mif\u001b[39;00m \u001b[38;5;28misinstance\u001b[39m(p, pl\u001b[38;5;241m.\u001b[39mSeries)\n\u001b[1;32m   2934\u001b[0m         \u001b[38;5;28;01melse\u001b[39;00m \u001b[38;5;28mrepr\u001b[39m(p)\n\u001b[1;32m   2935\u001b[0m     )\n\u001b[1;32m   2936\u001b[0m     msg \u001b[38;5;241m=\u001b[39m \u001b[38;5;124mf\u001b[39m\u001b[38;5;124m\"\u001b[39m\u001b[38;5;124minvalid predicate for `filter`: \u001b[39m\u001b[38;5;132;01m{\u001b[39;00merr\u001b[38;5;132;01m}\u001b[39;00m\u001b[38;5;124m\"\u001b[39m\n\u001b[0;32m-> 2937\u001b[0m     \u001b[38;5;28;01mraise\u001b[39;00m \u001b[38;5;167;01mTypeError\u001b[39;00m(msg)\n\u001b[1;32m   2938\u001b[0m \u001b[38;5;28;01melse\u001b[39;00m:\n\u001b[1;32m   2939\u001b[0m     all_predicates\u001b[38;5;241m.\u001b[39mextend(\n\u001b[1;32m   2940\u001b[0m         wrap_expr(x) \u001b[38;5;28;01mfor\u001b[39;00m x \u001b[38;5;129;01min\u001b[39;00m parse_as_list_of_expressions(p)\n\u001b[1;32m   2941\u001b[0m     )\n",
      "\u001b[0;31mTypeError\u001b[0m: invalid predicate for `filter`: <generator object <genexpr> at 0x7f5fc84b65e0>"
     ]
    }
   ],
   "source": [
    "cols = [\"cat1\", \"cat2\"]\n",
    "for c in cols:\n",
    "    unique_levels = df.select(c).unique().collect().to_series().to_list()\n",
    "    cat_dfs = []\n",
    "    for level in unique_levels:\n",
    "        cat_dfs.append(\n",
    "            DynamicRollingSum()\n",
    "            .lf(df.filter(pl.col(c) == level))\n",
    "            .x_col(\"incr_value\")\n",
    "            .date_col(\"date\")\n",
    "            .index_col(\"index\")\n",
    "            .offset(30)\n",
    "            .window(360)\n",
    "            .run()\n",
    "            .with_columns([pl.lit(level).alias(c)])\n",
    "            .with_columns(pl.col(\"rolling_value_list\").alias(f\"rolling_{c}\"))\n",
    "            .drop([\"rolling_value_list\"])\n",
    "            .sort([\"index\", c])\n",
    "        )\n",
    "\n",
    "    df = df.join(pl.concat(cat_dfs, how=\"vertical\"), on=[\"index\", c], how=\"left\")\n",
    "    if \"date_right\" in df.columns:\n",
    "        df = df.drop([\"date_right\"])\n",
    "\n",
    "unique_levels = df.select(cols).unique().collect().to_series()\n",
    "cat_dfs = []\n",
    "for level in unique_levels:\n",
    "    cat_dfs.append(\n",
    "        DynamicRollingSum()\n",
    "        .lf(df.filter(pl.col(cols[i]) == level[i] for i in range(len(cols))))\n",
    "        .x_col(\"incr_value\")\n",
    "        .date_col(\"date\")\n",
    "        .index_col(\"index\")\n",
    "        .offset(30)\n",
    "        .window(360)\n",
    "        .run()\n",
    "        .with_columns([pl.lit(level).alias(\"_\".join(cols))])\n",
    "        .with_columns(pl.col(\"rolling_value_list\").alias(f\"rolling_{'_'.join(cols)}\"))\n",
    "        .drop([\"rolling_value_list\"])\n",
    "        .sort([\"index\", \"_\".join(cols)])\n",
    "    )\n",
    "\n",
    "df = df.join(pl.concat(cat_dfs, how=\"vertical\"), on=[\"index\", *cols], how=\"left\")\n",
    "if \"date_right\" in df.columns:\n",
    "    df = df.drop([\"date_right\"])\n",
    "\n",
    "\n",
    "df.collect()"
   ]
  },
  {
   "cell_type": "code",
   "execution_count": null,
   "metadata": {},
   "outputs": [
    {
     "data": {
      "text/html": [
       "<div><style>\n",
       ".dataframe > thead > tr,\n",
       ".dataframe > tbody > tr {\n",
       "  text-align: right;\n",
       "  white-space: pre-wrap;\n",
       "}\n",
       "</style>\n",
       "<small>shape: (1_826, 12)</small><table border=\"1\" class=\"dataframe\"><thead><tr><th>index</th><th>date</th><th>incr_value</th><th>cat1</th><th>cat2</th><th>30_days_prior</th><th>390_days_prior</th><th>sum2</th><th>sum_cat1</th><th>sum_cat2</th><th>sum_catBOTH</th><th>rolling_value_list</th></tr><tr><td>u32</td><td>date</td><td>i64</td><td>str</td><td>str</td><td>str</td><td>str</td><td>i64</td><td>i64</td><td>i64</td><td>i64</td><td>f64</td></tr></thead><tbody><tr><td>0</td><td>2014-01-01</td><td>1</td><td>&quot;B&quot;</td><td>&quot;C&quot;</td><td>&quot;12/2/2013&quot;</td><td>&quot;12/7/2012&quot;</td><td>0</td><td>0</td><td>0</td><td>0</td><td>0.0</td></tr><tr><td>1</td><td>2014-01-02</td><td>1</td><td>&quot;A&quot;</td><td>&quot;C&quot;</td><td>&quot;12/3/2013&quot;</td><td>&quot;12/8/2012&quot;</td><td>0</td><td>0</td><td>0</td><td>0</td><td>0.0</td></tr><tr><td>2</td><td>2014-01-03</td><td>1</td><td>&quot;B&quot;</td><td>&quot;D&quot;</td><td>&quot;12/4/2013&quot;</td><td>&quot;12/9/2012&quot;</td><td>0</td><td>0</td><td>0</td><td>0</td><td>0.0</td></tr><tr><td>3</td><td>2014-01-04</td><td>1</td><td>&quot;B&quot;</td><td>&quot;D&quot;</td><td>&quot;12/5/2013&quot;</td><td>&quot;12/10/2012&quot;</td><td>0</td><td>0</td><td>0</td><td>0</td><td>0.0</td></tr><tr><td>4</td><td>2014-01-05</td><td>1</td><td>&quot;B&quot;</td><td>&quot;E&quot;</td><td>&quot;12/6/2013&quot;</td><td>&quot;12/11/2012&quot;</td><td>0</td><td>0</td><td>0</td><td>0</td><td>0.0</td></tr><tr><td>5</td><td>2014-01-06</td><td>1</td><td>&quot;A&quot;</td><td>&quot;C&quot;</td><td>&quot;12/7/2013&quot;</td><td>&quot;12/12/2012&quot;</td><td>0</td><td>0</td><td>0</td><td>0</td><td>0.0</td></tr><tr><td>6</td><td>2014-01-07</td><td>1</td><td>&quot;A&quot;</td><td>&quot;C&quot;</td><td>&quot;12/8/2013&quot;</td><td>&quot;12/13/2012&quot;</td><td>0</td><td>0</td><td>0</td><td>0</td><td>0.0</td></tr><tr><td>7</td><td>2014-01-08</td><td>1</td><td>&quot;B&quot;</td><td>&quot;E&quot;</td><td>&quot;12/9/2013&quot;</td><td>&quot;12/14/2012&quot;</td><td>0</td><td>0</td><td>0</td><td>0</td><td>0.0</td></tr><tr><td>8</td><td>2014-01-09</td><td>1</td><td>&quot;B&quot;</td><td>&quot;E&quot;</td><td>&quot;12/10/2013&quot;</td><td>&quot;12/15/2012&quot;</td><td>0</td><td>0</td><td>0</td><td>0</td><td>0.0</td></tr><tr><td>9</td><td>2014-01-10</td><td>1</td><td>&quot;B&quot;</td><td>&quot;C&quot;</td><td>&quot;12/11/2013&quot;</td><td>&quot;12/16/2012&quot;</td><td>0</td><td>0</td><td>0</td><td>0</td><td>0.0</td></tr><tr><td>10</td><td>2014-01-11</td><td>1</td><td>&quot;A&quot;</td><td>&quot;D&quot;</td><td>&quot;12/12/2013&quot;</td><td>&quot;12/17/2012&quot;</td><td>0</td><td>0</td><td>0</td><td>0</td><td>0.0</td></tr><tr><td>11</td><td>2014-01-12</td><td>1</td><td>&quot;A&quot;</td><td>&quot;E&quot;</td><td>&quot;12/13/2013&quot;</td><td>&quot;12/18/2012&quot;</td><td>0</td><td>0</td><td>0</td><td>0</td><td>0.0</td></tr><tr><td>&hellip;</td><td>&hellip;</td><td>&hellip;</td><td>&hellip;</td><td>&hellip;</td><td>&hellip;</td><td>&hellip;</td><td>&hellip;</td><td>&hellip;</td><td>&hellip;</td><td>&hellip;</td><td>&hellip;</td></tr><tr><td>1814</td><td>2018-12-20</td><td>1</td><td>&quot;A&quot;</td><td>&quot;E&quot;</td><td>&quot;11/20/2018&quot;</td><td>&quot;11/25/2017&quot;</td><td>360</td><td>177</td><td>118</td><td>56</td><td>360.0</td></tr><tr><td>1815</td><td>2018-12-21</td><td>1</td><td>&quot;A&quot;</td><td>&quot;C&quot;</td><td>&quot;11/21/2018&quot;</td><td>&quot;11/26/2017&quot;</td><td>360</td><td>177</td><td>109</td><td>55</td><td>360.0</td></tr><tr><td>1816</td><td>2018-12-22</td><td>1</td><td>&quot;A&quot;</td><td>&quot;E&quot;</td><td>&quot;11/22/2018&quot;</td><td>&quot;11/27/2017&quot;</td><td>360</td><td>178</td><td>118</td><td>57</td><td>360.0</td></tr><tr><td>1817</td><td>2018-12-23</td><td>1</td><td>&quot;B&quot;</td><td>&quot;E&quot;</td><td>&quot;11/23/2018&quot;</td><td>&quot;11/28/2017&quot;</td><td>360</td><td>182</td><td>118</td><td>61</td><td>360.0</td></tr><tr><td>1818</td><td>2018-12-24</td><td>1</td><td>&quot;A&quot;</td><td>&quot;E&quot;</td><td>&quot;11/24/2018&quot;</td><td>&quot;11/29/2017&quot;</td><td>360</td><td>179</td><td>118</td><td>58</td><td>360.0</td></tr><tr><td>1819</td><td>2018-12-25</td><td>1</td><td>&quot;B&quot;</td><td>&quot;E&quot;</td><td>&quot;11/25/2018&quot;</td><td>&quot;11/30/2017&quot;</td><td>360</td><td>181</td><td>117</td><td>59</td><td>360.0</td></tr><tr><td>1820</td><td>2018-12-26</td><td>1</td><td>&quot;B&quot;</td><td>&quot;D&quot;</td><td>&quot;11/26/2018&quot;</td><td>&quot;12/1/2017&quot;</td><td>360</td><td>181</td><td>135</td><td>68</td><td>360.0</td></tr><tr><td>1821</td><td>2018-12-27</td><td>1</td><td>&quot;B&quot;</td><td>&quot;E&quot;</td><td>&quot;11/27/2018&quot;</td><td>&quot;12/2/2017&quot;</td><td>360</td><td>182</td><td>116</td><td>59</td><td>360.0</td></tr><tr><td>1822</td><td>2018-12-28</td><td>1</td><td>&quot;B&quot;</td><td>&quot;E&quot;</td><td>&quot;11/28/2018&quot;</td><td>&quot;12/3/2017&quot;</td><td>360</td><td>181</td><td>116</td><td>58</td><td>360.0</td></tr><tr><td>1823</td><td>2018-12-29</td><td>1</td><td>&quot;A&quot;</td><td>&quot;D&quot;</td><td>&quot;11/29/2018&quot;</td><td>&quot;12/4/2017&quot;</td><td>360</td><td>179</td><td>136</td><td>67</td><td>360.0</td></tr><tr><td>1824</td><td>2018-12-30</td><td>1</td><td>&quot;A&quot;</td><td>&quot;C&quot;</td><td>&quot;11/30/2018&quot;</td><td>&quot;12/5/2017&quot;</td><td>360</td><td>179</td><td>109</td><td>54</td><td>360.0</td></tr><tr><td>1825</td><td>2018-12-31</td><td>1</td><td>&quot;B&quot;</td><td>&quot;C&quot;</td><td>&quot;12/1/2018&quot;</td><td>&quot;12/6/2017&quot;</td><td>360</td><td>181</td><td>109</td><td>55</td><td>360.0</td></tr></tbody></table></div>"
      ],
      "text/plain": [
       "shape: (1_826, 12)\n",
       "┌───────┬────────────┬────────────┬──────┬───┬──────────┬──────────┬─────────────┬─────────────────┐\n",
       "│ index ┆ date       ┆ incr_value ┆ cat1 ┆ … ┆ sum_cat1 ┆ sum_cat2 ┆ sum_catBOTH ┆ rolling_value_l │\n",
       "│ ---   ┆ ---        ┆ ---        ┆ ---  ┆   ┆ ---      ┆ ---      ┆ ---         ┆ ist             │\n",
       "│ u32   ┆ date       ┆ i64        ┆ str  ┆   ┆ i64      ┆ i64      ┆ i64         ┆ ---             │\n",
       "│       ┆            ┆            ┆      ┆   ┆          ┆          ┆             ┆ f64             │\n",
       "╞═══════╪════════════╪════════════╪══════╪═══╪══════════╪══════════╪═════════════╪═════════════════╡\n",
       "│ 0     ┆ 2014-01-01 ┆ 1          ┆ B    ┆ … ┆ 0        ┆ 0        ┆ 0           ┆ 0.0             │\n",
       "│ 1     ┆ 2014-01-02 ┆ 1          ┆ A    ┆ … ┆ 0        ┆ 0        ┆ 0           ┆ 0.0             │\n",
       "│ 2     ┆ 2014-01-03 ┆ 1          ┆ B    ┆ … ┆ 0        ┆ 0        ┆ 0           ┆ 0.0             │\n",
       "│ 3     ┆ 2014-01-04 ┆ 1          ┆ B    ┆ … ┆ 0        ┆ 0        ┆ 0           ┆ 0.0             │\n",
       "│ 4     ┆ 2014-01-05 ┆ 1          ┆ B    ┆ … ┆ 0        ┆ 0        ┆ 0           ┆ 0.0             │\n",
       "│ …     ┆ …          ┆ …          ┆ …    ┆ … ┆ …        ┆ …        ┆ …           ┆ …               │\n",
       "│ 1821  ┆ 2018-12-27 ┆ 1          ┆ B    ┆ … ┆ 182      ┆ 116      ┆ 59          ┆ 360.0           │\n",
       "│ 1822  ┆ 2018-12-28 ┆ 1          ┆ B    ┆ … ┆ 181      ┆ 116      ┆ 58          ┆ 360.0           │\n",
       "│ 1823  ┆ 2018-12-29 ┆ 1          ┆ A    ┆ … ┆ 179      ┆ 136      ┆ 67          ┆ 360.0           │\n",
       "│ 1824  ┆ 2018-12-30 ┆ 1          ┆ A    ┆ … ┆ 179      ┆ 109      ┆ 54          ┆ 360.0           │\n",
       "│ 1825  ┆ 2018-12-31 ┆ 1          ┆ B    ┆ … ┆ 181      ┆ 109      ┆ 55          ┆ 360.0           │\n",
       "└───────┴────────────┴────────────┴──────┴───┴──────────┴──────────┴─────────────┴─────────────────┘"
      ]
     },
     "execution_count": 5,
     "metadata": {},
     "output_type": "execute_result"
    }
   ],
   "source": [
    "lf = (\n",
    "    DynamicRollingSum()\n",
    "    .lf(df)\n",
    "    .x_col(\"incr_value\")\n",
    "    .date_col(\"date\")\n",
    "    .index_col(\"index\")\n",
    "    .offset(30)\n",
    "    .window(360)\n",
    "    .run()\n",
    ")\n",
    "\n",
    "df.join(lf.select([\"index\", \"rolling_value_list\"]), on=\"index\", how=\"left\").collect()"
   ]
  },
  {
   "cell_type": "code",
   "execution_count": null,
   "metadata": {},
   "outputs": [
    {
     "data": {
      "text/html": [
       "<div><style>\n",
       ".dataframe > thead > tr,\n",
       ".dataframe > tbody > tr {\n",
       "  text-align: right;\n",
       "  white-space: pre-wrap;\n",
       "}\n",
       "</style>\n",
       "<small>shape: (1_826, 3)</small><table border=\"1\" class=\"dataframe\"><thead><tr><th>index</th><th>date</th><th>rolling_value_list</th></tr><tr><td>u32</td><td>date</td><td>f64</td></tr></thead><tbody><tr><td>0</td><td>2014-01-01</td><td>0.0</td></tr><tr><td>1</td><td>2014-01-02</td><td>0.0</td></tr><tr><td>2</td><td>2014-01-03</td><td>0.0</td></tr><tr><td>3</td><td>2014-01-04</td><td>0.0</td></tr><tr><td>4</td><td>2014-01-05</td><td>0.0</td></tr><tr><td>5</td><td>2014-01-06</td><td>0.0</td></tr><tr><td>6</td><td>2014-01-07</td><td>0.0</td></tr><tr><td>7</td><td>2014-01-08</td><td>0.0</td></tr><tr><td>8</td><td>2014-01-09</td><td>0.0</td></tr><tr><td>9</td><td>2014-01-10</td><td>0.0</td></tr><tr><td>10</td><td>2014-01-11</td><td>0.0</td></tr><tr><td>11</td><td>2014-01-12</td><td>0.0</td></tr><tr><td>&hellip;</td><td>&hellip;</td><td>&hellip;</td></tr><tr><td>1814</td><td>2018-12-20</td><td>360.0</td></tr><tr><td>1815</td><td>2018-12-21</td><td>360.0</td></tr><tr><td>1816</td><td>2018-12-22</td><td>360.0</td></tr><tr><td>1817</td><td>2018-12-23</td><td>360.0</td></tr><tr><td>1818</td><td>2018-12-24</td><td>360.0</td></tr><tr><td>1819</td><td>2018-12-25</td><td>360.0</td></tr><tr><td>1820</td><td>2018-12-26</td><td>360.0</td></tr><tr><td>1821</td><td>2018-12-27</td><td>360.0</td></tr><tr><td>1822</td><td>2018-12-28</td><td>360.0</td></tr><tr><td>1823</td><td>2018-12-29</td><td>360.0</td></tr><tr><td>1824</td><td>2018-12-30</td><td>360.0</td></tr><tr><td>1825</td><td>2018-12-31</td><td>360.0</td></tr></tbody></table></div>"
      ],
      "text/plain": [
       "shape: (1_826, 3)\n",
       "┌───────┬────────────┬────────────────────┐\n",
       "│ index ┆ date       ┆ rolling_value_list │\n",
       "│ ---   ┆ ---        ┆ ---                │\n",
       "│ u32   ┆ date       ┆ f64                │\n",
       "╞═══════╪════════════╪════════════════════╡\n",
       "│ 0     ┆ 2014-01-01 ┆ 0.0                │\n",
       "│ 1     ┆ 2014-01-02 ┆ 0.0                │\n",
       "│ 2     ┆ 2014-01-03 ┆ 0.0                │\n",
       "│ 3     ┆ 2014-01-04 ┆ 0.0                │\n",
       "│ 4     ┆ 2014-01-05 ┆ 0.0                │\n",
       "│ …     ┆ …          ┆ …                  │\n",
       "│ 1821  ┆ 2018-12-27 ┆ 360.0              │\n",
       "│ 1822  ┆ 2018-12-28 ┆ 360.0              │\n",
       "│ 1823  ┆ 2018-12-29 ┆ 360.0              │\n",
       "│ 1824  ┆ 2018-12-30 ┆ 360.0              │\n",
       "│ 1825  ┆ 2018-12-31 ┆ 360.0              │\n",
       "└───────┴────────────┴────────────────────┘"
      ]
     },
     "execution_count": 70,
     "metadata": {},
     "output_type": "execute_result"
    }
   ],
   "source": [
    "(\n",
    "    lf.with_columns(\n",
    "        [\n",
    "            pl.col(\"date_list\")\n",
    "            .list.eval(pl.element().min())\n",
    "            .list.first()\n",
    "            .alias(\"min_date\"),\n",
    "            pl.col(\"date_list\")\n",
    "            .list.eval(pl.element().max())\n",
    "            .list.first()\n",
    "            .alias(\"max_date\"),\n",
    "            pl.col(\"date_list\").list.len().alias(\"n_dates\"),\n",
    "        ]\n",
    "    )\n",
    "    .explode(\"date_list\")\n",
    "    .with_columns(\n",
    "        [\n",
    "            pl.when(\n",
    "                (pl.col(\"date_list\") >= pl.col(\"min_date\"))\n",
    "                & (pl.col(\"date_list\") <= pl.col(\"max_date\"))\n",
    "            )\n",
    "            .then(\n",
    "                pl.col(\"date_list\")\n",
    "                .dt.to_string(\"%m/%d/%Y\")\n",
    "                .replace(\n",
    "                    old=dateval.collect()\n",
    "                    .sort(\"date\")\n",
    "                    .select(pl.col(\"date\").dt.to_string(\"%m/%d/%Y\").name.keep())\n",
    "                    .to_series(),\n",
    "                    new=dateval.collect().sort(\"date\").select(\"incr_value\").to_series(),\n",
    "                )\n",
    "            )\n",
    "            .otherwise(pl.lit(0.0))\n",
    "            .str.to_decimal()\n",
    "            .fill_null(0.0)\n",
    "            .alias(\"value_list\")\n",
    "        ]\n",
    "    )\n",
    "    .collect()\n",
    "    .select([pl.col(\"index\"), pl.col(\"date\"), pl.col(\"value_list\")])\n",
    "    .lazy()\n",
    "    .with_columns([pl.col(\"value_list\").sum().over(\"index\").name.prefix(\"rolling_\")])\n",
    "    .drop(\"value_list\")\n",
    "    .unique()\n",
    "    .sort(\"index\")\n",
    "    .collect()\n",
    ")"
   ]
  },
  {
   "cell_type": "code",
   "execution_count": null,
   "metadata": {},
   "outputs": [
    {
     "data": {
      "text/html": [
       "<div><style>\n",
       ".dataframe > thead > tr,\n",
       ".dataframe > tbody > tr {\n",
       "  text-align: right;\n",
       "  white-space: pre-wrap;\n",
       "}\n",
       "</style>\n",
       "<small>shape: (1_826, 12)</small><table border=\"1\" class=\"dataframe\"><thead><tr><th>index</th><th>date</th><th>incr_value</th><th>cat1</th><th>cat2</th><th>30_days_prior</th><th>390_days_prior</th><th>sum2</th><th>sum_cat1</th><th>sum_cat2</th><th>sum_catBOTH</th><th>category</th></tr><tr><td>u32</td><td>date</td><td>i64</td><td>str</td><td>str</td><td>str</td><td>str</td><td>i64</td><td>i64</td><td>i64</td><td>i64</td><td>struct[1]</td></tr></thead><tbody><tr><td>0</td><td>2014-01-01</td><td>1</td><td>&quot;B&quot;</td><td>&quot;C&quot;</td><td>&quot;12/2/2013&quot;</td><td>&quot;12/7/2012&quot;</td><td>0</td><td>0</td><td>0</td><td>0</td><td>{&quot;B&quot;}</td></tr><tr><td>1</td><td>2014-01-02</td><td>1</td><td>&quot;A&quot;</td><td>&quot;C&quot;</td><td>&quot;12/3/2013&quot;</td><td>&quot;12/8/2012&quot;</td><td>0</td><td>0</td><td>0</td><td>0</td><td>{&quot;A&quot;}</td></tr><tr><td>2</td><td>2014-01-03</td><td>1</td><td>&quot;B&quot;</td><td>&quot;D&quot;</td><td>&quot;12/4/2013&quot;</td><td>&quot;12/9/2012&quot;</td><td>0</td><td>0</td><td>0</td><td>0</td><td>{&quot;B&quot;}</td></tr><tr><td>3</td><td>2014-01-04</td><td>1</td><td>&quot;B&quot;</td><td>&quot;D&quot;</td><td>&quot;12/5/2013&quot;</td><td>&quot;12/10/2012&quot;</td><td>0</td><td>0</td><td>0</td><td>0</td><td>{&quot;B&quot;}</td></tr><tr><td>4</td><td>2014-01-05</td><td>1</td><td>&quot;B&quot;</td><td>&quot;E&quot;</td><td>&quot;12/6/2013&quot;</td><td>&quot;12/11/2012&quot;</td><td>0</td><td>0</td><td>0</td><td>0</td><td>{&quot;B&quot;}</td></tr><tr><td>5</td><td>2014-01-06</td><td>1</td><td>&quot;A&quot;</td><td>&quot;C&quot;</td><td>&quot;12/7/2013&quot;</td><td>&quot;12/12/2012&quot;</td><td>0</td><td>0</td><td>0</td><td>0</td><td>{&quot;A&quot;}</td></tr><tr><td>6</td><td>2014-01-07</td><td>1</td><td>&quot;A&quot;</td><td>&quot;C&quot;</td><td>&quot;12/8/2013&quot;</td><td>&quot;12/13/2012&quot;</td><td>0</td><td>0</td><td>0</td><td>0</td><td>{&quot;A&quot;}</td></tr><tr><td>7</td><td>2014-01-08</td><td>1</td><td>&quot;B&quot;</td><td>&quot;E&quot;</td><td>&quot;12/9/2013&quot;</td><td>&quot;12/14/2012&quot;</td><td>0</td><td>0</td><td>0</td><td>0</td><td>{&quot;B&quot;}</td></tr><tr><td>8</td><td>2014-01-09</td><td>1</td><td>&quot;B&quot;</td><td>&quot;E&quot;</td><td>&quot;12/10/2013&quot;</td><td>&quot;12/15/2012&quot;</td><td>0</td><td>0</td><td>0</td><td>0</td><td>{&quot;B&quot;}</td></tr><tr><td>9</td><td>2014-01-10</td><td>1</td><td>&quot;B&quot;</td><td>&quot;C&quot;</td><td>&quot;12/11/2013&quot;</td><td>&quot;12/16/2012&quot;</td><td>0</td><td>0</td><td>0</td><td>0</td><td>{&quot;B&quot;}</td></tr><tr><td>10</td><td>2014-01-11</td><td>1</td><td>&quot;A&quot;</td><td>&quot;D&quot;</td><td>&quot;12/12/2013&quot;</td><td>&quot;12/17/2012&quot;</td><td>0</td><td>0</td><td>0</td><td>0</td><td>{&quot;A&quot;}</td></tr><tr><td>11</td><td>2014-01-12</td><td>1</td><td>&quot;A&quot;</td><td>&quot;E&quot;</td><td>&quot;12/13/2013&quot;</td><td>&quot;12/18/2012&quot;</td><td>0</td><td>0</td><td>0</td><td>0</td><td>{&quot;A&quot;}</td></tr><tr><td>&hellip;</td><td>&hellip;</td><td>&hellip;</td><td>&hellip;</td><td>&hellip;</td><td>&hellip;</td><td>&hellip;</td><td>&hellip;</td><td>&hellip;</td><td>&hellip;</td><td>&hellip;</td><td>&hellip;</td></tr><tr><td>1814</td><td>2018-12-20</td><td>1</td><td>&quot;A&quot;</td><td>&quot;E&quot;</td><td>&quot;11/20/2018&quot;</td><td>&quot;11/25/2017&quot;</td><td>360</td><td>177</td><td>118</td><td>56</td><td>{&quot;A&quot;}</td></tr><tr><td>1815</td><td>2018-12-21</td><td>1</td><td>&quot;A&quot;</td><td>&quot;C&quot;</td><td>&quot;11/21/2018&quot;</td><td>&quot;11/26/2017&quot;</td><td>360</td><td>177</td><td>109</td><td>55</td><td>{&quot;A&quot;}</td></tr><tr><td>1816</td><td>2018-12-22</td><td>1</td><td>&quot;A&quot;</td><td>&quot;E&quot;</td><td>&quot;11/22/2018&quot;</td><td>&quot;11/27/2017&quot;</td><td>360</td><td>178</td><td>118</td><td>57</td><td>{&quot;A&quot;}</td></tr><tr><td>1817</td><td>2018-12-23</td><td>1</td><td>&quot;B&quot;</td><td>&quot;E&quot;</td><td>&quot;11/23/2018&quot;</td><td>&quot;11/28/2017&quot;</td><td>360</td><td>182</td><td>118</td><td>61</td><td>{&quot;B&quot;}</td></tr><tr><td>1818</td><td>2018-12-24</td><td>1</td><td>&quot;A&quot;</td><td>&quot;E&quot;</td><td>&quot;11/24/2018&quot;</td><td>&quot;11/29/2017&quot;</td><td>360</td><td>179</td><td>118</td><td>58</td><td>{&quot;A&quot;}</td></tr><tr><td>1819</td><td>2018-12-25</td><td>1</td><td>&quot;B&quot;</td><td>&quot;E&quot;</td><td>&quot;11/25/2018&quot;</td><td>&quot;11/30/2017&quot;</td><td>360</td><td>181</td><td>117</td><td>59</td><td>{&quot;B&quot;}</td></tr><tr><td>1820</td><td>2018-12-26</td><td>1</td><td>&quot;B&quot;</td><td>&quot;D&quot;</td><td>&quot;11/26/2018&quot;</td><td>&quot;12/1/2017&quot;</td><td>360</td><td>181</td><td>135</td><td>68</td><td>{&quot;B&quot;}</td></tr><tr><td>1821</td><td>2018-12-27</td><td>1</td><td>&quot;B&quot;</td><td>&quot;E&quot;</td><td>&quot;11/27/2018&quot;</td><td>&quot;12/2/2017&quot;</td><td>360</td><td>182</td><td>116</td><td>59</td><td>{&quot;B&quot;}</td></tr><tr><td>1822</td><td>2018-12-28</td><td>1</td><td>&quot;B&quot;</td><td>&quot;E&quot;</td><td>&quot;11/28/2018&quot;</td><td>&quot;12/3/2017&quot;</td><td>360</td><td>181</td><td>116</td><td>58</td><td>{&quot;B&quot;}</td></tr><tr><td>1823</td><td>2018-12-29</td><td>1</td><td>&quot;A&quot;</td><td>&quot;D&quot;</td><td>&quot;11/29/2018&quot;</td><td>&quot;12/4/2017&quot;</td><td>360</td><td>179</td><td>136</td><td>67</td><td>{&quot;A&quot;}</td></tr><tr><td>1824</td><td>2018-12-30</td><td>1</td><td>&quot;A&quot;</td><td>&quot;C&quot;</td><td>&quot;11/30/2018&quot;</td><td>&quot;12/5/2017&quot;</td><td>360</td><td>179</td><td>109</td><td>54</td><td>{&quot;A&quot;}</td></tr><tr><td>1825</td><td>2018-12-31</td><td>1</td><td>&quot;B&quot;</td><td>&quot;C&quot;</td><td>&quot;12/1/2018&quot;</td><td>&quot;12/6/2017&quot;</td><td>360</td><td>181</td><td>109</td><td>55</td><td>{&quot;B&quot;}</td></tr></tbody></table></div>"
      ],
      "text/plain": [
       "shape: (1_826, 12)\n",
       "┌───────┬────────────┬────────────┬──────┬───┬──────────┬──────────┬─────────────┬───────────┐\n",
       "│ index ┆ date       ┆ incr_value ┆ cat1 ┆ … ┆ sum_cat1 ┆ sum_cat2 ┆ sum_catBOTH ┆ category  │\n",
       "│ ---   ┆ ---        ┆ ---        ┆ ---  ┆   ┆ ---      ┆ ---      ┆ ---         ┆ ---       │\n",
       "│ u32   ┆ date       ┆ i64        ┆ str  ┆   ┆ i64      ┆ i64      ┆ i64         ┆ struct[1] │\n",
       "╞═══════╪════════════╪════════════╪══════╪═══╪══════════╪══════════╪═════════════╪═══════════╡\n",
       "│ 0     ┆ 2014-01-01 ┆ 1          ┆ B    ┆ … ┆ 0        ┆ 0        ┆ 0           ┆ {\"B\"}     │\n",
       "│ 1     ┆ 2014-01-02 ┆ 1          ┆ A    ┆ … ┆ 0        ┆ 0        ┆ 0           ┆ {\"A\"}     │\n",
       "│ 2     ┆ 2014-01-03 ┆ 1          ┆ B    ┆ … ┆ 0        ┆ 0        ┆ 0           ┆ {\"B\"}     │\n",
       "│ 3     ┆ 2014-01-04 ┆ 1          ┆ B    ┆ … ┆ 0        ┆ 0        ┆ 0           ┆ {\"B\"}     │\n",
       "│ 4     ┆ 2014-01-05 ┆ 1          ┆ B    ┆ … ┆ 0        ┆ 0        ┆ 0           ┆ {\"B\"}     │\n",
       "│ …     ┆ …          ┆ …          ┆ …    ┆ … ┆ …        ┆ …        ┆ …           ┆ …         │\n",
       "│ 1821  ┆ 2018-12-27 ┆ 1          ┆ B    ┆ … ┆ 182      ┆ 116      ┆ 59          ┆ {\"B\"}     │\n",
       "│ 1822  ┆ 2018-12-28 ┆ 1          ┆ B    ┆ … ┆ 181      ┆ 116      ┆ 58          ┆ {\"B\"}     │\n",
       "│ 1823  ┆ 2018-12-29 ┆ 1          ┆ A    ┆ … ┆ 179      ┆ 136      ┆ 67          ┆ {\"A\"}     │\n",
       "│ 1824  ┆ 2018-12-30 ┆ 1          ┆ A    ┆ … ┆ 179      ┆ 109      ┆ 54          ┆ {\"A\"}     │\n",
       "│ 1825  ┆ 2018-12-31 ┆ 1          ┆ B    ┆ … ┆ 181      ┆ 109      ┆ 55          ┆ {\"B\"}     │\n",
       "└───────┴────────────┴────────────┴──────┴───┴──────────┴──────────┴─────────────┴───────────┘"
      ]
     },
     "execution_count": 2,
     "metadata": {},
     "output_type": "execute_result"
    }
   ],
   "source": [
    "dynamic_rolling_sum_with_categories(df, \"incr_value\", \"date\", \"cat1\").collect()"
   ]
  },
  {
   "cell_type": "code",
   "execution_count": null,
   "metadata": {},
   "outputs": [
    {
     "data": {
      "text/html": [
       "<div><style>\n",
       ".dataframe > thead > tr,\n",
       ".dataframe > tbody > tr {\n",
       "  text-align: right;\n",
       "  white-space: pre-wrap;\n",
       "}\n",
       "</style>\n",
       "<small>shape: (5, 66)</small><table border=\"1\" class=\"dataframe\"><thead><tr><th>mean_radius</th><th>mean_texture</th><th>mean_perimeter</th><th>mean_area</th><th>mean_smoothness</th><th>mean_compactness</th><th>mean_concavity</th><th>mean_concave_points</th><th>mean_symmetry</th><th>mean_fractal_dimension</th><th>radius_error</th><th>texture_error</th><th>perimeter_error</th><th>area_error</th><th>smoothness_error</th><th>compactness_error</th><th>concavity_error</th><th>concave_points_error</th><th>symmetry_error</th><th>fractal_dimension_error</th><th>worst_radius</th><th>worst_texture</th><th>worst_perimeter</th><th>worst_area</th><th>worst_smoothness</th><th>worst_compactness</th><th>worst_concavity</th><th>worst_concave_points</th><th>worst_symmetry</th><th>worst_fractal_dimension</th><th>pc1</th><th>pc2</th><th>y</th><th>fold</th><th>mean_radius_quintile</th><th>mean_texture_quintile</th><th>mean_perimeter_quintile</th><th>mean_area_quintile</th><th>mean_smoothness_quintile</th><th>mean_compactness_quintile</th><th>mean_concavity_quintile</th><th>mean_concave_points_quintile</th><th>mean_symmetry_quintile</th><th>mean_fractal_dimension_quintile</th><th>radius_error_quintile</th><th>texture_error_quintile</th><th>perimeter_error_quintile</th><th>area_error_quintile</th><th>smoothness_error_quintile</th><th>compactness_error_quintile</th><th>concavity_error_quintile</th><th>concave_points_error_quintile</th><th>symmetry_error_quintile</th><th>fractal_dimension_error_quintile</th><th>worst_radius_quintile</th><th>worst_texture_quintile</th><th>worst_perimeter_quintile</th><th>worst_area_quintile</th><th>worst_smoothness_quintile</th><th>worst_compactness_quintile</th><th>worst_concavity_quintile</th><th>worst_concave_points_quintile</th><th>worst_symmetry_quintile</th><th>worst_fractal_dimension_quintile</th><th>pc1_quintile</th><th>pc2_quintile</th></tr><tr><td>f64</td><td>f64</td><td>f64</td><td>f64</td><td>f64</td><td>f64</td><td>f64</td><td>f64</td><td>f64</td><td>f64</td><td>f64</td><td>f64</td><td>f64</td><td>f64</td><td>f64</td><td>f64</td><td>f64</td><td>f64</td><td>f64</td><td>f64</td><td>f64</td><td>f64</td><td>f64</td><td>f64</td><td>f64</td><td>f64</td><td>f64</td><td>f64</td><td>f64</td><td>f64</td><td>f64</td><td>f64</td><td>i64</td><td>i64</td><td>cat</td><td>cat</td><td>cat</td><td>cat</td><td>cat</td><td>cat</td><td>cat</td><td>cat</td><td>cat</td><td>cat</td><td>cat</td><td>cat</td><td>cat</td><td>cat</td><td>cat</td><td>cat</td><td>cat</td><td>cat</td><td>cat</td><td>cat</td><td>cat</td><td>cat</td><td>cat</td><td>cat</td><td>cat</td><td>cat</td><td>cat</td><td>cat</td><td>cat</td><td>cat</td><td>cat</td><td>cat</td></tr></thead><tbody><tr><td>0.2081</td><td>0.912292</td><td>0.347273</td><td>0.046959</td><td>0.57215</td><td>1.774977</td><td>1.015706</td><td>1.02817</td><td>-0.272428</td><td>0.55604</td><td>-0.453216</td><td>-0.462029</td><td>0.358868</td><td>-0.333042</td><td>0.346688</td><td>1.438701</td><td>0.783046</td><td>1.140961</td><td>0.594217</td><td>0.195592</td><td>-0.039178</td><td>0.342424</td><td>0.337735</td><td>-0.168554</td><td>-0.033692</td><td>1.339296</td><td>0.895753</td><td>0.884571</td><td>0.160555</td><td>0.169804</td><td>2.601883</td><td>1.664731</td><td>0</td><td>3</td><td>&quot;4&quot;</td><td>&quot;5&quot;</td><td>&quot;4&quot;</td><td>&quot;4&quot;</td><td>&quot;4&quot;</td><td>&quot;5&quot;</td><td>&quot;5&quot;</td><td>&quot;5&quot;</td><td>&quot;3&quot;</td><td>&quot;4&quot;</td><td>&quot;2&quot;</td><td>&quot;2&quot;</td><td>&quot;4&quot;</td><td>&quot;3&quot;</td><td>&quot;4&quot;</td><td>&quot;5&quot;</td><td>&quot;5&quot;</td><td>&quot;5&quot;</td><td>&quot;4&quot;</td><td>&quot;4&quot;</td><td>&quot;4&quot;</td><td>&quot;4&quot;</td><td>&quot;4&quot;</td><td>&quot;4&quot;</td><td>&quot;3&quot;</td><td>&quot;5&quot;</td><td>&quot;5&quot;</td><td>&quot;4&quot;</td><td>&quot;4&quot;</td><td>&quot;4&quot;</td><td>&quot;4&quot;</td><td>&quot;5&quot;</td></tr><tr><td>-1.684571</td><td>-0.57005</td><td>-1.658278</td><td>-1.288347</td><td>-0.737294</td><td>-0.85113</td><td>-0.9155</td><td>-1.109197</td><td>-0.155598</td><td>0.316465</td><td>-0.898232</td><td>-0.472008</td><td>-0.877224</td><td>-0.706961</td><td>0.642366</td><td>-0.50402</td><td>-0.530967</td><td>-0.953653</td><td>0.62933</td><td>-0.458783</td><td>-1.512777</td><td>-0.605327</td><td>-1.489328</td><td>-1.122222</td><td>-0.11698</td><td>-0.754239</td><td>-0.975761</td><td>-1.354653</td><td>0.330422</td><td>-0.546168</td><td>-4.564517</td><td>1.565109</td><td>1</td><td>5</td><td>&quot;1&quot;</td><td>&quot;2&quot;</td><td>&quot;1&quot;</td><td>&quot;1&quot;</td><td>&quot;2&quot;</td><td>&quot;2&quot;</td><td>&quot;1&quot;</td><td>&quot;1&quot;</td><td>&quot;3&quot;</td><td>&quot;4&quot;</td><td>&quot;1&quot;</td><td>&quot;2&quot;</td><td>&quot;1&quot;</td><td>&quot;1&quot;</td><td>&quot;5&quot;</td><td>&quot;2&quot;</td><td>&quot;2&quot;</td><td>&quot;1&quot;</td><td>&quot;5&quot;</td><td>&quot;2&quot;</td><td>&quot;1&quot;</td><td>&quot;2&quot;</td><td>&quot;1&quot;</td><td>&quot;1&quot;</td><td>&quot;3&quot;</td><td>&quot;2&quot;</td><td>&quot;1&quot;</td><td>&quot;1&quot;</td><td>&quot;4&quot;</td><td>&quot;2&quot;</td><td>&quot;1&quot;</td><td>&quot;4&quot;</td></tr><tr><td>-0.825712</td><td>0.132725</td><td>-0.825</td><td>-0.761051</td><td>0.643316</td><td>-0.692695</td><td>-1.052023</td><td>-1.066224</td><td>0.468713</td><td>-0.356897</td><td>-0.38825</td><td>1.35921</td><td>-0.449022</td><td>-0.455811</td><td>1.949753</td><td>-0.806941</td><td>-0.948182</td><td>-1.107752</td><td>2.65013</td><td>-0.69292</td><td>-0.888216</td><td>0.016737</td><td>-0.904036</td><td>-0.781363</td><td>0.439736</td><td>-1.002397</td><td>-1.241784</td><td>-1.437181</td><td>0.632947</td><td>-1.037706</td><td>-3.127716</td><td>1.357112</td><td>1</td><td>4</td><td>&quot;1&quot;</td><td>&quot;3&quot;</td><td>&quot;1&quot;</td><td>&quot;1&quot;</td><td>&quot;4&quot;</td><td>&quot;2&quot;</td><td>&quot;1&quot;</td><td>&quot;1&quot;</td><td>&quot;4&quot;</td><td>&quot;3&quot;</td><td>&quot;3&quot;</td><td>&quot;5&quot;</td><td>&quot;2&quot;</td><td>&quot;2&quot;</td><td>&quot;5&quot;</td><td>&quot;1&quot;</td><td>&quot;1&quot;</td><td>&quot;1&quot;</td><td>&quot;5&quot;</td><td>&quot;1&quot;</td><td>&quot;1&quot;</td><td>&quot;3&quot;</td><td>&quot;1&quot;</td><td>&quot;1&quot;</td><td>&quot;4&quot;</td><td>&quot;1&quot;</td><td>&quot;1&quot;</td><td>&quot;1&quot;</td><td>&quot;5&quot;</td><td>&quot;1&quot;</td><td>&quot;1&quot;</td><td>&quot;4&quot;</td></tr><tr><td>-0.169639</td><td>-1.943019</td><td>-0.167192</td><td>-0.27215</td><td>2.329937</td><td>0.006804</td><td>-0.251467</td><td>0.429234</td><td>2.1591</td><td>0.512094</td><td>0.017786</td><td>-0.368046</td><td>-0.105966</td><td>-0.169129</td><td>2.11976</td><td>0.162743</td><td>-0.672216</td><td>-0.577002</td><td>0.626908</td><td>0.896114</td><td>-0.453343</td><td>-2.147457</td><td>-0.473631</td><td>-0.483572</td><td>0.558093</td><td>-0.740244</td><td>-0.89617</td><td>-0.617229</td><td>-0.308601</td><td>-0.666975</td><td>-0.807603</td><td>2.071959</td><td>1</td><td>5</td><td>&quot;3&quot;</td><td>&quot;1&quot;</td><td>&quot;3&quot;</td><td>&quot;3&quot;</td><td>&quot;5&quot;</td><td>&quot;3&quot;</td><td>&quot;3&quot;</td><td>&quot;4&quot;</td><td>&quot;5&quot;</td><td>&quot;4&quot;</td><td>&quot;4&quot;</td><td>&quot;3&quot;</td><td>&quot;4&quot;</td><td>&quot;4&quot;</td><td>&quot;5&quot;</td><td>&quot;4&quot;</td><td>&quot;1&quot;</td><td>&quot;2&quot;</td><td>&quot;5&quot;</td><td>&quot;5&quot;</td><td>&quot;3&quot;</td><td>&quot;1&quot;</td><td>&quot;3&quot;</td><td>&quot;3&quot;</td><td>&quot;4&quot;</td><td>&quot;2&quot;</td><td>&quot;1&quot;</td><td>&quot;2&quot;</td><td>&quot;3&quot;</td><td>&quot;2&quot;</td><td>&quot;3&quot;</td><td>&quot;5&quot;</td></tr><tr><td>-0.215082</td><td>-0.674768</td><td>-0.241747</td><td>-0.288361</td><td>-1.794101</td><td>-0.58922</td><td>-0.098925</td><td>-0.539588</td><td>-1.422476</td><td>-0.647506</td><td>-0.870802</td><td>-0.139439</td><td>-0.813365</td><td>-0.56494</td><td>-0.374008</td><td>0.403626</td><td>0.586093</td><td>-0.229711</td><td>-1.024602</td><td>0.106325</td><td>-0.416068</td><td>-0.47668</td><td>-0.454866</td><td>-0.436812</td><td>-1.309316</td><td>-0.007411</td><td>0.28119</td><td>-0.378019</td><td>-1.379572</td><td>-0.424808</td><td>-2.212381</td><td>-0.936765</td><td>1</td><td>1</td><td>&quot;3&quot;</td><td>&quot;2&quot;</td><td>&quot;3&quot;</td><td>&quot;3&quot;</td><td>&quot;1&quot;</td><td>&quot;2&quot;</td><td>&quot;3&quot;</td><td>&quot;3&quot;</td><td>&quot;1&quot;</td><td>&quot;2&quot;</td><td>&quot;1&quot;</td><td>&quot;3&quot;</td><td>&quot;1&quot;</td><td>&quot;1&quot;</td><td>&quot;3&quot;</td><td>&quot;4&quot;</td><td>&quot;5&quot;</td><td>&quot;3&quot;</td><td>&quot;1&quot;</td><td>&quot;4&quot;</td><td>&quot;3&quot;</td><td>&quot;2&quot;</td><td>&quot;3&quot;</td><td>&quot;3&quot;</td><td>&quot;1&quot;</td><td>&quot;4&quot;</td><td>&quot;4&quot;</td><td>&quot;3&quot;</td><td>&quot;1&quot;</td><td>&quot;2&quot;</td><td>&quot;2&quot;</td><td>&quot;2&quot;</td></tr></tbody></table></div>"
      ],
      "text/plain": [
       "shape: (5, 66)\n",
       "┌───────────┬───────────┬───────────┬───────────┬───┬───────────┬───────────┬───────────┬──────────┐\n",
       "│ mean_radi ┆ mean_text ┆ mean_peri ┆ mean_area ┆ … ┆ worst_sym ┆ worst_fra ┆ pc1_quint ┆ pc2_quin │\n",
       "│ us        ┆ ure       ┆ meter     ┆ ---       ┆   ┆ metry_qui ┆ ctal_dime ┆ ile       ┆ tile     │\n",
       "│ ---       ┆ ---       ┆ ---       ┆ f64       ┆   ┆ ntile     ┆ nsion_qui ┆ ---       ┆ ---      │\n",
       "│ f64       ┆ f64       ┆ f64       ┆           ┆   ┆ ---       ┆ ntile     ┆ cat       ┆ cat      │\n",
       "│           ┆           ┆           ┆           ┆   ┆ cat       ┆ ---       ┆           ┆          │\n",
       "│           ┆           ┆           ┆           ┆   ┆           ┆ cat       ┆           ┆          │\n",
       "╞═══════════╪═══════════╪═══════════╪═══════════╪═══╪═══════════╪═══════════╪═══════════╪══════════╡\n",
       "│ 0.2081    ┆ 0.912292  ┆ 0.347273  ┆ 0.046959  ┆ … ┆ 4         ┆ 4         ┆ 4         ┆ 5        │\n",
       "│ -1.684571 ┆ -0.57005  ┆ -1.658278 ┆ -1.288347 ┆ … ┆ 4         ┆ 2         ┆ 1         ┆ 4        │\n",
       "│ -0.825712 ┆ 0.132725  ┆ -0.825    ┆ -0.761051 ┆ … ┆ 5         ┆ 1         ┆ 1         ┆ 4        │\n",
       "│ -0.169639 ┆ -1.943019 ┆ -0.167192 ┆ -0.27215  ┆ … ┆ 3         ┆ 2         ┆ 3         ┆ 5        │\n",
       "│ -0.215082 ┆ -0.674768 ┆ -0.241747 ┆ -0.288361 ┆ … ┆ 1         ┆ 2         ┆ 2         ┆ 2        │\n",
       "└───────────┴───────────┴───────────┴───────────┴───┴───────────┴───────────┴───────────┴──────────┘"
      ]
     },
     "execution_count": 1,
     "metadata": {},
     "output_type": "execute_result"
    }
   ],
   "source": [
    "import numpy as np\n",
    "import pandas as pd\n",
    "import polars as pl\n",
    "from sklearn.datasets import load_breast_cancer\n",
    "from sklearn.decomposition import PCA\n",
    "from sklearn.model_selection import train_test_split\n",
    "from sklearn.preprocessing import StandardScaler\n",
    "\n",
    "from predictables.core.src._UnivariateAnalysis import UnivariateAnalysis\n",
    "from predictables.util import to_pl_lf\n",
    "\n",
    "# Load the breast cancer dataset\n",
    "bcancer = load_breast_cancer()\n",
    "cancery = pd.Series(bcancer.target, name=\"y\").map({0: \"malignant\", 1: \"benign\"})\n",
    "cancerdf = pd.DataFrame(\n",
    "    bcancer.data, columns=[c.replace(\" \", \"_\") for c in bcancer.feature_names]\n",
    ")\n",
    "\n",
    "# Standardize the data\n",
    "scaler = StandardScaler()\n",
    "cancerdf = pd.DataFrame(scaler.fit_transform(cancerdf), columns=cancerdf.columns)\n",
    "\n",
    "# Split the data\n",
    "X_train, X_test, y_train, y_test = train_test_split(\n",
    "    cancerdf, cancery, test_size=0.2, random_state=42, stratify=cancery\n",
    ")\n",
    "X_train, X_val, y_train, y_val = train_test_split(\n",
    "    X_train, y_train, test_size=0.25, random_state=42, stratify=y_train\n",
    ")\n",
    "\n",
    "# Perform PCA\n",
    "pca = PCA(n_components=2)\n",
    "X_train_pca = pd.DataFrame(\n",
    "    pca.fit_transform(X_train), columns=[\"pc1\", \"pc2\"], index=X_train.index\n",
    ")\n",
    "X_val_pca = pd.DataFrame(\n",
    "    pca.transform(X_val), columns=[\"pc1\", \"pc2\"], index=X_val.index\n",
    ")\n",
    "X_test_pca = pd.DataFrame(\n",
    "    pca.transform(X_test), columns=[\"pc1\", \"pc2\"], index=X_test.index\n",
    ")\n",
    "\n",
    "# Combine the data\n",
    "df_train = pd.concat([X_train, X_train_pca], axis=1)\n",
    "df_val = pd.concat([X_val, X_val_pca], axis=1)\n",
    "df_test = pd.concat([X_test, X_test_pca], axis=1)\n",
    "\n",
    "# Add the target variable\n",
    "df_train[\"y\"] = y_train.map({\"malignant\": 0, \"benign\": 1}).values\n",
    "df_val[\"y\"] = y_val.map({\"malignant\": 0, \"benign\": 1}).values\n",
    "df_test[\"y\"] = y_test.map({\"malignant\": 0, \"benign\": 1}).values\n",
    "\n",
    "# Randomly sort training data into 5 cross-validation folds\n",
    "rg = np.random.default_rng(42)\n",
    "df_train[\"fold\"] = rg.choice(range(5), size=df_train.shape[0]) + 1\n",
    "\n",
    "df_train.to_parquet(\"cancer_train.parquet\")\n",
    "df_val.to_parquet(\"cancer_val.parquet\")\n",
    "df_test.to_parquet(\"cancer_test.parquet\")\n",
    "\n",
    "\n",
    "def quintile(x: str) -> pl.Expr:\n",
    "    return (\n",
    "        pl.when(pl.col(x) < pl.col(x).quantile(0.2))\n",
    "        .then(1)\n",
    "        .otherwise(\n",
    "            pl.when(pl.col(x) < pl.col(x).quantile(0.4))\n",
    "            .then(2)\n",
    "            .otherwise(\n",
    "                pl.when(pl.col(x) < pl.col(x).quantile(0.6))\n",
    "                .then(3)\n",
    "                .otherwise(\n",
    "                    pl.when(pl.col(x) < pl.col(x).quantile(0.8)).then(4).otherwise(5)\n",
    "                )\n",
    "            )\n",
    "        )\n",
    "        .cast(pl.Utf8)\n",
    "        .cast(pl.Categorical)\n",
    "        .alias(f\"{x}_quintile\")\n",
    "    )\n",
    "\n",
    "\n",
    "cols = [\n",
    "    \"mean_radius\",\n",
    "    \"mean_texture\",\n",
    "    \"mean_perimeter\",\n",
    "    \"mean_area\",\n",
    "    \"mean_smoothness\",\n",
    "    \"mean_compactness\",\n",
    "    \"mean_concavity\",\n",
    "    \"mean_concave_points\",\n",
    "    \"mean_symmetry\",\n",
    "    \"mean_fractal_dimension\",\n",
    "    \"radius_error\",\n",
    "    \"texture_error\",\n",
    "    \"perimeter_error\",\n",
    "    \"area_error\",\n",
    "    \"smoothness_error\",\n",
    "    \"compactness_error\",\n",
    "    \"concavity_error\",\n",
    "    \"concave_points_error\",\n",
    "    \"symmetry_error\",\n",
    "    \"fractal_dimension_error\",\n",
    "    \"worst_radius\",\n",
    "    \"worst_texture\",\n",
    "    \"worst_perimeter\",\n",
    "    \"worst_area\",\n",
    "    \"worst_smoothness\",\n",
    "    \"worst_compactness\",\n",
    "    \"worst_concavity\",\n",
    "    \"worst_concave_points\",\n",
    "    \"worst_symmetry\",\n",
    "    \"worst_fractal_dimension\",\n",
    "    \"pc1\",\n",
    "    \"pc2\",\n",
    "]\n",
    "\n",
    "quintile_expr = [quintile(c) for c in cols]\n",
    "\n",
    "df_train = to_pl_lf(df_train).with_columns(quintile_expr)\n",
    "df_val = to_pl_lf(df_val).with_columns(quintile_expr)\n",
    "df_test = to_pl_lf(df_test).with_columns(quintile_expr)\n",
    "\n",
    "df_train.head().collect()"
   ]
  },
  {
   "cell_type": "code",
   "execution_count": null,
   "metadata": {},
   "outputs": [
    {
     "data": {
      "text/html": [
       "<div><style>\n",
       ".dataframe > thead > tr,\n",
       ".dataframe > tbody > tr {\n",
       "  text-align: right;\n",
       "  white-space: pre-wrap;\n",
       "}\n",
       "</style>\n",
       "<small>shape: (5, 66)</small><table border=\"1\" class=\"dataframe\"><thead><tr><th>mean_radius</th><th>mean_texture</th><th>mean_perimeter</th><th>mean_area</th><th>mean_smoothness</th><th>mean_compactness</th><th>mean_concavity</th><th>mean_concave_points</th><th>mean_symmetry</th><th>mean_fractal_dimension</th><th>radius_error</th><th>texture_error</th><th>perimeter_error</th><th>area_error</th><th>smoothness_error</th><th>compactness_error</th><th>concavity_error</th><th>concave_points_error</th><th>symmetry_error</th><th>fractal_dimension_error</th><th>worst_radius</th><th>worst_texture</th><th>worst_perimeter</th><th>worst_area</th><th>worst_smoothness</th><th>worst_compactness</th><th>worst_concavity</th><th>worst_concave_points</th><th>worst_symmetry</th><th>worst_fractal_dimension</th><th>pc1</th><th>pc2</th><th>y</th><th>fold</th><th>mean_radius_quintile</th><th>mean_texture_quintile</th><th>mean_perimeter_quintile</th><th>mean_area_quintile</th><th>mean_smoothness_quintile</th><th>mean_compactness_quintile</th><th>mean_concavity_quintile</th><th>mean_concave_points_quintile</th><th>mean_symmetry_quintile</th><th>mean_fractal_dimension_quintile</th><th>radius_error_quintile</th><th>texture_error_quintile</th><th>perimeter_error_quintile</th><th>area_error_quintile</th><th>smoothness_error_quintile</th><th>compactness_error_quintile</th><th>concavity_error_quintile</th><th>concave_points_error_quintile</th><th>symmetry_error_quintile</th><th>fractal_dimension_error_quintile</th><th>worst_radius_quintile</th><th>worst_texture_quintile</th><th>worst_perimeter_quintile</th><th>worst_area_quintile</th><th>worst_smoothness_quintile</th><th>worst_compactness_quintile</th><th>worst_concavity_quintile</th><th>worst_concave_points_quintile</th><th>worst_symmetry_quintile</th><th>worst_fractal_dimension_quintile</th><th>pc1_quintile</th><th>pc2_quintile</th></tr><tr><td>f64</td><td>f64</td><td>f64</td><td>f64</td><td>f64</td><td>f64</td><td>f64</td><td>f64</td><td>f64</td><td>f64</td><td>f64</td><td>f64</td><td>f64</td><td>f64</td><td>f64</td><td>f64</td><td>f64</td><td>f64</td><td>f64</td><td>f64</td><td>f64</td><td>f64</td><td>f64</td><td>f64</td><td>f64</td><td>f64</td><td>f64</td><td>f64</td><td>f64</td><td>f64</td><td>f64</td><td>f64</td><td>i64</td><td>i64</td><td>cat</td><td>cat</td><td>cat</td><td>cat</td><td>cat</td><td>cat</td><td>cat</td><td>cat</td><td>cat</td><td>cat</td><td>cat</td><td>cat</td><td>cat</td><td>cat</td><td>cat</td><td>cat</td><td>cat</td><td>cat</td><td>cat</td><td>cat</td><td>cat</td><td>cat</td><td>cat</td><td>cat</td><td>cat</td><td>cat</td><td>cat</td><td>cat</td><td>cat</td><td>cat</td><td>cat</td><td>cat</td></tr></thead><tbody><tr><td>0.2081</td><td>0.912292</td><td>0.347273</td><td>0.046959</td><td>0.57215</td><td>1.774977</td><td>1.015706</td><td>1.02817</td><td>-0.272428</td><td>0.55604</td><td>-0.453216</td><td>-0.462029</td><td>0.358868</td><td>-0.333042</td><td>0.346688</td><td>1.438701</td><td>0.783046</td><td>1.140961</td><td>0.594217</td><td>0.195592</td><td>-0.039178</td><td>0.342424</td><td>0.337735</td><td>-0.168554</td><td>-0.033692</td><td>1.339296</td><td>0.895753</td><td>0.884571</td><td>0.160555</td><td>0.169804</td><td>2.601883</td><td>1.664731</td><td>0</td><td>3</td><td>&quot;4&quot;</td><td>&quot;5&quot;</td><td>&quot;4&quot;</td><td>&quot;4&quot;</td><td>&quot;4&quot;</td><td>&quot;5&quot;</td><td>&quot;5&quot;</td><td>&quot;5&quot;</td><td>&quot;3&quot;</td><td>&quot;4&quot;</td><td>&quot;2&quot;</td><td>&quot;2&quot;</td><td>&quot;4&quot;</td><td>&quot;3&quot;</td><td>&quot;4&quot;</td><td>&quot;5&quot;</td><td>&quot;5&quot;</td><td>&quot;5&quot;</td><td>&quot;4&quot;</td><td>&quot;4&quot;</td><td>&quot;4&quot;</td><td>&quot;4&quot;</td><td>&quot;4&quot;</td><td>&quot;4&quot;</td><td>&quot;3&quot;</td><td>&quot;5&quot;</td><td>&quot;5&quot;</td><td>&quot;4&quot;</td><td>&quot;4&quot;</td><td>&quot;4&quot;</td><td>&quot;4&quot;</td><td>&quot;5&quot;</td></tr><tr><td>-1.684571</td><td>-0.57005</td><td>-1.658278</td><td>-1.288347</td><td>-0.737294</td><td>-0.85113</td><td>-0.9155</td><td>-1.109197</td><td>-0.155598</td><td>0.316465</td><td>-0.898232</td><td>-0.472008</td><td>-0.877224</td><td>-0.706961</td><td>0.642366</td><td>-0.50402</td><td>-0.530967</td><td>-0.953653</td><td>0.62933</td><td>-0.458783</td><td>-1.512777</td><td>-0.605327</td><td>-1.489328</td><td>-1.122222</td><td>-0.11698</td><td>-0.754239</td><td>-0.975761</td><td>-1.354653</td><td>0.330422</td><td>-0.546168</td><td>-4.564517</td><td>1.565109</td><td>1</td><td>5</td><td>&quot;1&quot;</td><td>&quot;2&quot;</td><td>&quot;1&quot;</td><td>&quot;1&quot;</td><td>&quot;2&quot;</td><td>&quot;2&quot;</td><td>&quot;1&quot;</td><td>&quot;1&quot;</td><td>&quot;3&quot;</td><td>&quot;4&quot;</td><td>&quot;1&quot;</td><td>&quot;2&quot;</td><td>&quot;1&quot;</td><td>&quot;1&quot;</td><td>&quot;5&quot;</td><td>&quot;2&quot;</td><td>&quot;2&quot;</td><td>&quot;1&quot;</td><td>&quot;5&quot;</td><td>&quot;2&quot;</td><td>&quot;1&quot;</td><td>&quot;2&quot;</td><td>&quot;1&quot;</td><td>&quot;1&quot;</td><td>&quot;3&quot;</td><td>&quot;2&quot;</td><td>&quot;1&quot;</td><td>&quot;1&quot;</td><td>&quot;4&quot;</td><td>&quot;2&quot;</td><td>&quot;1&quot;</td><td>&quot;4&quot;</td></tr><tr><td>-0.825712</td><td>0.132725</td><td>-0.825</td><td>-0.761051</td><td>0.643316</td><td>-0.692695</td><td>-1.052023</td><td>-1.066224</td><td>0.468713</td><td>-0.356897</td><td>-0.38825</td><td>1.35921</td><td>-0.449022</td><td>-0.455811</td><td>1.949753</td><td>-0.806941</td><td>-0.948182</td><td>-1.107752</td><td>2.65013</td><td>-0.69292</td><td>-0.888216</td><td>0.016737</td><td>-0.904036</td><td>-0.781363</td><td>0.439736</td><td>-1.002397</td><td>-1.241784</td><td>-1.437181</td><td>0.632947</td><td>-1.037706</td><td>-3.127716</td><td>1.357112</td><td>1</td><td>4</td><td>&quot;1&quot;</td><td>&quot;3&quot;</td><td>&quot;1&quot;</td><td>&quot;1&quot;</td><td>&quot;4&quot;</td><td>&quot;2&quot;</td><td>&quot;1&quot;</td><td>&quot;1&quot;</td><td>&quot;4&quot;</td><td>&quot;3&quot;</td><td>&quot;3&quot;</td><td>&quot;5&quot;</td><td>&quot;2&quot;</td><td>&quot;2&quot;</td><td>&quot;5&quot;</td><td>&quot;1&quot;</td><td>&quot;1&quot;</td><td>&quot;1&quot;</td><td>&quot;5&quot;</td><td>&quot;1&quot;</td><td>&quot;1&quot;</td><td>&quot;3&quot;</td><td>&quot;1&quot;</td><td>&quot;1&quot;</td><td>&quot;4&quot;</td><td>&quot;1&quot;</td><td>&quot;1&quot;</td><td>&quot;1&quot;</td><td>&quot;5&quot;</td><td>&quot;1&quot;</td><td>&quot;1&quot;</td><td>&quot;4&quot;</td></tr><tr><td>-0.169639</td><td>-1.943019</td><td>-0.167192</td><td>-0.27215</td><td>2.329937</td><td>0.006804</td><td>-0.251467</td><td>0.429234</td><td>2.1591</td><td>0.512094</td><td>0.017786</td><td>-0.368046</td><td>-0.105966</td><td>-0.169129</td><td>2.11976</td><td>0.162743</td><td>-0.672216</td><td>-0.577002</td><td>0.626908</td><td>0.896114</td><td>-0.453343</td><td>-2.147457</td><td>-0.473631</td><td>-0.483572</td><td>0.558093</td><td>-0.740244</td><td>-0.89617</td><td>-0.617229</td><td>-0.308601</td><td>-0.666975</td><td>-0.807603</td><td>2.071959</td><td>1</td><td>5</td><td>&quot;3&quot;</td><td>&quot;1&quot;</td><td>&quot;3&quot;</td><td>&quot;3&quot;</td><td>&quot;5&quot;</td><td>&quot;3&quot;</td><td>&quot;3&quot;</td><td>&quot;4&quot;</td><td>&quot;5&quot;</td><td>&quot;4&quot;</td><td>&quot;4&quot;</td><td>&quot;3&quot;</td><td>&quot;4&quot;</td><td>&quot;4&quot;</td><td>&quot;5&quot;</td><td>&quot;4&quot;</td><td>&quot;1&quot;</td><td>&quot;2&quot;</td><td>&quot;5&quot;</td><td>&quot;5&quot;</td><td>&quot;3&quot;</td><td>&quot;1&quot;</td><td>&quot;3&quot;</td><td>&quot;3&quot;</td><td>&quot;4&quot;</td><td>&quot;2&quot;</td><td>&quot;1&quot;</td><td>&quot;2&quot;</td><td>&quot;3&quot;</td><td>&quot;2&quot;</td><td>&quot;3&quot;</td><td>&quot;5&quot;</td></tr><tr><td>-0.215082</td><td>-0.674768</td><td>-0.241747</td><td>-0.288361</td><td>-1.794101</td><td>-0.58922</td><td>-0.098925</td><td>-0.539588</td><td>-1.422476</td><td>-0.647506</td><td>-0.870802</td><td>-0.139439</td><td>-0.813365</td><td>-0.56494</td><td>-0.374008</td><td>0.403626</td><td>0.586093</td><td>-0.229711</td><td>-1.024602</td><td>0.106325</td><td>-0.416068</td><td>-0.47668</td><td>-0.454866</td><td>-0.436812</td><td>-1.309316</td><td>-0.007411</td><td>0.28119</td><td>-0.378019</td><td>-1.379572</td><td>-0.424808</td><td>-2.212381</td><td>-0.936765</td><td>1</td><td>1</td><td>&quot;3&quot;</td><td>&quot;2&quot;</td><td>&quot;3&quot;</td><td>&quot;3&quot;</td><td>&quot;1&quot;</td><td>&quot;2&quot;</td><td>&quot;3&quot;</td><td>&quot;3&quot;</td><td>&quot;1&quot;</td><td>&quot;2&quot;</td><td>&quot;1&quot;</td><td>&quot;3&quot;</td><td>&quot;1&quot;</td><td>&quot;1&quot;</td><td>&quot;3&quot;</td><td>&quot;4&quot;</td><td>&quot;5&quot;</td><td>&quot;3&quot;</td><td>&quot;1&quot;</td><td>&quot;4&quot;</td><td>&quot;3&quot;</td><td>&quot;2&quot;</td><td>&quot;3&quot;</td><td>&quot;3&quot;</td><td>&quot;1&quot;</td><td>&quot;4&quot;</td><td>&quot;4&quot;</td><td>&quot;3&quot;</td><td>&quot;1&quot;</td><td>&quot;2&quot;</td><td>&quot;2&quot;</td><td>&quot;2&quot;</td></tr></tbody></table></div>"
      ],
      "text/plain": [
       "shape: (5, 66)\n",
       "┌───────────┬───────────┬───────────┬───────────┬───┬───────────┬───────────┬───────────┬──────────┐\n",
       "│ mean_radi ┆ mean_text ┆ mean_peri ┆ mean_area ┆ … ┆ worst_sym ┆ worst_fra ┆ pc1_quint ┆ pc2_quin │\n",
       "│ us        ┆ ure       ┆ meter     ┆ ---       ┆   ┆ metry_qui ┆ ctal_dime ┆ ile       ┆ tile     │\n",
       "│ ---       ┆ ---       ┆ ---       ┆ f64       ┆   ┆ ntile     ┆ nsion_qui ┆ ---       ┆ ---      │\n",
       "│ f64       ┆ f64       ┆ f64       ┆           ┆   ┆ ---       ┆ ntile     ┆ cat       ┆ cat      │\n",
       "│           ┆           ┆           ┆           ┆   ┆ cat       ┆ ---       ┆           ┆          │\n",
       "│           ┆           ┆           ┆           ┆   ┆           ┆ cat       ┆           ┆          │\n",
       "╞═══════════╪═══════════╪═══════════╪═══════════╪═══╪═══════════╪═══════════╪═══════════╪══════════╡\n",
       "│ 0.2081    ┆ 0.912292  ┆ 0.347273  ┆ 0.046959  ┆ … ┆ 4         ┆ 4         ┆ 4         ┆ 5        │\n",
       "│ -1.684571 ┆ -0.57005  ┆ -1.658278 ┆ -1.288347 ┆ … ┆ 4         ┆ 2         ┆ 1         ┆ 4        │\n",
       "│ -0.825712 ┆ 0.132725  ┆ -0.825    ┆ -0.761051 ┆ … ┆ 5         ┆ 1         ┆ 1         ┆ 4        │\n",
       "│ -0.169639 ┆ -1.943019 ┆ -0.167192 ┆ -0.27215  ┆ … ┆ 3         ┆ 2         ┆ 3         ┆ 5        │\n",
       "│ -0.215082 ┆ -0.674768 ┆ -0.241747 ┆ -0.288361 ┆ … ┆ 1         ┆ 2         ┆ 2         ┆ 2        │\n",
       "└───────────┴───────────┴───────────┴───────────┴───┴───────────┴───────────┴───────────┴──────────┘"
      ]
     },
     "execution_count": 2,
     "metadata": {},
     "output_type": "execute_result"
    }
   ],
   "source": [
    "df_train.head().collect()"
   ]
  },
  {
   "cell_type": "code",
   "execution_count": null,
   "metadata": {},
   "outputs": [
    {
     "data": {
      "application/vnd.jupyter.widget-view+json": {
       "model_id": "c53a23b49fdd41559e536d5a3867076d",
       "version_major": 2,
       "version_minor": 0
      },
      "text/plain": [
       "Performing univariate analysis on 64 features:   0%|          | 0/64 [00:00<?, ?it/s]"
      ]
     },
     "metadata": {},
     "output_type": "display_data"
    },
    {
     "ename": "TypeError",
     "evalue": "s must be a pandas or polars series. Got <class 'pandas.core.frame.DataFrame'>.",
     "output_type": "error",
     "traceback": [
      "\u001b[0;31m---------------------------------------------------------------------------\u001b[0m",
      "\u001b[0;31mTypeError\u001b[0m                                 Traceback (most recent call last)",
      "Cell \u001b[0;32mIn[3], line 1\u001b[0m\n\u001b[0;32m----> 1\u001b[0m ua \u001b[38;5;241m=\u001b[39m \u001b[43mUnivariateAnalysis\u001b[49m\u001b[43m(\u001b[49m\n\u001b[1;32m      2\u001b[0m \u001b[43m    \u001b[49m\u001b[43mmodel_name\u001b[49m\u001b[38;5;241;43m=\u001b[39;49m\u001b[38;5;124;43m\"\u001b[39;49m\u001b[38;5;124;43mCancer Model\u001b[39;49m\u001b[38;5;124;43m\"\u001b[39;49m\u001b[43m,\u001b[49m\n\u001b[1;32m      3\u001b[0m \u001b[43m    \u001b[49m\u001b[43mdf_train\u001b[49m\u001b[38;5;241;43m=\u001b[39;49m\u001b[43mdf_train\u001b[49m\u001b[43m,\u001b[49m\n\u001b[1;32m      4\u001b[0m \u001b[43m    \u001b[49m\u001b[43mdf_val\u001b[49m\u001b[38;5;241;43m=\u001b[39;49m\u001b[43mdf_val\u001b[49m\u001b[43m,\u001b[49m\n\u001b[1;32m      5\u001b[0m \u001b[43m    \u001b[49m\u001b[43mtarget_column_name\u001b[49m\u001b[38;5;241;43m=\u001b[39;49m\u001b[38;5;124;43m\"\u001b[39;49m\u001b[38;5;124;43my\u001b[39;49m\u001b[38;5;124;43m\"\u001b[39;49m\u001b[43m,\u001b[49m\n\u001b[1;32m      6\u001b[0m \u001b[43m    \u001b[49m\u001b[43mfeature_column_names\u001b[49m\u001b[38;5;241;43m=\u001b[39;49m\u001b[43m[\u001b[49m\u001b[43mc\u001b[49m\u001b[43m \u001b[49m\u001b[38;5;28;43;01mfor\u001b[39;49;00m\u001b[43m \u001b[49m\u001b[43mc\u001b[49m\u001b[43m \u001b[49m\u001b[38;5;129;43;01min\u001b[39;49;00m\u001b[43m \u001b[49m\u001b[43mdf_train\u001b[49m\u001b[38;5;241;43m.\u001b[39;49m\u001b[43mcolumns\u001b[49m\u001b[43m \u001b[49m\u001b[38;5;28;43;01mif\u001b[39;49;00m\u001b[43m \u001b[49m\u001b[43mc\u001b[49m\u001b[43m \u001b[49m\u001b[38;5;241;43m!=\u001b[39;49m\u001b[43m \u001b[49m\u001b[38;5;124;43m\"\u001b[39;49m\u001b[38;5;124;43my\u001b[39;49m\u001b[38;5;124;43m\"\u001b[39;49m\u001b[43m \u001b[49m\u001b[38;5;129;43;01mand\u001b[39;49;00m\u001b[43m \u001b[49m\u001b[43mc\u001b[49m\u001b[43m \u001b[49m\u001b[38;5;241;43m!=\u001b[39;49m\u001b[43m \u001b[49m\u001b[38;5;124;43m\"\u001b[39;49m\u001b[38;5;124;43mfold\u001b[39;49m\u001b[38;5;124;43m\"\u001b[39;49m\u001b[43m]\u001b[49m\u001b[43m,\u001b[49m\n\u001b[1;32m      7\u001b[0m \u001b[43m    \u001b[49m\u001b[43mcv_column_name\u001b[49m\u001b[38;5;241;43m=\u001b[39;49m\u001b[38;5;124;43m\"\u001b[39;49m\u001b[38;5;124;43mfold\u001b[39;49m\u001b[38;5;124;43m\"\u001b[39;49m\u001b[43m,\u001b[49m\n\u001b[1;32m      8\u001b[0m \u001b[43m    \u001b[49m\u001b[43mtime_series_validation\u001b[49m\u001b[38;5;241;43m=\u001b[39;49m\u001b[38;5;28;43;01mFalse\u001b[39;49;00m\u001b[43m,\u001b[49m\n\u001b[1;32m      9\u001b[0m \u001b[43m)\u001b[49m\n",
      "File \u001b[0;32m~/work/predictables/predictables/core/src/_UnivariateAnalysis.py:215\u001b[0m, in \u001b[0;36mUnivariateAnalysis.__init__\u001b[0;34m(self, model_name, df_train, df_val, target_column_name, feature_column_names, time_series_validation, cv_column_name, cv_folds, right_skewness_threshold, left_skewness_threshold)\u001b[0m\n\u001b[1;32m    210\u001b[0m col_type \u001b[38;5;241m=\u001b[39m get_column_dtype(_column)\n\u001b[1;32m    211\u001b[0m \u001b[38;5;28;01mif\u001b[39;00m col_type \u001b[38;5;241m==\u001b[39m \u001b[38;5;124m\"\u001b[39m\u001b[38;5;124mcontinuous\u001b[39m\u001b[38;5;124m\"\u001b[39m:\n\u001b[1;32m    212\u001b[0m     \u001b[38;5;28msetattr\u001b[39m(\n\u001b[1;32m    213\u001b[0m         \u001b[38;5;28mself\u001b[39m,\n\u001b[1;32m    214\u001b[0m         obj_name,\n\u001b[0;32m--> 215\u001b[0m         \u001b[43mUnivariate\u001b[49m\u001b[43m(\u001b[49m\n\u001b[1;32m    216\u001b[0m \u001b[43m            \u001b[49m\u001b[38;5;28;43mself\u001b[39;49m\u001b[38;5;241;43m.\u001b[39;49m\u001b[43mdf\u001b[49m\u001b[38;5;241;43m.\u001b[39;49m\u001b[43mfilter\u001b[49m\u001b[43m(\u001b[49m\u001b[43mpl\u001b[49m\u001b[38;5;241;43m.\u001b[39;49m\u001b[43mcol\u001b[49m\u001b[43m(\u001b[49m\u001b[43mcol\u001b[49m\u001b[43m)\u001b[49m\u001b[38;5;241;43m.\u001b[39;49m\u001b[43mis_not_null\u001b[49m\u001b[43m(\u001b[49m\u001b[43m)\u001b[49m\u001b[43m)\u001b[49m\u001b[38;5;241;43m.\u001b[39;49m\u001b[43mfilter\u001b[49m\u001b[43m(\u001b[49m\n\u001b[1;32m    217\u001b[0m \u001b[43m                \u001b[49m\u001b[43mpl\u001b[49m\u001b[38;5;241;43m.\u001b[39;49m\u001b[43mcol\u001b[49m\u001b[43m(\u001b[49m\u001b[43mcol\u001b[49m\u001b[43m)\u001b[49m\u001b[38;5;241;43m.\u001b[39;49m\u001b[43mis_finite\u001b[49m\u001b[43m(\u001b[49m\u001b[43m)\u001b[49m\n\u001b[1;32m    218\u001b[0m \u001b[43m            \u001b[49m\u001b[43m)\u001b[49m\u001b[43m,\u001b[49m\n\u001b[1;32m    219\u001b[0m \u001b[43m            \u001b[49m\u001b[38;5;28;43mself\u001b[39;49m\u001b[38;5;241;43m.\u001b[39;49m\u001b[43mdf_val\u001b[49m\u001b[38;5;241;43m.\u001b[39;49m\u001b[43mfilter\u001b[49m\u001b[43m(\u001b[49m\u001b[43mpl\u001b[49m\u001b[38;5;241;43m.\u001b[39;49m\u001b[43mcol\u001b[49m\u001b[43m(\u001b[49m\u001b[43mcol\u001b[49m\u001b[43m)\u001b[49m\u001b[38;5;241;43m.\u001b[39;49m\u001b[43mis_not_null\u001b[49m\u001b[43m(\u001b[49m\u001b[43m)\u001b[49m\u001b[43m)\u001b[49m\u001b[38;5;241;43m.\u001b[39;49m\u001b[43mfilter\u001b[49m\u001b[43m(\u001b[49m\n\u001b[1;32m    220\u001b[0m \u001b[43m                \u001b[49m\u001b[43mpl\u001b[49m\u001b[38;5;241;43m.\u001b[39;49m\u001b[43mcol\u001b[49m\u001b[43m(\u001b[49m\u001b[43mcol\u001b[49m\u001b[43m)\u001b[49m\u001b[38;5;241;43m.\u001b[39;49m\u001b[43mis_finite\u001b[49m\u001b[43m(\u001b[49m\u001b[43m)\u001b[49m\n\u001b[1;32m    221\u001b[0m \u001b[43m            \u001b[49m\u001b[43m)\u001b[49m\u001b[43m,\u001b[49m\n\u001b[1;32m    222\u001b[0m \u001b[43m            \u001b[49m\u001b[38;5;28;43mself\u001b[39;49m\u001b[38;5;241;43m.\u001b[39;49m\u001b[43mcv_column_name\u001b[49m\u001b[43m,\u001b[49m\n\u001b[1;32m    223\u001b[0m \u001b[43m            \u001b[49m\u001b[43mcol\u001b[49m\u001b[43m,\u001b[49m\n\u001b[1;32m    224\u001b[0m \u001b[43m            \u001b[49m\u001b[38;5;28;43mself\u001b[39;49m\u001b[38;5;241;43m.\u001b[39;49m\u001b[43mtarget_column_name\u001b[49m\u001b[43m,\u001b[49m\n\u001b[1;32m    225\u001b[0m \u001b[43m            \u001b[49m\u001b[43mtime_series_validation\u001b[49m\u001b[38;5;241;43m=\u001b[39;49m\u001b[38;5;28;43mself\u001b[39;49m\u001b[38;5;241;43m.\u001b[39;49m\u001b[43mtime_series_validation\u001b[49m\u001b[43m,\u001b[49m\n\u001b[1;32m    226\u001b[0m \u001b[43m        \u001b[49m\u001b[43m)\u001b[49m,\n\u001b[1;32m    227\u001b[0m     )\n\u001b[1;32m    228\u001b[0m \u001b[38;5;28;01melif\u001b[39;00m col_type \u001b[38;5;241m==\u001b[39m \u001b[38;5;124m\"\u001b[39m\u001b[38;5;124mcategorical\u001b[39m\u001b[38;5;124m\"\u001b[39m:\n\u001b[1;32m    229\u001b[0m     \u001b[38;5;28msetattr\u001b[39m(\n\u001b[1;32m    230\u001b[0m         \u001b[38;5;28mself\u001b[39m,\n\u001b[1;32m    231\u001b[0m         obj_name,\n\u001b[0;32m   (...)\u001b[0m\n\u001b[1;32m    239\u001b[0m         ),\n\u001b[1;32m    240\u001b[0m     )\n",
      "File \u001b[0;32m~/work/predictables/predictables/univariate/_Univariate.py:119\u001b[0m, in \u001b[0;36mUnivariate.__init__\u001b[0;34m(self, df_, df_val_, fold_col_, feature_col_, target_col_, time_series_validation, **kwargs)\u001b[0m\n\u001b[1;32m    116\u001b[0m \u001b[38;5;28;01mif\u001b[39;00m target_col_ \u001b[38;5;129;01mis\u001b[39;00m \u001b[38;5;28;01mNone\u001b[39;00m:\n\u001b[1;32m    117\u001b[0m     target_col_ \u001b[38;5;241m=\u001b[39m df\u001b[38;5;241m.\u001b[39mcolumns[\u001b[38;5;241m0\u001b[39m]\n\u001b[0;32m--> 119\u001b[0m \u001b[38;5;28;43msuper\u001b[39;49m\u001b[43m(\u001b[49m\u001b[43m)\u001b[49m\u001b[38;5;241;43m.\u001b[39;49m\u001b[38;5;21;43m__init__\u001b[39;49m\u001b[43m(\u001b[49m\n\u001b[1;32m    120\u001b[0m \u001b[43m    \u001b[49m\u001b[43mdf\u001b[49m\u001b[43m,\u001b[49m\n\u001b[1;32m    121\u001b[0m \u001b[43m    \u001b[49m\u001b[43mdf_val\u001b[49m\u001b[43m,\u001b[49m\n\u001b[1;32m    122\u001b[0m \u001b[43m    \u001b[49m\u001b[43mfold_col\u001b[49m\u001b[38;5;241;43m=\u001b[39;49m\u001b[43mfold_col_\u001b[49m\u001b[43m,\u001b[49m\n\u001b[1;32m    123\u001b[0m \u001b[43m    \u001b[49m\u001b[43mfeature_col\u001b[49m\u001b[38;5;241;43m=\u001b[39;49m\u001b[43mfeature_col_\u001b[49m\u001b[43m,\u001b[49m\n\u001b[1;32m    124\u001b[0m \u001b[43m    \u001b[49m\u001b[43mtarget_col\u001b[49m\u001b[38;5;241;43m=\u001b[39;49m\u001b[43mtarget_col_\u001b[49m\u001b[43m,\u001b[49m\n\u001b[1;32m    125\u001b[0m \u001b[43m    \u001b[49m\u001b[43mtime_series_validation\u001b[49m\u001b[38;5;241;43m=\u001b[39;49m\u001b[43mtime_series_validation\u001b[49m\u001b[43m,\u001b[49m\n\u001b[1;32m    126\u001b[0m \u001b[43m\u001b[49m\u001b[43m)\u001b[49m\n\u001b[1;32m    128\u001b[0m \u001b[38;5;66;03m# Normalize the column if the cross-validated fit is improved\u001b[39;00m\n\u001b[1;32m    129\u001b[0m df[feature_col_] \u001b[38;5;241m=\u001b[39m \u001b[38;5;28mself\u001b[39m\u001b[38;5;241m.\u001b[39mstandardize(X\u001b[38;5;241m=\u001b[39mdf[[feature_col_]])\n",
      "File \u001b[0;32m~/work/predictables/predictables/univariate/_BaseModel.py:267\u001b[0m, in \u001b[0;36mModel.__init__\u001b[0;34m(self, df, df_val, fold_n, fold_col, feature_col, target_col, time_series_validation, categorical_encoding)\u001b[0m\n\u001b[1;32m    264\u001b[0m         \u001b[38;5;28mself\u001b[39m\u001b[38;5;241m.\u001b[39mmodel \u001b[38;5;241m=\u001b[39m fit_sm_linear_regression(X, y)\n\u001b[1;32m    265\u001b[0m         \u001b[38;5;28mself\u001b[39m\u001b[38;5;241m.\u001b[39msk_model \u001b[38;5;241m=\u001b[39m fit_sk_linear_regression(X, y)\n\u001b[0;32m--> 267\u001b[0m \u001b[38;5;28mself\u001b[39m\u001b[38;5;241m.\u001b[39myhat_train: Union[pd\u001b[38;5;241m.\u001b[39mSeries[Any], pd\u001b[38;5;241m.\u001b[39mDataFrame[Any]] \u001b[38;5;241m=\u001b[39m \u001b[38;5;28;43mself\u001b[39;49m\u001b[38;5;241;43m.\u001b[39;49m\u001b[43mpredict\u001b[49m\u001b[43m(\u001b[49m\n\u001b[1;32m    268\u001b[0m \u001b[43m    \u001b[49m\u001b[38;5;28;43mself\u001b[39;49m\u001b[38;5;241;43m.\u001b[39;49m\u001b[43mGetX\u001b[49m\u001b[43m(\u001b[49m\u001b[38;5;124;43m\"\u001b[39;49m\u001b[38;5;124;43mtrain\u001b[39;49m\u001b[38;5;124;43m\"\u001b[39;49m\u001b[43m)\u001b[49m\n\u001b[1;32m    269\u001b[0m \u001b[43m\u001b[49m\u001b[43m)\u001b[49m  \u001b[38;5;66;03m# type: ignore\u001b[39;00m\n\u001b[1;32m    270\u001b[0m \u001b[38;5;28mself\u001b[39m\u001b[38;5;241m.\u001b[39myhat_test: Union[pd\u001b[38;5;241m.\u001b[39mSeries[Any], pd\u001b[38;5;241m.\u001b[39mDataFrame[Any]] \u001b[38;5;241m=\u001b[39m \u001b[38;5;28mself\u001b[39m\u001b[38;5;241m.\u001b[39mpredict(\n\u001b[1;32m    271\u001b[0m     \u001b[38;5;28mself\u001b[39m\u001b[38;5;241m.\u001b[39mGetX(\u001b[38;5;124m\"\u001b[39m\u001b[38;5;124mtest\u001b[39m\u001b[38;5;124m\"\u001b[39m)\n\u001b[1;32m    272\u001b[0m )  \u001b[38;5;66;03m# type: ignore\u001b[39;00m\n\u001b[1;32m    274\u001b[0m \u001b[38;5;66;03m# Pull stats from the fitted model object\u001b[39;00m\n",
      "File \u001b[0;32m~/work/predictables/predictables/univariate/_BaseModel.py:549\u001b[0m, in \u001b[0;36mModel.predict\u001b[0;34m(self, X, name)\u001b[0m\n\u001b[1;32m    529\u001b[0m \u001b[38;5;250m\u001b[39m\u001b[38;5;124;03m\"\"\"\u001b[39;00m\n\u001b[1;32m    530\u001b[0m \u001b[38;5;124;03mPredicts the target variable using the input data. If the univariate analysis\u001b[39;00m\n\u001b[1;32m    531\u001b[0m \u001b[38;5;124;03mfound a better normalization method than the unadjusted data, the input data\u001b[39;00m\n\u001b[0;32m   (...)\u001b[0m\n\u001b[1;32m    546\u001b[0m \u001b[38;5;124;03m    The predicted target variable.\u001b[39;00m\n\u001b[1;32m    547\u001b[0m \u001b[38;5;124;03m\"\"\"\u001b[39;00m\n\u001b[1;32m    548\u001b[0m \u001b[38;5;66;03m# Normalize the input data if X is continuous\u001b[39;00m\n\u001b[0;32m--> 549\u001b[0m col_dtype \u001b[38;5;241m=\u001b[39m \u001b[43mget_column_dtype\u001b[49m\u001b[43m(\u001b[49m\u001b[43mX\u001b[49m\u001b[43m)\u001b[49m\n\u001b[1;32m    550\u001b[0m \u001b[38;5;28;01mif\u001b[39;00m col_dtype \u001b[38;5;129;01min\u001b[39;00m [\u001b[38;5;124m\"\u001b[39m\u001b[38;5;124mcontinuous\u001b[39m\u001b[38;5;124m\"\u001b[39m]:\n\u001b[1;32m    551\u001b[0m     X \u001b[38;5;241m=\u001b[39m \u001b[38;5;28mself\u001b[39m\u001b[38;5;241m.\u001b[39mstandardize(X)\n",
      "File \u001b[0;32m~/work/predictables/predictables/util/src/_get_column_dtype.py:39\u001b[0m, in \u001b[0;36mget_column_dtype\u001b[0;34m(s)\u001b[0m\n\u001b[1;32m     37\u001b[0m     \u001b[38;5;28;01melse\u001b[39;00m:\n\u001b[1;32m     38\u001b[0m         \u001b[38;5;28;01mreturn\u001b[39;00m \u001b[38;5;124m\"\u001b[39m\u001b[38;5;124mcontinuous\u001b[39m\u001b[38;5;124m\"\u001b[39m\n\u001b[0;32m---> 39\u001b[0m \u001b[38;5;28;01melif\u001b[39;00m \u001b[43mis_datetime\u001b[49m\u001b[43m(\u001b[49m\u001b[43ms\u001b[49m\u001b[43m)\u001b[49m:\n\u001b[1;32m     40\u001b[0m     \u001b[38;5;28;01mreturn\u001b[39;00m \u001b[38;5;124m\"\u001b[39m\u001b[38;5;124mdatetime\u001b[39m\u001b[38;5;124m\"\u001b[39m\n\u001b[1;32m     41\u001b[0m \u001b[38;5;28;01melif\u001b[39;00m is_binary(s):\n",
      "File \u001b[0;32m~/work/predictables/predictables/util/src/_get_column_dtype.py:204\u001b[0m, in \u001b[0;36mis_datetime\u001b[0;34m(s)\u001b[0m\n\u001b[1;32m    201\u001b[0m         \u001b[38;5;28;01mreturn\u001b[39;00m \u001b[38;5;28;01mFalse\u001b[39;00m\n\u001b[1;32m    203\u001b[0m \u001b[38;5;66;03m# Handle Pandas Series\u001b[39;00m\n\u001b[0;32m--> 204\u001b[0m \u001b[38;5;28;01mif\u001b[39;00m \u001b[38;5;28misinstance\u001b[39m(\u001b[43mto_pd_s\u001b[49m\u001b[43m(\u001b[49m\u001b[43ms\u001b[49m\u001b[43m)\u001b[49m\u001b[38;5;241m.\u001b[39mdtype, pd\u001b[38;5;241m.\u001b[39mDatetimeTZDtype) \u001b[38;5;241m|\u001b[39m \u001b[38;5;28misinstance\u001b[39m(\n\u001b[1;32m    205\u001b[0m     to_pd_s(s)\u001b[38;5;241m.\u001b[39mdtype, np\u001b[38;5;241m.\u001b[39mdtypes\u001b[38;5;241m.\u001b[39mDateTime64DType\n\u001b[1;32m    206\u001b[0m ):\n\u001b[1;32m    207\u001b[0m     \u001b[38;5;28;01mreturn\u001b[39;00m \u001b[38;5;28;01mTrue\u001b[39;00m\n\u001b[1;32m    209\u001b[0m \u001b[38;5;66;03m# Check if the series is numeric or integer, and so is not a datetime\u001b[39;00m\n",
      "File \u001b[0;32m~/work/predictables/predictables/util/src/_to_pd.py:46\u001b[0m, in \u001b[0;36mto_pd_s\u001b[0;34m(s)\u001b[0m\n\u001b[1;32m     44\u001b[0m     \u001b[38;5;28;01mreturn\u001b[39;00m pd\u001b[38;5;241m.\u001b[39mSeries(s\u001b[38;5;241m.\u001b[39mflatten())\n\u001b[1;32m     45\u001b[0m \u001b[38;5;28;01melse\u001b[39;00m:\n\u001b[0;32m---> 46\u001b[0m     \u001b[38;5;28;01mraise\u001b[39;00m \u001b[38;5;167;01mTypeError\u001b[39;00m(\u001b[38;5;124mf\u001b[39m\u001b[38;5;124m\"\u001b[39m\u001b[38;5;124ms must be a pandas or polars series. Got \u001b[39m\u001b[38;5;132;01m{\u001b[39;00m\u001b[38;5;28mtype\u001b[39m(s)\u001b[38;5;132;01m}\u001b[39;00m\u001b[38;5;124m.\u001b[39m\u001b[38;5;124m\"\u001b[39m)\n",
      "\u001b[0;31mTypeError\u001b[0m: s must be a pandas or polars series. Got <class 'pandas.core.frame.DataFrame'>."
     ]
    }
   ],
   "source": [
    "ua = UnivariateAnalysis(\n",
    "    model_name=\"Cancer Model\",\n",
    "    df_train=df_train,\n",
    "    df_val=df_val,\n",
    "    target_column_name=\"y\",\n",
    "    feature_column_names=[c for c in df_train.columns if c != \"y\" and c != \"fold\"],\n",
    "    cv_column_name=\"fold\",\n",
    "    time_series_validation=False,\n",
    ")"
   ]
  },
  {
   "cell_type": "code",
   "execution_count": null,
   "metadata": {},
   "outputs": [
    {
     "data": {
      "application/vnd.jupyter.widget-view+json": {
       "model_id": "b93fafd73c0349b294c7394d21501766",
       "version_major": 2,
       "version_minor": 0
      },
      "text/plain": [
       "Building 8 univariate analysis reports:   0%|          | 0/8 [00:00<?, ?it/s]"
      ]
     },
     "metadata": {},
     "output_type": "display_data"
    }
   ],
   "source": [
    "ua.build_report(\"cancer.pdf\", max_per_file=15)"
   ]
  },
  {
   "cell_type": "code",
   "execution_count": null,
   "metadata": {},
   "outputs": [
    {
     "data": {
      "text/html": [
       "<div><style>\n",
       ".dataframe > thead > tr,\n",
       ".dataframe > tbody > tr {\n",
       "  text-align: right;\n",
       "  white-space: pre-wrap;\n",
       "}\n",
       "</style>\n",
       "<small>shape: (5, 4)</small><table border=\"1\" class=\"dataframe\"><thead><tr><th>date</th><th>value</th><th>category</th><th>date2</th></tr><tr><td>date</td><td>f64</td><td>cat</td><td>date</td></tr></thead><tbody><tr><td>2019-01-01</td><td>1.0</td><td>&quot;A&quot;</td><td>2021-12-31</td></tr><tr><td>2019-01-02</td><td>1.0</td><td>&quot;A&quot;</td><td>2021-12-30</td></tr><tr><td>2019-01-03</td><td>1.0</td><td>&quot;A&quot;</td><td>2021-12-29</td></tr><tr><td>2019-01-04</td><td>1.0</td><td>&quot;A&quot;</td><td>2021-12-28</td></tr><tr><td>2019-01-05</td><td>1.0</td><td>&quot;A&quot;</td><td>2021-12-27</td></tr></tbody></table></div>"
      ],
      "text/plain": [
       "shape: (5, 4)\n",
       "┌────────────┬───────┬──────────┬────────────┐\n",
       "│ date       ┆ value ┆ category ┆ date2      │\n",
       "│ ---        ┆ ---   ┆ ---      ┆ ---        │\n",
       "│ date       ┆ f64   ┆ cat      ┆ date       │\n",
       "╞════════════╪═══════╪══════════╪════════════╡\n",
       "│ 2019-01-01 ┆ 1.0   ┆ A        ┆ 2021-12-31 │\n",
       "│ 2019-01-02 ┆ 1.0   ┆ A        ┆ 2021-12-30 │\n",
       "│ 2019-01-03 ┆ 1.0   ┆ A        ┆ 2021-12-29 │\n",
       "│ 2019-01-04 ┆ 1.0   ┆ A        ┆ 2021-12-28 │\n",
       "│ 2019-01-05 ┆ 1.0   ┆ A        ┆ 2021-12-27 │\n",
       "└────────────┴───────┴──────────┴────────────┘"
      ]
     },
     "execution_count": 85,
     "metadata": {},
     "output_type": "execute_result"
    }
   ],
   "source": []
  },
  {
   "cell_type": "code",
   "execution_count": null,
   "metadata": {},
   "outputs": [
    {
     "data": {
      "text/html": [
       "<div><style>\n",
       ".dataframe > thead > tr,\n",
       ".dataframe > tbody > tr {\n",
       "  text-align: right;\n",
       "  white-space: pre-wrap;\n",
       "}\n",
       "</style>\n",
       "<small>shape: (2_180, 3)</small><table border=\"1\" class=\"dataframe\"><thead><tr><th>category</th><th>rolling_sum</th><th>date</th></tr><tr><td>cat</td><td>f64</td><td>date</td></tr></thead><tbody><tr><td>&quot;A&quot;</td><td>1.0</td><td>2019-01-01</td></tr><tr><td>&quot;A&quot;</td><td>2.0</td><td>2019-01-02</td></tr><tr><td>&quot;A&quot;</td><td>3.0</td><td>2019-01-03</td></tr><tr><td>&quot;A&quot;</td><td>4.0</td><td>2019-01-04</td></tr><tr><td>&quot;A&quot;</td><td>5.0</td><td>2019-01-05</td></tr><tr><td>&quot;A&quot;</td><td>6.0</td><td>2019-01-06</td></tr><tr><td>&quot;A&quot;</td><td>7.0</td><td>2019-01-07</td></tr><tr><td>&quot;A&quot;</td><td>8.0</td><td>2019-01-08</td></tr><tr><td>&quot;A&quot;</td><td>9.0</td><td>2019-01-09</td></tr><tr><td>&quot;A&quot;</td><td>9.0</td><td>2019-01-10</td></tr><tr><td>&quot;A&quot;</td><td>10.0</td><td>2019-01-11</td></tr><tr><td>&quot;A&quot;</td><td>11.0</td><td>2019-01-12</td></tr><tr><td>&hellip;</td><td>&hellip;</td><td>&hellip;</td></tr><tr><td>&quot;B&quot;</td><td>192.0</td><td>2021-12-17</td></tr><tr><td>&quot;B&quot;</td><td>192.0</td><td>2021-12-18</td></tr><tr><td>&quot;B&quot;</td><td>192.0</td><td>2021-12-19</td></tr><tr><td>&quot;B&quot;</td><td>191.0</td><td>2021-12-20</td></tr><tr><td>&quot;B&quot;</td><td>190.0</td><td>2021-12-21</td></tr><tr><td>&quot;B&quot;</td><td>190.0</td><td>2021-12-22</td></tr><tr><td>&quot;B&quot;</td><td>189.0</td><td>2021-12-23</td></tr><tr><td>&quot;B&quot;</td><td>189.0</td><td>2021-12-24</td></tr><tr><td>&quot;B&quot;</td><td>188.0</td><td>2021-12-25</td></tr><tr><td>&quot;B&quot;</td><td>187.0</td><td>2021-12-26</td></tr><tr><td>&quot;B&quot;</td><td>187.0</td><td>2021-12-27</td></tr><tr><td>&quot;B&quot;</td><td>188.0</td><td>2021-12-28</td></tr></tbody></table></div>"
      ],
      "text/plain": [
       "shape: (2_180, 3)\n",
       "┌──────────┬─────────────┬────────────┐\n",
       "│ category ┆ rolling_sum ┆ date       │\n",
       "│ ---      ┆ ---         ┆ ---        │\n",
       "│ cat      ┆ f64         ┆ date       │\n",
       "╞══════════╪═════════════╪════════════╡\n",
       "│ A        ┆ 1.0         ┆ 2019-01-01 │\n",
       "│ A        ┆ 2.0         ┆ 2019-01-02 │\n",
       "│ A        ┆ 3.0         ┆ 2019-01-03 │\n",
       "│ A        ┆ 4.0         ┆ 2019-01-04 │\n",
       "│ A        ┆ 5.0         ┆ 2019-01-05 │\n",
       "│ …        ┆ …           ┆ …          │\n",
       "│ B        ┆ 189.0       ┆ 2021-12-24 │\n",
       "│ B        ┆ 188.0       ┆ 2021-12-25 │\n",
       "│ B        ┆ 187.0       ┆ 2021-12-26 │\n",
       "│ B        ┆ 187.0       ┆ 2021-12-27 │\n",
       "│ B        ┆ 188.0       ┆ 2021-12-28 │\n",
       "└──────────┴─────────────┴────────────┘"
      ]
     },
     "execution_count": 88,
     "metadata": {},
     "output_type": "execute_result"
    }
   ],
   "source": []
  },
  {
   "cell_type": "code",
   "execution_count": null,
   "metadata": {},
   "outputs": [
    {
     "data": {
      "text/html": [
       "<div><style>\n",
       ".dataframe > thead > tr,\n",
       ".dataframe > tbody > tr {\n",
       "  text-align: right;\n",
       "  white-space: pre-wrap;\n",
       "}\n",
       "</style>\n",
       "<small>shape: (2_189, 3)</small><table border=\"1\" class=\"dataframe\"><thead><tr><th>category</th><th>date</th><th>rolling_sum</th></tr><tr><td>cat</td><td>date</td><td>f64</td></tr></thead><tbody><tr><td>&quot;A&quot;</td><td>2019-01-01</td><td>184.0</td></tr><tr><td>&quot;A&quot;</td><td>2019-01-02</td><td>183.0</td></tr><tr><td>&quot;A&quot;</td><td>2019-01-03</td><td>182.0</td></tr><tr><td>&quot;A&quot;</td><td>2019-01-04</td><td>182.0</td></tr><tr><td>&quot;A&quot;</td><td>2019-01-05</td><td>182.0</td></tr><tr><td>&quot;A&quot;</td><td>2019-01-06</td><td>182.0</td></tr><tr><td>&quot;A&quot;</td><td>2019-01-07</td><td>181.0</td></tr><tr><td>&quot;A&quot;</td><td>2019-01-08</td><td>180.0</td></tr><tr><td>&quot;A&quot;</td><td>2019-01-09</td><td>180.0</td></tr><tr><td>&quot;A&quot;</td><td>2019-01-10</td><td>180.0</td></tr><tr><td>&quot;A&quot;</td><td>2019-01-11</td><td>180.0</td></tr><tr><td>&quot;A&quot;</td><td>2019-01-12</td><td>180.0</td></tr><tr><td>&hellip;</td><td>&hellip;</td><td>&hellip;</td></tr><tr><td>&quot;B&quot;</td><td>2021-12-17</td><td>2.0</td></tr><tr><td>&quot;B&quot;</td><td>2021-12-18</td><td>2.0</td></tr><tr><td>&quot;B&quot;</td><td>2021-12-19</td><td>2.0</td></tr><tr><td>&quot;B&quot;</td><td>2021-12-20</td><td>2.0</td></tr><tr><td>&quot;B&quot;</td><td>2021-12-21</td><td>2.0</td></tr><tr><td>&quot;B&quot;</td><td>2021-12-22</td><td>2.0</td></tr><tr><td>&quot;B&quot;</td><td>2021-12-23</td><td>2.0</td></tr><tr><td>&quot;B&quot;</td><td>2021-12-24</td><td>2.0</td></tr><tr><td>&quot;B&quot;</td><td>2021-12-25</td><td>1.0</td></tr><tr><td>&quot;B&quot;</td><td>2021-12-26</td><td>1.0</td></tr><tr><td>&quot;B&quot;</td><td>2021-12-27</td><td>1.0</td></tr><tr><td>&quot;B&quot;</td><td>2021-12-28</td><td>1.0</td></tr></tbody></table></div>"
      ],
      "text/plain": [
       "shape: (2_189, 3)\n",
       "┌──────────┬────────────┬─────────────┐\n",
       "│ category ┆ date       ┆ rolling_sum │\n",
       "│ ---      ┆ ---        ┆ ---         │\n",
       "│ cat      ┆ date       ┆ f64         │\n",
       "╞══════════╪════════════╪═════════════╡\n",
       "│ A        ┆ 2019-01-01 ┆ 184.0       │\n",
       "│ A        ┆ 2019-01-02 ┆ 183.0       │\n",
       "│ A        ┆ 2019-01-03 ┆ 182.0       │\n",
       "│ A        ┆ 2019-01-04 ┆ 182.0       │\n",
       "│ A        ┆ 2019-01-05 ┆ 182.0       │\n",
       "│ …        ┆ …          ┆ …           │\n",
       "│ B        ┆ 2021-12-24 ┆ 2.0         │\n",
       "│ B        ┆ 2021-12-25 ┆ 1.0         │\n",
       "│ B        ┆ 2021-12-26 ┆ 1.0         │\n",
       "│ B        ┆ 2021-12-27 ┆ 1.0         │\n",
       "│ B        ┆ 2021-12-28 ┆ 1.0         │\n",
       "└──────────┴────────────┴─────────────┘"
      ]
     },
     "execution_count": 90,
     "metadata": {},
     "output_type": "execute_result"
    }
   ],
   "source": [
    "df.sort(\"date\", \"category\").group_by_dynamic(\n",
    "    \"date\",\n",
    "    every=\"1d\",\n",
    "    period=\"1y\",\n",
    "    offset=\"-13mo\",\n",
    "    by=\"category\",\n",
    "    check_sorted=False,\n",
    "    #  \"date\",\n",
    "    # every=\"1d\",\n",
    "    # period=\"1y\",\n",
    "    # offset=\"-13mo\",\n",
    "    # by=\"category\",\n",
    ").agg([pl.col(\"value\").sum().alias(\"rolling_sum\")]).collect().filter(\n",
    "    pl.col(\"date\") >= datetime(2019, 1, 1)\n",
    ")"
   ]
  }
 ],
 "metadata": {
  "kernelspec": {
   "display_name": ".env",
   "language": "python",
   "name": "python3"
  },
  "language_info": {
   "codemirror_mode": {
    "name": "ipython",
    "version": 3
   },
   "file_extension": ".py",
   "mimetype": "text/x-python",
   "name": "python",
   "nbconvert_exporter": "python",
   "pygments_lexer": "ipython3",
   "version": "3.10.12"
  }
 },
 "nbformat": 4,
 "nbformat_minor": 2
}
