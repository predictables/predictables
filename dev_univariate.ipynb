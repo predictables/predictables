{
 "cells": [
  {
   "cell_type": "code",
   "execution_count": 1,
   "metadata": {},
   "outputs": [
    {
     "data": {
      "text/html": [
       "<div><style>\n",
       ".dataframe > thead > tr,\n",
       ".dataframe > tbody > tr {\n",
       "  text-align: right;\n",
       "  white-space: pre-wrap;\n",
       "}\n",
       "</style>\n",
       "<small>shape: (5, 34)</small><table border=\"1\" class=\"dataframe\"><thead><tr><th>mean_radius</th><th>mean_texture</th><th>mean_perimeter</th><th>mean_area</th><th>mean_smoothness</th><th>mean_compactness</th><th>mean_concavity</th><th>mean_concave_points</th><th>mean_symmetry</th><th>mean_fractal_dimension</th><th>radius_error</th><th>texture_error</th><th>perimeter_error</th><th>area_error</th><th>smoothness_error</th><th>compactness_error</th><th>concavity_error</th><th>concave_points_error</th><th>symmetry_error</th><th>fractal_dimension_error</th><th>worst_radius</th><th>worst_texture</th><th>worst_perimeter</th><th>worst_area</th><th>worst_smoothness</th><th>worst_compactness</th><th>worst_concavity</th><th>worst_concave_points</th><th>worst_symmetry</th><th>worst_fractal_dimension</th><th>pc1</th><th>pc2</th><th>y</th><th>fold</th></tr><tr><td>f64</td><td>f64</td><td>f64</td><td>f64</td><td>f64</td><td>f64</td><td>f64</td><td>f64</td><td>f64</td><td>f64</td><td>f64</td><td>f64</td><td>f64</td><td>f64</td><td>f64</td><td>f64</td><td>f64</td><td>f64</td><td>f64</td><td>f64</td><td>f64</td><td>f64</td><td>f64</td><td>f64</td><td>f64</td><td>f64</td><td>f64</td><td>f64</td><td>f64</td><td>f64</td><td>f64</td><td>f64</td><td>i64</td><td>i64</td></tr></thead><tbody><tr><td>0.2081</td><td>0.912292</td><td>0.347273</td><td>0.046959</td><td>0.57215</td><td>1.774977</td><td>1.015706</td><td>1.02817</td><td>-0.272428</td><td>0.55604</td><td>-0.453216</td><td>-0.462029</td><td>0.358868</td><td>-0.333042</td><td>0.346688</td><td>1.438701</td><td>0.783046</td><td>1.140961</td><td>0.594217</td><td>0.195592</td><td>-0.039178</td><td>0.342424</td><td>0.337735</td><td>-0.168554</td><td>-0.033692</td><td>1.339296</td><td>0.895753</td><td>0.884571</td><td>0.160555</td><td>0.169804</td><td>2.601883</td><td>1.664731</td><td>0</td><td>5</td></tr><tr><td>-1.684571</td><td>-0.57005</td><td>-1.658278</td><td>-1.288347</td><td>-0.737294</td><td>-0.85113</td><td>-0.9155</td><td>-1.109197</td><td>-0.155598</td><td>0.316465</td><td>-0.898232</td><td>-0.472008</td><td>-0.877224</td><td>-0.706961</td><td>0.642366</td><td>-0.50402</td><td>-0.530967</td><td>-0.953653</td><td>0.62933</td><td>-0.458783</td><td>-1.512777</td><td>-0.605327</td><td>-1.489328</td><td>-1.122222</td><td>-0.11698</td><td>-0.754239</td><td>-0.975761</td><td>-1.354653</td><td>0.330422</td><td>-0.546168</td><td>-4.564517</td><td>1.565109</td><td>1</td><td>2</td></tr><tr><td>-0.825712</td><td>0.132725</td><td>-0.825</td><td>-0.761051</td><td>0.643316</td><td>-0.692695</td><td>-1.052023</td><td>-1.066224</td><td>0.468713</td><td>-0.356897</td><td>-0.38825</td><td>1.35921</td><td>-0.449022</td><td>-0.455811</td><td>1.949753</td><td>-0.806941</td><td>-0.948182</td><td>-1.107752</td><td>2.65013</td><td>-0.69292</td><td>-0.888216</td><td>0.016737</td><td>-0.904036</td><td>-0.781363</td><td>0.439736</td><td>-1.002397</td><td>-1.241784</td><td>-1.437181</td><td>0.632947</td><td>-1.037706</td><td>-3.127716</td><td>1.357112</td><td>1</td><td>3</td></tr><tr><td>-0.169639</td><td>-1.943019</td><td>-0.167192</td><td>-0.27215</td><td>2.329937</td><td>0.006804</td><td>-0.251467</td><td>0.429234</td><td>2.1591</td><td>0.512094</td><td>0.017786</td><td>-0.368046</td><td>-0.105966</td><td>-0.169129</td><td>2.11976</td><td>0.162743</td><td>-0.672216</td><td>-0.577002</td><td>0.626908</td><td>0.896114</td><td>-0.453343</td><td>-2.147457</td><td>-0.473631</td><td>-0.483572</td><td>0.558093</td><td>-0.740244</td><td>-0.89617</td><td>-0.617229</td><td>-0.308601</td><td>-0.666975</td><td>-0.807603</td><td>2.071959</td><td>1</td><td>3</td></tr><tr><td>-0.215082</td><td>-0.674768</td><td>-0.241747</td><td>-0.288361</td><td>-1.794101</td><td>-0.58922</td><td>-0.098925</td><td>-0.539588</td><td>-1.422476</td><td>-0.647506</td><td>-0.870802</td><td>-0.139439</td><td>-0.813365</td><td>-0.56494</td><td>-0.374008</td><td>0.403626</td><td>0.586093</td><td>-0.229711</td><td>-1.024602</td><td>0.106325</td><td>-0.416068</td><td>-0.47668</td><td>-0.454866</td><td>-0.436812</td><td>-1.309316</td><td>-0.007411</td><td>0.28119</td><td>-0.378019</td><td>-1.379572</td><td>-0.424808</td><td>-2.212381</td><td>-0.936765</td><td>1</td><td>4</td></tr></tbody></table></div>"
      ],
      "text/plain": [
       "shape: (5, 34)\n",
       "┌─────────────┬──────────────┬────────────────┬───────────┬───┬───────────┬───────────┬─────┬──────┐\n",
       "│ mean_radius ┆ mean_texture ┆ mean_perimeter ┆ mean_area ┆ … ┆ pc1       ┆ pc2       ┆ y   ┆ fold │\n",
       "│ ---         ┆ ---          ┆ ---            ┆ ---       ┆   ┆ ---       ┆ ---       ┆ --- ┆ ---  │\n",
       "│ f64         ┆ f64          ┆ f64            ┆ f64       ┆   ┆ f64       ┆ f64       ┆ i64 ┆ i64  │\n",
       "╞═════════════╪══════════════╪════════════════╪═══════════╪═══╪═══════════╪═══════════╪═════╪══════╡\n",
       "│ 0.2081      ┆ 0.912292     ┆ 0.347273       ┆ 0.046959  ┆ … ┆ 2.601883  ┆ 1.664731  ┆ 0   ┆ 5    │\n",
       "│ -1.684571   ┆ -0.57005     ┆ -1.658278      ┆ -1.288347 ┆ … ┆ -4.564517 ┆ 1.565109  ┆ 1   ┆ 2    │\n",
       "│ -0.825712   ┆ 0.132725     ┆ -0.825         ┆ -0.761051 ┆ … ┆ -3.127716 ┆ 1.357112  ┆ 1   ┆ 3    │\n",
       "│ -0.169639   ┆ -1.943019    ┆ -0.167192      ┆ -0.27215  ┆ … ┆ -0.807603 ┆ 2.071959  ┆ 1   ┆ 3    │\n",
       "│ -0.215082   ┆ -0.674768    ┆ -0.241747      ┆ -0.288361 ┆ … ┆ -2.212381 ┆ -0.936765 ┆ 1   ┆ 4    │\n",
       "└─────────────┴──────────────┴────────────────┴───────────┴───┴───────────┴───────────┴─────┴──────┘"
      ]
     },
     "execution_count": 1,
     "metadata": {},
     "output_type": "execute_result"
    }
   ],
   "source": [
    "import pandas as pd\n",
    "import numpy as np\n",
    "from predictables.core.src._UnivariateAnalysis import UnivariateAnalysis\n",
    "from predictables.util import to_pl_lf\n",
    "from sklearn.datasets import load_breast_cancer\n",
    "from sklearn.decomposition import PCA\n",
    "from sklearn.preprocessing import StandardScaler\n",
    "from sklearn.model_selection import train_test_split\n",
    "\n",
    "# Load the breast cancer dataset\n",
    "bcancer = load_breast_cancer()\n",
    "cancery = pd.Series(bcancer.target, name=\"y\").map({0: \"malignant\", 1: \"benign\"})\n",
    "cancerdf = pd.DataFrame(\n",
    "    bcancer.data, columns=[c.replace(\" \", \"_\") for c in bcancer.feature_names]\n",
    ")\n",
    "\n",
    "# Standardize the data\n",
    "scaler = StandardScaler()\n",
    "cancerdf = pd.DataFrame(scaler.fit_transform(cancerdf), columns=cancerdf.columns)\n",
    "\n",
    "# Split the data\n",
    "X_train, X_test, y_train, y_test = train_test_split(\n",
    "    cancerdf, cancery, test_size=0.2, random_state=42, stratify=cancery\n",
    ")\n",
    "X_train, X_val, y_train, y_val = train_test_split(\n",
    "    X_train, y_train, test_size=0.25, random_state=42, stratify=y_train\n",
    ")\n",
    "\n",
    "# Perform PCA\n",
    "pca = PCA(n_components=2)\n",
    "X_train_pca = pd.DataFrame(\n",
    "    pca.fit_transform(X_train), columns=[\"pc1\", \"pc2\"], index=X_train.index\n",
    ")\n",
    "X_val_pca = pd.DataFrame(\n",
    "    pca.transform(X_val), columns=[\"pc1\", \"pc2\"], index=X_val.index\n",
    ")\n",
    "X_test_pca = pd.DataFrame(\n",
    "    pca.transform(X_test), columns=[\"pc1\", \"pc2\"], index=X_test.index\n",
    ")\n",
    "\n",
    "# Combine the data\n",
    "df_train = pd.concat([X_train, X_train_pca], axis=1)\n",
    "df_val = pd.concat([X_val, X_val_pca], axis=1)\n",
    "df_test = pd.concat([X_test, X_test_pca], axis=1)\n",
    "\n",
    "# Add the target variable\n",
    "df_train[\"y\"] = y_train.map({\"malignant\": 0, \"benign\": 1}).values\n",
    "df_val[\"y\"] = y_val.map({\"malignant\": 0, \"benign\": 1}).values\n",
    "df_test[\"y\"] = y_test.map({\"malignant\": 0, \"benign\": 1}).values\n",
    "\n",
    "# Randomly sort training data into 5 cross-validation folds\n",
    "df_train[\"fold\"] = np.random.choice(range(5), size=df_train.shape[0]) + 1\n",
    "\n",
    "df_train.to_parquet(\"cancer_train.parquet\")\n",
    "df_val.to_parquet(\"cancer_val.parquet\")\n",
    "df_test.to_parquet(\"cancer_test.parquet\")\n",
    "\n",
    "df_train = to_pl_lf(df_train)\n",
    "df_val = to_pl_lf(df_val)\n",
    "df_test = to_pl_lf(df_test)\n",
    "\n",
    "df_train.head().collect()"
   ]
  },
  {
   "cell_type": "code",
   "execution_count": 2,
   "metadata": {},
   "outputs": [
    {
     "data": {
      "text/html": [
       "<div><style>\n",
       ".dataframe > thead > tr,\n",
       ".dataframe > tbody > tr {\n",
       "  text-align: right;\n",
       "  white-space: pre-wrap;\n",
       "}\n",
       "</style>\n",
       "<small>shape: (5, 34)</small><table border=\"1\" class=\"dataframe\"><thead><tr><th>mean_radius</th><th>mean_texture</th><th>mean_perimeter</th><th>mean_area</th><th>mean_smoothness</th><th>mean_compactness</th><th>mean_concavity</th><th>mean_concave_points</th><th>mean_symmetry</th><th>mean_fractal_dimension</th><th>radius_error</th><th>texture_error</th><th>perimeter_error</th><th>area_error</th><th>smoothness_error</th><th>compactness_error</th><th>concavity_error</th><th>concave_points_error</th><th>symmetry_error</th><th>fractal_dimension_error</th><th>worst_radius</th><th>worst_texture</th><th>worst_perimeter</th><th>worst_area</th><th>worst_smoothness</th><th>worst_compactness</th><th>worst_concavity</th><th>worst_concave_points</th><th>worst_symmetry</th><th>worst_fractal_dimension</th><th>pc1</th><th>pc2</th><th>y</th><th>fold</th></tr><tr><td>f64</td><td>f64</td><td>f64</td><td>f64</td><td>f64</td><td>f64</td><td>f64</td><td>f64</td><td>f64</td><td>f64</td><td>f64</td><td>f64</td><td>f64</td><td>f64</td><td>f64</td><td>f64</td><td>f64</td><td>f64</td><td>f64</td><td>f64</td><td>f64</td><td>f64</td><td>f64</td><td>f64</td><td>f64</td><td>f64</td><td>f64</td><td>f64</td><td>f64</td><td>f64</td><td>f64</td><td>f64</td><td>i64</td><td>i64</td></tr></thead><tbody><tr><td>0.2081</td><td>0.912292</td><td>0.347273</td><td>0.046959</td><td>0.57215</td><td>1.774977</td><td>1.015706</td><td>1.02817</td><td>-0.272428</td><td>0.55604</td><td>-0.453216</td><td>-0.462029</td><td>0.358868</td><td>-0.333042</td><td>0.346688</td><td>1.438701</td><td>0.783046</td><td>1.140961</td><td>0.594217</td><td>0.195592</td><td>-0.039178</td><td>0.342424</td><td>0.337735</td><td>-0.168554</td><td>-0.033692</td><td>1.339296</td><td>0.895753</td><td>0.884571</td><td>0.160555</td><td>0.169804</td><td>2.601883</td><td>1.664731</td><td>0</td><td>5</td></tr><tr><td>-1.684571</td><td>-0.57005</td><td>-1.658278</td><td>-1.288347</td><td>-0.737294</td><td>-0.85113</td><td>-0.9155</td><td>-1.109197</td><td>-0.155598</td><td>0.316465</td><td>-0.898232</td><td>-0.472008</td><td>-0.877224</td><td>-0.706961</td><td>0.642366</td><td>-0.50402</td><td>-0.530967</td><td>-0.953653</td><td>0.62933</td><td>-0.458783</td><td>-1.512777</td><td>-0.605327</td><td>-1.489328</td><td>-1.122222</td><td>-0.11698</td><td>-0.754239</td><td>-0.975761</td><td>-1.354653</td><td>0.330422</td><td>-0.546168</td><td>-4.564517</td><td>1.565109</td><td>1</td><td>2</td></tr><tr><td>-0.825712</td><td>0.132725</td><td>-0.825</td><td>-0.761051</td><td>0.643316</td><td>-0.692695</td><td>-1.052023</td><td>-1.066224</td><td>0.468713</td><td>-0.356897</td><td>-0.38825</td><td>1.35921</td><td>-0.449022</td><td>-0.455811</td><td>1.949753</td><td>-0.806941</td><td>-0.948182</td><td>-1.107752</td><td>2.65013</td><td>-0.69292</td><td>-0.888216</td><td>0.016737</td><td>-0.904036</td><td>-0.781363</td><td>0.439736</td><td>-1.002397</td><td>-1.241784</td><td>-1.437181</td><td>0.632947</td><td>-1.037706</td><td>-3.127716</td><td>1.357112</td><td>1</td><td>3</td></tr><tr><td>-0.169639</td><td>-1.943019</td><td>-0.167192</td><td>-0.27215</td><td>2.329937</td><td>0.006804</td><td>-0.251467</td><td>0.429234</td><td>2.1591</td><td>0.512094</td><td>0.017786</td><td>-0.368046</td><td>-0.105966</td><td>-0.169129</td><td>2.11976</td><td>0.162743</td><td>-0.672216</td><td>-0.577002</td><td>0.626908</td><td>0.896114</td><td>-0.453343</td><td>-2.147457</td><td>-0.473631</td><td>-0.483572</td><td>0.558093</td><td>-0.740244</td><td>-0.89617</td><td>-0.617229</td><td>-0.308601</td><td>-0.666975</td><td>-0.807603</td><td>2.071959</td><td>1</td><td>3</td></tr><tr><td>-0.215082</td><td>-0.674768</td><td>-0.241747</td><td>-0.288361</td><td>-1.794101</td><td>-0.58922</td><td>-0.098925</td><td>-0.539588</td><td>-1.422476</td><td>-0.647506</td><td>-0.870802</td><td>-0.139439</td><td>-0.813365</td><td>-0.56494</td><td>-0.374008</td><td>0.403626</td><td>0.586093</td><td>-0.229711</td><td>-1.024602</td><td>0.106325</td><td>-0.416068</td><td>-0.47668</td><td>-0.454866</td><td>-0.436812</td><td>-1.309316</td><td>-0.007411</td><td>0.28119</td><td>-0.378019</td><td>-1.379572</td><td>-0.424808</td><td>-2.212381</td><td>-0.936765</td><td>1</td><td>4</td></tr></tbody></table></div>"
      ],
      "text/plain": [
       "shape: (5, 34)\n",
       "┌─────────────┬──────────────┬────────────────┬───────────┬───┬───────────┬───────────┬─────┬──────┐\n",
       "│ mean_radius ┆ mean_texture ┆ mean_perimeter ┆ mean_area ┆ … ┆ pc1       ┆ pc2       ┆ y   ┆ fold │\n",
       "│ ---         ┆ ---          ┆ ---            ┆ ---       ┆   ┆ ---       ┆ ---       ┆ --- ┆ ---  │\n",
       "│ f64         ┆ f64          ┆ f64            ┆ f64       ┆   ┆ f64       ┆ f64       ┆ i64 ┆ i64  │\n",
       "╞═════════════╪══════════════╪════════════════╪═══════════╪═══╪═══════════╪═══════════╪═════╪══════╡\n",
       "│ 0.2081      ┆ 0.912292     ┆ 0.347273       ┆ 0.046959  ┆ … ┆ 2.601883  ┆ 1.664731  ┆ 0   ┆ 5    │\n",
       "│ -1.684571   ┆ -0.57005     ┆ -1.658278      ┆ -1.288347 ┆ … ┆ -4.564517 ┆ 1.565109  ┆ 1   ┆ 2    │\n",
       "│ -0.825712   ┆ 0.132725     ┆ -0.825         ┆ -0.761051 ┆ … ┆ -3.127716 ┆ 1.357112  ┆ 1   ┆ 3    │\n",
       "│ -0.169639   ┆ -1.943019    ┆ -0.167192      ┆ -0.27215  ┆ … ┆ -0.807603 ┆ 2.071959  ┆ 1   ┆ 3    │\n",
       "│ -0.215082   ┆ -0.674768    ┆ -0.241747      ┆ -0.288361 ┆ … ┆ -2.212381 ┆ -0.936765 ┆ 1   ┆ 4    │\n",
       "└─────────────┴──────────────┴────────────────┴───────────┴───┴───────────┴───────────┴─────┴──────┘"
      ]
     },
     "execution_count": 2,
     "metadata": {},
     "output_type": "execute_result"
    }
   ],
   "source": [
    "df_train.head().collect()"
   ]
  },
  {
   "cell_type": "code",
   "execution_count": 3,
   "metadata": {},
   "outputs": [
    {
     "data": {
      "text/plain": [
       "['mean_radius',\n",
       " 'mean_texture',\n",
       " 'mean_perimeter',\n",
       " 'mean_area',\n",
       " 'mean_smoothness',\n",
       " 'mean_compactness',\n",
       " 'mean_concavity',\n",
       " 'mean_concave_points',\n",
       " 'mean_symmetry',\n",
       " 'mean_fractal_dimension',\n",
       " 'radius_error',\n",
       " 'texture_error',\n",
       " 'perimeter_error',\n",
       " 'area_error',\n",
       " 'smoothness_error',\n",
       " 'compactness_error',\n",
       " 'concavity_error',\n",
       " 'concave_points_error',\n",
       " 'symmetry_error',\n",
       " 'fractal_dimension_error',\n",
       " 'worst_radius',\n",
       " 'worst_texture',\n",
       " 'worst_perimeter',\n",
       " 'worst_area',\n",
       " 'worst_smoothness',\n",
       " 'worst_compactness',\n",
       " 'worst_concavity',\n",
       " 'worst_concave_points',\n",
       " 'worst_symmetry',\n",
       " 'worst_fractal_dimension',\n",
       " 'pc1',\n",
       " 'pc2']"
      ]
     },
     "execution_count": 3,
     "metadata": {},
     "output_type": "execute_result"
    }
   ],
   "source": [
    "df_train.columns[:-2]"
   ]
  },
  {
   "cell_type": "code",
   "execution_count": 4,
   "metadata": {},
   "outputs": [
    {
     "data": {
      "application/vnd.jupyter.widget-view+json": {
       "model_id": "1bf24d24ff0447aeb3d2e022db9639d4",
       "version_major": 2,
       "version_minor": 0
      },
      "text/plain": [
       "Performing univariate analysis on 32 features:   0%|          | 0/32 [00:00<?, ?it/s]"
      ]
     },
     "metadata": {},
     "output_type": "display_data"
    },
    {
     "name": "stdout",
     "output_type": "stream",
     "text": [
      "Feature mean_radius is right-skewed: skewness = 0.9129022958762187\n",
      "Feature mean_texture is right-skewed: skewness = 0.6886247411608918\n",
      "Feature mean_perimeter is right-skewed: skewness = 0.9672810396671019\n",
      "Feature mean_area is right-skewed: skewness = 1.6121300185962886\n",
      "Feature mean_smoothness is right-skewed: skewness = 0.6752338638394662\n",
      "Feature mean_compactness is right-skewed: skewness = 1.2715432747740443\n",
      "Feature mean_concavity is right-skewed: skewness = 1.3956495221095024\n",
      "Feature mean_concave_points is right-skewed: skewness = 1.2118145440807047\n",
      "Feature mean_symmetry is right-skewed: skewness = 0.8051100620489787\n",
      "Feature mean_fractal_dimension is right-skewed: skewness = 1.2899668174029728\n",
      "Feature radius_error is right-skewed: skewness = 2.585688157130343\n",
      "Feature texture_error is right-skewed: skewness = 1.9190239623209937\n",
      "Feature perimeter_error is right-skewed: skewness = 2.738907688308077\n",
      "Feature area_error is right-skewed: skewness = 5.187792736911207\n",
      "Feature smoothness_error is right-skewed: skewness = 2.6572909069290147\n",
      "Feature compactness_error is right-skewed: skewness = 1.761402055445299\n",
      "Feature concavity_error is right-skewed: skewness = 3.7060636512687504\n",
      "Feature concave_points_error is right-skewed: skewness = 1.3105664691250651\n",
      "Feature symmetry_error is right-skewed: skewness = 2.3212063422936353\n",
      "Feature fractal_dimension_error is right-skewed: skewness = 3.1883393201117927\n",
      "Feature worst_radius is right-skewed: skewness = 1.111166292260241\n",
      "Feature worst_perimeter is right-skewed: skewness = 1.1343901615542367\n",
      "Feature worst_area is right-skewed: skewness = 1.9376389375454846\n",
      "Feature worst_compactness is right-skewed: skewness = 1.387518791770366\n",
      "Feature worst_concavity is right-skewed: skewness = 1.193978649976528\n",
      "Feature worst_concave_points is right-skewed: skewness = 0.5351482224766478\n",
      "Feature worst_symmetry is right-skewed: skewness = 1.5605386258615028\n",
      "Feature worst_fractal_dimension is right-skewed: skewness = 1.3775060225950275\n",
      "Feature pc1 is right-skewed: skewness = 1.1063025217537485\n",
      "Feature pc2 is right-skewed: skewness = 0.6926629739436664\n"
     ]
    }
   ],
   "source": [
    "ua = UnivariateAnalysis(\n",
    "    model_name=\"Cancer Model\",\n",
    "    df_train=df_train,\n",
    "    df_val=df_val,\n",
    "    target_column_name=\"y\",\n",
    "    feature_column_names=df_train.columns[:-2],\n",
    "    cv_column_name=\"fold\",\n",
    "    time_series_validation=False,\n",
    ")"
   ]
  },
  {
   "cell_type": "code",
   "execution_count": 5,
   "metadata": {},
   "outputs": [
    {
     "data": {
      "application/vnd.jupyter.widget-view+json": {
       "model_id": "72f845b283ff4028b43785777483decf",
       "version_major": 2,
       "version_minor": 0
      },
      "text/plain": [
       "Building 62 univariate analysis reports,and packaging in increments of 15:   0%|          | 0/62 [00:00<?, ?it…"
      ]
     },
     "metadata": {},
     "output_type": "display_data"
    },
    {
     "name": "stdout",
     "output_type": "stream",
     "text": [
      "x: 0 | type(x): <class 'int'>\n",
      "x: 1 | type(x): <class 'int'>\n",
      "x: 0 | type(x): <class 'int'>\n",
      "x: 1 | type(x): <class 'int'>\n",
      "x: 0 | type(x): <class 'int'>\n",
      "x: 1 | type(x): <class 'int'>\n",
      "x: 0 | type(x): <class 'int'>\n",
      "x: 1 | type(x): <class 'int'>\n",
      "x: 0 | type(x): <class 'int'>\n",
      "x: 1 | type(x): <class 'int'>\n",
      "x: 0 | type(x): <class 'int'>\n",
      "x: 1 | type(x): <class 'int'>\n",
      "x: 0 | type(x): <class 'numpy.int64'>\n"
     ]
    },
    {
     "ename": "ValueError",
     "evalue": "Invalid value 0 for binary variable.",
     "output_type": "error",
     "traceback": [
      "\u001b[0;31m---------------------------------------------------------------------------\u001b[0m",
      "\u001b[0;31mValueError\u001b[0m                                Traceback (most recent call last)",
      "Cell \u001b[0;32mIn[5], line 1\u001b[0m\n\u001b[0;32m----> 1\u001b[0m \u001b[43mua\u001b[49m\u001b[38;5;241;43m.\u001b[39;49m\u001b[43mbuild_report\u001b[49m\u001b[43m(\u001b[49m\u001b[38;5;124;43m\"\u001b[39;49m\u001b[38;5;124;43mcancer.pdf\u001b[39;49m\u001b[38;5;124;43m\"\u001b[39;49m\u001b[43m,\u001b[49m\u001b[43m \u001b[49m\u001b[43mmax_per_file\u001b[49m\u001b[38;5;241;43m=\u001b[39;49m\u001b[38;5;241;43m15\u001b[39;49m\u001b[43m)\u001b[49m\n",
      "File \u001b[0;32m~/work/predictables/predictables/core/src/_UnivariateAnalysis.py:583\u001b[0m, in \u001b[0;36mUnivariateAnalysis.build_report\u001b[0;34m(self, filename, margins, max_per_file)\u001b[0m\n\u001b[1;32m    581\u001b[0m rpt \u001b[38;5;241m=\u001b[39m \u001b[38;5;28mself\u001b[39m\u001b[38;5;241m.\u001b[39m_rpt_overview_page(rpt, files[i]\u001b[38;5;241m.\u001b[39mstart, files[i]\u001b[38;5;241m.\u001b[39mend)\n\u001b[1;32m    582\u001b[0m \u001b[38;5;28;01mfor\u001b[39;00m X \u001b[38;5;129;01min\u001b[39;00m tqdm(features, \u001b[38;5;28mself\u001b[39m\u001b[38;5;241m.\u001b[39m_build_desc(\u001b[38;5;28mlen\u001b[39m(features), max_per_file)):\n\u001b[0;32m--> 583\u001b[0m     rpt \u001b[38;5;241m=\u001b[39m \u001b[38;5;28;43mgetattr\u001b[39;49m\u001b[43m(\u001b[49m\u001b[38;5;28;43mself\u001b[39;49m\u001b[43m,\u001b[49m\u001b[43m \u001b[49m\u001b[43m_fmt_col_name\u001b[49m\u001b[43m(\u001b[49m\u001b[43mX\u001b[49m\u001b[43m)\u001b[49m\u001b[43m)\u001b[49m\u001b[38;5;241;43m.\u001b[39;49m\u001b[43m_add_to_report\u001b[49m\u001b[43m(\u001b[49m\u001b[43mrpt\u001b[49m\u001b[43m)\u001b[49m\n\u001b[1;32m    584\u001b[0m     counter \u001b[38;5;241m+\u001b[39m\u001b[38;5;241m=\u001b[39m \u001b[38;5;241m1\u001b[39m\n\u001b[1;32m    586\u001b[0m     \u001b[38;5;28;01mif\u001b[39;00m counter \u001b[38;5;241m==\u001b[39m max_per_file:\n",
      "File \u001b[0;32m~/work/predictables/predictables/univariate/_Univariate.py:621\u001b[0m, in \u001b[0;36mUnivariate._add_to_report\u001b[0;34m(self, rpt, **kwargs)\u001b[0m\n\u001b[1;32m    584\u001b[0m \u001b[38;5;28;01mdef\u001b[39;00m \u001b[38;5;21mquintile\u001b[39m():\n\u001b[1;32m    585\u001b[0m     \u001b[38;5;28;01mreturn\u001b[39;00m \u001b[38;5;28mself\u001b[39m\u001b[38;5;241m.\u001b[39mplot_quintile_lift(data\u001b[38;5;241m=\u001b[39m\u001b[38;5;124m\"\u001b[39m\u001b[38;5;124mtest\u001b[39m\u001b[38;5;124m\"\u001b[39m, figsize\u001b[38;5;241m=\u001b[39m\u001b[38;5;28mself\u001b[39m\u001b[38;5;241m.\u001b[39mfigsize)\n\u001b[1;32m    587\u001b[0m \u001b[38;5;28;01mreturn\u001b[39;00m (\n\u001b[1;32m    588\u001b[0m     \u001b[43mrpt\u001b[49m\u001b[38;5;241;43m.\u001b[39;49m\u001b[43mh2\u001b[49m\u001b[43m(\u001b[49m\u001b[38;5;124;43m\"\u001b[39;49m\u001b[38;5;124;43mUnivariate Report\u001b[39;49m\u001b[38;5;124;43m\"\u001b[39;49m\u001b[43m)\u001b[49m\n\u001b[1;32m    589\u001b[0m \u001b[43m    \u001b[49m\u001b[38;5;241;43m.\u001b[39;49m\u001b[43mh3\u001b[49m\u001b[43m(\u001b[49m\u001b[38;5;124;43mf\u001b[39;49m\u001b[38;5;124;43m\"\u001b[39;49m\u001b[38;5;132;43;01m{\u001b[39;49;00m\u001b[43mplot_label\u001b[49m\u001b[43m(\u001b[49m\u001b[38;5;28;43mself\u001b[39;49m\u001b[38;5;241;43m.\u001b[39;49m\u001b[43mfeature_name\u001b[49m\u001b[43m,\u001b[49m\u001b[38;5;250;43m \u001b[39;49m\u001b[43mincl_bracket\u001b[49m\u001b[38;5;241;43m=\u001b[39;49m\u001b[38;5;28;43;01mFalse\u001b[39;49;00m\u001b[43m)\u001b[49m\u001b[38;5;132;43;01m}\u001b[39;49;00m\u001b[38;5;124;43m - Results\u001b[39;49m\u001b[38;5;124;43m\"\u001b[39;49m\u001b[43m)\u001b[49m\n\u001b[1;32m    590\u001b[0m \u001b[43m    \u001b[49m\u001b[38;5;241;43m.\u001b[39;49m\u001b[43mspacer\u001b[49m\u001b[43m(\u001b[49m\u001b[38;5;241;43m0.5\u001b[39;49m\u001b[43m)\u001b[49m\n\u001b[1;32m    591\u001b[0m \u001b[43m    \u001b[49m\u001b[38;5;241;43m.\u001b[39;49m\u001b[43mtable\u001b[49m\u001b[43m(\u001b[49m\u001b[38;5;28;43mself\u001b[39;49m\u001b[38;5;241;43m.\u001b[39;49m\u001b[43mget_results\u001b[49m\u001b[43m(\u001b[49m\u001b[43m)\u001b[49m\u001b[43m)\u001b[49m\n\u001b[1;32m    592\u001b[0m \u001b[43m    \u001b[49m\u001b[38;5;241;43m.\u001b[39;49m\u001b[43mpage_break\u001b[49m\u001b[43m(\u001b[49m\u001b[43m)\u001b[49m\n\u001b[1;32m    593\u001b[0m \u001b[43m    \u001b[49m\u001b[38;5;241;43m.\u001b[39;49m\u001b[43mh2\u001b[49m\u001b[43m(\u001b[49m\u001b[38;5;124;43m\"\u001b[39;49m\u001b[38;5;124;43mUnivariate Report\u001b[39;49m\u001b[38;5;124;43m\"\u001b[39;49m\u001b[43m)\u001b[49m\n\u001b[1;32m    594\u001b[0m \u001b[43m    \u001b[49m\u001b[38;5;241;43m.\u001b[39;49m\u001b[43mh3\u001b[49m\u001b[43m(\u001b[49m\n\u001b[1;32m    595\u001b[0m \u001b[43m        \u001b[49m\u001b[38;5;124;43mf\u001b[39;49m\u001b[38;5;124;43m\"\u001b[39;49m\u001b[38;5;132;43;01m{\u001b[39;49;00m\u001b[43mplot_label\u001b[49m\u001b[43m(\u001b[49m\u001b[38;5;28;43mself\u001b[39;49m\u001b[38;5;241;43m.\u001b[39;49m\u001b[43mfeature_name\u001b[49m\u001b[43m,\u001b[49m\u001b[38;5;250;43m \u001b[39;49m\u001b[43mincl_bracket\u001b[49m\u001b[38;5;241;43m=\u001b[39;49m\u001b[38;5;28;43;01mFalse\u001b[39;49;00m\u001b[43m)\u001b[49m\u001b[38;5;132;43;01m}\u001b[39;49;00m\u001b[38;5;124;43m - \u001b[39;49m\u001b[38;5;124;43m\"\u001b[39;49m\n\u001b[1;32m    596\u001b[0m \u001b[43m        \u001b[49m\u001b[38;5;124;43m\"\u001b[39;49m\u001b[38;5;124;43mKernel Density Plot\u001b[39;49m\u001b[38;5;124;43m\"\u001b[39;49m\n\u001b[1;32m    597\u001b[0m \u001b[43m    \u001b[49m\u001b[43m)\u001b[49m\n\u001b[1;32m    598\u001b[0m \u001b[43m    \u001b[49m\u001b[38;5;241;43m.\u001b[39;49m\u001b[43mplot\u001b[49m\u001b[43m(\u001b[49m\u001b[43mdensity\u001b[49m\u001b[43m)\u001b[49m\n\u001b[1;32m    599\u001b[0m \u001b[43m    \u001b[49m\u001b[38;5;241;43m.\u001b[39;49m\u001b[43mspacer\u001b[49m\u001b[43m(\u001b[49m\u001b[38;5;241;43m0.125\u001b[39;49m\u001b[43m)\u001b[49m\n\u001b[1;32m    600\u001b[0m \u001b[43m    \u001b[49m\u001b[38;5;241;43m.\u001b[39;49m\u001b[43mcaption\u001b[49m\u001b[43m(\u001b[49m\n\u001b[1;32m    601\u001b[0m \u001b[43m        \u001b[49m\u001b[38;5;124;43m\"\u001b[39;49m\u001b[38;5;124;43mThis plot shows the Gaussian kernel density for each level of the \u001b[39;49m\u001b[38;5;124;43m\"\u001b[39;49m\n\u001b[1;32m    602\u001b[0m \u001b[43m        \u001b[49m\u001b[38;5;124;43m\"\u001b[39;49m\u001b[38;5;124;43mtarget variable, both in total and for each fold. \u001b[39;49m\u001b[38;5;124;43m\"\u001b[39;49m\n\u001b[1;32m    603\u001b[0m \u001b[43m        \u001b[49m\u001b[38;5;124;43m\"\u001b[39;49m\u001b[38;5;124;43mThe x-axis represents the feature variable, and the y-axis represents \u001b[39;49m\u001b[38;5;124;43m\"\u001b[39;49m\n\u001b[1;32m    604\u001b[0m \u001b[43m        \u001b[49m\u001b[38;5;124;43m\"\u001b[39;49m\u001b[38;5;124;43mthe density of the target variable. \u001b[39;49m\u001b[38;5;124;43m\"\u001b[39;49m\n\u001b[1;32m    605\u001b[0m \u001b[43m        \u001b[49m\u001b[38;5;124;43m\"\u001b[39;49m\u001b[38;5;124;43mThe cross-validation folds are included in slightly washed-out colors \u001b[39;49m\u001b[38;5;124;43m\"\u001b[39;49m\n\u001b[1;32m    606\u001b[0m \u001b[43m        \u001b[49m\u001b[38;5;124;43m\"\u001b[39;49m\u001b[38;5;124;43mto help understand the variability of the data. \u001b[39;49m\u001b[38;5;124;43m\"\u001b[39;49m\n\u001b[1;32m    607\u001b[0m \u001b[43m        \u001b[49m\u001b[38;5;124;43m\"\u001b[39;49m\u001b[38;5;124;43mThere are annotations with the results of a t-test for the difference \u001b[39;49m\u001b[38;5;124;43m\"\u001b[39;49m\n\u001b[1;32m    608\u001b[0m \u001b[43m        \u001b[49m\u001b[38;5;124;43m\"\u001b[39;49m\u001b[38;5;124;43min means between the feature variable at each level of the target \u001b[39;49m\u001b[38;5;124;43m\"\u001b[39;49m\n\u001b[1;32m    609\u001b[0m \u001b[43m        \u001b[49m\u001b[38;5;124;43m\"\u001b[39;49m\u001b[38;5;124;43mvariable. \u001b[39;49m\u001b[38;5;124;43m\"\u001b[39;49m\n\u001b[1;32m    610\u001b[0m \u001b[43m        \u001b[49m\u001b[38;5;124;43m\"\u001b[39;49m\u001b[38;5;124;43mThe annotations corresponding to the color of the target variable \u001b[39;49m\u001b[38;5;124;43m\"\u001b[39;49m\n\u001b[1;32m    611\u001b[0m \u001b[43m        \u001b[49m\u001b[38;5;124;43m\"\u001b[39;49m\u001b[38;5;124;43mlevel show the mean/median ratio to help understand differences in \u001b[39;49m\u001b[38;5;124;43m\"\u001b[39;49m\n\u001b[1;32m    612\u001b[0m \u001b[43m        \u001b[49m\u001b[38;5;124;43m\"\u001b[39;49m\u001b[38;5;124;43mskewness between the levels of the target variable.\u001b[39;49m\u001b[38;5;124;43m\"\u001b[39;49m\n\u001b[1;32m    613\u001b[0m \u001b[43m    \u001b[49m\u001b[43m)\u001b[49m\n\u001b[1;32m    614\u001b[0m \u001b[43m    \u001b[49m\u001b[38;5;66;43;03m# TODO: Add in a table for the t-test results (Issue #62 on GitHub)\u001b[39;49;00m\n\u001b[1;32m    615\u001b[0m \u001b[43m    \u001b[49m\u001b[38;5;241;43m.\u001b[39;49m\u001b[43mpage_break\u001b[49m\u001b[43m(\u001b[49m\u001b[43m)\u001b[49m\n\u001b[1;32m    616\u001b[0m \u001b[43m    \u001b[49m\u001b[38;5;241;43m.\u001b[39;49m\u001b[43mh2\u001b[49m\u001b[43m(\u001b[49m\u001b[38;5;124;43m\"\u001b[39;49m\u001b[38;5;124;43mUnivariate Report\u001b[39;49m\u001b[38;5;124;43m\"\u001b[39;49m\u001b[43m)\u001b[49m\n\u001b[1;32m    617\u001b[0m \u001b[43m    \u001b[49m\u001b[38;5;241;43m.\u001b[39;49m\u001b[43mh3\u001b[49m\u001b[43m(\u001b[49m\n\u001b[1;32m    618\u001b[0m \u001b[43m        \u001b[49m\u001b[38;5;124;43mf\u001b[39;49m\u001b[38;5;124;43m\"\u001b[39;49m\u001b[38;5;132;43;01m{\u001b[39;49;00m\u001b[43mplot_label\u001b[49m\u001b[43m(\u001b[49m\u001b[38;5;28;43mself\u001b[39;49m\u001b[38;5;241;43m.\u001b[39;49m\u001b[43mfeature_name\u001b[49m\u001b[43m,\u001b[49m\u001b[38;5;250;43m \u001b[39;49m\u001b[43mincl_bracket\u001b[49m\u001b[38;5;241;43m=\u001b[39;49m\u001b[38;5;28;43;01mFalse\u001b[39;49;00m\u001b[43m)\u001b[49m\u001b[38;5;132;43;01m}\u001b[39;49;00m\u001b[38;5;124;43m \u001b[39;49m\u001b[38;5;124;43m\"\u001b[39;49m\n\u001b[1;32m    619\u001b[0m \u001b[43m        \u001b[49m\u001b[38;5;124;43m\"\u001b[39;49m\u001b[38;5;124;43m- Empirical CDF Plot\u001b[39;49m\u001b[38;5;124;43m\"\u001b[39;49m\n\u001b[1;32m    620\u001b[0m \u001b[43m    \u001b[49m\u001b[43m)\u001b[49m\n\u001b[0;32m--> 621\u001b[0m \u001b[43m    \u001b[49m\u001b[38;5;241;43m.\u001b[39;49m\u001b[43mplot\u001b[49m\u001b[43m(\u001b[49m\u001b[43mcdf\u001b[49m\u001b[43m)\u001b[49m\n\u001b[1;32m    622\u001b[0m     \u001b[38;5;241m.\u001b[39mspacer(\u001b[38;5;241m0.125\u001b[39m)\n\u001b[1;32m    623\u001b[0m     \u001b[38;5;241m.\u001b[39mcaption(\n\u001b[1;32m    624\u001b[0m         \u001b[38;5;124m\"\u001b[39m\u001b[38;5;124mThis plot shows the empirical cumulative distribution function for \u001b[39m\u001b[38;5;124m\"\u001b[39m\n\u001b[1;32m    625\u001b[0m         \u001b[38;5;124m\"\u001b[39m\u001b[38;5;124meach level of the target variable, both in total and for each fold. \u001b[39m\u001b[38;5;124m\"\u001b[39m\n\u001b[1;32m    626\u001b[0m         \u001b[38;5;124m\"\u001b[39m\u001b[38;5;124mThe x-axis represents the feature variable, and the y-axis represents \u001b[39m\u001b[38;5;124m\"\u001b[39m\n\u001b[1;32m    627\u001b[0m         \u001b[38;5;124m\"\u001b[39m\u001b[38;5;124mthe cumulative distribution of the target variable. \u001b[39m\u001b[38;5;124m\"\u001b[39m\n\u001b[1;32m    628\u001b[0m         \u001b[38;5;124m\"\u001b[39m\u001b[38;5;124mThe cross-validation folds are included in slightly washed-out colors \u001b[39m\u001b[38;5;124m\"\u001b[39m\n\u001b[1;32m    629\u001b[0m         \u001b[38;5;124m\"\u001b[39m\u001b[38;5;124mto help understand the variability of the data, and whether or not it \u001b[39m\u001b[38;5;124m\"\u001b[39m\n\u001b[1;32m    630\u001b[0m         \u001b[38;5;124m\"\u001b[39m\u001b[38;5;124mis reasonable to assume that the data is drawn from different \u001b[39m\u001b[38;5;124m\"\u001b[39m\n\u001b[1;32m    631\u001b[0m         \u001b[38;5;124m\"\u001b[39m\u001b[38;5;124mdistributions.\u001b[39m\u001b[38;5;124m\"\u001b[39m\n\u001b[1;32m    632\u001b[0m     )\n\u001b[1;32m    633\u001b[0m     \u001b[38;5;241m.\u001b[39mpage_break()\n\u001b[1;32m    634\u001b[0m     \u001b[38;5;241m.\u001b[39mh2(\u001b[38;5;124m\"\u001b[39m\u001b[38;5;124mUnivariate Report\u001b[39m\u001b[38;5;124m\"\u001b[39m)\n\u001b[1;32m    635\u001b[0m     \u001b[38;5;241m.\u001b[39mh3(\u001b[38;5;124mf\u001b[39m\u001b[38;5;124m\"\u001b[39m\u001b[38;5;132;01m{\u001b[39;00mplot_label(\u001b[38;5;28mself\u001b[39m\u001b[38;5;241m.\u001b[39mfeature_name,\u001b[38;5;250m \u001b[39mincl_bracket\u001b[38;5;241m=\u001b[39m\u001b[38;5;28;01mFalse\u001b[39;00m)\u001b[38;5;132;01m}\u001b[39;00m\u001b[38;5;124m - ROC Curve\u001b[39m\u001b[38;5;124m\"\u001b[39m)\n\u001b[1;32m    636\u001b[0m     \u001b[38;5;241m.\u001b[39mplot(roc)\n\u001b[1;32m    637\u001b[0m     \u001b[38;5;241m.\u001b[39mspacer(\u001b[38;5;241m0.125\u001b[39m)\n\u001b[1;32m    638\u001b[0m     \u001b[38;5;241m.\u001b[39mcaption(\n\u001b[1;32m    639\u001b[0m         \u001b[38;5;124m\"\u001b[39m\u001b[38;5;124mThis plot shows the receiver operating characteristic (ROC) curve \u001b[39m\u001b[38;5;124m\"\u001b[39m\n\u001b[1;32m    640\u001b[0m         \u001b[38;5;124m\"\u001b[39m\u001b[38;5;124mfor the target variable in total and for each fold. \u001b[39m\u001b[38;5;124m\"\u001b[39m\n\u001b[1;32m    641\u001b[0m         \u001b[38;5;124m\"\u001b[39m\u001b[38;5;124mThe x-axis represents the false positive rate, and the y-axis \u001b[39m\u001b[38;5;124m\"\u001b[39m\n\u001b[1;32m    642\u001b[0m         \u001b[38;5;124m\"\u001b[39m\u001b[38;5;124mrepresents the true positive rate. This is based on a simple \u001b[39m\u001b[38;5;124m\"\u001b[39m\n\u001b[1;32m    643\u001b[0m         \u001b[38;5;124m\"\u001b[39m\u001b[38;5;124mLogistic Regression model with no regularization, no intercept, \u001b[39m\u001b[38;5;124m\"\u001b[39m\n\u001b[1;32m    644\u001b[0m         \u001b[38;5;124m\"\u001b[39m\u001b[38;5;124mand no other features. \u001b[39m\u001b[38;5;124m\"\u001b[39m\n\u001b[1;32m    645\u001b[0m         \u001b[38;5;124m\"\u001b[39m\u001b[38;5;124mAnnotations are on the plot to help understand the results of the \u001b[39m\u001b[38;5;124m\"\u001b[39m\n\u001b[1;32m    646\u001b[0m         \u001b[38;5;124m\"\u001b[39m\u001b[38;5;124mmodel, including the coefficient, standard error, and p-value for \u001b[39m\u001b[38;5;124m\"\u001b[39m\n\u001b[1;32m    647\u001b[0m         \u001b[38;5;124m\"\u001b[39m\u001b[38;5;124mthe feature variable. \u001b[39m\u001b[38;5;124m\"\u001b[39m\n\u001b[1;32m    648\u001b[0m         \u001b[38;5;124m\"\u001b[39m\u001b[38;5;124mThe cross-validation folds are used to create the grey region around \u001b[39m\u001b[38;5;124m\"\u001b[39m\n\u001b[1;32m    649\u001b[0m         \u001b[38;5;124m\"\u001b[39m\u001b[38;5;124mthe mean ROC curve to help understand the variability of the data.\u001b[39m\u001b[38;5;124m\"\u001b[39m\n\u001b[1;32m    650\u001b[0m     )\n\u001b[1;32m    651\u001b[0m     \u001b[38;5;241m.\u001b[39mcaption(\n\u001b[1;32m    652\u001b[0m         \u001b[38;5;124m\"\u001b[39m\u001b[38;5;124mSignificance of the ROC curve is determined based on a modified \u001b[39m\u001b[38;5;124m\"\u001b[39m\n\u001b[1;32m    653\u001b[0m         \u001b[38;5;124m\"\u001b[39m\u001b[38;5;124mversion the method from DeLong et al. (1988). In brief, the AUC \u001b[39m\u001b[38;5;124m\"\u001b[39m\n\u001b[1;32m    654\u001b[0m         \u001b[38;5;124m\"\u001b[39m\u001b[38;5;124mis assumed to be normally distributed, and I calculate the empirical \u001b[39m\u001b[38;5;124m\"\u001b[39m\n\u001b[1;32m    655\u001b[0m         \u001b[38;5;124m\"\u001b[39m\u001b[38;5;124mstandard error from the cross-validated AUC values. \u001b[39m\u001b[38;5;124m\"\u001b[39m\n\u001b[1;32m    656\u001b[0m         \u001b[38;5;124m\"\u001b[39m\u001b[38;5;124mI then calculate a z-score for the AUC, and use the z-score to \u001b[39m\u001b[38;5;124m\"\u001b[39m\n\u001b[1;32m    657\u001b[0m         \u001b[38;5;124m\"\u001b[39m\u001b[38;5;124mcalculate a p-value. \u001b[39m\u001b[38;5;124m\"\u001b[39m\n\u001b[1;32m    658\u001b[0m         \u001b[38;5;124m\"\u001b[39m\u001b[38;5;124mThe p-value is then used to determine the significance of the AUC. \u001b[39m\u001b[38;5;124m\"\u001b[39m\n\u001b[1;32m    659\u001b[0m         \u001b[38;5;124m\"\u001b[39m\u001b[38;5;124mThis is a simple test, and should be used with caution.\u001b[39m\u001b[38;5;124m\"\u001b[39m\n\u001b[1;32m    660\u001b[0m     )\n\u001b[1;32m    661\u001b[0m     \u001b[38;5;241m.\u001b[39mpage_break()\n\u001b[1;32m    662\u001b[0m     \u001b[38;5;241m.\u001b[39mh2(\u001b[38;5;124m\"\u001b[39m\u001b[38;5;124mUnivariate Report\u001b[39m\u001b[38;5;124m\"\u001b[39m)\n\u001b[1;32m    663\u001b[0m     \u001b[38;5;241m.\u001b[39mh3(\u001b[38;5;124mf\u001b[39m\u001b[38;5;124m\"\u001b[39m\u001b[38;5;132;01m{\u001b[39;00mplot_label(\u001b[38;5;28mself\u001b[39m\u001b[38;5;241m.\u001b[39mfeature_name,\u001b[38;5;250m \u001b[39mincl_bracket\u001b[38;5;241m=\u001b[39m\u001b[38;5;28;01mFalse\u001b[39;00m)\u001b[38;5;132;01m}\u001b[39;00m\u001b[38;5;124m - Quintile Lift\u001b[39m\u001b[38;5;124m\"\u001b[39m)\n\u001b[1;32m    664\u001b[0m     \u001b[38;5;241m.\u001b[39mplot(quintile)\n\u001b[1;32m    665\u001b[0m     \u001b[38;5;241m.\u001b[39mspacer(\u001b[38;5;241m0.125\u001b[39m)\n\u001b[1;32m    666\u001b[0m     \u001b[38;5;241m.\u001b[39mcaption(\n\u001b[1;32m    667\u001b[0m         \u001b[38;5;124m\"\u001b[39m\u001b[38;5;124mThe quintile lift plot is meant to show the power of the single \u001b[39m\u001b[38;5;124m\"\u001b[39m\n\u001b[1;32m    668\u001b[0m         \u001b[38;5;124m\"\u001b[39m\u001b[38;5;124mfeature to discriminate between the highest and lowest quintiles \u001b[39m\u001b[38;5;124m\"\u001b[39m\n\u001b[1;32m    669\u001b[0m         \u001b[38;5;124m\"\u001b[39m\u001b[38;5;124mof the target variable.\u001b[39m\u001b[38;5;124m\"\u001b[39m\n\u001b[1;32m    670\u001b[0m     )\n\u001b[1;32m    671\u001b[0m     \u001b[38;5;241m.\u001b[39mpage_break()\n\u001b[1;32m    672\u001b[0m )\n",
      "File \u001b[0;32m~/work/predictables/predictables/util/report/_Report.py:963\u001b[0m, in \u001b[0;36mReport.plot\u001b[0;34m(self, func, width, height)\u001b[0m\n\u001b[1;32m    960\u001b[0m temp_filename \u001b[38;5;241m=\u001b[39m \u001b[38;5;124mf\u001b[39m\u001b[38;5;124m\"\u001b[39m\u001b[38;5;124mtemp_plot_\u001b[39m\u001b[38;5;132;01m{\u001b[39;00muuid\u001b[38;5;241m.\u001b[39muuid4()\u001b[38;5;132;01m}\u001b[39;00m\u001b[38;5;124m.png\u001b[39m\u001b[38;5;124m\"\u001b[39m\n\u001b[1;32m    962\u001b[0m \u001b[38;5;66;03m# Generate the plot and save it as a temporary file\u001b[39;00m\n\u001b[0;32m--> 963\u001b[0m ax \u001b[38;5;241m=\u001b[39m \u001b[43mfunc\u001b[49m\u001b[43m(\u001b[49m\u001b[43m)\u001b[49m\n\u001b[1;32m    964\u001b[0m fig \u001b[38;5;241m=\u001b[39m ax\u001b[38;5;241m.\u001b[39mget_figure()\n\u001b[1;32m    965\u001b[0m fig\u001b[38;5;241m.\u001b[39msavefig(temp_filename, dpi\u001b[38;5;241m=\u001b[39m\u001b[38;5;28mself\u001b[39m\u001b[38;5;241m.\u001b[39mdpi, bbox_inches\u001b[38;5;241m=\u001b[39m\u001b[38;5;124m\"\u001b[39m\u001b[38;5;124mtight\u001b[39m\u001b[38;5;124m\"\u001b[39m)\n",
      "File \u001b[0;32m~/work/predictables/predictables/univariate/_Univariate.py:570\u001b[0m, in \u001b[0;36mUnivariate._add_to_report.<locals>.cdf\u001b[0;34m()\u001b[0m\n\u001b[1;32m    569\u001b[0m \u001b[38;5;28;01mdef\u001b[39;00m \u001b[38;5;21mcdf\u001b[39m():\n\u001b[0;32m--> 570\u001b[0m     \u001b[38;5;28;01mreturn\u001b[39;00m \u001b[38;5;28;43mself\u001b[39;49m\u001b[38;5;241;43m.\u001b[39;49m\u001b[43mplot_cdf\u001b[49m\u001b[43m(\u001b[49m\u001b[43mdata\u001b[49m\u001b[38;5;241;43m=\u001b[39;49m\u001b[38;5;124;43m\"\u001b[39;49m\u001b[38;5;124;43mtrain\u001b[39;49m\u001b[38;5;124;43m\"\u001b[39;49m\u001b[43m,\u001b[49m\u001b[43m \u001b[49m\u001b[43mfigsize\u001b[49m\u001b[38;5;241;43m=\u001b[39;49m\u001b[38;5;28;43mself\u001b[39;49m\u001b[38;5;241;43m.\u001b[39;49m\u001b[43mfigsize\u001b[49m\u001b[43m)\u001b[49m\n",
      "File \u001b[0;32m~/work/predictables/predictables/univariate/_Univariate.py:386\u001b[0m, in \u001b[0;36mUnivariate.plot_cdf\u001b[0;34m(self, data, ax, figsize, **kwargs)\u001b[0m\n\u001b[1;32m    383\u001b[0m \u001b[38;5;28;01melse\u001b[39;00m:\n\u001b[1;32m    384\u001b[0m     ax1 \u001b[38;5;241m=\u001b[39m ax\n\u001b[0;32m--> 386\u001b[0m ax1 \u001b[38;5;241m=\u001b[39m \u001b[43mcdf_plot\u001b[49m\u001b[43m(\u001b[49m\n\u001b[1;32m    387\u001b[0m \u001b[43m    \u001b[49m\u001b[43mX\u001b[49m\u001b[43m,\u001b[49m\n\u001b[1;32m    388\u001b[0m \u001b[43m    \u001b[49m\u001b[43my\u001b[49m\u001b[43m,\u001b[49m\n\u001b[1;32m    389\u001b[0m \u001b[43m    \u001b[49m\u001b[43mcv\u001b[49m\u001b[43m,\u001b[49m\n\u001b[1;32m    390\u001b[0m \u001b[43m    \u001b[49m\u001b[38;5;28;43mself\u001b[39;49m\u001b[38;5;241;43m.\u001b[39;49m\u001b[43mfeature_name\u001b[49m\u001b[43m,\u001b[49m\n\u001b[1;32m    391\u001b[0m \u001b[43m    \u001b[49m\u001b[43max\u001b[49m\u001b[38;5;241;43m=\u001b[39;49m\u001b[43max1\u001b[49m\u001b[43m,\u001b[49m\n\u001b[1;32m    392\u001b[0m \u001b[43m    \u001b[49m\u001b[43mfigsize\u001b[49m\u001b[38;5;241;43m=\u001b[39;49m\u001b[38;5;28;43mself\u001b[39;49m\u001b[38;5;241;43m.\u001b[39;49m\u001b[43mfigsize\u001b[49m\u001b[43m \u001b[49m\u001b[38;5;28;43;01mif\u001b[39;49;00m\u001b[43m \u001b[49m\u001b[43mfigsize\u001b[49m\u001b[43m \u001b[49m\u001b[38;5;129;43;01mis\u001b[39;49;00m\u001b[43m \u001b[49m\u001b[38;5;28;43;01mNone\u001b[39;49;00m\u001b[43m \u001b[49m\u001b[38;5;28;43;01melse\u001b[39;49;00m\u001b[43m \u001b[49m\u001b[43mfigsize\u001b[49m\u001b[43m,\u001b[49m\n\u001b[1;32m    393\u001b[0m \u001b[43m    \u001b[49m\u001b[38;5;241;43m*\u001b[39;49m\u001b[38;5;241;43m*\u001b[39;49m\u001b[43mkwargs\u001b[49m\u001b[43m,\u001b[49m\n\u001b[1;32m    394\u001b[0m \u001b[43m\u001b[49m\u001b[43m)\u001b[49m\n\u001b[1;32m    395\u001b[0m \u001b[38;5;28;01mreturn\u001b[39;00m ax1\n",
      "File \u001b[0;32m~/work/predictables/predictables/univariate/src/plots/_cdf_plot.py:63\u001b[0m, in \u001b[0;36mcdf_plot\u001b[0;34m(x, plot_by, cv_folds, x_label, y_label, ax, figsize, backend, time_series_validation, **kwargs)\u001b[0m\n\u001b[1;32m     60\u001b[0m     \u001b[38;5;28;01melse\u001b[39;00m:\n\u001b[1;32m     61\u001b[0m         ax_ \u001b[38;5;241m=\u001b[39m ax\n\u001b[0;32m---> 63\u001b[0m     \u001b[38;5;28;01mreturn\u001b[39;00m \u001b[43mcdf_plot_matplotlib\u001b[49m\u001b[43m(\u001b[49m\n\u001b[1;32m     64\u001b[0m \u001b[43m        \u001b[49m\u001b[43mx\u001b[49m\u001b[38;5;241;43m=\u001b[39;49m\u001b[43mto_pd_s\u001b[49m\u001b[43m(\u001b[49m\u001b[43mx\u001b[49m\u001b[43m)\u001b[49m\u001b[43m,\u001b[49m\n\u001b[1;32m     65\u001b[0m \u001b[43m        \u001b[49m\u001b[43mplot_by\u001b[49m\u001b[38;5;241;43m=\u001b[39;49m\u001b[43mto_pd_s\u001b[49m\u001b[43m(\u001b[49m\u001b[43mplot_by\u001b[49m\u001b[43m)\u001b[49m\u001b[43m,\u001b[49m\n\u001b[1;32m     66\u001b[0m \u001b[43m        \u001b[49m\u001b[43mcv_folds\u001b[49m\u001b[38;5;241;43m=\u001b[39;49m\u001b[43mcv_folds\u001b[49m\u001b[43m,\u001b[49m\n\u001b[1;32m     67\u001b[0m \u001b[43m        \u001b[49m\u001b[43mx_label\u001b[49m\u001b[38;5;241;43m=\u001b[39;49m\u001b[43mx_label\u001b[49m\u001b[43m,\u001b[49m\n\u001b[1;32m     68\u001b[0m \u001b[43m        \u001b[49m\u001b[43my_label\u001b[49m\u001b[38;5;241;43m=\u001b[39;49m\u001b[43my_label\u001b[49m\u001b[43m,\u001b[49m\n\u001b[1;32m     69\u001b[0m \u001b[43m        \u001b[49m\u001b[43max\u001b[49m\u001b[38;5;241;43m=\u001b[39;49m\u001b[43max_\u001b[49m\u001b[43m,\u001b[49m\n\u001b[1;32m     70\u001b[0m \u001b[43m        \u001b[49m\u001b[43mtime_series_validation\u001b[49m\u001b[38;5;241;43m=\u001b[39;49m\u001b[43mtime_series_validation\u001b[49m\u001b[43m,\u001b[49m\n\u001b[1;32m     71\u001b[0m \u001b[43m        \u001b[49m\u001b[38;5;241;43m*\u001b[39;49m\u001b[38;5;241;43m*\u001b[39;49m\u001b[43mkwargs\u001b[49m\u001b[43m,\u001b[49m\n\u001b[1;32m     72\u001b[0m \u001b[43m    \u001b[49m\u001b[43m)\u001b[49m\n\u001b[1;32m     73\u001b[0m \u001b[38;5;28;01melse\u001b[39;00m:\n\u001b[1;32m     74\u001b[0m     \u001b[38;5;28;01mraise\u001b[39;00m \u001b[38;5;167;01mValueError\u001b[39;00m(\u001b[38;5;124mf\u001b[39m\u001b[38;5;124m\"\u001b[39m\u001b[38;5;124mBackend \u001b[39m\u001b[38;5;132;01m{\u001b[39;00mbackend\u001b[38;5;132;01m}\u001b[39;00m\u001b[38;5;124m is not supported.\u001b[39m\u001b[38;5;124m\"\u001b[39m)\n",
      "File \u001b[0;32m~/work/predictables/predictables/univariate/src/plots/_cdf_plot.py:109\u001b[0m, in \u001b[0;36mcdf_plot_matplotlib\u001b[0;34m(x, plot_by, cv_folds, x_label, y_label, ax, time_series_validation, **kwargs)\u001b[0m\n\u001b[1;32m    106\u001b[0m _name \u001b[38;5;241m=\u001b[39m x\u001b[38;5;241m.\u001b[39mname \u001b[38;5;28;01mif\u001b[39;00m x\u001b[38;5;241m.\u001b[39mname \u001b[38;5;129;01mis\u001b[39;00m \u001b[38;5;129;01mnot\u001b[39;00m \u001b[38;5;28;01mNone\u001b[39;00m \u001b[38;5;28;01melse\u001b[39;00m \u001b[38;5;124m\"\u001b[39m\u001b[38;5;124mx\u001b[39m\u001b[38;5;124m\"\u001b[39m\n\u001b[1;32m    108\u001b[0m \u001b[38;5;66;03m# Plot the total CDFs\u001b[39;00m\n\u001b[0;32m--> 109\u001b[0m ax0 \u001b[38;5;241m=\u001b[39m \u001b[43mcdf_plot_matplotlib_levels\u001b[49m\u001b[43m(\u001b[49m\n\u001b[1;32m    110\u001b[0m \u001b[43m    \u001b[49m\u001b[43mx\u001b[49m\u001b[38;5;241;43m=\u001b[39;49m\u001b[43mx\u001b[49m\u001b[43m,\u001b[49m\n\u001b[1;32m    111\u001b[0m \u001b[43m    \u001b[49m\u001b[43mplot_by\u001b[49m\u001b[38;5;241;43m=\u001b[39;49m\u001b[43mplot_by\u001b[49m\u001b[43m,\u001b[49m\n\u001b[1;32m    112\u001b[0m \u001b[43m    \u001b[49m\u001b[43mx_label\u001b[49m\u001b[38;5;241;43m=\u001b[39;49m\u001b[43m(\u001b[49m\u001b[43mplot_label\u001b[49m\u001b[43m(\u001b[49m\u001b[43mx_label\u001b[49m\u001b[43m)\u001b[49m\u001b[43m \u001b[49m\u001b[38;5;28;43;01mif\u001b[39;49;00m\u001b[43m \u001b[49m\u001b[43mx_label\u001b[49m\u001b[43m \u001b[49m\u001b[38;5;129;43;01mis\u001b[39;49;00m\u001b[43m \u001b[49m\u001b[38;5;129;43;01mnot\u001b[39;49;00m\u001b[43m \u001b[49m\u001b[38;5;28;43;01mNone\u001b[39;49;00m\u001b[43m \u001b[49m\u001b[38;5;28;43;01melse\u001b[39;49;00m\u001b[43m \u001b[49m\u001b[43mplot_label\u001b[49m\u001b[43m(\u001b[49m\u001b[43m_name\u001b[49m\u001b[43m)\u001b[49m\u001b[43m)\u001b[49m\u001b[43m,\u001b[49m\u001b[43m  \u001b[49m\u001b[38;5;66;43;03m# type: ignore\u001b[39;49;00m\n\u001b[1;32m    113\u001b[0m \u001b[43m    \u001b[49m\u001b[43my_label\u001b[49m\u001b[38;5;241;43m=\u001b[39;49m\u001b[43m(\u001b[49m\n\u001b[1;32m    114\u001b[0m \u001b[43m        \u001b[49m\u001b[43my_label\u001b[49m\n\u001b[1;32m    115\u001b[0m \u001b[43m        \u001b[49m\u001b[38;5;28;43;01mif\u001b[39;49;00m\u001b[43m \u001b[49m\u001b[43my_label\u001b[49m\u001b[43m \u001b[49m\u001b[38;5;129;43;01mis\u001b[39;49;00m\u001b[43m \u001b[49m\u001b[38;5;129;43;01mnot\u001b[39;49;00m\u001b[43m \u001b[49m\u001b[38;5;28;43;01mNone\u001b[39;49;00m\n\u001b[1;32m    116\u001b[0m \u001b[43m        \u001b[49m\u001b[38;5;28;43;01melse\u001b[39;49;00m\u001b[43m \u001b[49m\u001b[38;5;124;43m\"\u001b[39;49m\u001b[38;5;124;43mEmpirical Cumulative Distribution Function\u001b[39;49m\u001b[38;5;124;43m\"\u001b[39;49m\n\u001b[1;32m    117\u001b[0m \u001b[43m    \u001b[49m\u001b[43m)\u001b[49m\u001b[43m,\u001b[49m\n\u001b[1;32m    118\u001b[0m \u001b[43m    \u001b[49m\u001b[43max\u001b[49m\u001b[38;5;241;43m=\u001b[39;49m\u001b[43max0\u001b[49m\u001b[43m,\u001b[49m\n\u001b[1;32m    119\u001b[0m \u001b[43m    \u001b[49m\u001b[38;5;241;43m*\u001b[39;49m\u001b[38;5;241;43m*\u001b[39;49m\u001b[43mkwargs\u001b[49m\u001b[43m,\u001b[49m\n\u001b[1;32m    120\u001b[0m \u001b[43m\u001b[49m\u001b[43m)\u001b[49m\n\u001b[1;32m    122\u001b[0m \u001b[38;5;66;03m# Plot the CV fold CDFs (lower alpha) to show the distribution\u001b[39;00m\n\u001b[1;32m    123\u001b[0m ax0 \u001b[38;5;241m=\u001b[39m cdf_plot_matplotlib_levels_cv(\n\u001b[1;32m    124\u001b[0m     x\u001b[38;5;241m=\u001b[39mx,\n\u001b[1;32m    125\u001b[0m     plot_by\u001b[38;5;241m=\u001b[39mplot_by,\n\u001b[0;32m   (...)\u001b[0m\n\u001b[1;32m    136\u001b[0m     \u001b[38;5;241m*\u001b[39m\u001b[38;5;241m*\u001b[39mkwargs,\n\u001b[1;32m    137\u001b[0m )\n",
      "File \u001b[0;32m~/work/predictables/predictables/univariate/src/plots/_cdf_plot.py:215\u001b[0m, in \u001b[0;36mcdf_plot_matplotlib_levels\u001b[0;34m(x, plot_by, x_label, y_label, ax, figsize, **kwargs)\u001b[0m\n\u001b[1;32m    213\u001b[0m     label \u001b[38;5;241m+\u001b[39m\u001b[38;5;241m=\u001b[39m \u001b[38;5;124mf\u001b[39m\u001b[38;5;124m\"\u001b[39m\u001b[38;5;124m = \u001b[39m\u001b[38;5;132;01m{\u001b[39;00mlevel\u001b[38;5;132;01m}\u001b[39;00m\u001b[38;5;124m\"\u001b[39m\n\u001b[1;32m    214\u001b[0m     x_cdf \u001b[38;5;241m=\u001b[39m calculate_cdf(x[plot_by \u001b[38;5;241m==\u001b[39m level])\n\u001b[0;32m--> 215\u001b[0m     ax_ \u001b[38;5;241m=\u001b[39m x_cdf\u001b[38;5;241m.\u001b[39mplot\u001b[38;5;241m.\u001b[39mline(ax\u001b[38;5;241m=\u001b[39max_, label\u001b[38;5;241m=\u001b[39mlabel, color\u001b[38;5;241m=\u001b[39m\u001b[43mbinary_color\u001b[49m\u001b[43m(\u001b[49m\u001b[43mlevel\u001b[49m\u001b[43m)\u001b[49m, \u001b[38;5;241m*\u001b[39m\u001b[38;5;241m*\u001b[39mkwargs)  \u001b[38;5;66;03m# type: ignore\u001b[39;00m\n\u001b[1;32m    217\u001b[0m \u001b[38;5;28;01mif\u001b[39;00m x_label \u001b[38;5;129;01mis\u001b[39;00m \u001b[38;5;129;01mnot\u001b[39;00m \u001b[38;5;28;01mNone\u001b[39;00m:\n\u001b[1;32m    218\u001b[0m     ax_\u001b[38;5;241m.\u001b[39mset_xlabel(x_label)\n",
      "File \u001b[0;32m~/work/predictables/predictables/univariate/src/plots/util/_binary_color.py:44\u001b[0m, in \u001b[0;36mbinary_color\u001b[0;34m(x)\u001b[0m\n\u001b[1;32m     41\u001b[0m     \u001b[38;5;28;01melse\u001b[39;00m:\n\u001b[1;32m     42\u001b[0m         \u001b[38;5;28;01mraise\u001b[39;00m \u001b[38;5;167;01mValueError\u001b[39;00m(\u001b[38;5;124mf\u001b[39m\u001b[38;5;124m\"\u001b[39m\u001b[38;5;124mInvalid value \u001b[39m\u001b[38;5;132;01m{\u001b[39;00mx_1\u001b[38;5;132;01m}\u001b[39;00m\u001b[38;5;124m for binary variable.\u001b[39m\u001b[38;5;124m\"\u001b[39m)\n\u001b[0;32m---> 44\u001b[0m \u001b[38;5;28;01mraise\u001b[39;00m \u001b[38;5;167;01mValueError\u001b[39;00m(\u001b[38;5;124mf\u001b[39m\u001b[38;5;124m\"\u001b[39m\u001b[38;5;124mInvalid value \u001b[39m\u001b[38;5;132;01m{\u001b[39;00mx\u001b[38;5;132;01m}\u001b[39;00m\u001b[38;5;124m for binary variable.\u001b[39m\u001b[38;5;124m\"\u001b[39m)\n",
      "\u001b[0;31mValueError\u001b[0m: Invalid value 0 for binary variable."
     ]
    },
    {
     "data": {
      "image/png": "[encoded data removed]",
      "text/plain": [
       "<Figure size 700x700 with 1 Axes>"
      ]
     },
     "metadata": {},
     "output_type": "display_data"
    }
   ],
   "source": [
    "ua.build_report(\"cancer.pdf\", max_per_file=15)"
   ]
  },
  {
   "cell_type": "code",
   "execution_count": null,
   "metadata": {},
   "outputs": [],
   "source": []
  }
 ],
 "metadata": {
  "kernelspec": {
   "display_name": ".env",
   "language": "python",
   "name": "python3"
  },
  "language_info": {
   "codemirror_mode": {
    "name": "ipython",
    "version": 3
   },
   "file_extension": ".py",
   "mimetype": "text/x-python",
   "name": "python",
   "nbconvert_exporter": "python",
   "pygments_lexer": "ipython3",
   "version": "3.11.3"
  }
 },
 "nbformat": 4,
 "nbformat_minor": 2
}
