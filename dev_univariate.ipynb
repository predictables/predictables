{
 "cells": [
  {
   "cell_type": "code",
   "execution_count": 1,
   "metadata": {},
   "outputs": [
    {
     "data": {
      "text/html": [
       "<div><style>\n",
       ".dataframe > thead > tr,\n",
       ".dataframe > tbody > tr {\n",
       "  text-align: right;\n",
       "  white-space: pre-wrap;\n",
       "}\n",
       "</style>\n",
       "<small>shape: (5, 34)</small><table border=\"1\" class=\"dataframe\"><thead><tr><th>mean_radius</th><th>mean_texture</th><th>mean_perimeter</th><th>mean_area</th><th>mean_smoothness</th><th>mean_compactness</th><th>mean_concavity</th><th>mean_concave_points</th><th>mean_symmetry</th><th>mean_fractal_dimension</th><th>radius_error</th><th>texture_error</th><th>perimeter_error</th><th>area_error</th><th>smoothness_error</th><th>compactness_error</th><th>concavity_error</th><th>concave_points_error</th><th>symmetry_error</th><th>fractal_dimension_error</th><th>worst_radius</th><th>worst_texture</th><th>worst_perimeter</th><th>worst_area</th><th>worst_smoothness</th><th>worst_compactness</th><th>worst_concavity</th><th>worst_concave_points</th><th>worst_symmetry</th><th>worst_fractal_dimension</th><th>pc1</th><th>pc2</th><th>y</th><th>fold</th></tr><tr><td>f64</td><td>f64</td><td>f64</td><td>f64</td><td>f64</td><td>f64</td><td>f64</td><td>f64</td><td>f64</td><td>f64</td><td>f64</td><td>f64</td><td>f64</td><td>f64</td><td>f64</td><td>f64</td><td>f64</td><td>f64</td><td>f64</td><td>f64</td><td>f64</td><td>f64</td><td>f64</td><td>f64</td><td>f64</td><td>f64</td><td>f64</td><td>f64</td><td>f64</td><td>f64</td><td>f64</td><td>f64</td><td>i64</td><td>i64</td></tr></thead><tbody><tr><td>0.2081</td><td>0.912292</td><td>0.347273</td><td>0.046959</td><td>0.57215</td><td>1.774977</td><td>1.015706</td><td>1.02817</td><td>-0.272428</td><td>0.55604</td><td>-0.453216</td><td>-0.462029</td><td>0.358868</td><td>-0.333042</td><td>0.346688</td><td>1.438701</td><td>0.783046</td><td>1.140961</td><td>0.594217</td><td>0.195592</td><td>-0.039178</td><td>0.342424</td><td>0.337735</td><td>-0.168554</td><td>-0.033692</td><td>1.339296</td><td>0.895753</td><td>0.884571</td><td>0.160555</td><td>0.169804</td><td>2.601883</td><td>1.664731</td><td>0</td><td>2</td></tr><tr><td>-1.684571</td><td>-0.57005</td><td>-1.658278</td><td>-1.288347</td><td>-0.737294</td><td>-0.85113</td><td>-0.9155</td><td>-1.109197</td><td>-0.155598</td><td>0.316465</td><td>-0.898232</td><td>-0.472008</td><td>-0.877224</td><td>-0.706961</td><td>0.642366</td><td>-0.50402</td><td>-0.530967</td><td>-0.953653</td><td>0.62933</td><td>-0.458783</td><td>-1.512777</td><td>-0.605327</td><td>-1.489328</td><td>-1.122222</td><td>-0.11698</td><td>-0.754239</td><td>-0.975761</td><td>-1.354653</td><td>0.330422</td><td>-0.546168</td><td>-4.564517</td><td>1.565109</td><td>1</td><td>5</td></tr><tr><td>-0.825712</td><td>0.132725</td><td>-0.825</td><td>-0.761051</td><td>0.643316</td><td>-0.692695</td><td>-1.052023</td><td>-1.066224</td><td>0.468713</td><td>-0.356897</td><td>-0.38825</td><td>1.35921</td><td>-0.449022</td><td>-0.455811</td><td>1.949753</td><td>-0.806941</td><td>-0.948182</td><td>-1.107752</td><td>2.65013</td><td>-0.69292</td><td>-0.888216</td><td>0.016737</td><td>-0.904036</td><td>-0.781363</td><td>0.439736</td><td>-1.002397</td><td>-1.241784</td><td>-1.437181</td><td>0.632947</td><td>-1.037706</td><td>-3.127716</td><td>1.357112</td><td>1</td><td>4</td></tr><tr><td>-0.169639</td><td>-1.943019</td><td>-0.167192</td><td>-0.27215</td><td>2.329937</td><td>0.006804</td><td>-0.251467</td><td>0.429234</td><td>2.1591</td><td>0.512094</td><td>0.017786</td><td>-0.368046</td><td>-0.105966</td><td>-0.169129</td><td>2.11976</td><td>0.162743</td><td>-0.672216</td><td>-0.577002</td><td>0.626908</td><td>0.896114</td><td>-0.453343</td><td>-2.147457</td><td>-0.473631</td><td>-0.483572</td><td>0.558093</td><td>-0.740244</td><td>-0.89617</td><td>-0.617229</td><td>-0.308601</td><td>-0.666975</td><td>-0.807603</td><td>2.071959</td><td>1</td><td>4</td></tr><tr><td>-0.215082</td><td>-0.674768</td><td>-0.241747</td><td>-0.288361</td><td>-1.794101</td><td>-0.58922</td><td>-0.098925</td><td>-0.539588</td><td>-1.422476</td><td>-0.647506</td><td>-0.870802</td><td>-0.139439</td><td>-0.813365</td><td>-0.56494</td><td>-0.374008</td><td>0.403626</td><td>0.586093</td><td>-0.229711</td><td>-1.024602</td><td>0.106325</td><td>-0.416068</td><td>-0.47668</td><td>-0.454866</td><td>-0.436812</td><td>-1.309316</td><td>-0.007411</td><td>0.28119</td><td>-0.378019</td><td>-1.379572</td><td>-0.424808</td><td>-2.212381</td><td>-0.936765</td><td>1</td><td>4</td></tr></tbody></table></div>"
      ],
      "text/plain": [
       "shape: (5, 34)\n",
       "┌─────────────┬──────────────┬────────────────┬───────────┬───┬───────────┬───────────┬─────┬──────┐\n",
       "│ mean_radius ┆ mean_texture ┆ mean_perimeter ┆ mean_area ┆ … ┆ pc1       ┆ pc2       ┆ y   ┆ fold │\n",
       "│ ---         ┆ ---          ┆ ---            ┆ ---       ┆   ┆ ---       ┆ ---       ┆ --- ┆ ---  │\n",
       "│ f64         ┆ f64          ┆ f64            ┆ f64       ┆   ┆ f64       ┆ f64       ┆ i64 ┆ i64  │\n",
       "╞═════════════╪══════════════╪════════════════╪═══════════╪═══╪═══════════╪═══════════╪═════╪══════╡\n",
       "│ 0.2081      ┆ 0.912292     ┆ 0.347273       ┆ 0.046959  ┆ … ┆ 2.601883  ┆ 1.664731  ┆ 0   ┆ 2    │\n",
       "│ -1.684571   ┆ -0.57005     ┆ -1.658278      ┆ -1.288347 ┆ … ┆ -4.564517 ┆ 1.565109  ┆ 1   ┆ 5    │\n",
       "│ -0.825712   ┆ 0.132725     ┆ -0.825         ┆ -0.761051 ┆ … ┆ -3.127716 ┆ 1.357112  ┆ 1   ┆ 4    │\n",
       "│ -0.169639   ┆ -1.943019    ┆ -0.167192      ┆ -0.27215  ┆ … ┆ -0.807603 ┆ 2.071959  ┆ 1   ┆ 4    │\n",
       "│ -0.215082   ┆ -0.674768    ┆ -0.241747      ┆ -0.288361 ┆ … ┆ -2.212381 ┆ -0.936765 ┆ 1   ┆ 4    │\n",
       "└─────────────┴──────────────┴────────────────┴───────────┴───┴───────────┴───────────┴─────┴──────┘"
      ]
     },
     "execution_count": 1,
     "metadata": {},
     "output_type": "execute_result"
    }
   ],
   "source": [
    "import pandas as pd\n",
    "import numpy as np\n",
    "from predictables.core.src._UnivariateAnalysis import UnivariateAnalysis\n",
    "from predictables.util import to_pl_lf\n",
    "from sklearn.datasets import load_breast_cancer\n",
    "from sklearn.decomposition import PCA\n",
    "from sklearn.preprocessing import StandardScaler\n",
    "from sklearn.model_selection import train_test_split\n",
    "\n",
    "# Load the breast cancer dataset\n",
    "bcancer = load_breast_cancer()\n",
    "cancery = pd.Series(bcancer.target, name=\"y\").map({0: \"malignant\", 1: \"benign\"})\n",
    "cancerdf = pd.DataFrame(\n",
    "    bcancer.data, columns=[c.replace(\" \", \"_\") for c in bcancer.feature_names]\n",
    ")\n",
    "\n",
    "# Standardize the data\n",
    "scaler = StandardScaler()\n",
    "cancerdf = pd.DataFrame(scaler.fit_transform(cancerdf), columns=cancerdf.columns)\n",
    "\n",
    "# Split the data\n",
    "X_train, X_test, y_train, y_test = train_test_split(\n",
    "    cancerdf, cancery, test_size=0.2, random_state=42, stratify=cancery\n",
    ")\n",
    "X_train, X_val, y_train, y_val = train_test_split(\n",
    "    X_train, y_train, test_size=0.25, random_state=42, stratify=y_train\n",
    ")\n",
    "\n",
    "# Perform PCA\n",
    "pca = PCA(n_components=2)\n",
    "X_train_pca = pd.DataFrame(\n",
    "    pca.fit_transform(X_train), columns=[\"pc1\", \"pc2\"], index=X_train.index\n",
    ")\n",
    "X_val_pca = pd.DataFrame(\n",
    "    pca.transform(X_val), columns=[\"pc1\", \"pc2\"], index=X_val.index\n",
    ")\n",
    "X_test_pca = pd.DataFrame(\n",
    "    pca.transform(X_test), columns=[\"pc1\", \"pc2\"], index=X_test.index\n",
    ")\n",
    "\n",
    "# Combine the data\n",
    "df_train = pd.concat([X_train, X_train_pca], axis=1)\n",
    "df_val = pd.concat([X_val, X_val_pca], axis=1)\n",
    "df_test = pd.concat([X_test, X_test_pca], axis=1)\n",
    "\n",
    "# Add the target variable\n",
    "df_train[\"y\"] = y_train.map({\"malignant\": 0, \"benign\": 1}).values\n",
    "df_val[\"y\"] = y_val.map({\"malignant\": 0, \"benign\": 1}).values\n",
    "df_test[\"y\"] = y_test.map({\"malignant\": 0, \"benign\": 1}).values\n",
    "\n",
    "# Randomly sort training data into 5 cross-validation folds\n",
    "df_train[\"fold\"] = np.random.choice(range(5), size=df_train.shape[0]) + 1\n",
    "\n",
    "df_train.to_parquet(\"cancer_train.parquet\")\n",
    "df_val.to_parquet(\"cancer_val.parquet\")\n",
    "df_test.to_parquet(\"cancer_test.parquet\")\n",
    "\n",
    "df_train = to_pl_lf(df_train)\n",
    "df_val = to_pl_lf(df_val)\n",
    "df_test = to_pl_lf(df_test)\n",
    "\n",
    "df_train.head().collect()"
   ]
  },
  {
   "cell_type": "code",
   "execution_count": 2,
   "metadata": {},
   "outputs": [
    {
     "data": {
      "text/html": [
       "<div><style>\n",
       ".dataframe > thead > tr,\n",
       ".dataframe > tbody > tr {\n",
       "  text-align: right;\n",
       "  white-space: pre-wrap;\n",
       "}\n",
       "</style>\n",
       "<small>shape: (5, 34)</small><table border=\"1\" class=\"dataframe\"><thead><tr><th>mean_radius</th><th>mean_texture</th><th>mean_perimeter</th><th>mean_area</th><th>mean_smoothness</th><th>mean_compactness</th><th>mean_concavity</th><th>mean_concave_points</th><th>mean_symmetry</th><th>mean_fractal_dimension</th><th>radius_error</th><th>texture_error</th><th>perimeter_error</th><th>area_error</th><th>smoothness_error</th><th>compactness_error</th><th>concavity_error</th><th>concave_points_error</th><th>symmetry_error</th><th>fractal_dimension_error</th><th>worst_radius</th><th>worst_texture</th><th>worst_perimeter</th><th>worst_area</th><th>worst_smoothness</th><th>worst_compactness</th><th>worst_concavity</th><th>worst_concave_points</th><th>worst_symmetry</th><th>worst_fractal_dimension</th><th>pc1</th><th>pc2</th><th>y</th><th>fold</th></tr><tr><td>f64</td><td>f64</td><td>f64</td><td>f64</td><td>f64</td><td>f64</td><td>f64</td><td>f64</td><td>f64</td><td>f64</td><td>f64</td><td>f64</td><td>f64</td><td>f64</td><td>f64</td><td>f64</td><td>f64</td><td>f64</td><td>f64</td><td>f64</td><td>f64</td><td>f64</td><td>f64</td><td>f64</td><td>f64</td><td>f64</td><td>f64</td><td>f64</td><td>f64</td><td>f64</td><td>f64</td><td>f64</td><td>i64</td><td>i64</td></tr></thead><tbody><tr><td>0.2081</td><td>0.912292</td><td>0.347273</td><td>0.046959</td><td>0.57215</td><td>1.774977</td><td>1.015706</td><td>1.02817</td><td>-0.272428</td><td>0.55604</td><td>-0.453216</td><td>-0.462029</td><td>0.358868</td><td>-0.333042</td><td>0.346688</td><td>1.438701</td><td>0.783046</td><td>1.140961</td><td>0.594217</td><td>0.195592</td><td>-0.039178</td><td>0.342424</td><td>0.337735</td><td>-0.168554</td><td>-0.033692</td><td>1.339296</td><td>0.895753</td><td>0.884571</td><td>0.160555</td><td>0.169804</td><td>2.601883</td><td>1.664731</td><td>0</td><td>2</td></tr><tr><td>-1.684571</td><td>-0.57005</td><td>-1.658278</td><td>-1.288347</td><td>-0.737294</td><td>-0.85113</td><td>-0.9155</td><td>-1.109197</td><td>-0.155598</td><td>0.316465</td><td>-0.898232</td><td>-0.472008</td><td>-0.877224</td><td>-0.706961</td><td>0.642366</td><td>-0.50402</td><td>-0.530967</td><td>-0.953653</td><td>0.62933</td><td>-0.458783</td><td>-1.512777</td><td>-0.605327</td><td>-1.489328</td><td>-1.122222</td><td>-0.11698</td><td>-0.754239</td><td>-0.975761</td><td>-1.354653</td><td>0.330422</td><td>-0.546168</td><td>-4.564517</td><td>1.565109</td><td>1</td><td>5</td></tr><tr><td>-0.825712</td><td>0.132725</td><td>-0.825</td><td>-0.761051</td><td>0.643316</td><td>-0.692695</td><td>-1.052023</td><td>-1.066224</td><td>0.468713</td><td>-0.356897</td><td>-0.38825</td><td>1.35921</td><td>-0.449022</td><td>-0.455811</td><td>1.949753</td><td>-0.806941</td><td>-0.948182</td><td>-1.107752</td><td>2.65013</td><td>-0.69292</td><td>-0.888216</td><td>0.016737</td><td>-0.904036</td><td>-0.781363</td><td>0.439736</td><td>-1.002397</td><td>-1.241784</td><td>-1.437181</td><td>0.632947</td><td>-1.037706</td><td>-3.127716</td><td>1.357112</td><td>1</td><td>4</td></tr><tr><td>-0.169639</td><td>-1.943019</td><td>-0.167192</td><td>-0.27215</td><td>2.329937</td><td>0.006804</td><td>-0.251467</td><td>0.429234</td><td>2.1591</td><td>0.512094</td><td>0.017786</td><td>-0.368046</td><td>-0.105966</td><td>-0.169129</td><td>2.11976</td><td>0.162743</td><td>-0.672216</td><td>-0.577002</td><td>0.626908</td><td>0.896114</td><td>-0.453343</td><td>-2.147457</td><td>-0.473631</td><td>-0.483572</td><td>0.558093</td><td>-0.740244</td><td>-0.89617</td><td>-0.617229</td><td>-0.308601</td><td>-0.666975</td><td>-0.807603</td><td>2.071959</td><td>1</td><td>4</td></tr><tr><td>-0.215082</td><td>-0.674768</td><td>-0.241747</td><td>-0.288361</td><td>-1.794101</td><td>-0.58922</td><td>-0.098925</td><td>-0.539588</td><td>-1.422476</td><td>-0.647506</td><td>-0.870802</td><td>-0.139439</td><td>-0.813365</td><td>-0.56494</td><td>-0.374008</td><td>0.403626</td><td>0.586093</td><td>-0.229711</td><td>-1.024602</td><td>0.106325</td><td>-0.416068</td><td>-0.47668</td><td>-0.454866</td><td>-0.436812</td><td>-1.309316</td><td>-0.007411</td><td>0.28119</td><td>-0.378019</td><td>-1.379572</td><td>-0.424808</td><td>-2.212381</td><td>-0.936765</td><td>1</td><td>4</td></tr></tbody></table></div>"
      ],
      "text/plain": [
       "shape: (5, 34)\n",
       "┌─────────────┬──────────────┬────────────────┬───────────┬───┬───────────┬───────────┬─────┬──────┐\n",
       "│ mean_radius ┆ mean_texture ┆ mean_perimeter ┆ mean_area ┆ … ┆ pc1       ┆ pc2       ┆ y   ┆ fold │\n",
       "│ ---         ┆ ---          ┆ ---            ┆ ---       ┆   ┆ ---       ┆ ---       ┆ --- ┆ ---  │\n",
       "│ f64         ┆ f64          ┆ f64            ┆ f64       ┆   ┆ f64       ┆ f64       ┆ i64 ┆ i64  │\n",
       "╞═════════════╪══════════════╪════════════════╪═══════════╪═══╪═══════════╪═══════════╪═════╪══════╡\n",
       "│ 0.2081      ┆ 0.912292     ┆ 0.347273       ┆ 0.046959  ┆ … ┆ 2.601883  ┆ 1.664731  ┆ 0   ┆ 2    │\n",
       "│ -1.684571   ┆ -0.57005     ┆ -1.658278      ┆ -1.288347 ┆ … ┆ -4.564517 ┆ 1.565109  ┆ 1   ┆ 5    │\n",
       "│ -0.825712   ┆ 0.132725     ┆ -0.825         ┆ -0.761051 ┆ … ┆ -3.127716 ┆ 1.357112  ┆ 1   ┆ 4    │\n",
       "│ -0.169639   ┆ -1.943019    ┆ -0.167192      ┆ -0.27215  ┆ … ┆ -0.807603 ┆ 2.071959  ┆ 1   ┆ 4    │\n",
       "│ -0.215082   ┆ -0.674768    ┆ -0.241747      ┆ -0.288361 ┆ … ┆ -2.212381 ┆ -0.936765 ┆ 1   ┆ 4    │\n",
       "└─────────────┴──────────────┴────────────────┴───────────┴───┴───────────┴───────────┴─────┴──────┘"
      ]
     },
     "execution_count": 2,
     "metadata": {},
     "output_type": "execute_result"
    }
   ],
   "source": [
    "df_train.head().collect()"
   ]
  },
  {
   "cell_type": "code",
   "execution_count": 3,
   "metadata": {},
   "outputs": [
    {
     "data": {
      "application/vnd.jupyter.widget-view+json": {
       "model_id": "3d0d433f35684708a4064b55ebebdf32",
       "version_major": 2,
       "version_minor": 0
      },
      "text/plain": [
       "Performing univariate analysis on 14 features:   0%|          | 0/14 [00:00<?, ?it/s]"
      ]
     },
     "metadata": {},
     "output_type": "display_data"
    },
    {
     "name": "stdout",
     "output_type": "stream",
     "text": [
      "Feature mean_radius is right-skewed: skewness = 0.9129022958762187\n",
      "Feature mean_texture is right-skewed: skewness = 0.6886247411608918\n",
      "Feature mean_perimeter is right-skewed: skewness = 0.9672810396671019\n",
      "Feature mean_area is right-skewed: skewness = 1.6121300185962886\n",
      "Feature mean_smoothness is right-skewed: skewness = 0.6752338638394662\n",
      "Feature mean_compactness is right-skewed: skewness = 1.2715432747740443\n",
      "Feature mean_concavity is right-skewed: skewness = 1.3956495221095024\n",
      "Feature mean_concave_points is right-skewed: skewness = 1.2118145440807047\n",
      "Feature mean_symmetry is right-skewed: skewness = 0.8051100620489787\n",
      "Feature mean_fractal_dimension is right-skewed: skewness = 1.2899668174029728\n",
      "Feature radius_error is right-skewed: skewness = 2.585688157130343\n",
      "Feature texture_error is right-skewed: skewness = 1.9190239623209937\n",
      "Feature perimeter_error is right-skewed: skewness = 2.738907688308077\n",
      "Feature area_error is right-skewed: skewness = 5.187792736911207\n"
     ]
    }
   ],
   "source": [
    "ua = UnivariateAnalysis(\n",
    "    model_name=\"Cancer Model\",\n",
    "    df_train=df_train,\n",
    "    df_val=df_val,\n",
    "    target_column_name=\"y\",\n",
    "    feature_column_names=df_train.columns[:-20],\n",
    "    cv_column_name=\"fold\",\n",
    "    time_series_validation=False,\n",
    ")"
   ]
  },
  {
   "cell_type": "code",
   "execution_count": 4,
   "metadata": {},
   "outputs": [
    {
     "data": {
      "application/vnd.jupyter.widget-view+json": {
       "model_id": "5ee802dfa4f14b239cd1baac498828e1",
       "version_major": 2,
       "version_minor": 0
      },
      "text/plain": [
       "Building 28 univariate analysis reports,and packaging in increments of 15:   0%|          | 0/28 [00:00<?, ?it…"
      ]
     },
     "metadata": {},
     "output_type": "display_data"
    }
   ],
   "source": [
    "ua.build_report(\"cancer.pdf\", max_per_file=15)"
   ]
  },
  {
   "cell_type": "code",
   "execution_count": 5,
   "metadata": {},
   "outputs": [
    {
     "data": {
      "text/html": [
       "<div><style>\n",
       ".dataframe > thead > tr,\n",
       ".dataframe > tbody > tr {\n",
       "  text-align: right;\n",
       "  white-space: pre-wrap;\n",
       "}\n",
       "</style>\n",
       "<small>shape: (7, 20)</small><table border=\"1\" class=\"dataframe\"><thead><tr><th>fold</th><th>coef</th><th>pvalues</th><th>se</th><th>lower_ci</th><th>upper_ci</th><th>acc_train</th><th>acc_test</th><th>auc_train</th><th>auc_test</th><th>f1_train</th><th>f1_test</th><th>precision_train</th><th>precision_test</th><th>recall_train</th><th>recall_test</th><th>mcc_train</th><th>mcc_test</th><th>logloss_train</th><th>logloss_test</th></tr><tr><td>str</td><td>f64</td><td>f64</td><td>f64</td><td>f64</td><td>f64</td><td>f64</td><td>f64</td><td>f64</td><td>f64</td><td>f64</td><td>f64</td><td>f64</td><td>f64</td><td>f64</td><td>f64</td><td>f64</td><td>f64</td><td>f64</td><td>f64</td></tr></thead><tbody><tr><td>&quot;Fold-1&quot;</td><td>-4.937396</td><td>3.2787e-19</td><td>0.551115</td><td>-6.017561</td><td>-3.85723</td><td>0.866667</td><td>0.859155</td><td>0.835726</td><td>0.807692</td><td>0.9</td><td>0.9</td><td>0.848168</td><td>0.818182</td><td>0.95858</td><td>1.0</td><td>0.714148</td><td>0.709575</td><td>4.80582</td><td>5.076571</td></tr><tr><td>&quot;Fold-2&quot;</td><td>-4.454541</td><td>2.8802e-18</td><td>0.511072</td><td>-5.456224</td><td>-3.452858</td><td>0.860558</td><td>0.9</td><td>0.821909</td><td>0.87963</td><td>0.897959</td><td>0.921739</td><td>0.84153</td><td>0.868852</td><td>0.9625</td><td>0.981481</td><td>0.696409</td><td>0.795929</td><td>5.026007</td><td>3.604365</td></tr><tr><td>&quot;Fold-3&quot;</td><td>-5.140964</td><td>3.9050e-20</td><td>0.559369</td><td>-6.237308</td><td>-4.04462</td><td>0.880702</td><td>0.821429</td><td>0.849241</td><td>0.780952</td><td>0.910995</td><td>0.868421</td><td>0.857143</td><td>0.804878</td><td>0.972067</td><td>0.942857</td><td>0.745727</td><td>0.614283</td><td>4.299945</td><td>6.436367</td></tr><tr><td>&quot;Fold-4&quot;</td><td>-4.766145</td><td>8.9221e-20</td><td>0.523675</td><td>-5.792528</td><td>-3.739761</td><td>0.860215</td><td>0.887097</td><td>0.824203</td><td>0.856745</td><td>0.896552</td><td>0.915663</td><td>0.836634</td><td>0.863636</td><td>0.965714</td><td>0.974359</td><td>0.701394</td><td>0.759314</td><td>5.03836</td><td>4.069445</td></tr><tr><td>&quot;Fold-5&quot;</td><td>-4.718529</td><td>1.0646e-19</td><td>0.51954</td><td>-5.736808</td><td>-3.70025</td><td>0.867384</td><td>0.83871</td><td>0.832779</td><td>0.796748</td><td>0.901333</td><td>0.883721</td><td>0.836634</td><td>0.844444</td><td>0.976879</td><td>0.926829</td><td>0.722671</td><td>0.629635</td><td>4.779983</td><td>5.813492</td></tr><tr><td>&quot;mean&quot;</td><td>-4.79892</td><td>6.3247e-24</td><td>0.475766</td><td>-5.731405</td><td>-3.866436</td><td>0.868035</td><td>0.868421</td><td>0.834039</td><td>0.843924</td><td>0.901961</td><td>0.899329</td><td>0.844898</td><td>0.858974</td><td>0.96729</td><td>0.943662</td><td>0.718153</td><td>0.717228</td><td>4.756494</td><td>4.742586</td></tr><tr><td>&quot;std&quot;</td><td>0.256026</td><td>1.2302e-18</td><td>0.02105</td><td>0.295483</td><td>0.21724</td><td>0.008299</td><td>0.032664</td><td>0.010856</td><td>0.041916</td><td>0.005687</td><td>0.022126</td><td>0.008728</td><td>0.027931</td><td>0.007348</td><td>0.029713</td><td>0.01955</td><td>0.079208</td><td>0.299118</td><td>1.177339</td></tr></tbody></table></div>"
      ],
      "text/plain": [
       "shape: (7, 20)\n",
       "┌────────┬───────────┬────────────┬──────────┬───┬───────────┬──────────┬─────────────┬────────────┐\n",
       "│ fold   ┆ coef      ┆ pvalues    ┆ se       ┆ … ┆ mcc_train ┆ mcc_test ┆ logloss_tra ┆ logloss_te │\n",
       "│ ---    ┆ ---       ┆ ---        ┆ ---      ┆   ┆ ---       ┆ ---      ┆ in          ┆ st         │\n",
       "│ str    ┆ f64       ┆ f64        ┆ f64      ┆   ┆ f64       ┆ f64      ┆ ---         ┆ ---        │\n",
       "│        ┆           ┆            ┆          ┆   ┆           ┆          ┆ f64         ┆ f64        │\n",
       "╞════════╪═══════════╪════════════╪══════════╪═══╪═══════════╪══════════╪═════════════╪════════════╡\n",
       "│ Fold-1 ┆ -4.937396 ┆ 3.2787e-19 ┆ 0.551115 ┆ … ┆ 0.714148  ┆ 0.709575 ┆ 4.80582     ┆ 5.076571   │\n",
       "│ Fold-2 ┆ -4.454541 ┆ 2.8802e-18 ┆ 0.511072 ┆ … ┆ 0.696409  ┆ 0.795929 ┆ 5.026007    ┆ 3.604365   │\n",
       "│ Fold-3 ┆ -5.140964 ┆ 3.9050e-20 ┆ 0.559369 ┆ … ┆ 0.745727  ┆ 0.614283 ┆ 4.299945    ┆ 6.436367   │\n",
       "│ Fold-4 ┆ -4.766145 ┆ 8.9221e-20 ┆ 0.523675 ┆ … ┆ 0.701394  ┆ 0.759314 ┆ 5.03836     ┆ 4.069445   │\n",
       "│ Fold-5 ┆ -4.718529 ┆ 1.0646e-19 ┆ 0.51954  ┆ … ┆ 0.722671  ┆ 0.629635 ┆ 4.779983    ┆ 5.813492   │\n",
       "│ mean   ┆ -4.79892  ┆ 6.3247e-24 ┆ 0.475766 ┆ … ┆ 0.718153  ┆ 0.717228 ┆ 4.756494    ┆ 4.742586   │\n",
       "│ std    ┆ 0.256026  ┆ 1.2302e-18 ┆ 0.02105  ┆ … ┆ 0.01955   ┆ 0.079208 ┆ 0.299118    ┆ 1.177339   │\n",
       "└────────┴───────────┴────────────┴──────────┴───┴───────────┴──────────┴─────────────┴────────────┘"
      ]
     },
     "execution_count": 5,
     "metadata": {},
     "output_type": "execute_result"
    }
   ],
   "source": [
    "ua.area_error.agg_results.collect()"
   ]
  }
 ],
 "metadata": {
  "kernelspec": {
   "display_name": ".env",
   "language": "python",
   "name": "python3"
  },
  "language_info": {
   "codemirror_mode": {
    "name": "ipython",
    "version": 3
   },
   "file_extension": ".py",
   "mimetype": "text/x-python",
   "name": "python",
   "nbconvert_exporter": "python",
   "pygments_lexer": "ipython3",
   "version": "3.11.3"
  }
 },
 "nbformat": 4,
 "nbformat_minor": 2
}
