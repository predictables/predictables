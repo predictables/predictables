{
 "cells": [
  {
   "cell_type": "code",
   "execution_count": 135,
   "metadata": {},
   "outputs": [
    {
     "data": {
      "text/html": [
       "<div><style>\n",
       ".dataframe > thead > tr,\n",
       ".dataframe > tbody > tr {\n",
       "  text-align: right;\n",
       "  white-space: pre-wrap;\n",
       "}\n",
       "</style>\n",
       "<small>shape: (5, 32)</small><table border=\"1\" class=\"dataframe\"><thead><tr><th>mean_radius</th><th>mean_texture</th><th>mean_perimeter</th><th>mean_area</th><th>mean_smoothness</th><th>mean_compactness</th><th>mean_concavity</th><th>mean_concave_points</th><th>mean_symmetry</th><th>mean_fractal_dimension</th><th>radius_error</th><th>texture_error</th><th>perimeter_error</th><th>area_error</th><th>smoothness_error</th><th>compactness_error</th><th>concavity_error</th><th>concave_points_error</th><th>symmetry_error</th><th>fractal_dimension_error</th><th>worst_radius</th><th>worst_texture</th><th>worst_perimeter</th><th>worst_area</th><th>worst_smoothness</th><th>worst_compactness</th><th>worst_concavity</th><th>worst_concave_points</th><th>worst_symmetry</th><th>worst_fractal_dimension</th><th>target</th><th>cv</th></tr><tr><td>f64</td><td>f64</td><td>f64</td><td>f64</td><td>f64</td><td>f64</td><td>f64</td><td>f64</td><td>f64</td><td>f64</td><td>f64</td><td>f64</td><td>f64</td><td>f64</td><td>f64</td><td>f64</td><td>f64</td><td>f64</td><td>f64</td><td>f64</td><td>f64</td><td>f64</td><td>f64</td><td>f64</td><td>f64</td><td>f64</td><td>f64</td><td>f64</td><td>f64</td><td>f64</td><td>i64</td><td>i64</td></tr></thead><tbody><tr><td>17.99</td><td>10.38</td><td>122.8</td><td>1001.0</td><td>0.1184</td><td>0.2776</td><td>0.3001</td><td>0.1471</td><td>0.2419</td><td>0.07871</td><td>1.095</td><td>0.9053</td><td>8.589</td><td>153.4</td><td>0.006399</td><td>0.04904</td><td>0.05373</td><td>0.01587</td><td>0.03003</td><td>0.006193</td><td>25.38</td><td>17.33</td><td>184.6</td><td>2019.0</td><td>0.1622</td><td>0.6656</td><td>0.7119</td><td>0.2654</td><td>0.4601</td><td>0.1189</td><td>0</td><td>3</td></tr><tr><td>20.57</td><td>17.77</td><td>132.9</td><td>1326.0</td><td>0.08474</td><td>0.07864</td><td>0.0869</td><td>0.07017</td><td>0.1812</td><td>0.05667</td><td>0.5435</td><td>0.7339</td><td>3.398</td><td>74.08</td><td>0.005225</td><td>0.01308</td><td>0.0186</td><td>0.0134</td><td>0.01389</td><td>0.003532</td><td>24.99</td><td>23.41</td><td>158.8</td><td>1956.0</td><td>0.1238</td><td>0.1866</td><td>0.2416</td><td>0.186</td><td>0.275</td><td>0.08902</td><td>0</td><td>2</td></tr><tr><td>19.69</td><td>21.25</td><td>130.0</td><td>1203.0</td><td>0.1096</td><td>0.1599</td><td>0.1974</td><td>0.1279</td><td>0.2069</td><td>0.05999</td><td>0.7456</td><td>0.7869</td><td>4.585</td><td>94.03</td><td>0.00615</td><td>0.04006</td><td>0.03832</td><td>0.02058</td><td>0.0225</td><td>0.004571</td><td>23.57</td><td>25.53</td><td>152.5</td><td>1709.0</td><td>0.1444</td><td>0.4245</td><td>0.4504</td><td>0.243</td><td>0.3613</td><td>0.08758</td><td>0</td><td>3</td></tr><tr><td>11.42</td><td>20.38</td><td>77.58</td><td>386.1</td><td>0.1425</td><td>0.2839</td><td>0.2414</td><td>0.1052</td><td>0.2597</td><td>0.09744</td><td>0.4956</td><td>1.156</td><td>3.445</td><td>27.23</td><td>0.00911</td><td>0.07458</td><td>0.05661</td><td>0.01867</td><td>0.05963</td><td>0.009208</td><td>14.91</td><td>26.5</td><td>98.87</td><td>567.7</td><td>0.2098</td><td>0.8663</td><td>0.6869</td><td>0.2575</td><td>0.6638</td><td>0.173</td><td>0</td><td>2</td></tr><tr><td>20.29</td><td>14.34</td><td>135.1</td><td>1297.0</td><td>0.1003</td><td>0.1328</td><td>0.198</td><td>0.1043</td><td>0.1809</td><td>0.05883</td><td>0.7572</td><td>0.7813</td><td>5.438</td><td>94.44</td><td>0.01149</td><td>0.02461</td><td>0.05688</td><td>0.01885</td><td>0.01756</td><td>0.005115</td><td>22.54</td><td>16.67</td><td>152.2</td><td>1575.0</td><td>0.1374</td><td>0.205</td><td>0.4</td><td>0.1625</td><td>0.2364</td><td>0.07678</td><td>0</td><td>4</td></tr></tbody></table></div>"
      ],
      "text/plain": [
       "shape: (5, 32)\n",
       "┌─────────────┬─────────────┬─────────────┬───────────┬───┬────────────┬────────────┬────────┬─────┐\n",
       "│ mean_radius ┆ mean_textur ┆ mean_perime ┆ mean_area ┆ … ┆ worst_symm ┆ worst_frac ┆ target ┆ cv  │\n",
       "│ ---         ┆ e           ┆ ter         ┆ ---       ┆   ┆ etry       ┆ tal_dimens ┆ ---    ┆ --- │\n",
       "│ f64         ┆ ---         ┆ ---         ┆ f64       ┆   ┆ ---        ┆ ion        ┆ i64    ┆ i64 │\n",
       "│             ┆ f64         ┆ f64         ┆           ┆   ┆ f64        ┆ ---        ┆        ┆     │\n",
       "│             ┆             ┆             ┆           ┆   ┆            ┆ f64        ┆        ┆     │\n",
       "╞═════════════╪═════════════╪═════════════╪═══════════╪═══╪════════════╪════════════╪════════╪═════╡\n",
       "│ 17.99       ┆ 10.38       ┆ 122.8       ┆ 1001.0    ┆ … ┆ 0.4601     ┆ 0.1189     ┆ 0      ┆ 3   │\n",
       "│ 20.57       ┆ 17.77       ┆ 132.9       ┆ 1326.0    ┆ … ┆ 0.275      ┆ 0.08902    ┆ 0      ┆ 2   │\n",
       "│ 19.69       ┆ 21.25       ┆ 130.0       ┆ 1203.0    ┆ … ┆ 0.3613     ┆ 0.08758    ┆ 0      ┆ 3   │\n",
       "│ 11.42       ┆ 20.38       ┆ 77.58       ┆ 386.1     ┆ … ┆ 0.6638     ┆ 0.173      ┆ 0      ┆ 2   │\n",
       "│ 20.29       ┆ 14.34       ┆ 135.1       ┆ 1297.0    ┆ … ┆ 0.2364     ┆ 0.07678    ┆ 0      ┆ 4   │\n",
       "└─────────────┴─────────────┴─────────────┴───────────┴───┴────────────┴────────────┴────────┴─────┘"
      ]
     },
     "execution_count": 135,
     "metadata": {},
     "output_type": "execute_result"
    }
   ],
   "source": [
    "from sklearn.datasets import load_breast_cancer\n",
    "from sklearn.linear_model import LogisticRegression, LinearRegression\n",
    "from sklearn.metrics import accuracy_score, mean_squared_error, roc_auc_score, roc_curve, precision_recall_curve\n",
    "from dataclasses import dataclass\n",
    "from PredicTables.util import get_column_dtype\n",
    "import pandas as pd\n",
    "import numpy as np\n",
    "import polars as pl\n",
    "\n",
    "import statsmodels.api as sm\n",
    "from statsmodels.formula.api import ols, glm\n",
    "\n",
    "from PredicTables.util import to_pl_lf\n",
    "\n",
    "# load data\n",
    "df = load_breast_cancer(as_frame=True).frame\n",
    "df.columns = [c.replace(' ', '_') for c in df.columns]\n",
    "df['cv'] = np.random.randint(1, 6, df.shape[0])\n",
    "df = to_pl_lf(df)\n",
    "\n",
    "df.head().collect()"
   ]
  },
  {
   "cell_type": "code",
   "execution_count": 158,
   "metadata": {},
   "outputs": [
    {
     "data": {
      "text/plain": [
       "(569, 32)"
      ]
     },
     "execution_count": 158,
     "metadata": {},
     "output_type": "execute_result"
    }
   ],
   "source": [
    "df.collect().shape"
   ]
  },
  {
   "cell_type": "code",
   "execution_count": 224,
   "metadata": {},
   "outputs": [
    {
     "data": {
      "text/plain": [
       "dict_keys(['df', 'fold', 'fold_col', 'feature_col', 'target_col', 'df_train', 'df_test', 'X_train', 'y_train', 'X_test', 'y_test', 'target_type', 'model', 'fitted', 'yhat_train', 'yhat_test', 'coef', 'pvalues', 'aic', 'se', 'lower_ci', 'upper_ci', 'conf_int', 'df_model', 'df_resid', 'H_diag', 'n', 'k', 't_test', 'summary', 'sk_model', 'sk_coef', 'auc', 'prc'])"
      ]
     },
     "execution_count": 224,
     "metadata": {},
     "output_type": "execute_result"
    }
   ],
   "source": [
    "m = Model(df, 1, 'cv', 'mean_radius', 'target')\n",
    "m.__dict__.keys()"
   ]
  },
  {
   "cell_type": "code",
   "execution_count": 229,
   "metadata": {},
   "outputs": [
    {
     "ename": "TypeError",
     "evalue": "LikelihoodModelResults.t_test() missing 1 required positional argument: 'r_matrix'",
     "output_type": "error",
     "traceback": [
      "\u001b[0;31m---------------------------------------------------------------------------\u001b[0m",
      "\u001b[0;31mTypeError\u001b[0m                                 Traceback (most recent call last)",
      "Cell \u001b[0;32mIn[229], line 1\u001b[0m\n\u001b[0;32m----> 1\u001b[0m \u001b[43mm\u001b[49m\u001b[38;5;241;43m.\u001b[39;49m\u001b[43mt_test\u001b[49m\u001b[43m(\u001b[49m\u001b[43m)\u001b[49m\n",
      "\u001b[0;31mTypeError\u001b[0m: LikelihoodModelResults.t_test() missing 1 required positional argument: 'r_matrix'"
     ]
    }
   ],
   "source": [
    "m.t_test()"
   ]
  },
  {
   "cell_type": "code",
   "execution_count": 223,
   "metadata": {},
   "outputs": [],
   "source": [
    "@dataclass\n",
    "class Model:\n",
    "    df: pl.LazyFrame\n",
    "    fold: int = None\n",
    "    fold_col: str = 'cv'\n",
    "    feature_col: str = None\n",
    "    target_col: str = None\n",
    "\n",
    "    def __post_init__(self, fold=None):\n",
    "        if fold is not None:\n",
    "            self.fold = fold\n",
    "            \n",
    "        if self.fold is None:\n",
    "            self.df_train = self.df.select([self.feature_col, self.target_col])\n",
    "            self.df_test = self.df.select([self.feature_col, self.target_col])\n",
    "        else:\n",
    "            self.df_train = self.df.select([self.feature_col, self.target_col, self.fold_col]).filter(pl.col(self.fold_col) != self.fold)\n",
    "            self.df_test = self.df.select([self.feature_col, self.target_col, self.fold_col]).filter(pl.col(self.fold_col) == self.fold)\n",
    "            \n",
    "        self.X_train = self.df_train.select(self.feature_col).collect().to_pandas()\n",
    "        self.y_train = self.df_train.select(self.target_col).collect().to_pandas()\n",
    "        self.X_test = self.df_test.select(self.feature_col).collect().to_pandas()\n",
    "        self.y_test = self.df_test.select(self.target_col).collect().to_pandas()\n",
    "\n",
    "        self.target_type = get_column_dtype(self.y_train[self.target_col])\n",
    "\n",
    "        if self.target_type in ['categorical', 'binary']:\n",
    "            self.model = sm.GLM(self.y_train.values.ravel(), self.X_train.values, family=sm.families.Binomial()).fit()\n",
    "        else:\n",
    "            self.model = sm.OLS(self.y_train, self.X_train).fit()\n",
    "\n",
    "        self.fitted = self.model.fittedvalues\n",
    "        self.yhat_train = self.model.predict(self.X_train)\n",
    "        self.yhat_test = self.model.predict(self.X_test)\n",
    "        \n",
    "        \n",
    "        self.coef = self.model.params[0]\n",
    "        self.pvalues = self.model.pvalues[0]\n",
    "        self.aic = self.model.aic\n",
    "        self.se = self.model.bse[0]\n",
    "        self.lower_ci = self.model.conf_int()[0][0]\n",
    "        self.upper_ci = self.model.conf_int()[0][1]\n",
    "        self.n = self.model.nobs\n",
    "        self.k = self.model.params.shape[0]\n",
    "\n",
    "        self.summary = self.model.summary()\n",
    "\n",
    "        # add a sklearn model to get its metrics\\\n",
    "        if self.target_type in ['categorical', 'binary']:\n",
    "            self.sk_model = LogisticRegression(fit_intercept=False)\n",
    "        else:\n",
    "            self.sk_model = LinearRegression(fit_intercept=False)\n",
    "\n",
    "        self.sk_model.fit(self.X_train, self.y_train.values.ravel())\n",
    "        self.sk_coef = self.sk_model.coef_\n",
    "        \n",
    "        if self.target_type in ['categorical', 'binary']:\n",
    "            self.auc = roc_curve(self.y_test, self.yhat_test)\n",
    "            self.prc = precision_recall_curve(self.y_test, self.yhat_test)  \n"
   ]
  },
  {
   "cell_type": "code",
   "execution_count": 234,
   "metadata": {},
   "outputs": [],
   "source": [
    "@dataclass\n",
    "class Univariate(Model):\n",
    "    df: pl.LazyFrame\n",
    "    fold_col: str = 'cv'\n",
    "    feature_col: str = None\n",
    "    target_col: str = None\n",
    "\n",
    "    def __post_init__(self):\n",
    "        super().__post_init__()\n",
    "        self.unique_folds = self.df.select(self.fold_col).unique().collect().to_pandas()[self.fold_col].values\n",
    "        self.cv = {}\n",
    "        for fold in self.unique_folds:\n",
    "            self.cv[fold] = Model(self.df, fold=fold, fold_col=self.fold_col, feature_col=self.feature_col, target_col=self.target_col)\n"
   ]
  },
  {
   "cell_type": "code",
   "execution_count": 249,
   "metadata": {},
   "outputs": [],
   "source": [
    "def get_col(self, col):\n",
    "    attributes = [getattr(self.cv[fold], col) for fold in self.unique_folds]\n",
    "    sd = pd.Series(attributes).std()\n",
    "        \n",
    "    out = attributes + [getattr(self, col)] + [sd]\n",
    "    return out\n",
    "\n",
    "\n",
    "@dataclass\n",
    "class UnivariateResults(Univariate):\n",
    "    df: pl.LazyFrame\n",
    "    fold_col: str = 'cv'\n",
    "    feature_col: str = None\n",
    "    target_col: str = None\n",
    "\n",
    "    def __post_init__(self):\n",
    "        super().__post_init__()\n",
    "        self.results = pd.DataFrame(index=sorted(self.unique_folds.tolist()) + ['mean', 'std'])\n",
    "        self.results.index.name = 'fold'\n",
    "        for attribute in ['coef', 'pvalues', 'se', 'lower_ci', 'upper_ci', 'n', 'k']:\n",
    "            self.results[attribute] = get_col(self, attribute)"
   ]
  },
  {
   "cell_type": "markdown",
   "metadata": {},
   "source": [
    "### fit each fold to a model"
   ]
  },
  {
   "cell_type": "code",
   "execution_count": 152,
   "metadata": {},
   "outputs": [
    {
     "data": {
      "text/html": [
       "<div><style>\n",
       ".dataframe > thead > tr,\n",
       ".dataframe > tbody > tr {\n",
       "  text-align: right;\n",
       "  white-space: pre-wrap;\n",
       "}\n",
       "</style>\n",
       "<small>shape: (5, 3)</small><table border=\"1\" class=\"dataframe\"><thead><tr><th>mean_radius</th><th>target</th><th>cv</th></tr><tr><td>f64</td><td>i64</td><td>i64</td></tr></thead><tbody><tr><td>1.025038</td><td>0</td><td>3</td></tr><tr><td>1.742913</td><td>0</td><td>2</td></tr><tr><td>1.498057</td><td>0</td><td>3</td></tr><tr><td>-0.803038</td><td>0</td><td>2</td></tr><tr><td>1.665004</td><td>0</td><td>4</td></tr></tbody></table></div>"
      ],
      "text/plain": [
       "shape: (5, 3)\n",
       "┌─────────────┬────────┬─────┐\n",
       "│ mean_radius ┆ target ┆ cv  │\n",
       "│ ---         ┆ ---    ┆ --- │\n",
       "│ f64         ┆ i64    ┆ i64 │\n",
       "╞═════════════╪════════╪═════╡\n",
       "│ 1.025038    ┆ 0      ┆ 3   │\n",
       "│ 1.742913    ┆ 0      ┆ 2   │\n",
       "│ 1.498057    ┆ 0      ┆ 3   │\n",
       "│ -0.803038   ┆ 0      ┆ 2   │\n",
       "│ 1.665004    ┆ 0      ┆ 4   │\n",
       "└─────────────┴────────┴─────┘"
      ]
     },
     "execution_count": 152,
     "metadata": {},
     "output_type": "execute_result"
    }
   ],
   "source": [
    "df_train = df.select(['mean_radius', 'target', 'cv']).filter(pl.col('cv') != 1).with_columns([((pl.col('mean_radius') - pl.col('mean_radius').mean()) / pl.col('mean_radius').std()).alias('mean_radius')])\n",
    "df_test = df.select(['mean_radius', 'target', 'cv']).filter(pl.col('cv') == 1).with_columns([((pl.col('mean_radius') - pl.col('mean_radius').mean()) / pl.col('mean_radius').std()).alias('mean_radius')])\n",
    "\n",
    "X_train = df_train.select('mean_radius').collect().to_pandas()\n",
    "y_train = df_train.select('target').collect().to_pandas()\n",
    "X_test = df_test.select('mean_radius').collect().to_pandas()\n",
    "y_test = df_test.select('target').collect().to_pandas()\n",
    "\n",
    "df_train.head().collect()"
   ]
  },
  {
   "cell_type": "code",
   "execution_count": 253,
   "metadata": {},
   "outputs": [
    {
     "data": {
      "text/html": [
       "<div>\n",
       "<style scoped>\n",
       "    .dataframe tbody tr th:only-of-type {\n",
       "        vertical-align: middle;\n",
       "    }\n",
       "\n",
       "    .dataframe tbody tr th {\n",
       "        vertical-align: top;\n",
       "    }\n",
       "\n",
       "    .dataframe thead th {\n",
       "        text-align: right;\n",
       "    }\n",
       "</style>\n",
       "<table border=\"1\" class=\"dataframe\">\n",
       "  <thead>\n",
       "    <tr style=\"text-align: right;\">\n",
       "      <th></th>\n",
       "      <th>coef</th>\n",
       "      <th>pvalues</th>\n",
       "      <th>se</th>\n",
       "      <th>lower_ci</th>\n",
       "      <th>upper_ci</th>\n",
       "      <th>n</th>\n",
       "      <th>k</th>\n",
       "    </tr>\n",
       "    <tr>\n",
       "      <th>fold</th>\n",
       "      <th></th>\n",
       "      <th></th>\n",
       "      <th></th>\n",
       "      <th></th>\n",
       "      <th></th>\n",
       "      <th></th>\n",
       "      <th></th>\n",
       "    </tr>\n",
       "  </thead>\n",
       "  <tbody>\n",
       "    <tr>\n",
       "      <th>1</th>\n",
       "      <td>0.009598</td>\n",
       "      <td>0.136696</td>\n",
       "      <td>0.006449</td>\n",
       "      <td>-0.003042</td>\n",
       "      <td>0.022238</td>\n",
       "      <td>453.00000</td>\n",
       "      <td>1.0</td>\n",
       "    </tr>\n",
       "    <tr>\n",
       "      <th>2</th>\n",
       "      <td>0.011553</td>\n",
       "      <td>0.070477</td>\n",
       "      <td>0.006387</td>\n",
       "      <td>-0.000965</td>\n",
       "      <td>0.024071</td>\n",
       "      <td>468.00000</td>\n",
       "      <td>1.0</td>\n",
       "    </tr>\n",
       "    <tr>\n",
       "      <th>3</th>\n",
       "      <td>0.013235</td>\n",
       "      <td>0.042316</td>\n",
       "      <td>0.006518</td>\n",
       "      <td>0.000459</td>\n",
       "      <td>0.026010</td>\n",
       "      <td>459.00000</td>\n",
       "      <td>1.0</td>\n",
       "    </tr>\n",
       "    <tr>\n",
       "      <th>4</th>\n",
       "      <td>0.013233</td>\n",
       "      <td>0.044185</td>\n",
       "      <td>0.006576</td>\n",
       "      <td>0.000344</td>\n",
       "      <td>0.026121</td>\n",
       "      <td>446.00000</td>\n",
       "      <td>1.0</td>\n",
       "    </tr>\n",
       "    <tr>\n",
       "      <th>5</th>\n",
       "      <td>0.005290</td>\n",
       "      <td>0.408327</td>\n",
       "      <td>0.006398</td>\n",
       "      <td>-0.007250</td>\n",
       "      <td>0.017831</td>\n",
       "      <td>450.00000</td>\n",
       "      <td>1.0</td>\n",
       "    </tr>\n",
       "    <tr>\n",
       "      <th>mean</th>\n",
       "      <td>0.010542</td>\n",
       "      <td>0.068185</td>\n",
       "      <td>0.005780</td>\n",
       "      <td>-0.000787</td>\n",
       "      <td>0.021872</td>\n",
       "      <td>569.00000</td>\n",
       "      <td>1.0</td>\n",
       "    </tr>\n",
       "    <tr>\n",
       "      <th>std</th>\n",
       "      <td>0.003316</td>\n",
       "      <td>0.154568</td>\n",
       "      <td>0.000080</td>\n",
       "      <td>0.003210</td>\n",
       "      <td>0.003425</td>\n",
       "      <td>8.58487</td>\n",
       "      <td>0.0</td>\n",
       "    </tr>\n",
       "  </tbody>\n",
       "</table>\n",
       "</div>"
      ],
      "text/plain": [
       "          coef   pvalues        se  lower_ci  upper_ci          n    k\n",
       "fold                                                                  \n",
       "1     0.009598  0.136696  0.006449 -0.003042  0.022238  453.00000  1.0\n",
       "2     0.011553  0.070477  0.006387 -0.000965  0.024071  468.00000  1.0\n",
       "3     0.013235  0.042316  0.006518  0.000459  0.026010  459.00000  1.0\n",
       "4     0.013233  0.044185  0.006576  0.000344  0.026121  446.00000  1.0\n",
       "5     0.005290  0.408327  0.006398 -0.007250  0.017831  450.00000  1.0\n",
       "mean  0.010542  0.068185  0.005780 -0.000787  0.021872  569.00000  1.0\n",
       "std   0.003316  0.154568  0.000080  0.003210  0.003425    8.58487  0.0"
      ]
     },
     "execution_count": 253,
     "metadata": {},
     "output_type": "execute_result"
    }
   ],
   "source": [
    "u = UnivariateResults(df, feature_col='mean_radius', target_col='target')\n",
    "u.results"
   ]
  }
 ],
 "metadata": {
  "kernelspec": {
   "display_name": ".env",
   "language": "python",
   "name": "python3"
  },
  "language_info": {
   "codemirror_mode": {
    "name": "ipython",
    "version": 3
   },
   "file_extension": ".py",
   "mimetype": "text/x-python",
   "name": "python",
   "nbconvert_exporter": "python",
   "pygments_lexer": "ipython3",
   "version": "3.10.12"
  }
 },
 "nbformat": 4,
 "nbformat_minor": 2
}
